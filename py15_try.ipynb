{
  "nbformat": 4,
  "nbformat_minor": 0,
  "metadata": {
    "colab": {
      "name": "py15_try.ipynb",
      "provenance": [],
      "collapsed_sections": [],
      "authorship_tag": "ABX9TyOxGdC1+BXiKxPvo1Eeaa0j",
      "include_colab_link": true
    },
    "kernelspec": {
      "name": "python3",
      "display_name": "Python 3"
    },
    "language_info": {
      "name": "python"
    }
  },
  "cells": [
    {
      "cell_type": "markdown",
      "metadata": {
        "id": "view-in-github",
        "colab_type": "text"
      },
      "source": [
        "<a href=\"https://colab.research.google.com/github/sejinseo/Python/blob/main/py15_try.ipynb\" target=\"_parent\"><img src=\"https://colab.research.google.com/assets/colab-badge.svg\" alt=\"Open In Colab\"/></a>"
      ]
    },
    {
      "cell_type": "markdown",
      "source": [
        "# 예외(오류) 처리\n",
        "\n",
        "* 오류가 발생한 위치와 원인을 파악해서 오류가 발생하지 않도록 코드 수정.\n",
        "* 오류가 발생하더라도 프로그램이 비정상적으로 종료되지 않고 계속 실행될 수 있도록 처리. --> try 구문\n",
        "    * Java는 try 구문을 사용하지 않으면 compile 에러가 발생하는 경우가 있지만, \n",
        "    * Python에서는 try 구문이 필수로 필요한 것은 아님."
      ],
      "metadata": {
        "id": "GVNCB5YjloYu"
      }
    },
    {
      "cell_type": "markdown",
      "source": [
        "```\n",
        "try:\n",
        "    (1) 실행할 코드(들)\n",
        "except [에러이름 [as 별명]]:\n",
        "    (2) 에러가 발생했을 때 실행할 코드(들)\n",
        "[else:\n",
        "    (3) try 블록 내부의 모든 코드가 에러 없이 정상적으로 실행된 경우 실행할 문장(들)\n",
        "]\n",
        "[finally:\n",
        "    (4) try 블록을 실행 중 에러 발생 여부와 상관없이 항상 실행할 문장(들)\n",
        "]\n",
        "```\n",
        "\n",
        "* 에러가 발생하지 않은 경우: (1) [-> (3) -> (4)]\n",
        "* 에러가 발생한 경우: (1) -> (2) [-> (4)]"
      ],
      "metadata": {
        "id": "6kagflemm7qF"
      }
    },
    {
      "cell_type": "code",
      "execution_count": null,
      "metadata": {
        "colab": {
          "base_uri": "https://localhost:8080/"
        },
        "id": "kaUSClxIlZBH",
        "outputId": "e44167ad-3dcb-4aa5-ca46-6ca1ee299709"
      },
      "outputs": [
        {
          "output_type": "stream",
          "name": "stdout",
          "text": [
            "숫자를 입력하세요>>> ddddd\n",
            "숫자로 입력하세요...\n"
          ]
        }
      ],
      "source": [
        "try:\n",
        "    x = float(input('숫자를 입력하세요>>> '))\n",
        "    print('x = ', x)\n",
        "except: # 모든 종류의 에러를 처리\n",
        "    print('숫자로 입력하세요...')"
      ]
    },
    {
      "cell_type": "code",
      "source": [
        "try:\n",
        "    x = float(input('숫자 입력>>> ')) # (1)\n",
        "except:\n",
        "    print('숫자로 입력하세요...') # (2)\n",
        "else:\n",
        "    print('x = ', x) # (3)\n",
        "finally:\n",
        "    print('=== end ===') #(4)"
      ],
      "metadata": {
        "colab": {
          "base_uri": "https://localhost:8080/"
        },
        "id": "Z_bQPXHvo2rX",
        "outputId": "6979bc9e-9b9e-4915-e744-7a5582900d7e"
      },
      "execution_count": null,
      "outputs": [
        {
          "output_type": "stream",
          "name": "stdout",
          "text": [
            "숫자 입력>>> 1\n",
            "x =  1.0\n",
            "=== end ===\n"
          ]
        }
      ]
    },
    {
      "cell_type": "code",
      "source": [
        "try:\n",
        "    x = float(input('x 입력>>> '))\n",
        "    y = float(input('y 입력>>> '))\n",
        "    print(f'x + y = {x + y}')\n",
        "    print(f'x - y = {x - y}')\n",
        "    print(f'x x y = {x * y}')\n",
        "    print(f'x / y = {x / y}')\n",
        "except ValueError:\n",
        "    print('숫자로 입력하세요...')\n",
        "except ZeroDivisionError:\n",
        "    print('0으로 나눌 수 없습니다...')\n"
      ],
      "metadata": {
        "colab": {
          "base_uri": "https://localhost:8080/"
        },
        "id": "w7aMcUtjuZbV",
        "outputId": "20680f2a-5752-48db-d15c-cdfd2760698d"
      },
      "execution_count": null,
      "outputs": [
        {
          "output_type": "stream",
          "name": "stdout",
          "text": [
            "x 입력>>> 1\n",
            "y 입력>>> 0\n",
            "x + y = 1.0\n",
            "x - y = 1.0\n",
            "x x y = 0.0\n",
            "0으로 나눌 수 없습니다...\n"
          ]
        }
      ]
    },
    {
      "cell_type": "markdown",
      "source": [
        "# try-except 연습"
      ],
      "metadata": {
        "id": "0E01pbnByqSK"
      }
    },
    {
      "cell_type": "markdown",
      "source": [
        "## Ex 1. \n",
        "정수 한 개를 입력받고, 입력받은 정수를 출력."
      ],
      "metadata": {
        "id": "1KuszMNXyuYp"
      }
    },
    {
      "cell_type": "code",
      "source": [
        "\n",
        "while True:\n",
        "    try:\n",
        "        x = int(input('정수를 입력 >>>> '))\n",
        "        print('x = ', x)\n",
        "        break # 무한루프 종료\n",
        "    except:\n",
        "        print('숫자를 입력해주세요')"
      ],
      "metadata": {
        "colab": {
          "base_uri": "https://localhost:8080/"
        },
        "id": "227a_EN8v7V_",
        "outputId": "23b5ff48-00a2-4fd5-d0b0-4520cc253de0"
      },
      "execution_count": null,
      "outputs": [
        {
          "output_type": "stream",
          "name": "stdout",
          "text": [
            "정수를 입력 >>>> \n",
            "숫자를 입력해주세요\n",
            "정수를 입력 >>>> \n",
            "숫자를 입력해주세요\n",
            "정수를 입력 >>>> 5\n",
            "x =  5\n"
          ]
        }
      ]
    },
    {
      "cell_type": "markdown",
      "source": [
        "## Ex 2.\n",
        "word counting"
      ],
      "metadata": {
        "id": "ZDoqq0CVzIuy"
      }
    },
    {
      "cell_type": "code",
      "source": [
        "words = ['one', 'two', 'three', 'two', 'three', 'three', 'four']\n",
        "#> 리스트 words의 문자열을 key, 문자열의 등장 횟수를 value로 하는 dict {'one': 1, 'two': 2, 'three': 3, 'four': 1}\n",
        "word_counts = {} # empty dict\n",
        "for w in words:\n",
        "    try:\n",
        "        word_counts[w] += 1 # word_counts[w] = word_counts[w] + 1\n",
        "    except:\n",
        "        word_counts[w] = 1\n",
        "    print(word_counts)"
      ],
      "metadata": {
        "colab": {
          "base_uri": "https://localhost:8080/"
        },
        "id": "-H6vF5KXzLCE",
        "outputId": "9595ada2-c346-4bc5-e75b-b69c03bd6771"
      },
      "execution_count": null,
      "outputs": [
        {
          "output_type": "stream",
          "name": "stdout",
          "text": [
            "{'one': 1}\n",
            "{'one': 1, 'two': 1}\n",
            "{'one': 1, 'two': 1, 'three': 1}\n",
            "{'one': 1, 'two': 2, 'three': 1}\n",
            "{'one': 1, 'two': 2, 'three': 2}\n",
            "{'one': 1, 'two': 2, 'three': 3}\n",
            "{'one': 1, 'two': 2, 'three': 3, 'four': 1}\n"
          ]
        }
      ]
    },
    {
      "cell_type": "code",
      "source": [
        ""
      ],
      "metadata": {
        "id": "Lwl18n_w2UpM"
      },
      "execution_count": null,
      "outputs": []
    }
  ]
}