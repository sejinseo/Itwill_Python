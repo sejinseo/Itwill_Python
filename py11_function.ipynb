{
  "nbformat": 4,
  "nbformat_minor": 0,
  "metadata": {
    "colab": {
      "name": "py11_function.ipynb",
      "provenance": [],
      "collapsed_sections": [],
      "authorship_tag": "ABX9TyMMydRdc1xvGeSTUwUSC9yy",
      "include_colab_link": true
    },
    "kernelspec": {
      "name": "python3",
      "display_name": "Python 3"
    },
    "language_info": {
      "name": "python"
    }
  },
  "cells": [
    {
      "cell_type": "markdown",
      "metadata": {
        "id": "view-in-github",
        "colab_type": "text"
      },
      "source": [
        "<a href=\"https://colab.research.google.com/github/sejinseo/Python/blob/main/py11_function.ipynb\" target=\"_parent\"><img src=\"https://colab.research.google.com/assets/colab-badge.svg\" alt=\"Open In Colab\"/></a>"
      ]
    },
    {
      "cell_type": "code",
      "execution_count": null,
      "metadata": {
        "id": "SNVKjoltDJ_h"
      },
      "outputs": [],
      "source": [
        ""
      ]
    },
    {
      "cell_type": "markdown",
      "source": [
        "# 1급 객체(first-class object)로서의 함수\n",
        "\n",
        "함수는 객체이다.\n",
        "* 함수는 변수에 할당할 수 있음.\n",
        "* 함수는 argument로 다른 함수에 전달할 수 있음.\n",
        "* 함수의 반환 값이 함수가 될 수 있음. 함수는 함수를 반환할 수 있음.\n",
        "* 함수 내부에서 다른 함수를 정의할 수 있음."
      ],
      "metadata": {
        "id": "yA6dkDLCDXAo"
      }
    },
    {
      "cell_type": "code",
      "source": [
        "x = 1 # 객체는 변수에 할당(저장)할 수 있음.\n",
        "print(x) # 객체는 함수의 argument로 전달할 수 있음."
      ],
      "metadata": {
        "colab": {
          "base_uri": "https://localhost:8080/"
        },
        "id": "JcGmJeC5EQK7",
        "outputId": "db4d668e-7492-4e42-b570-56e924a3cf3b"
      },
      "execution_count": null,
      "outputs": [
        {
          "output_type": "stream",
          "name": "stdout",
          "text": [
            "1\n"
          ]
        }
      ]
    },
    {
      "cell_type": "code",
      "source": [
        "# 함수 정의\n",
        "def twice(x):\n",
        "    return 2 * x"
      ],
      "metadata": {
        "id": "U4UH-fxSEtGC"
      },
      "execution_count": null,
      "outputs": []
    },
    {
      "cell_type": "code",
      "source": [
        "print(twice) # twice는 함수 객체(function object)"
      ],
      "metadata": {
        "colab": {
          "base_uri": "https://localhost:8080/"
        },
        "id": "t0yflAkgFPfR",
        "outputId": "db88b3e0-4f95-46ec-9098-d25db958119d"
      },
      "execution_count": null,
      "outputs": [
        {
          "output_type": "stream",
          "name": "stdout",
          "text": [
            "<function twice at 0x7fcd01fa6b00>\n"
          ]
        }
      ]
    },
    {
      "cell_type": "code",
      "source": [
        "result = twice(5) # 함수 호출 결과(리턴 값)을 변수 result에 저장.\n",
        "result"
      ],
      "metadata": {
        "colab": {
          "base_uri": "https://localhost:8080/"
        },
        "id": "2a3uBqIAFS6a",
        "outputId": "fc3025de-2f0a-41d2-edb8-47c573e53902"
      },
      "execution_count": null,
      "outputs": [
        {
          "output_type": "execute_result",
          "data": {
            "text/plain": [
              "10"
            ]
          },
          "metadata": {},
          "execution_count": 4
        }
      ]
    },
    {
      "cell_type": "code",
      "source": [
        "double = twice # 함수는 변수에 할당할 수 있음.\n",
        "print(double)"
      ],
      "metadata": {
        "colab": {
          "base_uri": "https://localhost:8080/"
        },
        "id": "6RqCAGqoF8M-",
        "outputId": "5c8314db-8411-43fb-c352-e31652f21270"
      },
      "execution_count": null,
      "outputs": [
        {
          "output_type": "stream",
          "name": "stdout",
          "text": [
            "<function twice at 0x7fcd01fa6b00>\n"
          ]
        }
      ]
    },
    {
      "cell_type": "code",
      "source": [
        "double(5) # double 함수 호출 결과는 twice 함수 호출 결과와 동일."
      ],
      "metadata": {
        "colab": {
          "base_uri": "https://localhost:8080/"
        },
        "id": "jtBNe3pSGgjy",
        "outputId": "93c6e363-7a5d-4f93-a494-3610a54e2734"
      },
      "execution_count": null,
      "outputs": [
        {
          "output_type": "execute_result",
          "data": {
            "text/plain": [
              "10"
            ]
          },
          "metadata": {},
          "execution_count": 6
        }
      ]
    },
    {
      "cell_type": "markdown",
      "source": [
        "argument로 함수를 전달받는 함수"
      ],
      "metadata": {
        "id": "vJ_FbOeOHb33"
      }
    },
    {
      "cell_type": "code",
      "source": [
        "def calculator(x, y, fn):\n",
        "    \"\"\"\n",
        "    x, y: 숫자(int, float)\n",
        "    fn: 숫자 2개를 argument로 전달받고, 숫자를 리턴하는 함수\n",
        "    \"\"\"\n",
        "    result = fn(x, y)\n",
        "    return result"
      ],
      "metadata": {
        "id": "8rzGZVlJGz-I"
      },
      "execution_count": null,
      "outputs": []
    },
    {
      "cell_type": "code",
      "source": [
        "def plus(x, y):\n",
        "    return x + y"
      ],
      "metadata": {
        "id": "eq3oxQu8IIQZ"
      },
      "execution_count": null,
      "outputs": []
    },
    {
      "cell_type": "code",
      "source": [
        "calculator(1, 2, plus)"
      ],
      "metadata": {
        "colab": {
          "base_uri": "https://localhost:8080/"
        },
        "id": "1Ni4tbg9IVgt",
        "outputId": "70e96e0b-bca6-4626-c22a-d1010f756bcf"
      },
      "execution_count": null,
      "outputs": [
        {
          "output_type": "execute_result",
          "data": {
            "text/plain": [
              "3"
            ]
          },
          "metadata": {},
          "execution_count": 9
        }
      ]
    },
    {
      "cell_type": "code",
      "source": [
        "def minus(x, y):\n",
        "    return x - y"
      ],
      "metadata": {
        "id": "H65CgYfUIXuT"
      },
      "execution_count": null,
      "outputs": []
    },
    {
      "cell_type": "code",
      "source": [
        "calculator(1, 2, minus)"
      ],
      "metadata": {
        "colab": {
          "base_uri": "https://localhost:8080/"
        },
        "id": "V_SuofPIJAKe",
        "outputId": "ded610b1-1bad-4369-8fc7-ad9c29b7c647"
      },
      "execution_count": null,
      "outputs": [
        {
          "output_type": "execute_result",
          "data": {
            "text/plain": [
              "-1"
            ]
          },
          "metadata": {},
          "execution_count": 11
        }
      ]
    },
    {
      "cell_type": "markdown",
      "source": [
        "함수 내부에서 함수를 정의(선언)하고, 함수를 리턴."
      ],
      "metadata": {
        "id": "aDq78S2WKIZw"
      }
    },
    {
      "cell_type": "code",
      "source": [
        "def make_increment(n):\n",
        "    # 내부 함수(inner function), 지역 함수(local function): 함수 내부에서 정의하는 함수\n",
        "    def add_n(x):\n",
        "        return x + n\n",
        "\n",
        "    # make_incrment 함수는 add_n 함수 (객체)를 리턴.\n",
        "    return add_n"
      ],
      "metadata": {
        "id": "BKedcEwAJIQE"
      },
      "execution_count": null,
      "outputs": []
    },
    {
      "cell_type": "code",
      "source": [
        "increase_by_2 = make_increment(2)\n",
        "print(increase_by_2)"
      ],
      "metadata": {
        "colab": {
          "base_uri": "https://localhost:8080/"
        },
        "id": "_L-72VxWLMqs",
        "outputId": "15660ded-5571-49a8-873c-b37f9e0303a6"
      },
      "execution_count": null,
      "outputs": [
        {
          "output_type": "stream",
          "name": "stdout",
          "text": [
            "<function make_increment.<locals>.add_n at 0x7fcd01fa69e0>\n"
          ]
        }
      ]
    },
    {
      "cell_type": "code",
      "source": [
        "increase_by_2(10)"
      ],
      "metadata": {
        "colab": {
          "base_uri": "https://localhost:8080/"
        },
        "id": "fxnDY0T-LiUz",
        "outputId": "630c5d87-b8b2-4f53-80a8-4a3e563ec6b3"
      },
      "execution_count": null,
      "outputs": [
        {
          "output_type": "execute_result",
          "data": {
            "text/plain": [
              "12"
            ]
          },
          "metadata": {},
          "execution_count": 14
        }
      ]
    },
    {
      "cell_type": "code",
      "source": [
        "increase_by_10 = make_increment(10)\n",
        "print(increase_by_10)"
      ],
      "metadata": {
        "colab": {
          "base_uri": "https://localhost:8080/"
        },
        "id": "oISCz4oOMB2A",
        "outputId": "464eeeee-54f7-4a7e-db74-03d0a8e3f379"
      },
      "execution_count": null,
      "outputs": [
        {
          "output_type": "stream",
          "name": "stdout",
          "text": [
            "<function make_increment.<locals>.add_n at 0x7fcd01fa67a0>\n"
          ]
        }
      ]
    },
    {
      "cell_type": "code",
      "source": [
        "increase_by_10(10)"
      ],
      "metadata": {
        "colab": {
          "base_uri": "https://localhost:8080/"
        },
        "id": "x4VBR_cTMNXf",
        "outputId": "50dd1c3f-3785-4bd9-d69b-968d174b5fbb"
      },
      "execution_count": null,
      "outputs": [
        {
          "output_type": "execute_result",
          "data": {
            "text/plain": [
              "20"
            ]
          },
          "metadata": {},
          "execution_count": 16
        }
      ]
    },
    {
      "cell_type": "markdown",
      "source": [
        "# 람다 표현식(Lambda expression)"
      ],
      "metadata": {
        "id": "M1CYiYwzRvCu"
      }
    },
    {
      "cell_type": "markdown",
      "source": [
        "```\n",
        "lambda param1, param2, ...: expression(리턴 값)\n",
        "```\n",
        "\n",
        "* 이름이 없는 함수(anonymous funcion)\n",
        "* 함수 이름 없이, 함수의 파라미터 선언과 반환 값 또는 반환 식으로 함수를 정의하는 방법."
      ],
      "metadata": {
        "id": "jFuSJwW8R2Xu"
      }
    },
    {
      "cell_type": "code",
      "source": [
        "plus_one = lambda x: x + 1 # x를 argument로 전달 받아서 x + 1을 리턴하는 함수"
      ],
      "metadata": {
        "id": "yTenfCtWMlYR"
      },
      "execution_count": null,
      "outputs": []
    },
    {
      "cell_type": "code",
      "source": [
        "plus_one(1) # 함수 호출"
      ],
      "metadata": {
        "colab": {
          "base_uri": "https://localhost:8080/"
        },
        "id": "xumlmLQvS9Iy",
        "outputId": "a7584a47-0d0c-4b95-fe24-382167e6c64e"
      },
      "execution_count": null,
      "outputs": [
        {
          "output_type": "execute_result",
          "data": {
            "text/plain": [
              "2"
            ]
          },
          "metadata": {},
          "execution_count": 18
        }
      ]
    },
    {
      "cell_type": "code",
      "source": [
        "# argument x, y를 전달 받아서 x + y를 리턴하는 함수\n",
        "plus = lambda x, y: x + y"
      ],
      "metadata": {
        "id": "yeeVMFSUTAmq"
      },
      "execution_count": null,
      "outputs": []
    },
    {
      "cell_type": "code",
      "source": [
        "plus(1, 2)"
      ],
      "metadata": {
        "colab": {
          "base_uri": "https://localhost:8080/"
        },
        "id": "Mty6bNAWUKB3",
        "outputId": "3f4b9f85-cade-423d-8bfd-f24936f0c882"
      },
      "execution_count": null,
      "outputs": [
        {
          "output_type": "execute_result",
          "data": {
            "text/plain": [
              "3"
            ]
          },
          "metadata": {},
          "execution_count": 20
        }
      ]
    },
    {
      "cell_type": "markdown",
      "source": [
        "lambda 표현식은 함수의 argument로 전달하기 위해서 사용."
      ],
      "metadata": {
        "id": "0zDR2sOWUeE0"
      }
    },
    {
      "cell_type": "code",
      "source": [
        "calculator(1, 2, lambda x, y: x - y)"
      ],
      "metadata": {
        "colab": {
          "base_uri": "https://localhost:8080/"
        },
        "id": "Y7v7GmvAUK-T",
        "outputId": "6dd5abae-6e30-4a91-f3fc-0b65762cd37e"
      },
      "execution_count": null,
      "outputs": [
        {
          "output_type": "execute_result",
          "data": {
            "text/plain": [
              "-1"
            ]
          },
          "metadata": {},
          "execution_count": 21
        }
      ]
    },
    {
      "cell_type": "code",
      "source": [
        "calculator(2, 3, lambda x, y: x * y)"
      ],
      "metadata": {
        "colab": {
          "base_uri": "https://localhost:8080/"
        },
        "id": "K_23SPvCUvTz",
        "outputId": "b1be8453-0fe6-42b9-9b91-3d56f4bff613"
      },
      "execution_count": null,
      "outputs": [
        {
          "output_type": "execute_result",
          "data": {
            "text/plain": [
              "6"
            ]
          },
          "metadata": {},
          "execution_count": 22
        }
      ]
    },
    {
      "cell_type": "code",
      "source": [
        "# calculator 함수에 x가 y보다 큰 지(True) 아닌 지(False)를 리턴하는 lambda를 전달.\n",
        "calculator(1, 2, lambda x, y: x > y)"
      ],
      "metadata": {
        "colab": {
          "base_uri": "https://localhost:8080/"
        },
        "id": "LF-X3-uSVAYm",
        "outputId": "f791e410-b7f2-485a-d1f0-2efbae21fbbf"
      },
      "execution_count": null,
      "outputs": [
        {
          "output_type": "execute_result",
          "data": {
            "text/plain": [
              "False"
            ]
          },
          "metadata": {},
          "execution_count": 23
        }
      ]
    },
    {
      "cell_type": "code",
      "source": [
        "calculator(2, 1, lambda x, y: x > y)"
      ],
      "metadata": {
        "colab": {
          "base_uri": "https://localhost:8080/"
        },
        "id": "v2L-iBnNV26g",
        "outputId": "e0def1b2-3679-430a-c37a-83fcbc954cb0"
      },
      "execution_count": null,
      "outputs": [
        {
          "output_type": "execute_result",
          "data": {
            "text/plain": [
              "True"
            ]
          },
          "metadata": {},
          "execution_count": 24
        }
      ]
    },
    {
      "cell_type": "code",
      "source": [
        "# calculator 함수에 x, y 중에서 더 큰 수를 리턴하는 lambda를 전달.\n",
        "calculator(1, 2, lambda x, y: max(x, y))"
      ],
      "metadata": {
        "colab": {
          "base_uri": "https://localhost:8080/"
        },
        "id": "FE8rEaZIWAtd",
        "outputId": "039836d8-ab7c-4e22-87da-07d2c0f19f25"
      },
      "execution_count": null,
      "outputs": [
        {
          "output_type": "execute_result",
          "data": {
            "text/plain": [
              "2"
            ]
          },
          "metadata": {},
          "execution_count": 25
        }
      ]
    },
    {
      "cell_type": "code",
      "source": [
        "# if-else 표현식: 값1 if 조건 else 값2\n",
        "calculator(1, 2, lambda x, y: x if x > y else y)"
      ],
      "metadata": {
        "colab": {
          "base_uri": "https://localhost:8080/"
        },
        "id": "2ApAD3NtWm_X",
        "outputId": "09ae038d-cd61-4e91-8104-17b26f92432b"
      },
      "execution_count": null,
      "outputs": [
        {
          "output_type": "execute_result",
          "data": {
            "text/plain": [
              "2"
            ]
          },
          "metadata": {},
          "execution_count": 26
        }
      ]
    },
    {
      "cell_type": "markdown",
      "source": [
        "## lambda 표현식 응용\n",
        "\n",
        "* filtering\n",
        "    * 성별 컬럼에서 값이 'Male' 또는 'Female'인 데이터들만 선택\n",
        "* mapping\n",
        "    * 성별 컬럼의 값이 'Male'이면 1, 'Female'이면 0으로 매핑."
      ],
      "metadata": {
        "id": "enF55JLWX3Hy"
      }
    },
    {
      "cell_type": "code",
      "source": [
        "numbers = [1, -2, 3, -4, -5, 6, 7, 8]"
      ],
      "metadata": {
        "id": "5JTp6cNYXbYU"
      },
      "execution_count": null,
      "outputs": []
    },
    {
      "cell_type": "code",
      "source": [
        "# numbers의 원소들 중에서 양수들만 선택한 리스트.\n",
        "# filter(True/False를 리턴하는 함수, 리스트)\n",
        "result = filter(lambda x: x > 0, numbers)\n",
        "result # 필터링이 끝난 객체"
      ],
      "metadata": {
        "colab": {
          "base_uri": "https://localhost:8080/"
        },
        "id": "f_WPFwNneqO_",
        "outputId": "bbb46787-c318-415f-8dfc-c7331f8dcfc0"
      },
      "execution_count": null,
      "outputs": [
        {
          "output_type": "execute_result",
          "data": {
            "text/plain": [
              "<filter at 0x7fcd00d69810>"
            ]
          },
          "metadata": {},
          "execution_count": 28
        }
      ]
    },
    {
      "cell_type": "code",
      "source": [
        "list(result) # 필터링이 끝난 객체를 list 타입으로 변환"
      ],
      "metadata": {
        "colab": {
          "base_uri": "https://localhost:8080/"
        },
        "id": "4mh9pP62fC16",
        "outputId": "744e364b-b58f-4528-e835-6a1c8019781a"
      },
      "execution_count": null,
      "outputs": [
        {
          "output_type": "execute_result",
          "data": {
            "text/plain": [
              "[1, 3, 6, 7, 8]"
            ]
          },
          "metadata": {},
          "execution_count": 29
        }
      ]
    },
    {
      "cell_type": "code",
      "source": [
        "# numbers에서 음수들만 선택한 리스트.\n",
        "result = filter(lambda x: x < 0, numbers)\n",
        "list(result) # 필터링이 끝난 객체를 list 타입으로 변환."
      ],
      "metadata": {
        "colab": {
          "base_uri": "https://localhost:8080/"
        },
        "id": "TxHqa1fxfWlX",
        "outputId": "60df8e64-9def-4ce0-a842-4f1cc6b024bb"
      },
      "execution_count": null,
      "outputs": [
        {
          "output_type": "execute_result",
          "data": {
            "text/plain": [
              "[-2, -4, -5]"
            ]
          },
          "metadata": {},
          "execution_count": 30
        }
      ]
    },
    {
      "cell_type": "code",
      "source": [
        "# numbers에서 홀수들만 필터링\n",
        "result = filter(lambda x: x % 2 == 1, numbers)\n",
        "list(result)"
      ],
      "metadata": {
        "colab": {
          "base_uri": "https://localhost:8080/"
        },
        "id": "fzet_fsugp-g",
        "outputId": "5a283d79-9094-4c19-e604-0ae10b5c5ef2"
      },
      "execution_count": null,
      "outputs": [
        {
          "output_type": "execute_result",
          "data": {
            "text/plain": [
              "[1, 3, -5, 7]"
            ]
          },
          "metadata": {},
          "execution_count": 31
        }
      ]
    },
    {
      "cell_type": "code",
      "source": [
        "# numbers에서 짝수는 'even', 홀수는 'odd'로 매핑.\n",
        "result = map(lambda x: 'even' if x % 2 == 0 else 'odd', numbers)\n",
        "print(result) # 매핑이 끝난 객체\n",
        "list(result) # 매핑이 끝난 객체를 list 타입으로 변환"
      ],
      "metadata": {
        "colab": {
          "base_uri": "https://localhost:8080/"
        },
        "id": "awk10HXVhgic",
        "outputId": "5f41e189-7db4-4556-cfb8-02be089f02e9"
      },
      "execution_count": null,
      "outputs": [
        {
          "output_type": "stream",
          "name": "stdout",
          "text": [
            "<map object at 0x7fcd01fd1290>\n"
          ]
        },
        {
          "output_type": "execute_result",
          "data": {
            "text/plain": [
              "['odd', 'even', 'odd', 'even', 'odd', 'even', 'odd', 'even']"
            ]
          },
          "metadata": {},
          "execution_count": 32
        }
      ]
    },
    {
      "cell_type": "code",
      "source": [
        "genders = ['Male', 'Female', 'Female', 'Male']"
      ],
      "metadata": {
        "id": "FfmKHGHMihBd"
      },
      "execution_count": null,
      "outputs": []
    },
    {
      "cell_type": "code",
      "source": [
        "# genders에서 'Female'만 선택(filter)\n",
        "result = filter(lambda x: x == 'Female', genders)\n",
        "list(result)"
      ],
      "metadata": {
        "colab": {
          "base_uri": "https://localhost:8080/"
        },
        "id": "PE6eyW8-jsAF",
        "outputId": "d2d4b045-74ff-4f9e-f8f3-659a87245643"
      },
      "execution_count": null,
      "outputs": [
        {
          "output_type": "execute_result",
          "data": {
            "text/plain": [
              "['Female', 'Female']"
            ]
          },
          "metadata": {},
          "execution_count": 34
        }
      ]
    },
    {
      "cell_type": "code",
      "source": [
        "# genders의 원소가 'Male'이면 1, 'Female'이면 0을 매핑\n",
        "result = map(lambda x: 1 if x == 'Male' else 0, genders)\n",
        "list(result)"
      ],
      "metadata": {
        "colab": {
          "base_uri": "https://localhost:8080/"
        },
        "id": "cilrrPJ-jvsM",
        "outputId": "6c8a3e3b-ca09-4a15-ee43-6c8e725af6bc"
      },
      "execution_count": null,
      "outputs": [
        {
          "output_type": "execute_result",
          "data": {
            "text/plain": [
              "[1, 0, 0, 1]"
            ]
          },
          "metadata": {},
          "execution_count": 35
        }
      ]
    },
    {
      "cell_type": "markdown",
      "source": [
        "filter 함수를 직접 구현"
      ],
      "metadata": {
        "id": "eydxjfYGl0Zp"
      }
    },
    {
      "cell_type": "code",
      "source": [
        "def my_filter(iterable, fn):\n",
        "    \"\"\"\n",
        "    리스트 iterable의 원소를 함수 fn의 argument로 전달했을 때, fn이 True를 리턴하는 원소들로 이루어진 리스트를 리턴.\n",
        "    iterable: 리스트\n",
        "    fn: argument가 1개 이고, 리턴 타입은 bool인 함수.\n",
        "    \"\"\"\n",
        "    # result = [] # 조건을 만족하는 원소들(필터링한 원소들)을 저장할 빈 리스트\n",
        "    # for x in iterable: # 리스트의 원소들을 차례로 반복하면서\n",
        "    #     if fn(x): # 조건을 만족하면\n",
        "    #         result.append(x) # 결과 리스트에 추가\n",
        "    # return result\n",
        "\n",
        "    return [x for x in iterable if fn(x)]"
      ],
      "metadata": {
        "id": "NKzbDbLXkOHr"
      },
      "execution_count": null,
      "outputs": []
    },
    {
      "cell_type": "code",
      "source": [
        "numbers"
      ],
      "metadata": {
        "colab": {
          "base_uri": "https://localhost:8080/"
        },
        "id": "d9tq-8IunieT",
        "outputId": "6ed6d719-8da9-488a-906a-aeade8318179"
      },
      "execution_count": null,
      "outputs": [
        {
          "output_type": "execute_result",
          "data": {
            "text/plain": [
              "[1, -2, 3, -4, -5, 6, 7, 8]"
            ]
          },
          "metadata": {},
          "execution_count": 37
        }
      ]
    },
    {
      "cell_type": "code",
      "source": [
        "# numbers에서 양수들만 필터링.\n",
        "my_filter(numbers, lambda x: x > 0)"
      ],
      "metadata": {
        "colab": {
          "base_uri": "https://localhost:8080/"
        },
        "id": "MTz0-_Z5nYHB",
        "outputId": "10087c70-c641-40bc-bd58-cb484ff48e59"
      },
      "execution_count": null,
      "outputs": [
        {
          "output_type": "execute_result",
          "data": {
            "text/plain": [
              "[1, 3, 6, 7, 8]"
            ]
          },
          "metadata": {},
          "execution_count": 38
        }
      ]
    },
    {
      "cell_type": "code",
      "source": [
        "languages = ['Java', 'HTML', 'CSS', 'JavaScript', 'Python']\n",
        "# my_filter 함수를 사용해서 글자수가 5글자 이상인 원소들만 필터링\n",
        "\n",
        "my_filter(languages, lambda x: len(x) >= 5)\n"
      ],
      "metadata": {
        "colab": {
          "base_uri": "https://localhost:8080/"
        },
        "id": "3AkSYzVqnzhd",
        "outputId": "8c0418fe-eb44-48fd-e562-2d69e4284889"
      },
      "execution_count": null,
      "outputs": [
        {
          "output_type": "execute_result",
          "data": {
            "text/plain": [
              "['JavaScript', 'Python']"
            ]
          },
          "metadata": {},
          "execution_count": 39
        }
      ]
    },
    {
      "cell_type": "code",
      "source": [
        "def my_mapper(iterable, fn):\n",
        "    \"\"\"\n",
        "    iterable의 원소를 차례로 함수 fn의 argument로 전달해서, 함수 fn의 리턴값들로 이루어진 리스트를 리턴.\n",
        "\n",
        "    iterable: 리스트\n",
        "    fn: argument가 1개이고 값을 반환하는 함수.\n",
        "    \"\"\"\n",
        "    # result = [] #함수 fn의 리턴 값들을 저장할 빈 리스트\n",
        "    # for x in iterable:  # 리스트의 원소들을 반복하면서\n",
        "    #     result.append(fn(x))  # 함수에 원소를 argument로 전달했을 때 리턴값을 리스트 result에 추가.\n",
        "\n",
        "    return [fn(x) for x in iterable]"
      ],
      "metadata": {
        "id": "cnqNEdCxqA7J"
      },
      "execution_count": null,
      "outputs": []
    },
    {
      "cell_type": "code",
      "source": [
        "my_mapper([1, 2, 3, 4], lambda x: 'even' if x % 2== 0 else 'odd' )"
      ],
      "metadata": {
        "colab": {
          "base_uri": "https://localhost:8080/"
        },
        "id": "5fvbI1rJzplG",
        "outputId": "021c5421-a94e-4327-f81d-85f838de3f37"
      },
      "execution_count": null,
      "outputs": [
        {
          "output_type": "execute_result",
          "data": {
            "text/plain": [
              "['odd', 'even', 'odd', 'even']"
            ]
          },
          "metadata": {},
          "execution_count": 46
        }
      ]
    },
    {
      "cell_type": "code",
      "source": [
        "genders = ['남성', '여성', '여성', '남성']\n",
        "my_mapper(genders, lambda x: 0 if x == '남성' else 1)"
      ],
      "metadata": {
        "colab": {
          "base_uri": "https://localhost:8080/"
        },
        "id": "Y14wwGBhXX6f",
        "outputId": "3c372623-9232-47dd-ea2d-784be4f5d002"
      },
      "execution_count": null,
      "outputs": [
        {
          "output_type": "execute_result",
          "data": {
            "text/plain": [
              "[0, 1, 1, 0]"
            ]
          },
          "metadata": {},
          "execution_count": 48
        }
      ]
    },
    {
      "cell_type": "code",
      "source": [
        "def my_mapper2(iterable, fn):\n",
        "    \"\"\"\n",
        "    iterable의 원소를 key로 하고,\n",
        "    iterable의 원소를 함수 fn의 argument로 사용했을 때의 리턴 값을 value로 하는 dict를 리턴.\n",
        "\n",
        "    iterable: 리스트.\n",
        "    fn: argument가 1개이고 값을 반환하는 함수.\n",
        "    \"\"\"\n",
        "    # result = {} # 빈 사전(dictionary)\n",
        "    # for k in iterable: # 리스트 iterable의 원소들을 하나씩 반복하면서\n",
        "    #    result[k] = fn(k) # 원소를 key로 함수의 리턴값을 value로 해서 dict에 추가\n",
        "\n",
        "    return {k: fn(k) for k in iterable} "
      ],
      "metadata": {
        "id": "dkSE1yActrn7"
      },
      "execution_count": null,
      "outputs": []
    },
    {
      "cell_type": "code",
      "source": [
        "my_mapper2([1, 2, 3, 4], lambda x: 'even' if x % 2== 0 else 'odd')\n"
      ],
      "metadata": {
        "colab": {
          "base_uri": "https://localhost:8080/"
        },
        "id": "LJdpA98OvzC-",
        "outputId": "00508abd-77b3-4549-b8cc-84c60aa70f8e"
      },
      "execution_count": null,
      "outputs": [
        {
          "output_type": "execute_result",
          "data": {
            "text/plain": [
              "{1: 'odd', 2: 'even', 3: 'odd', 4: 'even'}"
            ]
          },
          "metadata": {},
          "execution_count": 50
        }
      ]
    },
    {
      "cell_type": "code",
      "source": [
        "# languages의 원소를 키로 하고, 그 원소(문자열)의 길이를 value로 하는 dict\n",
        "my_mapper2(languages, lambda x: len(x))"
      ],
      "metadata": {
        "id": "7bRVXuVxwH0D",
        "colab": {
          "base_uri": "https://localhost:8080/"
        },
        "outputId": "6f88a22f-2fd1-47ec-ebbb-5f2b1ffe418b"
      },
      "execution_count": null,
      "outputs": [
        {
          "output_type": "execute_result",
          "data": {
            "text/plain": [
              "{'CSS': 3, 'HTML': 4, 'Java': 4, 'JavaScript': 10, 'Python': 6}"
            ]
          },
          "metadata": {},
          "execution_count": 54
        }
      ]
    },
    {
      "cell_type": "code",
      "source": [
        ""
      ],
      "metadata": {
        "id": "BHmVJJxGagkG"
      },
      "execution_count": null,
      "outputs": []
    }
  ]
}