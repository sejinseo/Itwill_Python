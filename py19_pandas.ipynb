{
  "nbformat": 4,
  "nbformat_minor": 0,
  "metadata": {
    "colab": {
      "name": "py19_pandas.ipynb",
      "provenance": [],
      "collapsed_sections": [],
      "authorship_tag": "ABX9TyMjowAL4C3RpwYaahw7pyKJ",
      "include_colab_link": true
    },
    "kernelspec": {
      "name": "python3",
      "display_name": "Python 3"
    },
    "language_info": {
      "name": "python"
    }
  },
  "cells": [
    {
      "cell_type": "markdown",
      "metadata": {
        "id": "view-in-github",
        "colab_type": "text"
      },
      "source": [
        "<a href=\"https://colab.research.google.com/github/sejinseo/Python/blob/main/py19_pandas.ipynb\" target=\"_parent\"><img src=\"https://colab.research.google.com/assets/colab-badge.svg\" alt=\"Open In Colab\"/></a>"
      ]
    },
    {
      "cell_type": "code",
      "execution_count": 1,
      "metadata": {
        "id": "hzsYCw6WE-f9"
      },
      "outputs": [],
      "source": [
        "import numpy as np\n",
        "import pandas as pd"
      ]
    },
    {
      "cell_type": "markdown",
      "source": [
        "# Series\n",
        "\n",
        "* 한가지 타입의 값 여러개를 저장할 수 있는 1차원 모양의 데이터 타입(클래스)\n",
        "* 축(axis) 레이블을 가지고 있는 1차원 배열(ndarray)"
      ],
      "metadata": {
        "id": "JKWrh177FdpF"
      }
    },
    {
      "cell_type": "code",
      "source": [
        "# pd.Series 클래스의 생성자를 호출 -> Series 클래스의 인스턴스를 생성.\n",
        "s = pd.Series(data=[1, 3, -5, -7])"
      ],
      "metadata": {
        "id": "ZgwZ_hbQFWuL"
      },
      "execution_count": 2,
      "outputs": []
    },
    {
      "cell_type": "code",
      "source": [
        "s # expression(식) 자동 출력"
      ],
      "metadata": {
        "colab": {
          "base_uri": "https://localhost:8080/"
        },
        "id": "gk-oGUjtHmdo",
        "outputId": "de7731b1-0c96-4220-a6a0-106ec0b451e4"
      },
      "execution_count": 3,
      "outputs": [
        {
          "output_type": "execute_result",
          "data": {
            "text/plain": [
              "0    1\n",
              "1    3\n",
              "2   -5\n",
              "3   -7\n",
              "dtype: int64"
            ]
          },
          "metadata": {},
          "execution_count": 3
        }
      ]
    },
    {
      "cell_type": "code",
      "source": [
        "print(s) # print 문장(statement) 출력"
      ],
      "metadata": {
        "colab": {
          "base_uri": "https://localhost:8080/"
        },
        "id": "mo7C_hNlHwnm",
        "outputId": "9e506317-2402-4222-a1c5-f70b4c894495"
      },
      "execution_count": 4,
      "outputs": [
        {
          "output_type": "stream",
          "name": "stdout",
          "text": [
            "0    1\n",
            "1    3\n",
            "2   -5\n",
            "3   -7\n",
            "dtype: int64\n"
          ]
        }
      ]
    },
    {
      "cell_type": "code",
      "source": [
        "type(s)"
      ],
      "metadata": {
        "colab": {
          "base_uri": "https://localhost:8080/"
        },
        "id": "1uQGWRK9H2-p",
        "outputId": "bf6a2171-e98e-410b-c8c4-a1dc43a24765"
      },
      "execution_count": 5,
      "outputs": [
        {
          "output_type": "execute_result",
          "data": {
            "text/plain": [
              "pandas.core.series.Series"
            ]
          },
          "metadata": {},
          "execution_count": 5
        }
      ]
    },
    {
      "cell_type": "code",
      "source": [
        "s.index # Series 객체의 index 속성(property, attribute) = 레이블(lable)"
      ],
      "metadata": {
        "colab": {
          "base_uri": "https://localhost:8080/"
        },
        "id": "_xCg-gkNIlpq",
        "outputId": "c603135a-e8cc-41e4-979f-9332031640a7"
      },
      "execution_count": 7,
      "outputs": [
        {
          "output_type": "execute_result",
          "data": {
            "text/plain": [
              "RangeIndex(start=0, stop=4, step=1)"
            ]
          },
          "metadata": {},
          "execution_count": 7
        }
      ]
    },
    {
      "cell_type": "code",
      "source": [
        "s.values # Series 객체의 values 속성 - 값들의 배열(ndarray)"
      ],
      "metadata": {
        "colab": {
          "base_uri": "https://localhost:8080/"
        },
        "id": "FguCrzN_JTHI",
        "outputId": "6300ba80-86a6-4b40-f794-437c68065118"
      },
      "execution_count": 9,
      "outputs": [
        {
          "output_type": "execute_result",
          "data": {
            "text/plain": [
              "array([ 1,  3, -5, -7])"
            ]
          },
          "metadata": {},
          "execution_count": 9
        }
      ]
    },
    {
      "cell_type": "code",
      "source": [
        "print(s.values)"
      ],
      "metadata": {
        "colab": {
          "base_uri": "https://localhost:8080/"
        },
        "id": "1zCuYVG3Jj2M",
        "outputId": "d4bc32aa-cf61-4b98-d2bc-dc782b62499a"
      },
      "execution_count": 10,
      "outputs": [
        {
          "output_type": "stream",
          "name": "stdout",
          "text": [
            "[ 1  3 -5 -7]\n"
          ]
        }
      ]
    },
    {
      "cell_type": "markdown",
      "source": [
        "## indexing, slicing"
      ],
      "metadata": {
        "id": "3ZiLPerXKRAj"
      }
    },
    {
      "cell_type": "code",
      "source": [
        "s[0] # indexing "
      ],
      "metadata": {
        "colab": {
          "base_uri": "https://localhost:8080/"
        },
        "id": "p54vvbPEJvZd",
        "outputId": "a0ac2585-8a8d-408d-f786-301e53310877"
      },
      "execution_count": 11,
      "outputs": [
        {
          "output_type": "execute_result",
          "data": {
            "text/plain": [
              "1"
            ]
          },
          "metadata": {},
          "execution_count": 11
        }
      ]
    },
    {
      "cell_type": "code",
      "source": [
        "s[3] # indexing"
      ],
      "metadata": {
        "colab": {
          "base_uri": "https://localhost:8080/"
        },
        "id": "59llX0OoKXX2",
        "outputId": "52a5d909-a3c9-4383-fba2-e575587719a4"
      },
      "execution_count": 13,
      "outputs": [
        {
          "output_type": "execute_result",
          "data": {
            "text/plain": [
              "-7"
            ]
          },
          "metadata": {},
          "execution_count": 13
        }
      ]
    },
    {
      "cell_type": "code",
      "source": [
        "s[0:2] # slicing - [0, 2) 범위의 원소들"
      ],
      "metadata": {
        "colab": {
          "base_uri": "https://localhost:8080/"
        },
        "id": "KXYBo-GwKaDP",
        "outputId": "d9d8d244-e6f1-4aad-f803-c97f53974e77"
      },
      "execution_count": 15,
      "outputs": [
        {
          "output_type": "execute_result",
          "data": {
            "text/plain": [
              "0    1\n",
              "1    3\n",
              "dtype: int64"
            ]
          },
          "metadata": {},
          "execution_count": 15
        }
      ]
    },
    {
      "cell_type": "code",
      "source": [
        "# s[-1] # 음수 인덱스를 사용하면 ValueError가 발생\n",
        "s[-2:] # 음수 slicing 가능 "
      ],
      "metadata": {
        "colab": {
          "base_uri": "https://localhost:8080/"
        },
        "id": "xgId22djKpRU",
        "outputId": "2c50b8e1-d913-48ed-81b4-5541ff17b4d8"
      },
      "execution_count": 16,
      "outputs": [
        {
          "output_type": "execute_result",
          "data": {
            "text/plain": [
              "2   -5\n",
              "3   -7\n",
              "dtype: int64"
            ]
          },
          "metadata": {},
          "execution_count": 16
        }
      ]
    },
    {
      "cell_type": "markdown",
      "source": [
        "## `iloc, loc` 속성\n",
        "\n",
        "* `iloc`: __정수 인덱스__ 기반의 원소 참조(integer location)\n",
        "* `loc`: __레이블__ 기반의 원소 참조(location)"
      ],
      "metadata": {
        "id": "KoSg60wIPtKM"
      }
    },
    {
      "cell_type": "code",
      "source": [
        "s"
      ],
      "metadata": {
        "colab": {
          "base_uri": "https://localhost:8080/"
        },
        "id": "2iKlpnhPLAcH",
        "outputId": "9a4ccc3e-bd55-4b62-b2ab-702480fe664f"
      },
      "execution_count": 17,
      "outputs": [
        {
          "output_type": "execute_result",
          "data": {
            "text/plain": [
              "0    1\n",
              "1    3\n",
              "2   -5\n",
              "3   -7\n",
              "dtype: int64"
            ]
          },
          "metadata": {},
          "execution_count": 17
        }
      ]
    },
    {
      "cell_type": "code",
      "source": [
        "s.loc[0]"
      ],
      "metadata": {
        "colab": {
          "base_uri": "https://localhost:8080/"
        },
        "id": "1UqArhG7QISj",
        "outputId": "557252d9-f763-4de2-fd6f-429b37760665"
      },
      "execution_count": 19,
      "outputs": [
        {
          "output_type": "execute_result",
          "data": {
            "text/plain": [
              "1"
            ]
          },
          "metadata": {},
          "execution_count": 19
        }
      ]
    },
    {
      "cell_type": "code",
      "source": [
        "s.loc[3]"
      ],
      "metadata": {
        "colab": {
          "base_uri": "https://localhost:8080/"
        },
        "id": "ocOstqTdR0_X",
        "outputId": "2f5ad654-ab53-4aed-9c01-1212b0e40b61"
      },
      "execution_count": 20,
      "outputs": [
        {
          "output_type": "execute_result",
          "data": {
            "text/plain": [
              "-7"
            ]
          },
          "metadata": {},
          "execution_count": 20
        }
      ]
    },
    {
      "cell_type": "code",
      "source": [
        "# s.loc[-1]\n",
        "#> ValueError: 레이블 -1은 없기 때문에."
      ],
      "metadata": {
        "id": "DAjzsSCYR3F4"
      },
      "execution_count": 21,
      "outputs": []
    },
    {
      "cell_type": "code",
      "source": [
        "s.iloc[3]"
      ],
      "metadata": {
        "colab": {
          "base_uri": "https://localhost:8080/"
        },
        "id": "CS_w-COvSVUQ",
        "outputId": "67bb20f1-2ff7-4d4d-aee0-fb83eb48488e"
      },
      "execution_count": 22,
      "outputs": [
        {
          "output_type": "execute_result",
          "data": {
            "text/plain": [
              "-7"
            ]
          },
          "metadata": {},
          "execution_count": 22
        }
      ]
    },
    {
      "cell_type": "code",
      "source": [
        "s.iloc[-1]"
      ],
      "metadata": {
        "colab": {
          "base_uri": "https://localhost:8080/"
        },
        "id": "vqP-t7MaSXcA",
        "outputId": "625e30f4-110b-473d-c34f-49aacf6f4db0"
      },
      "execution_count": 23,
      "outputs": [
        {
          "output_type": "execute_result",
          "data": {
            "text/plain": [
              "-7"
            ]
          },
          "metadata": {},
          "execution_count": 23
        }
      ]
    },
    {
      "cell_type": "markdown",
      "source": [
        "Series의 기본 indexing 방식은 loc 기반 인덱싱이어서, 음수 인덱스 사용이 불가능."
      ],
      "metadata": {
        "id": "L1Ubo4wkTaP7"
      }
    },
    {
      "cell_type": "code",
      "source": [
        "# loc를 사용한 slicing\n",
        "s.loc[0:2]"
      ],
      "metadata": {
        "colab": {
          "base_uri": "https://localhost:8080/"
        },
        "id": "0qRXkDieSiqB",
        "outputId": "615efd99-0f70-4c30-8872-d38f7807a4ff"
      },
      "execution_count": 24,
      "outputs": [
        {
          "output_type": "execute_result",
          "data": {
            "text/plain": [
              "0    1\n",
              "1    3\n",
              "2   -5\n",
              "dtype: int64"
            ]
          },
          "metadata": {},
          "execution_count": 24
        }
      ]
    },
    {
      "cell_type": "code",
      "source": [
        "# iloc를 사용한 slicing\n",
        "s.iloc[0:2]"
      ],
      "metadata": {
        "colab": {
          "base_uri": "https://localhost:8080/"
        },
        "id": "FxErvgrqUVZL",
        "outputId": "003c2432-04c7-4931-8fb3-e548651041b9"
      },
      "execution_count": 25,
      "outputs": [
        {
          "output_type": "execute_result",
          "data": {
            "text/plain": [
              "0    1\n",
              "1    3\n",
              "dtype: int64"
            ]
          },
          "metadata": {},
          "execution_count": 25
        }
      ]
    },
    {
      "cell_type": "markdown",
      "source": [
        "Slicing의 기본 slicing 방식은 iloc 기반 slicing이어서, 음수 인덱스 사용이 가능."
      ],
      "metadata": {
        "id": "9-1TeS0UUyha"
      }
    },
    {
      "cell_type": "code",
      "source": [
        "s = pd.Series(data=[1, -3, 5, -7, 9], index=['a', 'b', 'x', 'y', 'z'])\n",
        "s"
      ],
      "metadata": {
        "colab": {
          "base_uri": "https://localhost:8080/"
        },
        "id": "BFg4NgEwUZWO",
        "outputId": "261d09b3-5467-49e1-eccc-611f98b60409"
      },
      "execution_count": 27,
      "outputs": [
        {
          "output_type": "execute_result",
          "data": {
            "text/plain": [
              "a    1\n",
              "b   -3\n",
              "x    5\n",
              "y   -7\n",
              "z    9\n",
              "dtype: int64"
            ]
          },
          "metadata": {},
          "execution_count": 27
        }
      ]
    },
    {
      "cell_type": "code",
      "source": [
        "# indexing\n",
        "print(s.loc['z'])\n",
        "print(s.iloc[4])\n",
        "print(s.iloc[-1])"
      ],
      "metadata": {
        "colab": {
          "base_uri": "https://localhost:8080/"
        },
        "id": "uWhJu3gkVcoq",
        "outputId": "a52f225f-95b1-4ffc-cb00-973b3c59d9d4"
      },
      "execution_count": 29,
      "outputs": [
        {
          "output_type": "stream",
          "name": "stdout",
          "text": [
            "9\n",
            "9\n",
            "9\n"
          ]
        }
      ]
    },
    {
      "cell_type": "code",
      "source": [
        "# slicing\n",
        "print(s.loc['x':'z'])\n",
        "print(s.iloc[-3:])"
      ],
      "metadata": {
        "colab": {
          "base_uri": "https://localhost:8080/"
        },
        "id": "G6VNy01oWeTV",
        "outputId": "467481c4-050d-4d9c-ed80-c657d1dc9e73"
      },
      "execution_count": 32,
      "outputs": [
        {
          "output_type": "stream",
          "name": "stdout",
          "text": [
            "x    5\n",
            "y   -7\n",
            "z    9\n",
            "dtype: int64\n",
            "x    5\n",
            "y   -7\n",
            "z    9\n",
            "dtype: int64\n"
          ]
        }
      ]
    },
    {
      "cell_type": "code",
      "source": [
        "print(s.iloc[2:5])"
      ],
      "metadata": {
        "colab": {
          "base_uri": "https://localhost:8080/"
        },
        "id": "ktAVrKOWW__e",
        "outputId": "09d6d7c6-0ba7-47d8-a21d-5fbb7d82c176"
      },
      "execution_count": 33,
      "outputs": [
        {
          "output_type": "stream",
          "name": "stdout",
          "text": [
            "x    5\n",
            "y   -7\n",
            "z    9\n",
            "dtype: int64\n"
          ]
        }
      ]
    },
    {
      "cell_type": "markdown",
      "source": [
        "## fancy indexing"
      ],
      "metadata": {
        "id": "tBD6j8TSXxHa"
      }
    },
    {
      "cell_type": "code",
      "source": [
        "s"
      ],
      "metadata": {
        "colab": {
          "base_uri": "https://localhost:8080/"
        },
        "id": "d3swQFwTYBVi",
        "outputId": "89f62c65-4e37-4fd3-9b85-1d652685e2ef"
      },
      "execution_count": 35,
      "outputs": [
        {
          "output_type": "execute_result",
          "data": {
            "text/plain": [
              "a    1\n",
              "b   -3\n",
              "x    5\n",
              "y   -7\n",
              "z    9\n",
              "dtype: int64"
            ]
          },
          "metadata": {},
          "execution_count": 35
        }
      ]
    },
    {
      "cell_type": "code",
      "source": [
        "s.loc[['a', 'x', 'z']]"
      ],
      "metadata": {
        "colab": {
          "base_uri": "https://localhost:8080/"
        },
        "id": "w_0i7Bh-XfjM",
        "outputId": "99711cd8-ced7-4da6-8812-fba1ba3d6116"
      },
      "execution_count": 34,
      "outputs": [
        {
          "output_type": "execute_result",
          "data": {
            "text/plain": [
              "a    1\n",
              "x    5\n",
              "z    9\n",
              "dtype: int64"
            ]
          },
          "metadata": {},
          "execution_count": 34
        }
      ]
    },
    {
      "cell_type": "code",
      "source": [
        "s.iloc[[0, 2, 4]]"
      ],
      "metadata": {
        "colab": {
          "base_uri": "https://localhost:8080/"
        },
        "id": "RfEG6TevX_B9",
        "outputId": "96f6b63e-c8c4-45e2-af21-8703a5d5b714"
      },
      "execution_count": 36,
      "outputs": [
        {
          "output_type": "execute_result",
          "data": {
            "text/plain": [
              "a    1\n",
              "x    5\n",
              "z    9\n",
              "dtype: int64"
            ]
          },
          "metadata": {},
          "execution_count": 36
        }
      ]
    },
    {
      "cell_type": "markdown",
      "source": [
        "## boolean indexing\n",
        "\n",
        "boolean indexing은 loc 기반으로만 가능."
      ],
      "metadata": {
        "id": "SxL_kxLyYawb"
      }
    },
    {
      "cell_type": "code",
      "source": [
        "s > 0"
      ],
      "metadata": {
        "colab": {
          "base_uri": "https://localhost:8080/"
        },
        "id": "vs_vW9B3YzuY",
        "outputId": "60344c9c-1776-4ea9-8403-dfb876d3ddb5"
      },
      "execution_count": 39,
      "outputs": [
        {
          "output_type": "execute_result",
          "data": {
            "text/plain": [
              "a     True\n",
              "b    False\n",
              "x     True\n",
              "y    False\n",
              "z     True\n",
              "dtype: bool"
            ]
          },
          "metadata": {},
          "execution_count": 39
        }
      ]
    },
    {
      "cell_type": "code",
      "source": [
        "s[s > 0]"
      ],
      "metadata": {
        "colab": {
          "base_uri": "https://localhost:8080/"
        },
        "id": "rdcRqwRYYRg3",
        "outputId": "d27ba9f9-c56c-4e5d-c946-2664fc100529"
      },
      "execution_count": 37,
      "outputs": [
        {
          "output_type": "execute_result",
          "data": {
            "text/plain": [
              "a    1\n",
              "x    5\n",
              "z    9\n",
              "dtype: int64"
            ]
          },
          "metadata": {},
          "execution_count": 37
        }
      ]
    },
    {
      "cell_type": "code",
      "source": [
        "s.loc[s > 0]"
      ],
      "metadata": {
        "colab": {
          "base_uri": "https://localhost:8080/"
        },
        "id": "eAeiI_yqYxCI",
        "outputId": "38e13d08-808a-42c9-94ff-0ce1b5635d72"
      },
      "execution_count": 38,
      "outputs": [
        {
          "output_type": "execute_result",
          "data": {
            "text/plain": [
              "a    1\n",
              "x    5\n",
              "z    9\n",
              "dtype: int64"
            ]
          },
          "metadata": {},
          "execution_count": 38
        }
      ]
    },
    {
      "cell_type": "markdown",
      "source": [
        "# DataFrame\n",
        "\n",
        "* 데이터를 2차원 (행 row, 열 column) 형태로 저장하는 데이터 구조(클래스)\n",
        "* 데이터 베이스의 테이블과 유사한 구조."
      ],
      "metadata": {
        "id": "RyuB3tMAddax"
      }
    },
    {
      "cell_type": "code",
      "source": [
        "data = {\n",
        "    'city': ['서울'] * 3 + ['경기'] * 3,\n",
        "    'year': [2020, 2021, 2022] * 2,\n",
        "    'pop': [0.89, 0.91, 0.92, 1.1, 1.3, 1.25]\n",
        "}"
      ],
      "metadata": {
        "id": "kea4Kkbzdxq5"
      },
      "execution_count": 43,
      "outputs": []
    },
    {
      "cell_type": "code",
      "source": [
        "data"
      ],
      "metadata": {
        "colab": {
          "base_uri": "https://localhost:8080/"
        },
        "id": "1haL1G5Hd-Dx",
        "outputId": "7dd594db-bcf6-4afe-86d8-4cf357648094"
      },
      "execution_count": 44,
      "outputs": [
        {
          "output_type": "execute_result",
          "data": {
            "text/plain": [
              "{'city': ['서울', '서울', '서울', '경기', '경기', '경기'],\n",
              " 'pop': [0.89, 0.91, 0.92, 1.1, 1.3, 1.25],\n",
              " 'year': [2020, 2021, 2022, 2020, 2021, 2022]}"
            ]
          },
          "metadata": {},
          "execution_count": 44
        }
      ]
    },
    {
      "cell_type": "code",
      "source": [
        "# pd.DataFrame 생성자 호출 -> pd.DataFrame 클래스의 인스턴스를 생성\n",
        "df = pd.DataFrame(data)"
      ],
      "metadata": {
        "id": "aRsu-SVGd_p_"
      },
      "execution_count": 46,
      "outputs": []
    },
    {
      "cell_type": "code",
      "source": [
        "print(df)"
      ],
      "metadata": {
        "colab": {
          "base_uri": "https://localhost:8080/"
        },
        "id": "wPgQxv0ue9go",
        "outputId": "19731c04-8c09-4423-e315-8e195f8a58ae"
      },
      "execution_count": 47,
      "outputs": [
        {
          "output_type": "stream",
          "name": "stdout",
          "text": [
            "  city  year   pop\n",
            "0   서울  2020  0.89\n",
            "1   서울  2021  0.91\n",
            "2   서울  2022  0.92\n",
            "3   경기  2020  1.10\n",
            "4   경기  2021  1.30\n",
            "5   경기  2022  1.25\n"
          ]
        }
      ]
    },
    {
      "cell_type": "code",
      "source": [
        "df # expression 자동 출력"
      ],
      "metadata": {
        "colab": {
          "base_uri": "https://localhost:8080/",
          "height": 238
        },
        "id": "2JFhuqKWfHHc",
        "outputId": "935063b3-1436-415e-b7f4-6a017176963b"
      },
      "execution_count": 48,
      "outputs": [
        {
          "output_type": "execute_result",
          "data": {
            "text/plain": [
              "  city  year   pop\n",
              "0   서울  2020  0.89\n",
              "1   서울  2021  0.91\n",
              "2   서울  2022  0.92\n",
              "3   경기  2020  1.10\n",
              "4   경기  2021  1.30\n",
              "5   경기  2022  1.25"
            ],
            "text/html": [
              "\n",
              "  <div id=\"df-f98e2edc-28d7-424b-80cf-92f8ae3d1359\">\n",
              "    <div class=\"colab-df-container\">\n",
              "      <div>\n",
              "<style scoped>\n",
              "    .dataframe tbody tr th:only-of-type {\n",
              "        vertical-align: middle;\n",
              "    }\n",
              "\n",
              "    .dataframe tbody tr th {\n",
              "        vertical-align: top;\n",
              "    }\n",
              "\n",
              "    .dataframe thead th {\n",
              "        text-align: right;\n",
              "    }\n",
              "</style>\n",
              "<table border=\"1\" class=\"dataframe\">\n",
              "  <thead>\n",
              "    <tr style=\"text-align: right;\">\n",
              "      <th></th>\n",
              "      <th>city</th>\n",
              "      <th>year</th>\n",
              "      <th>pop</th>\n",
              "    </tr>\n",
              "  </thead>\n",
              "  <tbody>\n",
              "    <tr>\n",
              "      <th>0</th>\n",
              "      <td>서울</td>\n",
              "      <td>2020</td>\n",
              "      <td>0.89</td>\n",
              "    </tr>\n",
              "    <tr>\n",
              "      <th>1</th>\n",
              "      <td>서울</td>\n",
              "      <td>2021</td>\n",
              "      <td>0.91</td>\n",
              "    </tr>\n",
              "    <tr>\n",
              "      <th>2</th>\n",
              "      <td>서울</td>\n",
              "      <td>2022</td>\n",
              "      <td>0.92</td>\n",
              "    </tr>\n",
              "    <tr>\n",
              "      <th>3</th>\n",
              "      <td>경기</td>\n",
              "      <td>2020</td>\n",
              "      <td>1.10</td>\n",
              "    </tr>\n",
              "    <tr>\n",
              "      <th>4</th>\n",
              "      <td>경기</td>\n",
              "      <td>2021</td>\n",
              "      <td>1.30</td>\n",
              "    </tr>\n",
              "    <tr>\n",
              "      <th>5</th>\n",
              "      <td>경기</td>\n",
              "      <td>2022</td>\n",
              "      <td>1.25</td>\n",
              "    </tr>\n",
              "  </tbody>\n",
              "</table>\n",
              "</div>\n",
              "      <button class=\"colab-df-convert\" onclick=\"convertToInteractive('df-f98e2edc-28d7-424b-80cf-92f8ae3d1359')\"\n",
              "              title=\"Convert this dataframe to an interactive table.\"\n",
              "              style=\"display:none;\">\n",
              "        \n",
              "  <svg xmlns=\"http://www.w3.org/2000/svg\" height=\"24px\"viewBox=\"0 0 24 24\"\n",
              "       width=\"24px\">\n",
              "    <path d=\"M0 0h24v24H0V0z\" fill=\"none\"/>\n",
              "    <path d=\"M18.56 5.44l.94 2.06.94-2.06 2.06-.94-2.06-.94-.94-2.06-.94 2.06-2.06.94zm-11 1L8.5 8.5l.94-2.06 2.06-.94-2.06-.94L8.5 2.5l-.94 2.06-2.06.94zm10 10l.94 2.06.94-2.06 2.06-.94-2.06-.94-.94-2.06-.94 2.06-2.06.94z\"/><path d=\"M17.41 7.96l-1.37-1.37c-.4-.4-.92-.59-1.43-.59-.52 0-1.04.2-1.43.59L10.3 9.45l-7.72 7.72c-.78.78-.78 2.05 0 2.83L4 21.41c.39.39.9.59 1.41.59.51 0 1.02-.2 1.41-.59l7.78-7.78 2.81-2.81c.8-.78.8-2.07 0-2.86zM5.41 20L4 18.59l7.72-7.72 1.47 1.35L5.41 20z\"/>\n",
              "  </svg>\n",
              "      </button>\n",
              "      \n",
              "  <style>\n",
              "    .colab-df-container {\n",
              "      display:flex;\n",
              "      flex-wrap:wrap;\n",
              "      gap: 12px;\n",
              "    }\n",
              "\n",
              "    .colab-df-convert {\n",
              "      background-color: #E8F0FE;\n",
              "      border: none;\n",
              "      border-radius: 50%;\n",
              "      cursor: pointer;\n",
              "      display: none;\n",
              "      fill: #1967D2;\n",
              "      height: 32px;\n",
              "      padding: 0 0 0 0;\n",
              "      width: 32px;\n",
              "    }\n",
              "\n",
              "    .colab-df-convert:hover {\n",
              "      background-color: #E2EBFA;\n",
              "      box-shadow: 0px 1px 2px rgba(60, 64, 67, 0.3), 0px 1px 3px 1px rgba(60, 64, 67, 0.15);\n",
              "      fill: #174EA6;\n",
              "    }\n",
              "\n",
              "    [theme=dark] .colab-df-convert {\n",
              "      background-color: #3B4455;\n",
              "      fill: #D2E3FC;\n",
              "    }\n",
              "\n",
              "    [theme=dark] .colab-df-convert:hover {\n",
              "      background-color: #434B5C;\n",
              "      box-shadow: 0px 1px 3px 1px rgba(0, 0, 0, 0.15);\n",
              "      filter: drop-shadow(0px 1px 2px rgba(0, 0, 0, 0.3));\n",
              "      fill: #FFFFFF;\n",
              "    }\n",
              "  </style>\n",
              "\n",
              "      <script>\n",
              "        const buttonEl =\n",
              "          document.querySelector('#df-f98e2edc-28d7-424b-80cf-92f8ae3d1359 button.colab-df-convert');\n",
              "        buttonEl.style.display =\n",
              "          google.colab.kernel.accessAllowed ? 'block' : 'none';\n",
              "\n",
              "        async function convertToInteractive(key) {\n",
              "          const element = document.querySelector('#df-f98e2edc-28d7-424b-80cf-92f8ae3d1359');\n",
              "          const dataTable =\n",
              "            await google.colab.kernel.invokeFunction('convertToInteractive',\n",
              "                                                     [key], {});\n",
              "          if (!dataTable) return;\n",
              "\n",
              "          const docLinkHtml = 'Like what you see? Visit the ' +\n",
              "            '<a target=\"_blank\" href=https://colab.research.google.com/notebooks/data_table.ipynb>data table notebook</a>'\n",
              "            + ' to learn more about interactive tables.';\n",
              "          element.innerHTML = '';\n",
              "          dataTable['output_type'] = 'display_data';\n",
              "          await google.colab.output.renderOutput(dataTable, element);\n",
              "          const docLink = document.createElement('div');\n",
              "          docLink.innerHTML = docLinkHtml;\n",
              "          element.appendChild(docLink);\n",
              "        }\n",
              "      </script>\n",
              "    </div>\n",
              "  </div>\n",
              "  "
            ]
          },
          "metadata": {},
          "execution_count": 48
        }
      ]
    },
    {
      "cell_type": "code",
      "source": [
        "# pd.DataFrame의 속성들(priperties)\n",
        "print('shape:', df.shape) #> (row, columns)\n",
        "print('index:', df.index) #> 행(row) 레이블\n",
        "print('columns:', df.columns) #> 열(column) 레이블"
      ],
      "metadata": {
        "colab": {
          "base_uri": "https://localhost:8080/"
        },
        "id": "3_1_aH_3fk9u",
        "outputId": "b3f59cd4-b469-4358-c8e9-a61fea2dc891"
      },
      "execution_count": 51,
      "outputs": [
        {
          "output_type": "stream",
          "name": "stdout",
          "text": [
            "shape: (6, 3)\n",
            "index: RangeIndex(start=0, stop=6, step=1)\n",
            "columns: Index(['city', 'year', 'pop'], dtype='object')\n"
          ]
        }
      ]
    },
    {
      "cell_type": "markdown",
      "source": [
        "# DataFrame에서 컬럼 선택\n",
        "\n",
        "* `df['column_name']`\n",
        "* `df.column_name`\n",
        "    * 컬럼 이름이 Python의 변수 이름 규칙에 맞지 않는 경우에는 사용할 수 없음.\n",
        "        * 변수 이름은 영문자, 숫자, underscore(_)만 사용할 수 있음.\n",
        "        * 변수 이름은 숫자로 시작할 수 없음.\n",
        "    * 컬럼 이름 DataFrame 객체가 원래 가지고 있었던 속성(변수, 메서드) 이름과 같은 경우에는 사용할 수 없음."
      ],
      "metadata": {
        "id": "GbcjYF6Ngrkh"
      }
    },
    {
      "cell_type": "code",
      "source": [
        "# DataFrame에서 'pop' 컬럼 선택 --> Series\n",
        "df['pop']"
      ],
      "metadata": {
        "colab": {
          "base_uri": "https://localhost:8080/"
        },
        "id": "1xGaQsdqgO60",
        "outputId": "2ea8257c-9bea-4eb8-cbf5-7535d5627fe3"
      },
      "execution_count": 53,
      "outputs": [
        {
          "output_type": "execute_result",
          "data": {
            "text/plain": [
              "0    0.89\n",
              "1    0.91\n",
              "2    0.92\n",
              "3    1.10\n",
              "4    1.30\n",
              "5    1.25\n",
              "Name: pop, dtype: float64"
            ]
          },
          "metadata": {},
          "execution_count": 53
        }
      ]
    },
    {
      "cell_type": "code",
      "source": [
        "df.pop # pop은 DataFrame이 원래 갖고 있었던 속성의 이름."
      ],
      "metadata": {
        "colab": {
          "base_uri": "https://localhost:8080/"
        },
        "id": "gnO8QM4piCre",
        "outputId": "a3cded83-713a-4717-abb9-8ef6a0708027"
      },
      "execution_count": 54,
      "outputs": [
        {
          "output_type": "execute_result",
          "data": {
            "text/plain": [
              "<bound method DataFrame.pop of   city  year   pop\n",
              "0   서울  2020  0.89\n",
              "1   서울  2021  0.91\n",
              "2   서울  2022  0.92\n",
              "3   경기  2020  1.10\n",
              "4   경기  2021  1.30\n",
              "5   경기  2022  1.25>"
            ]
          },
          "metadata": {},
          "execution_count": 54
        }
      ]
    },
    {
      "cell_type": "code",
      "source": [
        "# DataFrame에서 'city' 컬럼 선택\n",
        "df['city']"
      ],
      "metadata": {
        "colab": {
          "base_uri": "https://localhost:8080/"
        },
        "id": "DEfRWnFeianR",
        "outputId": "a301f5c2-11b6-497d-a54d-d518e8f882fe"
      },
      "execution_count": 55,
      "outputs": [
        {
          "output_type": "execute_result",
          "data": {
            "text/plain": [
              "0    서울\n",
              "1    서울\n",
              "2    서울\n",
              "3    경기\n",
              "4    경기\n",
              "5    경기\n",
              "Name: city, dtype: object"
            ]
          },
          "metadata": {},
          "execution_count": 55
        }
      ]
    },
    {
      "cell_type": "code",
      "source": [
        "df.city"
      ],
      "metadata": {
        "colab": {
          "base_uri": "https://localhost:8080/"
        },
        "id": "kfdeiz7AizvS",
        "outputId": "a090d1ef-4eac-45da-eb8c-6842571e2c92"
      },
      "execution_count": 56,
      "outputs": [
        {
          "output_type": "execute_result",
          "data": {
            "text/plain": [
              "0    서울\n",
              "1    서울\n",
              "2    서울\n",
              "3    경기\n",
              "4    경기\n",
              "5    경기\n",
              "Name: city, dtype: object"
            ]
          },
          "metadata": {},
          "execution_count": 56
        }
      ]
    },
    {
      "cell_type": "code",
      "source": [
        ""
      ],
      "metadata": {
        "id": "5xhN2fNWi03J"
      },
      "execution_count": null,
      "outputs": []
    }
  ]
}