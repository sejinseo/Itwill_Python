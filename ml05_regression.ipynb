{
  "nbformat": 4,
  "nbformat_minor": 0,
  "metadata": {
    "colab": {
      "name": "ml05_regression.ipynb",
      "provenance": [],
      "collapsed_sections": [],
      "authorship_tag": "ABX9TyN1wnKb98NTySUx74bPrl33",
      "include_colab_link": true
    },
    "kernelspec": {
      "name": "python3",
      "display_name": "Python 3"
    },
    "language_info": {
      "name": "python"
    }
  },
  "cells": [
    {
      "cell_type": "markdown",
      "metadata": {
        "id": "view-in-github",
        "colab_type": "text"
      },
      "source": [
        "<a href=\"https://colab.research.google.com/github/sejinseo/Itwill_Python/blob/main/ml05_regression.ipynb\" target=\"_parent\"><img src=\"https://colab.research.google.com/assets/colab-badge.svg\" alt=\"Open In Colab\"/></a>"
      ]
    },
    {
      "cell_type": "markdown",
      "source": [
        "Machine Learning(기계 학습)\n",
        "\n",
        "* __지도 학습(supervised learning)__: 레이블이 있는 데이터로 모델을 훈련 시키는 것.\n",
        "    * __분류(classification)__: 클래스를 분류.\n",
        "    * __회귀(regression)__: 숫자 값을 예측.\n",
        "* __비지도 학습(unsupervised learning)__: 레이블이 없는 데이터로 모델을 훈련시키는 것.\n",
        "* __강화 학습(reinforcement learning)__: 보상과 벌칙을 통해서 학습(훈련)."
      ],
      "metadata": {
        "id": "W7gaTKU1RfwD"
      }
    },
    {
      "cell_type": "markdown",
      "source": [
        "# 문제 정의\n",
        "\n",
        "fish 데이터 셋에서 농어(Perch)의 무게(Weight)를 예측\n",
        "* 농어의 길이(Length)로만 무게(Weight)를 예측.\n",
        "* 농어의 여러가지 특성들(Length, Diagonal, ...)로 무게(Weight)를 예측"
      ],
      "metadata": {
        "id": "Ec6lrRovUyai"
      }
    },
    {
      "cell_type": "markdown",
      "source": [
        "# imports"
      ],
      "metadata": {
        "id": "HxWrfDrSWC8S"
      }
    },
    {
      "cell_type": "code",
      "execution_count": 264,
      "metadata": {
        "id": "uTYn16R5Rb62"
      },
      "outputs": [],
      "source": [
        "import numpy as np\n",
        "import pandas as pd\n",
        "import matplotlib.pyplot as plt\n",
        "import seaborn as sns\n",
        "\n",
        "from sklearn.model_selection import train_test_split\n",
        "from sklearn.neighbors import KNeighborsRegressor # KNN 알고리즘을 사용한 예측기\n",
        "from sklearn.linear_model import LinearRegression # 선형회귀 알고리즘을 사용한 예측기\n",
        "from sklearn.metrics import mean_squared_error, mean_absolute_error, r2_score # 회귀 문제에서의 평가 지표\n",
        "from sklearn.preprocessing import PolynomialFeatures, StandardScaler # 전처리 변환기 클래스\n",
        "from sklearn.pipeline import Pipeline # 변환기와 추정기(예측기)를 연결해 주는 클래스"
      ]
    },
    {
      "cell_type": "markdown",
      "source": [
        "# 데이터 준비"
      ],
      "metadata": {
        "id": "B-X8jMEJYcWL"
      }
    },
    {
      "cell_type": "code",
      "source": [
        "fish_csv = 'https://github.com/JakeOh/202110_itw_lab_python/raw/main/fish.csv'"
      ],
      "metadata": {
        "id": "jAkmJBAYWMVX"
      },
      "execution_count": 265,
      "outputs": []
    },
    {
      "cell_type": "code",
      "source": [
        "fish = pd.read_csv(fish_csv)"
      ],
      "metadata": {
        "id": "rB70iDCLYxn4"
      },
      "execution_count": 266,
      "outputs": []
    },
    {
      "cell_type": "code",
      "source": [
        "fish.info()"
      ],
      "metadata": {
        "colab": {
          "base_uri": "https://localhost:8080/"
        },
        "id": "ZsIycPDZY2be",
        "outputId": "fe7d9b5a-fd9f-48c6-f179-e180149ff827"
      },
      "execution_count": 267,
      "outputs": [
        {
          "output_type": "stream",
          "name": "stdout",
          "text": [
            "<class 'pandas.core.frame.DataFrame'>\n",
            "RangeIndex: 159 entries, 0 to 158\n",
            "Data columns (total 6 columns):\n",
            " #   Column    Non-Null Count  Dtype  \n",
            "---  ------    --------------  -----  \n",
            " 0   Species   159 non-null    object \n",
            " 1   Weight    159 non-null    float64\n",
            " 2   Length    159 non-null    float64\n",
            " 3   Diagonal  159 non-null    float64\n",
            " 4   Height    159 non-null    float64\n",
            " 5   Width     159 non-null    float64\n",
            "dtypes: float64(5), object(1)\n",
            "memory usage: 7.6+ KB\n"
          ]
        }
      ]
    },
    {
      "cell_type": "code",
      "source": [
        "fish.head()"
      ],
      "metadata": {
        "colab": {
          "base_uri": "https://localhost:8080/",
          "height": 206
        },
        "id": "nJIn0R1KY3g8",
        "outputId": "ac2588d5-dca9-4ac2-b17c-c116f9cff398"
      },
      "execution_count": 268,
      "outputs": [
        {
          "output_type": "execute_result",
          "data": {
            "text/plain": [
              "  Species  Weight  Length  Diagonal   Height   Width\n",
              "0   Bream   242.0    25.4      30.0  11.5200  4.0200\n",
              "1   Bream   290.0    26.3      31.2  12.4800  4.3056\n",
              "2   Bream   340.0    26.5      31.1  12.3778  4.6961\n",
              "3   Bream   363.0    29.0      33.5  12.7300  4.4555\n",
              "4   Bream   430.0    29.0      34.0  12.4440  5.1340"
            ],
            "text/html": [
              "\n",
              "  <div id=\"df-95bc1f85-bc62-459d-821b-383091760403\">\n",
              "    <div class=\"colab-df-container\">\n",
              "      <div>\n",
              "<style scoped>\n",
              "    .dataframe tbody tr th:only-of-type {\n",
              "        vertical-align: middle;\n",
              "    }\n",
              "\n",
              "    .dataframe tbody tr th {\n",
              "        vertical-align: top;\n",
              "    }\n",
              "\n",
              "    .dataframe thead th {\n",
              "        text-align: right;\n",
              "    }\n",
              "</style>\n",
              "<table border=\"1\" class=\"dataframe\">\n",
              "  <thead>\n",
              "    <tr style=\"text-align: right;\">\n",
              "      <th></th>\n",
              "      <th>Species</th>\n",
              "      <th>Weight</th>\n",
              "      <th>Length</th>\n",
              "      <th>Diagonal</th>\n",
              "      <th>Height</th>\n",
              "      <th>Width</th>\n",
              "    </tr>\n",
              "  </thead>\n",
              "  <tbody>\n",
              "    <tr>\n",
              "      <th>0</th>\n",
              "      <td>Bream</td>\n",
              "      <td>242.0</td>\n",
              "      <td>25.4</td>\n",
              "      <td>30.0</td>\n",
              "      <td>11.5200</td>\n",
              "      <td>4.0200</td>\n",
              "    </tr>\n",
              "    <tr>\n",
              "      <th>1</th>\n",
              "      <td>Bream</td>\n",
              "      <td>290.0</td>\n",
              "      <td>26.3</td>\n",
              "      <td>31.2</td>\n",
              "      <td>12.4800</td>\n",
              "      <td>4.3056</td>\n",
              "    </tr>\n",
              "    <tr>\n",
              "      <th>2</th>\n",
              "      <td>Bream</td>\n",
              "      <td>340.0</td>\n",
              "      <td>26.5</td>\n",
              "      <td>31.1</td>\n",
              "      <td>12.3778</td>\n",
              "      <td>4.6961</td>\n",
              "    </tr>\n",
              "    <tr>\n",
              "      <th>3</th>\n",
              "      <td>Bream</td>\n",
              "      <td>363.0</td>\n",
              "      <td>29.0</td>\n",
              "      <td>33.5</td>\n",
              "      <td>12.7300</td>\n",
              "      <td>4.4555</td>\n",
              "    </tr>\n",
              "    <tr>\n",
              "      <th>4</th>\n",
              "      <td>Bream</td>\n",
              "      <td>430.0</td>\n",
              "      <td>29.0</td>\n",
              "      <td>34.0</td>\n",
              "      <td>12.4440</td>\n",
              "      <td>5.1340</td>\n",
              "    </tr>\n",
              "  </tbody>\n",
              "</table>\n",
              "</div>\n",
              "      <button class=\"colab-df-convert\" onclick=\"convertToInteractive('df-95bc1f85-bc62-459d-821b-383091760403')\"\n",
              "              title=\"Convert this dataframe to an interactive table.\"\n",
              "              style=\"display:none;\">\n",
              "        \n",
              "  <svg xmlns=\"http://www.w3.org/2000/svg\" height=\"24px\"viewBox=\"0 0 24 24\"\n",
              "       width=\"24px\">\n",
              "    <path d=\"M0 0h24v24H0V0z\" fill=\"none\"/>\n",
              "    <path d=\"M18.56 5.44l.94 2.06.94-2.06 2.06-.94-2.06-.94-.94-2.06-.94 2.06-2.06.94zm-11 1L8.5 8.5l.94-2.06 2.06-.94-2.06-.94L8.5 2.5l-.94 2.06-2.06.94zm10 10l.94 2.06.94-2.06 2.06-.94-2.06-.94-.94-2.06-.94 2.06-2.06.94z\"/><path d=\"M17.41 7.96l-1.37-1.37c-.4-.4-.92-.59-1.43-.59-.52 0-1.04.2-1.43.59L10.3 9.45l-7.72 7.72c-.78.78-.78 2.05 0 2.83L4 21.41c.39.39.9.59 1.41.59.51 0 1.02-.2 1.41-.59l7.78-7.78 2.81-2.81c.8-.78.8-2.07 0-2.86zM5.41 20L4 18.59l7.72-7.72 1.47 1.35L5.41 20z\"/>\n",
              "  </svg>\n",
              "      </button>\n",
              "      \n",
              "  <style>\n",
              "    .colab-df-container {\n",
              "      display:flex;\n",
              "      flex-wrap:wrap;\n",
              "      gap: 12px;\n",
              "    }\n",
              "\n",
              "    .colab-df-convert {\n",
              "      background-color: #E8F0FE;\n",
              "      border: none;\n",
              "      border-radius: 50%;\n",
              "      cursor: pointer;\n",
              "      display: none;\n",
              "      fill: #1967D2;\n",
              "      height: 32px;\n",
              "      padding: 0 0 0 0;\n",
              "      width: 32px;\n",
              "    }\n",
              "\n",
              "    .colab-df-convert:hover {\n",
              "      background-color: #E2EBFA;\n",
              "      box-shadow: 0px 1px 2px rgba(60, 64, 67, 0.3), 0px 1px 3px 1px rgba(60, 64, 67, 0.15);\n",
              "      fill: #174EA6;\n",
              "    }\n",
              "\n",
              "    [theme=dark] .colab-df-convert {\n",
              "      background-color: #3B4455;\n",
              "      fill: #D2E3FC;\n",
              "    }\n",
              "\n",
              "    [theme=dark] .colab-df-convert:hover {\n",
              "      background-color: #434B5C;\n",
              "      box-shadow: 0px 1px 3px 1px rgba(0, 0, 0, 0.15);\n",
              "      filter: drop-shadow(0px 1px 2px rgba(0, 0, 0, 0.3));\n",
              "      fill: #FFFFFF;\n",
              "    }\n",
              "  </style>\n",
              "\n",
              "      <script>\n",
              "        const buttonEl =\n",
              "          document.querySelector('#df-95bc1f85-bc62-459d-821b-383091760403 button.colab-df-convert');\n",
              "        buttonEl.style.display =\n",
              "          google.colab.kernel.accessAllowed ? 'block' : 'none';\n",
              "\n",
              "        async function convertToInteractive(key) {\n",
              "          const element = document.querySelector('#df-95bc1f85-bc62-459d-821b-383091760403');\n",
              "          const dataTable =\n",
              "            await google.colab.kernel.invokeFunction('convertToInteractive',\n",
              "                                                     [key], {});\n",
              "          if (!dataTable) return;\n",
              "\n",
              "          const docLinkHtml = 'Like what you see? Visit the ' +\n",
              "            '<a target=\"_blank\" href=https://colab.research.google.com/notebooks/data_table.ipynb>data table notebook</a>'\n",
              "            + ' to learn more about interactive tables.';\n",
              "          element.innerHTML = '';\n",
              "          dataTable['output_type'] = 'display_data';\n",
              "          await google.colab.output.renderOutput(dataTable, element);\n",
              "          const docLink = document.createElement('div');\n",
              "          docLink.innerHTML = docLinkHtml;\n",
              "          element.appendChild(docLink);\n",
              "        }\n",
              "      </script>\n",
              "    </div>\n",
              "  </div>\n",
              "  "
            ]
          },
          "metadata": {},
          "execution_count": 268
        }
      ]
    },
    {
      "cell_type": "code",
      "source": [
        "# fish 데이터프레임에서 Perch(농어)만 선택\n",
        "perch = fish[fish['Species'] == 'Perch']"
      ],
      "metadata": {
        "id": "sqf0Gqn7ZC2Q"
      },
      "execution_count": 269,
      "outputs": []
    },
    {
      "cell_type": "code",
      "source": [
        "perch.info()"
      ],
      "metadata": {
        "colab": {
          "base_uri": "https://localhost:8080/"
        },
        "id": "_Pmfg5B5ZrgU",
        "outputId": "2bb74382-f947-41ac-b7c3-015d94b5b904"
      },
      "execution_count": 270,
      "outputs": [
        {
          "output_type": "stream",
          "name": "stdout",
          "text": [
            "<class 'pandas.core.frame.DataFrame'>\n",
            "Int64Index: 56 entries, 72 to 127\n",
            "Data columns (total 6 columns):\n",
            " #   Column    Non-Null Count  Dtype  \n",
            "---  ------    --------------  -----  \n",
            " 0   Species   56 non-null     object \n",
            " 1   Weight    56 non-null     float64\n",
            " 2   Length    56 non-null     float64\n",
            " 3   Diagonal  56 non-null     float64\n",
            " 4   Height    56 non-null     float64\n",
            " 5   Width     56 non-null     float64\n",
            "dtypes: float64(5), object(1)\n",
            "memory usage: 3.1+ KB\n"
          ]
        }
      ]
    },
    {
      "cell_type": "code",
      "source": [
        "perch.head()"
      ],
      "metadata": {
        "colab": {
          "base_uri": "https://localhost:8080/",
          "height": 206
        },
        "id": "BEkoeQY8ZwEb",
        "outputId": "1ac004eb-7ba2-4c78-b204-de57bfea3a16"
      },
      "execution_count": 271,
      "outputs": [
        {
          "output_type": "execute_result",
          "data": {
            "text/plain": [
              "   Species  Weight  Length  Diagonal  Height   Width\n",
              "72   Perch     5.9     8.4       8.8  2.1120  1.4080\n",
              "73   Perch    32.0    13.7      14.7  3.5280  1.9992\n",
              "74   Perch    40.0    15.0      16.0  3.8240  2.4320\n",
              "75   Perch    51.5    16.2      17.2  4.5924  2.6316\n",
              "76   Perch    70.0    17.4      18.5  4.5880  2.9415"
            ],
            "text/html": [
              "\n",
              "  <div id=\"df-a775159c-1344-496e-8469-4e5639ba9ae1\">\n",
              "    <div class=\"colab-df-container\">\n",
              "      <div>\n",
              "<style scoped>\n",
              "    .dataframe tbody tr th:only-of-type {\n",
              "        vertical-align: middle;\n",
              "    }\n",
              "\n",
              "    .dataframe tbody tr th {\n",
              "        vertical-align: top;\n",
              "    }\n",
              "\n",
              "    .dataframe thead th {\n",
              "        text-align: right;\n",
              "    }\n",
              "</style>\n",
              "<table border=\"1\" class=\"dataframe\">\n",
              "  <thead>\n",
              "    <tr style=\"text-align: right;\">\n",
              "      <th></th>\n",
              "      <th>Species</th>\n",
              "      <th>Weight</th>\n",
              "      <th>Length</th>\n",
              "      <th>Diagonal</th>\n",
              "      <th>Height</th>\n",
              "      <th>Width</th>\n",
              "    </tr>\n",
              "  </thead>\n",
              "  <tbody>\n",
              "    <tr>\n",
              "      <th>72</th>\n",
              "      <td>Perch</td>\n",
              "      <td>5.9</td>\n",
              "      <td>8.4</td>\n",
              "      <td>8.8</td>\n",
              "      <td>2.1120</td>\n",
              "      <td>1.4080</td>\n",
              "    </tr>\n",
              "    <tr>\n",
              "      <th>73</th>\n",
              "      <td>Perch</td>\n",
              "      <td>32.0</td>\n",
              "      <td>13.7</td>\n",
              "      <td>14.7</td>\n",
              "      <td>3.5280</td>\n",
              "      <td>1.9992</td>\n",
              "    </tr>\n",
              "    <tr>\n",
              "      <th>74</th>\n",
              "      <td>Perch</td>\n",
              "      <td>40.0</td>\n",
              "      <td>15.0</td>\n",
              "      <td>16.0</td>\n",
              "      <td>3.8240</td>\n",
              "      <td>2.4320</td>\n",
              "    </tr>\n",
              "    <tr>\n",
              "      <th>75</th>\n",
              "      <td>Perch</td>\n",
              "      <td>51.5</td>\n",
              "      <td>16.2</td>\n",
              "      <td>17.2</td>\n",
              "      <td>4.5924</td>\n",
              "      <td>2.6316</td>\n",
              "    </tr>\n",
              "    <tr>\n",
              "      <th>76</th>\n",
              "      <td>Perch</td>\n",
              "      <td>70.0</td>\n",
              "      <td>17.4</td>\n",
              "      <td>18.5</td>\n",
              "      <td>4.5880</td>\n",
              "      <td>2.9415</td>\n",
              "    </tr>\n",
              "  </tbody>\n",
              "</table>\n",
              "</div>\n",
              "      <button class=\"colab-df-convert\" onclick=\"convertToInteractive('df-a775159c-1344-496e-8469-4e5639ba9ae1')\"\n",
              "              title=\"Convert this dataframe to an interactive table.\"\n",
              "              style=\"display:none;\">\n",
              "        \n",
              "  <svg xmlns=\"http://www.w3.org/2000/svg\" height=\"24px\"viewBox=\"0 0 24 24\"\n",
              "       width=\"24px\">\n",
              "    <path d=\"M0 0h24v24H0V0z\" fill=\"none\"/>\n",
              "    <path d=\"M18.56 5.44l.94 2.06.94-2.06 2.06-.94-2.06-.94-.94-2.06-.94 2.06-2.06.94zm-11 1L8.5 8.5l.94-2.06 2.06-.94-2.06-.94L8.5 2.5l-.94 2.06-2.06.94zm10 10l.94 2.06.94-2.06 2.06-.94-2.06-.94-.94-2.06-.94 2.06-2.06.94z\"/><path d=\"M17.41 7.96l-1.37-1.37c-.4-.4-.92-.59-1.43-.59-.52 0-1.04.2-1.43.59L10.3 9.45l-7.72 7.72c-.78.78-.78 2.05 0 2.83L4 21.41c.39.39.9.59 1.41.59.51 0 1.02-.2 1.41-.59l7.78-7.78 2.81-2.81c.8-.78.8-2.07 0-2.86zM5.41 20L4 18.59l7.72-7.72 1.47 1.35L5.41 20z\"/>\n",
              "  </svg>\n",
              "      </button>\n",
              "      \n",
              "  <style>\n",
              "    .colab-df-container {\n",
              "      display:flex;\n",
              "      flex-wrap:wrap;\n",
              "      gap: 12px;\n",
              "    }\n",
              "\n",
              "    .colab-df-convert {\n",
              "      background-color: #E8F0FE;\n",
              "      border: none;\n",
              "      border-radius: 50%;\n",
              "      cursor: pointer;\n",
              "      display: none;\n",
              "      fill: #1967D2;\n",
              "      height: 32px;\n",
              "      padding: 0 0 0 0;\n",
              "      width: 32px;\n",
              "    }\n",
              "\n",
              "    .colab-df-convert:hover {\n",
              "      background-color: #E2EBFA;\n",
              "      box-shadow: 0px 1px 2px rgba(60, 64, 67, 0.3), 0px 1px 3px 1px rgba(60, 64, 67, 0.15);\n",
              "      fill: #174EA6;\n",
              "    }\n",
              "\n",
              "    [theme=dark] .colab-df-convert {\n",
              "      background-color: #3B4455;\n",
              "      fill: #D2E3FC;\n",
              "    }\n",
              "\n",
              "    [theme=dark] .colab-df-convert:hover {\n",
              "      background-color: #434B5C;\n",
              "      box-shadow: 0px 1px 3px 1px rgba(0, 0, 0, 0.15);\n",
              "      filter: drop-shadow(0px 1px 2px rgba(0, 0, 0, 0.3));\n",
              "      fill: #FFFFFF;\n",
              "    }\n",
              "  </style>\n",
              "\n",
              "      <script>\n",
              "        const buttonEl =\n",
              "          document.querySelector('#df-a775159c-1344-496e-8469-4e5639ba9ae1 button.colab-df-convert');\n",
              "        buttonEl.style.display =\n",
              "          google.colab.kernel.accessAllowed ? 'block' : 'none';\n",
              "\n",
              "        async function convertToInteractive(key) {\n",
              "          const element = document.querySelector('#df-a775159c-1344-496e-8469-4e5639ba9ae1');\n",
              "          const dataTable =\n",
              "            await google.colab.kernel.invokeFunction('convertToInteractive',\n",
              "                                                     [key], {});\n",
              "          if (!dataTable) return;\n",
              "\n",
              "          const docLinkHtml = 'Like what you see? Visit the ' +\n",
              "            '<a target=\"_blank\" href=https://colab.research.google.com/notebooks/data_table.ipynb>data table notebook</a>'\n",
              "            + ' to learn more about interactive tables.';\n",
              "          element.innerHTML = '';\n",
              "          dataTable['output_type'] = 'display_data';\n",
              "          await google.colab.output.renderOutput(dataTable, element);\n",
              "          const docLink = document.createElement('div');\n",
              "          docLink.innerHTML = docLinkHtml;\n",
              "          element.appendChild(docLink);\n",
              "        }\n",
              "      </script>\n",
              "    </div>\n",
              "  </div>\n",
              "  "
            ]
          },
          "metadata": {},
          "execution_count": 271
        }
      ]
    },
    {
      "cell_type": "markdown",
      "source": [
        "농어(Perch)의 길이(Length)를 알면 무게(Weight)를 예측할 수 있을까?\n",
        "\n",
        "* 관심 변수, 종속 변수(label, target) - Weight --> 1차원 배열\n",
        "* 독립 변수, 특성(feature) - Length --> (컬럼이 1개인) 2차원 배열"
      ],
      "metadata": {
        "id": "WeItJua1d-Rc"
      }
    },
    {
      "cell_type": "code",
      "source": [
        "X = perch[['Length']].values # (컬럼이 1개인) 2차원 배열로 만들기 위해서 \n",
        "X[:5]"
      ],
      "metadata": {
        "colab": {
          "base_uri": "https://localhost:8080/"
        },
        "id": "Jkiy_UEnZ6c9",
        "outputId": "997f1640-3457-4a78-cd51-863cebf19753"
      },
      "execution_count": 272,
      "outputs": [
        {
          "output_type": "execute_result",
          "data": {
            "text/plain": [
              "array([[ 8.4],\n",
              "       [13.7],\n",
              "       [15. ],\n",
              "       [16.2],\n",
              "       [17.4]])"
            ]
          },
          "metadata": {},
          "execution_count": 272
        }
      ]
    },
    {
      "cell_type": "code",
      "source": [
        "y = perch['Weight'].values # 1차원 배열\n",
        "y[:5]"
      ],
      "metadata": {
        "colab": {
          "base_uri": "https://localhost:8080/"
        },
        "id": "9cEigdF0f09u",
        "outputId": "e8f99a4c-1603-42dc-c10d-b342fb3b841f"
      },
      "execution_count": 273,
      "outputs": [
        {
          "output_type": "execute_result",
          "data": {
            "text/plain": [
              "array([ 5.9, 32. , 40. , 51.5, 70. ])"
            ]
          },
          "metadata": {},
          "execution_count": 273
        }
      ]
    },
    {
      "cell_type": "markdown",
      "source": [
        "# 훈련/테스트 셋 분리"
      ],
      "metadata": {
        "id": "f2z3cwIGgmd0"
      }
    },
    {
      "cell_type": "code",
      "source": [
        "X_train, X_test, y_train, y_test = train_test_split(X, y,\n",
        "                                                    test_size=0.25,\n",
        "                                                    random_state=42)"
      ],
      "metadata": {
        "id": "MIY7fm0BgpU0"
      },
      "execution_count": 274,
      "outputs": []
    },
    {
      "cell_type": "code",
      "source": [
        "X_train.shape, X_test.shape"
      ],
      "metadata": {
        "colab": {
          "base_uri": "https://localhost:8080/"
        },
        "id": "RwuxuzDnhbhB",
        "outputId": "66fdab82-ca0b-42dc-d038-e6ccf5b46101"
      },
      "execution_count": 275,
      "outputs": [
        {
          "output_type": "execute_result",
          "data": {
            "text/plain": [
              "((42, 1), (14, 1))"
            ]
          },
          "metadata": {},
          "execution_count": 275
        }
      ]
    },
    {
      "cell_type": "code",
      "source": [
        "y_train.shape, y_test.shape"
      ],
      "metadata": {
        "colab": {
          "base_uri": "https://localhost:8080/"
        },
        "id": "1khI_D2yhhLb",
        "outputId": "2d1088f9-e5c2-4558-9930-021df3643d85"
      },
      "execution_count": 276,
      "outputs": [
        {
          "output_type": "execute_result",
          "data": {
            "text/plain": [
              "((42,), (14,))"
            ]
          },
          "metadata": {},
          "execution_count": 276
        }
      ]
    },
    {
      "cell_type": "markdown",
      "source": [
        "훈련 셋/테스트 셋 시각화(Weight ~ Length 산점도)"
      ],
      "metadata": {
        "id": "fiIk5DAkh5YR"
      }
    },
    {
      "cell_type": "code",
      "source": [
        "plt.scatter(X_train, y_train, label='train', alpha=0.5)\n",
        "plt.scatter(X_test, y_test, label='test', alpha=0.5)\n",
        "\n",
        "plt.xlabel('Length (cm)')\n",
        "plt.ylabel('Weight (g)')\n",
        "plt.legend()\n",
        "plt.grid()\n",
        "plt.show()"
      ],
      "metadata": {
        "colab": {
          "base_uri": "https://localhost:8080/",
          "height": 279
        },
        "id": "LoSq-ZA_hlEM",
        "outputId": "52831436-af4b-40b8-c4e6-4c5a5594dc3a"
      },
      "execution_count": 277,
      "outputs": [
        {
          "output_type": "display_data",
          "data": {
            "text/plain": [
              "<Figure size 432x288 with 1 Axes>"
            ],
            "image/png": "[encoded data removed]"
          },
          "metadata": {
            "needs_background": "light"
          }
        }
      ]
    },
    {
      "cell_type": "markdown",
      "source": [
        "# KNN Regressor 모델 훈련, 평가\n",
        "\n",
        "KNN Regressor: 가장 가까운 k개의 이웃들의 레이블(타겟)의 평균값으로 숫자를 예측."
      ],
      "metadata": {
        "id": "BD0NUg5EkMOU"
      }
    },
    {
      "cell_type": "code",
      "source": [
        "knn_reg = KNeighborsRegressor() # k=5 인 모델 생성"
      ],
      "metadata": {
        "id": "ciK5kGK4iUD-"
      },
      "execution_count": 278,
      "outputs": []
    },
    {
      "cell_type": "code",
      "source": [
        "knn_reg.fit(X_train, y_train) # 모델 학습"
      ],
      "metadata": {
        "colab": {
          "base_uri": "https://localhost:8080/"
        },
        "id": "nYh5_oqlkxPo",
        "outputId": "914dd07d-2e34-4a6d-83c3-853e9f28dcc4"
      },
      "execution_count": 279,
      "outputs": [
        {
          "output_type": "execute_result",
          "data": {
            "text/plain": [
              "KNeighborsRegressor()"
            ]
          },
          "metadata": {},
          "execution_count": 279
        }
      ]
    },
    {
      "cell_type": "code",
      "source": [
        "# 학습된 훈련 셋의 예측값\n",
        "train_pred = knn_reg.predict(X_train)\n",
        "train_pred"
      ],
      "metadata": {
        "colab": {
          "base_uri": "https://localhost:8080/"
        },
        "id": "oimktclZk2AB",
        "outputId": "c027d7a7-3de1-4dea-9272-3629af0d662b"
      },
      "execution_count": 280,
      "outputs": [
        {
          "output_type": "execute_result",
          "data": {
            "text/plain": [
              "array([  88.6,  123. ,   79.6,   70.6,  723. ,  193. ,  847. ,  847. ,\n",
              "       1010. ,  123. ,   95. ,  123. ,  174. ,  248. , 1010. ,  847. ,\n",
              "        174. ,  113. ,  248. ,  847. ,  659. ,  224. ,  723. ,   60. ,\n",
              "        140. ,   60. ,  719. ,  694.2,  248. ,  167. ,  847. ,  113. ,\n",
              "        168. ,  123. , 1010. ,  136. ,   79.6,  719. ,  123. ,  193. ,\n",
              "        990. ,  659. ])"
            ]
          },
          "metadata": {},
          "execution_count": 280
        }
      ]
    },
    {
      "cell_type": "code",
      "source": [
        "# 훈련 셋의 실젯값(레이블)\n",
        "y_train"
      ],
      "metadata": {
        "colab": {
          "base_uri": "https://localhost:8080/"
        },
        "id": "suDHQBGKlHBB",
        "outputId": "ed67ace7-88ef-4412-ced4-50610f2ff854"
      },
      "execution_count": 281,
      "outputs": [
        {
          "output_type": "execute_result",
          "data": {
            "text/plain": [
              "array([  85.,  135.,   78.,   70.,  700.,  180.,  850.,  820., 1000.,\n",
              "        120.,   85.,  130.,  225.,  260., 1100.,  900.,  145.,  115.,\n",
              "        265., 1015.,  514.,  218.,  685.,   32.,  145.,   40.,  690.,\n",
              "        840.,  300.,  170.,  650.,  110.,  150.,  110., 1000.,  150.,\n",
              "         80.,  700.,  120.,  197., 1100.,  556.])"
            ]
          },
          "metadata": {},
          "execution_count": 281
        }
      ]
    },
    {
      "cell_type": "markdown",
      "source": [
        "## 회귀 문제에서의 평가 지표:\n",
        "\n",
        "* 기호 정의\n",
        "    * $y_i$: $i$번째 샘플의 실젯값(label)\n",
        "    * $\\hat{y_i}$: $i$번째 샘플의 예측값\n",
        "    * $\\bar{y}$: 타겟의 평균값\n",
        "    * $n$: 샘플 개수\n",
        "\n",
        "* MSE(Mean Squared Errors): 오차들의 제곱의 평균\n",
        "\n",
        "$$ MSE = \\frac{1}{n} \\sum_{i=1}^{n} (y_i - \\hat{y_i})^2$$\n",
        "\n",
        "* RMSE(Root Mean Squared Errors): MSE의 제곱근\n",
        "\n",
        "$$ RMSE = \\sqrt{ \\frac{1}{n} \\sum_{i=1}^{n} (y_i - \\hat{y_i})^2 } $$\n",
        "\n",
        "* MAE(Mean Absolute Erroes): 오차들의 절대값의 평균\n",
        "\n",
        "$$ MAE = \\frac{1}{n} \\sum_{i=1}^{n} \\lvert y_i - \\hat{y_i} \\rvert$$\n",
        "\n",
        "* $R^2$ score(결정 계수, coefficient of determinant) \n",
        "$$ R^2 = 1 - \\dfrac{ \\sum_{i=1}^{n} (y_i - \\hat{y_i})^2 }\n",
        "          { \\sum_{i=1}^{n} (y_i - \\bar{y})^2 }\n",
        "$$\n",
        "    \n",
        "    * 일반적인 평가 지표는 점수가 높을 수록 좋은 모델, 점수가 낮을 수록 나쁜 모델.\n",
        "    * 그런데, 회귀 문제에서는 오차(MSE, MAE)는 작을 수록 좋은 모델이고, 오차가 클 수록 나쁜 모델.\n",
        "    * 회귀 문제에서도 점수가 높을 수록 좋은 모델이고 점수가 낮을 수록 나쁜 모델이라고 평가할 수 있는 지표가 필요. --> $R^2 score(결정 계수)$\n",
        "    * 결정 계수는 최댓값이 1이 되도록 만든 평가 지표.\n",
        "    * 모델이 타겟을 오차없이 정확하게 예측한다면 실제값 - 예측값 = 0 이므로, 결정 계수는 최댓값이 1이 됨.\n",
        "    * 모델이 타겟을 매우 비슷하게 예측한다면(즉, 오차가 매우 작다면) 분자가 0에 가까운 값이 되므로, 결정 계수는 1보다는 작지만 1에 가까운 값이 됨.\n",
        "    * 모델이 타겟의 평균으로만 예측하는 정도라면 분자 = 분모 이므로, 결정 계수는 0이 됨.\n",
        "    * 모델이 타겟의 평균 정도도 예측하지 못하는 모델이라면(오차가 매우 크다면), 분자 > 분모 일 수 있고, 그런 경우 결정 계수는 음수가 될 수 있음.\n",
        "    * 즉, 결정 계수는 1에 가까울 수록 오차가 작은 좋은 예측 모델이고, 숫자가 작아질 수록 오차가 큰 나쁜 예측 모델임."
      ],
      "metadata": {
        "id": "eelRvoYamur9"
      }
    },
    {
      "cell_type": "code",
      "source": [
        "# 훈련 셋의 MSE, RMSE:\n",
        "train_mse = mean_squared_error(y_train, train_pred)\n",
        "train_rmse = np.sqrt(train_mse)\n",
        "train_rmse"
      ],
      "metadata": {
        "colab": {
          "base_uri": "https://localhost:8080/"
        },
        "id": "VURhoZv9lUw8",
        "outputId": "c74ccaff-1e04-444b-dd9a-24e4b0d8309a"
      },
      "execution_count": 282,
      "outputs": [
        {
          "output_type": "execute_result",
          "data": {
            "text/plain": [
              "60.96323638453089"
            ]
          },
          "metadata": {},
          "execution_count": 282
        }
      ]
    },
    {
      "cell_type": "code",
      "source": [
        "# 훈련 셋의 MAE\n",
        "mean_absolute_error(y_train, train_pred)"
      ],
      "metadata": {
        "colab": {
          "base_uri": "https://localhost:8080/"
        },
        "id": "fikrL8UPoUFK",
        "outputId": "7f78c8f8-54b1-4d37-d516-30455ecd53d3"
      },
      "execution_count": 283,
      "outputs": [
        {
          "output_type": "execute_result",
          "data": {
            "text/plain": [
              "35.76190476190476"
            ]
          },
          "metadata": {},
          "execution_count": 283
        }
      ]
    },
    {
      "cell_type": "code",
      "source": [
        "# 테스트 셋의 예측값\n",
        "test_pred = knn_reg.predict(X_test)\n",
        "print(test_pred)\n",
        "print(y_test) # 테스트 셋 실젯값\n",
        "# 테스트 셋의 RMSE\n",
        "test_mes = mean_squared_error(y_test, test_pred)\n",
        "test_rmes = np.sqrt(test_mes)\n",
        "print(test_rmes)"
      ],
      "metadata": {
        "colab": {
          "base_uri": "https://localhost:8080/"
        },
        "id": "CPcw5wZiordE",
        "outputId": "4dfc37d7-5d8c-4fd5-f228-337c9ee9fc04"
      },
      "execution_count": 284,
      "outputs": [
        {
          "output_type": "stream",
          "name": "stdout",
          "text": [
            "[  60.    79.6  248.   122.   136.   847.   311.4  183.4  847.   113.\n",
            " 1010.    60.   248.   248. ]\n",
            "[   5.9  100.   250.   130.   130.   820.   320.   188.   900.   125.\n",
            " 1000.    51.5  250.   300. ]\n",
            "26.865192562655704\n"
          ]
        }
      ]
    },
    {
      "cell_type": "code",
      "source": [
        "# 훈련 셋의 R^2(결정 계수)\n",
        "train_r2 = r2_score(y_train, train_pred)\n",
        "print('훈련 셋 R2:', train_r2)\n",
        "\n",
        "# 테스트 셋의 R^2\n",
        "test_r2 = r2_score(y_test, test_pred)\n",
        "print('테스트 셋 R2:', test_r2)"
      ],
      "metadata": {
        "colab": {
          "base_uri": "https://localhost:8080/"
        },
        "id": "OZMGISEIqZtD",
        "outputId": "2b33377c-0085-4006-a210-bf6a9f9005fc"
      },
      "execution_count": 285,
      "outputs": [
        {
          "output_type": "stream",
          "name": "stdout",
          "text": [
            "훈련 셋 R2: 0.9698823289099254\n",
            "테스트 셋 R2: 0.992809406101064\n"
          ]
        }
      ]
    },
    {
      "cell_type": "code",
      "source": [
        "knn_reg.score(X_test, y_test) # 분류 --> 정확도, 회귀 --> R^2 score"
      ],
      "metadata": {
        "colab": {
          "base_uri": "https://localhost:8080/"
        },
        "id": "kuTHczMdzILp",
        "outputId": "49cbb0e9-4db5-4d24-d0d7-37b6556c8cfc"
      },
      "execution_count": 286,
      "outputs": [
        {
          "output_type": "execute_result",
          "data": {
            "text/plain": [
              "0.992809406101064"
            ]
          },
          "metadata": {},
          "execution_count": 286
        }
      ]
    },
    {
      "cell_type": "markdown",
      "source": [
        "# 모델 튜닝\n",
        "\n",
        "k값 변화에 따른 훈련 셋과 테스트 셋에서의 $R^2$ score 변화를 시각화"
      ],
      "metadata": {
        "id": "u5UrpjTtcyds"
      }
    },
    {
      "cell_type": "code",
      "source": [
        "k_values = np.arange(1, 16)\n",
        "train_scores = [] # 훈련 셋의 R^2 score를 저장할 리스트\n",
        "test_scores = [] # 테스트 셋의 R^2 score를 저장할 리스트\n",
        "\n",
        "for k in k_values:\n",
        "    knn = KNeighborsRegressor(n_neighbors=k) # KNN 예측기 모델 생성\n",
        "    knn.fit(X_train, y_train) # 모델 훈련\n",
        "    train_r2 = knn.score(X_train, y_train) # 훈련 셋에서의 R^2 score\n",
        "    train_scores.append(train_r2)\n",
        "    test_r2 = knn.score(X_test, y_test) # 테스트 셋에서의 R^2 score\n",
        "    test_scores.append(test_r2)\n",
        "\n",
        "print(train_scores)\n",
        "print(test_scores)"
      ],
      "metadata": {
        "colab": {
          "base_uri": "https://localhost:8080/"
        },
        "id": "30G4uDuLdUKP",
        "outputId": "b1e6306e-a8ca-4de9-ee10-3a37f4a49e5b"
      },
      "execution_count": 287,
      "outputs": [
        {
          "output_type": "stream",
          "name": "stdout",
          "text": [
            "[0.9852830341215901, 0.9828437127041165, 0.9804899950518966, 0.978211389719245, 0.9698823289099254, 0.9757140960298665, 0.9761170732051527, 0.9697604397763201, 0.9693310367551284, 0.96164569026043, 0.9515761381539326, 0.9467103631225754, 0.9413423450130075, 0.9429470576557883, 0.930201118360776]\n",
            "[0.991309195814175, 0.9725010241788556, 0.9746459963987609, 0.9840231023848637, 0.992809406101064, 0.9855001139899048, 0.9781383949643516, 0.9780541148735824, 0.9692647749722698, 0.9737908255822255, 0.970279643030474, 0.967703620310643, 0.9639044643206888, 0.9615046463124021, 0.9554827691127018]\n"
          ]
        }
      ]
    },
    {
      "cell_type": "code",
      "source": [
        "plt.plot(k_values, train_scores, 'bo-', label='train r2 score')\n",
        "plt.plot(k_values, test_scores, 'ro:', label='test r2 score')\n",
        "\n",
        "plt.xlabel('k (# of nearest neighbors)')\n",
        "plt.ylabel('$R^2$ score')\n",
        "plt.grid()\n",
        "plt.legend()\n",
        "plt.show()"
      ],
      "metadata": {
        "colab": {
          "base_uri": "https://localhost:8080/",
          "height": 279
        },
        "id": "hDWjBKWDe1cH",
        "outputId": "5b79246a-ab41-4cdc-ebe1-1488218453c3"
      },
      "execution_count": 288,
      "outputs": [
        {
          "output_type": "display_data",
          "data": {
            "text/plain": [
              "<Figure size 432x288 with 1 Axes>"
            ],
            "image/png": "[encoded data removed]"
          },
          "metadata": {
            "needs_background": "light"
          }
        }
      ]
    },
    {
      "cell_type": "markdown",
      "source": [
        "# KNN Regressor의 문제점"
      ],
      "metadata": {
        "id": "IBR4s0MIk05-"
      }
    },
    {
      "cell_type": "code",
      "source": [
        "# 훈련 셋 시각화\n",
        "plt.scatter(X_train, y_train, label='train set', alpha=0.5)\n",
        "\n",
        "# 길이는 50cm, 무게가 1500g인 가상의 농어(perch) 한 마리\n",
        "test_fish_length = [[50]] # 특성 배열: (n_sample, n_feature) shape의 2차원 배열\n",
        "test_fish_weight = [1500] # 레이블 배열: (n_sample,) shape의 1차원 배열\n",
        "plt.scatter(test_fish_length, test_fish_weight, marker='v', color='red')\n",
        "\n",
        "plt.legend()\n",
        "plt.grid()\n",
        "plt.xlabel('Length (cm)')\n",
        "plt.ylabel('Weight (g)')\n",
        "plt.show()"
      ],
      "metadata": {
        "colab": {
          "base_uri": "https://localhost:8080/",
          "height": 279
        },
        "id": "j90BBCf2faGa",
        "outputId": "c8096a11-35a7-4895-f372-172d02446061"
      },
      "execution_count": 289,
      "outputs": [
        {
          "output_type": "display_data",
          "data": {
            "text/plain": [
              "<Figure size 432x288 with 1 Axes>"
            ],
            "image/png": "[encoded data removed]"
          },
          "metadata": {
            "needs_background": "light"
          }
        }
      ]
    },
    {
      "cell_type": "code",
      "source": [
        "# k=3인 KNN regressor 생성, 훈련, 예측\n",
        "knn = KNeighborsRegressor(n_neighbors=3) # 모델 생성\n",
        "knn.fit(X_train, y_train) # 모델 훈련\n",
        "prediction = knn.predict(test_fish_length) # 길이 50cm인 가상의 농어의 무게 예측값\n",
        "print(prediction)"
      ],
      "metadata": {
        "colab": {
          "base_uri": "https://localhost:8080/"
        },
        "id": "hQjOwVXKk_mW",
        "outputId": "a4de2cab-3875-439f-e9d2-7823bb24b42a"
      },
      "execution_count": 290,
      "outputs": [
        {
          "output_type": "stream",
          "name": "stdout",
          "text": [
            "[1033.33333333]\n"
          ]
        }
      ]
    },
    {
      "cell_type": "markdown",
      "source": [
        "* 머신 러닝 알고리즘\n",
        "    * 사례 기반 학습(instance-based learning): KNN\n",
        "        * 샘플들의 다수결 또는 평균으로 예측하는 알고리즘.\n",
        "        * 특별한 수학적인 모델링이 사용되지 않는 알고리즘.\n",
        "        * 장점: 이해하기 쉽다.\n",
        "        * 단점: 이상치(outlier)에 대한 예측값은 매우 나쁘다.\n",
        "    * 모델 기반 학습(model-based learning): Linear Regression\n",
        "        * 훈련 셋에서 수학적인 모델(공식)을 추론해서 예측하는 알고리즘."
      ],
      "metadata": {
        "id": "_Ej3xPDUpFtv"
      }
    },
    {
      "cell_type": "markdown",
      "source": [
        "# 선형 회귀(Linear Refression)"
      ],
      "metadata": {
        "id": "AlPYJp6W94up"
      }
    },
    {
      "cell_type": "code",
      "source": [
        "lin_reg = LinearRegression() # 선형 회귀 모델 생성"
      ],
      "metadata": {
        "id": "f3UhnKtL8NyZ"
      },
      "execution_count": 291,
      "outputs": []
    },
    {
      "cell_type": "code",
      "source": [
        "lin_reg.fit(X_train, y_train) # 모델 훈련"
      ],
      "metadata": {
        "colab": {
          "base_uri": "https://localhost:8080/"
        },
        "id": "14abNBpy-MgV",
        "outputId": "0b1d07d0-5591-43d3-a33c-161a0fce55fe"
      },
      "execution_count": 292,
      "outputs": [
        {
          "output_type": "execute_result",
          "data": {
            "text/plain": [
              "LinearRegression()"
            ]
          },
          "metadata": {},
          "execution_count": 292
        }
      ]
    },
    {
      "cell_type": "markdown",
      "source": [
        "선형 회귀 모델을 훈련 셋으로 학습 시킨다라는 의미는 데이터들을 가장 잘 설명할 수 있는(훈련 셋과 예측값들 사이의 오차가 적어지도록 하는) 직선(곡선)의 방정식을 찾는 과정.\n",
        "\n",
        "$$\n",
        "\\hat{y_1} = w_0 + w_1 \\times x_i\n",
        "$$\n",
        "\n",
        "* $w_0$: 절편(intercept), 편향(bias)\n",
        "* $w_1$: 계수(coefficient), 기울기(slope)\n",
        "* 선형 회귀의 목적은 MSE(오차들의 제곱의 평균)이 가장 작아지는 절편($w_0$)과 계수들($w_1$)을 찾는 것."
      ],
      "metadata": {
        "id": "Hp7Mr5qaAHPZ"
      }
    },
    {
      "cell_type": "code",
      "source": [
        "lin_reg.intercept_ # 선형 회귀 모델을 훈련시킨 후 찾은 직선의 절편"
      ],
      "metadata": {
        "colab": {
          "base_uri": "https://localhost:8080/"
        },
        "id": "FZmMssz--Zo-",
        "outputId": "89337a66-4928-452e-d7cb-8e74219e40da"
      },
      "execution_count": 293,
      "outputs": [
        {
          "output_type": "execute_result",
          "data": {
            "text/plain": [
              "-709.0186449535477"
            ]
          },
          "metadata": {},
          "execution_count": 293
        }
      ]
    },
    {
      "cell_type": "code",
      "source": [
        "lin_reg.coef_ # 선형 회귀 모델을 훈련시킨 후 찾은 직선의 기울기"
      ],
      "metadata": {
        "colab": {
          "base_uri": "https://localhost:8080/"
        },
        "id": "DZCYcYf6B_v-",
        "outputId": "0a8da640-e64e-4c75-edac-16f45307df4c"
      },
      "execution_count": 294,
      "outputs": [
        {
          "output_type": "execute_result",
          "data": {
            "text/plain": [
              "array([39.01714496])"
            ]
          },
          "metadata": {},
          "execution_count": 294
        }
      ]
    },
    {
      "cell_type": "markdown",
      "source": [
        "선형 회귀 모델을 훈련시킨 후 찾은 수학적 모델(직선의 방적식)\n",
        "\n",
        "$$\n",
        "\\hat{y} = -709 + 39 \\times x\n",
        "$$"
      ],
      "metadata": {
        "id": "uuj9_hGzCtU6"
      }
    },
    {
      "cell_type": "code",
      "source": [
        "-709 + 39 * 50"
      ],
      "metadata": {
        "colab": {
          "base_uri": "https://localhost:8080/"
        },
        "id": "nUTu9cjnCJW3",
        "outputId": "06349afb-40f4-4fdf-aca1-3ca5fec7ad71"
      },
      "execution_count": 295,
      "outputs": [
        {
          "output_type": "execute_result",
          "data": {
            "text/plain": [
              "1241"
            ]
          },
          "metadata": {},
          "execution_count": 295
        }
      ]
    },
    {
      "cell_type": "code",
      "source": [
        "# 훈련 셋, 테스트 셋, 선형 회귀 모델(직선) 시각화\n",
        "plt.scatter(X_train, y_train, alpha=0.5, label='train') # 훈련 셋\n",
        "plt.scatter(X_test, y_test, label='test', alpha=0.5) # 테스트 셋\n",
        "\n",
        "# 직선(곡선) 시각화\n",
        "x = np.arange(5, 45, 0.001)\n",
        "w0 = lin_reg.intercept_ # 직선의 y절편\n",
        "w1 = lin_reg.coef_[0] # 직선의 기울기\n",
        "y = w0 + w1 * x # 직선의 방정식\n",
        "plt.plot(x, y, 'r-', label='linear regression')\n",
        "\n",
        "plt.grid()\n",
        "plt.legend()\n",
        "plt.xlabel('Length (cm)')\n",
        "plt.ylabel('Weight (g)')\n",
        "plt.show()"
      ],
      "metadata": {
        "colab": {
          "base_uri": "https://localhost:8080/",
          "height": 279
        },
        "id": "vmi6mo4uDHeJ",
        "outputId": "529b9f4f-ac25-49a2-c778-edd893d6fa27"
      },
      "execution_count": 296,
      "outputs": [
        {
          "output_type": "display_data",
          "data": {
            "text/plain": [
              "<Figure size 432x288 with 1 Axes>"
            ],
            "image/png": "[encoded data removed]"
          },
          "metadata": {
            "needs_background": "light"
          }
        }
      ]
    },
    {
      "cell_type": "code",
      "source": [
        "# 훈련 셋에서의 예측값\n",
        "train_pred = lin_reg.predict(X_train)\n",
        "print(train_pred)"
      ],
      "metadata": {
        "colab": {
          "base_uri": "https://localhost:8080/"
        },
        "id": "MSBVA9JED-aJ",
        "outputId": "daf27f09-f7b1-4269-9df5-b3ba7aa9982a"
      },
      "execution_count": 297,
      "outputs": [
        {
          "output_type": "stream",
          "name": "stdout",
          "text": [
            "[  55.71739633  149.35854425   20.60196587  -30.12032259  695.59857374\n",
            "  266.40997914  851.66715359  812.65000863  968.71858848  149.35854425\n",
            "   71.32425432  149.35854425  227.39283417  363.95284155  968.71858848\n",
            "  851.66715359  227.39283417  110.34139928  363.95284155  851.66715359\n",
            "  570.74370985  324.93569658  715.10714622 -174.48375895  176.67054572\n",
            " -123.7614705   734.6157187   656.58142877  410.7734155   207.88426169\n",
            "  812.65000863  110.34139928  188.37568921  149.35854425 1007.73573345\n",
            "  168.86711673   32.30710936  734.6157187   149.35854425  289.82026612\n",
            "  929.70144352  637.07285629]\n"
          ]
        }
      ]
    },
    {
      "cell_type": "code",
      "source": [
        "print(y_train)"
      ],
      "metadata": {
        "colab": {
          "base_uri": "https://localhost:8080/"
        },
        "id": "q_ocooKqG340",
        "outputId": "916d9c75-31e5-4148-ca7c-2985280f441e"
      },
      "execution_count": 298,
      "outputs": [
        {
          "output_type": "stream",
          "name": "stdout",
          "text": [
            "[  85.  135.   78.   70.  700.  180.  850.  820. 1000.  120.   85.  130.\n",
            "  225.  260. 1100.  900.  145.  115.  265. 1015.  514.  218.  685.   32.\n",
            "  145.   40.  690.  840.  300.  170.  650.  110.  150.  110. 1000.  150.\n",
            "   80.  700.  120.  197. 1100.  556.]\n"
          ]
        }
      ]
    },
    {
      "cell_type": "code",
      "source": [
        "# 훈련 셋에서의 R^2 score\n",
        "lin_reg.score(X_train, y_train)"
      ],
      "metadata": {
        "colab": {
          "base_uri": "https://localhost:8080/"
        },
        "id": "eiU5hqKSHHKL",
        "outputId": "2bedda10-5e46-4e23-93ec-15be36192df4"
      },
      "execution_count": 299,
      "outputs": [
        {
          "output_type": "execute_result",
          "data": {
            "text/plain": [
              "0.939846333997604"
            ]
          },
          "metadata": {},
          "execution_count": 299
        }
      ]
    },
    {
      "cell_type": "code",
      "source": [
        "# 테스트 셋에서의 R^2 score\n",
        "lin_reg.score(X_test, y_test)"
      ],
      "metadata": {
        "colab": {
          "base_uri": "https://localhost:8080/"
        },
        "id": "H9X3dknIHiFF",
        "outputId": "20354c20-4856-4492-9114-9e970496410d"
      },
      "execution_count": 300,
      "outputs": [
        {
          "output_type": "execute_result",
          "data": {
            "text/plain": [
              "0.8247503123313558"
            ]
          },
          "metadata": {},
          "execution_count": 300
        }
      ]
    },
    {
      "cell_type": "markdown",
      "source": [
        "# 2차 항(polymonial)을 포함하는 선형 회귀\n",
        "\n",
        "$$\n",
        "\\hat{y} = w_0 + w_1 \\times x + w_2 \\times x^2\n",
        "$$\n",
        "\n",
        "2차 함수에 의해서 계산된 MSE가 최소가 되는 절편과 계수들을 찾는 것."
      ],
      "metadata": {
        "id": "CSKPVLlnPmUc"
      }
    },
    {
      "cell_type": "code",
      "source": [
        "X_train.shape # 훈련 셋의 shape"
      ],
      "metadata": {
        "colab": {
          "base_uri": "https://localhost:8080/"
        },
        "id": "aFHWrkQTQcjB",
        "outputId": "7cfb9e1d-ba15-4515-f38f-8c728ab77dd2"
      },
      "execution_count": 301,
      "outputs": [
        {
          "output_type": "execute_result",
          "data": {
            "text/plain": [
              "(42, 1)"
            ]
          },
          "metadata": {},
          "execution_count": 301
        }
      ]
    },
    {
      "cell_type": "code",
      "source": [
        "X_train[:3, :]"
      ],
      "metadata": {
        "colab": {
          "base_uri": "https://localhost:8080/"
        },
        "id": "9sP0O3NhQnhN",
        "outputId": "97fdf113-18d8-46d4-88ef-9fde38195edf"
      },
      "execution_count": 302,
      "outputs": [
        {
          "output_type": "execute_result",
          "data": {
            "text/plain": [
              "array([[19.6],\n",
              "       [22. ],\n",
              "       [18.7]])"
            ]
          },
          "metadata": {},
          "execution_count": 302
        }
      ]
    },
    {
      "cell_type": "code",
      "source": [
        "# 특성(feature) 배열에 2차항을 추가\n",
        "X_train_poly = np.c_[X_train, X_train ** 2]"
      ],
      "metadata": {
        "id": "_S7M1N9WQ7O7"
      },
      "execution_count": 303,
      "outputs": []
    },
    {
      "cell_type": "code",
      "source": [
        "X_train_poly.shape"
      ],
      "metadata": {
        "colab": {
          "base_uri": "https://localhost:8080/"
        },
        "id": "y8x1FtHSRQ1Q",
        "outputId": "7b1d953c-e408-450d-c0c1-496d4471f454"
      },
      "execution_count": 304,
      "outputs": [
        {
          "output_type": "execute_result",
          "data": {
            "text/plain": [
              "(42, 2)"
            ]
          },
          "metadata": {},
          "execution_count": 304
        }
      ]
    },
    {
      "cell_type": "code",
      "source": [
        "X_train_poly[:3, :]"
      ],
      "metadata": {
        "colab": {
          "base_uri": "https://localhost:8080/"
        },
        "id": "VZjZcWxTRTlL",
        "outputId": "de63e663-d991-4929-fe2a-903f9fff707c"
      },
      "execution_count": 305,
      "outputs": [
        {
          "output_type": "execute_result",
          "data": {
            "text/plain": [
              "array([[ 19.6 , 384.16],\n",
              "       [ 22.  , 484.  ],\n",
              "       [ 18.7 , 349.69]])"
            ]
          },
          "metadata": {},
          "execution_count": 305
        }
      ]
    },
    {
      "cell_type": "code",
      "source": [
        "# 테스트 셋의 특성 배열에 2차항을 추가\n",
        "X_test_poly = np.c_[X_test, X_test ** 2]"
      ],
      "metadata": {
        "id": "pUjQHQy0RbpC"
      },
      "execution_count": 306,
      "outputs": []
    },
    {
      "cell_type": "code",
      "source": [
        "X_test_poly.shape"
      ],
      "metadata": {
        "colab": {
          "base_uri": "https://localhost:8080/"
        },
        "id": "oZanODs1SSAH",
        "outputId": "f824d585-fb4f-46e9-bf5b-0c0226b4c87b"
      },
      "execution_count": 307,
      "outputs": [
        {
          "output_type": "execute_result",
          "data": {
            "text/plain": [
              "(14, 2)"
            ]
          },
          "metadata": {},
          "execution_count": 307
        }
      ]
    },
    {
      "cell_type": "code",
      "source": [
        "X_test_poly[:3, :]"
      ],
      "metadata": {
        "colab": {
          "base_uri": "https://localhost:8080/"
        },
        "id": "1iwkyRgwSUDe",
        "outputId": "a795e554-dca7-4720-c800-a0d0dc6e3694"
      },
      "execution_count": 308,
      "outputs": [
        {
          "output_type": "execute_result",
          "data": {
            "text/plain": [
              "array([[  8.4 ,  70.56],\n",
              "       [ 18.  , 324.  ],\n",
              "       [ 27.5 , 756.25]])"
            ]
          },
          "metadata": {},
          "execution_count": 308
        }
      ]
    },
    {
      "cell_type": "code",
      "source": [
        "lin_reg2 = LinearRegression() # 선형 회귀 모델 생성"
      ],
      "metadata": {
        "id": "rftad_W9SXhy"
      },
      "execution_count": 309,
      "outputs": []
    },
    {
      "cell_type": "code",
      "source": [
        "lin_reg2.fit(X_train_poly, y_train) # 선형 회귀 모델 훈련"
      ],
      "metadata": {
        "colab": {
          "base_uri": "https://localhost:8080/"
        },
        "id": "fk04LxDBSkv-",
        "outputId": "a65a6237-9ef6-4ac2-90fd-8e4114c4978d"
      },
      "execution_count": 310,
      "outputs": [
        {
          "output_type": "execute_result",
          "data": {
            "text/plain": [
              "LinearRegression()"
            ]
          },
          "metadata": {},
          "execution_count": 310
        }
      ]
    },
    {
      "cell_type": "code",
      "source": [
        "# 학습 결과 - 선형 회귀식에서 절편(intercept)과 계수들(coefficients)을 찾음.\n",
        "print(lin_reg2.intercept_)\n",
        "print(lin_reg2.coef_)"
      ],
      "metadata": {
        "id": "Pk7Qa-bAS2Xp",
        "colab": {
          "base_uri": "https://localhost:8080/"
        },
        "outputId": "fed670c0-09fb-447a-9ce6-f965cd7bf8ae"
      },
      "execution_count": 311,
      "outputs": [
        {
          "output_type": "stream",
          "name": "stdout",
          "text": [
            "116.05021078278384\n",
            "[-21.55792498   1.01433211]\n"
          ]
        }
      ]
    },
    {
      "cell_type": "markdown",
      "source": [
        "$$\n",
        "\\hat{y} = 116 - 21.6 \\times x + 1.0 \\times x^2\n",
        "$$"
      ],
      "metadata": {
        "id": "qWWAyvTTUAA8"
      }
    },
    {
      "cell_type": "code",
      "source": [
        "116 - 21.6 * 50 + 1.0 * 50 ** 2"
      ],
      "metadata": {
        "colab": {
          "base_uri": "https://localhost:8080/"
        },
        "id": "j0N4g-GzUjEL",
        "outputId": "db88bd48-86e0-4325-9a34-08ca3242a008"
      },
      "execution_count": 312,
      "outputs": [
        {
          "output_type": "execute_result",
          "data": {
            "text/plain": [
              "1536.0"
            ]
          },
          "metadata": {},
          "execution_count": 312
        }
      ]
    },
    {
      "cell_type": "code",
      "source": [
        "116 - 21.6 * 8 + 1.0 * 8 **2"
      ],
      "metadata": {
        "colab": {
          "base_uri": "https://localhost:8080/"
        },
        "id": "IYDyZPmxT9MB",
        "outputId": "b31b02be-bcdb-43d0-c6f8-b4d4ea88a8e7"
      },
      "execution_count": 313,
      "outputs": [
        {
          "output_type": "execute_result",
          "data": {
            "text/plain": [
              "7.199999999999989"
            ]
          },
          "metadata": {},
          "execution_count": 313
        }
      ]
    },
    {
      "cell_type": "code",
      "source": [
        "# 훈련 셋의 예측값\n",
        "train_pred = lin_reg2.predict(X_train_poly)\n",
        "print(train_pred)"
      ],
      "metadata": {
        "colab": {
          "base_uri": "https://localhost:8080/"
        },
        "id": "-1Mr6REDU1i8",
        "outputId": "7c55eacc-ace5-483a-c948-f0a2ff1f4594"
      },
      "execution_count": 314,
      "outputs": [
        {
          "output_type": "stream",
          "name": "stdout",
          "text": [
            "[  83.18070434  132.71260219   67.61880901   48.04150559  654.5393253\n",
            "  211.05965467  876.66458663  818.09027497 1064.55950693  132.71260219\n",
            "   90.62455496  132.71260219  182.91530629  290.29593158 1064.55950693\n",
            "  876.66458663  182.91530629  110.65424646  290.29593158  876.66458663\n",
            "  500.20932803  257.07992265  680.52990177   11.08663218  149.3605064\n",
            "   20.90606071  707.0276443   604.07967051  332.83297906  169.60388118\n",
            "  818.09027497  110.65424646  156.79962213  132.71260219 1131.24847547\n",
            "  144.50252913   72.62352767  707.0276443   132.71260219  228.92002253\n",
            "  999.89920261  579.6105922 ]\n"
          ]
        }
      ]
    },
    {
      "cell_type": "code",
      "source": [
        "# 훈련 셋의 실젯값(레이블)\n",
        "print(y_train)"
      ],
      "metadata": {
        "colab": {
          "base_uri": "https://localhost:8080/"
        },
        "id": "ua5uKSCYVIM1",
        "outputId": "1dc6d71c-4649-4812-97bd-414f59979b76"
      },
      "execution_count": 315,
      "outputs": [
        {
          "output_type": "stream",
          "name": "stdout",
          "text": [
            "[  85.  135.   78.   70.  700.  180.  850.  820. 1000.  120.   85.  130.\n",
            "  225.  260. 1100.  900.  145.  115.  265. 1015.  514.  218.  685.   32.\n",
            "  145.   40.  690.  840.  300.  170.  650.  110.  150.  110. 1000.  150.\n",
            "   80.  700.  120.  197. 1100.  556.]\n"
          ]
        }
      ]
    },
    {
      "cell_type": "code",
      "source": [
        "# 테스트 셋 예측값\n",
        "test_pred = lin_reg2.predict(X_test_poly)\n",
        "print(test_pred)"
      ],
      "metadata": {
        "colab": {
          "base_uri": "https://localhost:8080/"
        },
        "id": "lUSNVGRRVLpT",
        "outputId": "1be543d9-4936-40e7-cea4-16891c7252e9"
      },
      "execution_count": 316,
      "outputs": [
        {
          "output_type": "stream",
          "name": "stdout",
          "text": [
            "[   6.5349146    56.6511646   290.29593158  117.05874344  144.50252913\n",
            "  876.66458663  382.21135986  199.55847561  818.09027497  110.65424646\n",
            " 1097.65040817   33.01314491  307.66468513  283.49043666]\n"
          ]
        }
      ]
    },
    {
      "cell_type": "code",
      "source": [
        "# 테스트 셋 실젯값\n",
        "print(y_test)"
      ],
      "metadata": {
        "colab": {
          "base_uri": "https://localhost:8080/"
        },
        "id": "__xHXla3Vo5c",
        "outputId": "d1c74aef-7581-4c44-8cc8-eee1b44c8a12"
      },
      "execution_count": 317,
      "outputs": [
        {
          "output_type": "stream",
          "name": "stdout",
          "text": [
            "[   5.9  100.   250.   130.   130.   820.   320.   188.   900.   125.\n",
            " 1000.    51.5  250.   300. ]\n"
          ]
        }
      ]
    },
    {
      "cell_type": "code",
      "source": [
        "# 훈련 셋 R^2 score\n",
        "lin_reg2.score(X_train_poly, y_train)"
      ],
      "metadata": {
        "colab": {
          "base_uri": "https://localhost:8080/"
        },
        "id": "MSfDAxLXVrtO",
        "outputId": "3e663b30-22dd-431a-c6e9-6b96ee521571"
      },
      "execution_count": 318,
      "outputs": [
        {
          "output_type": "execute_result",
          "data": {
            "text/plain": [
              "0.9706807451768623"
            ]
          },
          "metadata": {},
          "execution_count": 318
        }
      ]
    },
    {
      "cell_type": "code",
      "source": [
        "# 테스트 셋 R^2 score\n",
        "lin_reg2.score(X_test_poly, y_test)"
      ],
      "metadata": {
        "colab": {
          "base_uri": "https://localhost:8080/"
        },
        "id": "53B-LMAEV-4D",
        "outputId": "293fc9a3-b827-4dd9-f463-821f46e2849a"
      },
      "execution_count": 319,
      "outputs": [
        {
          "output_type": "execute_result",
          "data": {
            "text/plain": [
              "0.9775935108325122"
            ]
          },
          "metadata": {},
          "execution_count": 319
        }
      ]
    },
    {
      "cell_type": "code",
      "source": [
        "# 훈련 셋, 테스트 셋, (다항) 선형 회귀 모델 시각화\n",
        "plt.scatter(X_train, y_train, alpha=0.5, label='train') # 훈련 셋\n",
        "plt.scatter(X_test, y_test, alpha=0.5, label='test') # 테스트 셋\n",
        "\n",
        "# 다항 선형 회귀 곡선 시각화\n",
        "x = np.arange(5, 50, 0.001)\n",
        "w0 = lin_reg2.intercept_ # 2차 함수의 y절편\n",
        "w1, w2 = lin_reg2.coef_ # 2차 함수의 1차항과 2차항의 계수들\n",
        "y = w0 + w1 * x + w2 + x **2\n",
        "\n",
        "plt.plot(x, y, 'r-', label='regression')\n",
        "\n",
        "plt.grid()\n",
        "plt.legend()\n",
        "plt.xlabel('Length (cm)')\n",
        "plt.ylabel('Weight (g)')\n",
        "plt.show()"
      ],
      "metadata": {
        "colab": {
          "base_uri": "https://localhost:8080/",
          "height": 281
        },
        "id": "ajhO52IwWGlh",
        "outputId": "e8949566-0dc0-4af2-9d03-6e629c803ac5"
      },
      "execution_count": 320,
      "outputs": [
        {
          "output_type": "display_data",
          "data": {
            "text/plain": [
              "<Figure size 432x288 with 1 Axes>"
            ],
            "image/png": "[encoded data removed]"
          },
          "metadata": {
            "needs_background": "light"
          }
        }
      ]
    },
    {
      "cell_type": "markdown",
      "source": [
        "# 행렬의 점곱(dot product), 내적(inner product), 행렬 곱셈\n",
        "\n",
        "```\n",
        "(n, k) @ (k, m) = (n, m)\n",
        "```"
      ],
      "metadata": {
        "id": "kOftXIVieYS9"
      }
    },
    {
      "cell_type": "code",
      "source": [
        "A = np.arange(1, 7).reshape((3, -1))\n",
        "print(A) # (3, 2) shape"
      ],
      "metadata": {
        "colab": {
          "base_uri": "https://localhost:8080/"
        },
        "id": "m4gtJUMSb9B1",
        "outputId": "1f0fb8ad-283c-4d60-aa67-e659fca074c6"
      },
      "execution_count": 321,
      "outputs": [
        {
          "output_type": "stream",
          "name": "stdout",
          "text": [
            "[[1 2]\n",
            " [3 4]\n",
            " [5 6]]\n"
          ]
        }
      ]
    },
    {
      "cell_type": "code",
      "source": [
        "B = np.array([[0, 1, 2],\n",
        "             [1, 2, 3]])\n",
        "print(B) # (2, 3) shape"
      ],
      "metadata": {
        "colab": {
          "base_uri": "https://localhost:8080/"
        },
        "id": "7hOSr3CRfjyy",
        "outputId": "3309efa5-16ca-4e1f-af24-628af9751bce"
      },
      "execution_count": 322,
      "outputs": [
        {
          "output_type": "stream",
          "name": "stdout",
          "text": [
            "[[0 1 2]\n",
            " [1 2 3]]\n"
          ]
        }
      ]
    },
    {
      "cell_type": "code",
      "source": [
        "# A @ B #> @는 np 배열에서만 사용가능\n",
        "# A.dot(B)\n",
        "np.dot(A, B)"
      ],
      "metadata": {
        "colab": {
          "base_uri": "https://localhost:8080/"
        },
        "id": "SHF9ZIVEf4UA",
        "outputId": "a70d126f-d368-4c13-a587-a543457f7d8c"
      },
      "execution_count": 323,
      "outputs": [
        {
          "output_type": "execute_result",
          "data": {
            "text/plain": [
              "array([[ 2,  5,  8],\n",
              "       [ 4, 11, 18],\n",
              "       [ 6, 17, 28]])"
            ]
          },
          "metadata": {},
          "execution_count": 323
        }
      ]
    },
    {
      "cell_type": "code",
      "source": [
        "B @ A"
      ],
      "metadata": {
        "colab": {
          "base_uri": "https://localhost:8080/"
        },
        "id": "NYtxGCGyf8Fq",
        "outputId": "acde4fc6-f3a2-4f84-a652-739b1db98bac"
      },
      "execution_count": 324,
      "outputs": [
        {
          "output_type": "execute_result",
          "data": {
            "text/plain": [
              "array([[13, 16],\n",
              "       [22, 28]])"
            ]
          },
          "metadata": {},
          "execution_count": 324
        }
      ]
    },
    {
      "cell_type": "code",
      "source": [
        "A = np.arange(6).reshape((3, -1))\n",
        "print(A) # (3, 2)"
      ],
      "metadata": {
        "colab": {
          "base_uri": "https://localhost:8080/"
        },
        "id": "guLvJKeoiAXm",
        "outputId": "bcc3b24c-5b96-417d-b999-79c721b2f805"
      },
      "execution_count": 325,
      "outputs": [
        {
          "output_type": "stream",
          "name": "stdout",
          "text": [
            "[[0 1]\n",
            " [2 3]\n",
            " [4 5]]\n"
          ]
        }
      ]
    },
    {
      "cell_type": "code",
      "source": [
        "w = np.array([1, 2]) #> [1,\n",
        "                     #   2]\n",
        "print(w) # (2,)"
      ],
      "metadata": {
        "colab": {
          "base_uri": "https://localhost:8080/"
        },
        "id": "4klUywNDjFJN",
        "outputId": "c11873e3-f9d1-4ad5-fc03-bcd4f83a9e20"
      },
      "execution_count": 326,
      "outputs": [
        {
          "output_type": "stream",
          "name": "stdout",
          "text": [
            "[1 2]\n"
          ]
        }
      ]
    },
    {
      "cell_type": "code",
      "source": [
        "A @ w"
      ],
      "metadata": {
        "colab": {
          "base_uri": "https://localhost:8080/"
        },
        "id": "cHG-QQNKjecf",
        "outputId": "caa7d7c1-3ada-4728-ea0f-39eb8613bd3b"
      },
      "execution_count": 327,
      "outputs": [
        {
          "output_type": "execute_result",
          "data": {
            "text/plain": [
              "array([ 2,  8, 14])"
            ]
          },
          "metadata": {},
          "execution_count": 327
        }
      ]
    },
    {
      "cell_type": "code",
      "source": [
        "X_train_poly.shape, lin_reg2.coef_.shape"
      ],
      "metadata": {
        "colab": {
          "base_uri": "https://localhost:8080/"
        },
        "id": "8bgpwkfyj7HB",
        "outputId": "19c73c6f-de14-4488-d18f-10bc495156e4"
      },
      "execution_count": 328,
      "outputs": [
        {
          "output_type": "execute_result",
          "data": {
            "text/plain": [
              "((42, 2), (2,))"
            ]
          },
          "metadata": {},
          "execution_count": 328
        }
      ]
    },
    {
      "cell_type": "code",
      "source": [
        "X_test_poly.shape, lin_reg2.coef_.shape"
      ],
      "metadata": {
        "colab": {
          "base_uri": "https://localhost:8080/"
        },
        "id": "4tU9M8F_kE_E",
        "outputId": "c0c1b50e-9d82-4de2-9fe9-ef8156ab4449"
      },
      "execution_count": 329,
      "outputs": [
        {
          "output_type": "execute_result",
          "data": {
            "text/plain": [
              "((14, 2), (2,))"
            ]
          },
          "metadata": {},
          "execution_count": 329
        }
      ]
    },
    {
      "cell_type": "code",
      "source": [
        "lin_reg2.intercept_ + X_test_poly @ lin_reg2.coef_ # w0 + X * w1"
      ],
      "metadata": {
        "colab": {
          "base_uri": "https://localhost:8080/"
        },
        "id": "Upys0NRXkkij",
        "outputId": "2d650a99-c70c-4cfb-ca23-83d2f2fd407e"
      },
      "execution_count": 330,
      "outputs": [
        {
          "output_type": "execute_result",
          "data": {
            "text/plain": [
              "array([   6.5349146 ,   56.6511646 ,  290.29593158,  117.05874344,\n",
              "        144.50252913,  876.66458663,  382.21135986,  199.55847561,\n",
              "        818.09027497,  110.65424646, 1097.65040817,   33.01314491,\n",
              "        307.66468513,  283.49043666])"
            ]
          },
          "metadata": {},
          "execution_count": 330
        }
      ]
    },
    {
      "cell_type": "code",
      "source": [
        "test_pred"
      ],
      "metadata": {
        "colab": {
          "base_uri": "https://localhost:8080/"
        },
        "id": "_QrIObYBk9WO",
        "outputId": "1985698e-0d5e-4ce7-bbd7-a47648bad545"
      },
      "execution_count": 331,
      "outputs": [
        {
          "output_type": "execute_result",
          "data": {
            "text/plain": [
              "array([   6.5349146 ,   56.6511646 ,  290.29593158,  117.05874344,\n",
              "        144.50252913,  876.66458663,  382.21135986,  199.55847561,\n",
              "        818.09027497,  110.65424646, 1097.65040817,   33.01314491,\n",
              "        307.66468513,  283.49043666])"
            ]
          },
          "metadata": {},
          "execution_count": 331
        }
      ]
    },
    {
      "cell_type": "markdown",
      "source": [
        "# PolynomialFeatures 변환기"
      ],
      "metadata": {
        "id": "dLde5wpNs0lk"
      }
    },
    {
      "cell_type": "markdown",
      "source": [
        "scikit-learn 클래스\n",
        "\n",
        "* Estimator(추정기, 예측기) 클래스\n",
        "    * 머신 러닝 알고리즘을 구현한 클래스\n",
        "    * `fit, predict, score` 메서드를 가지고 있음.\n",
        "    * 예: `KNeighborsClassifier, KNeighborsRegressor, LinearRegression, ` ...\n",
        "* Transformer(변환기) 클래스\n",
        "    * 전처리(preprocessing) 과정에서(모델을 훈련시키기 전에) 훈련 셋과 데스트 셋의 데이터들을 변환할 때 사용하는 클래스.\n",
        "    * `fit, transform, fit_transform` 메서드를 가지고 있음.\n",
        "    * `StandardScaler, MinMaxScaler, PolynomialFeatures, `..."
      ],
      "metadata": {
        "id": "nTSCbTFrs7mg"
      }
    },
    {
      "cell_type": "code",
      "source": [
        "# PolynomialFeatures 변환기 클래스의 인스턴스 생성\n",
        "poly = PolynomialFeatures(include_bias=False) # 2차 다항식을 만들어 주는 변환기(degree의 기본값은 2)"
      ],
      "metadata": {
        "id": "o2KuxFiSsw-f"
      },
      "execution_count": 332,
      "outputs": []
    },
    {
      "cell_type": "code",
      "source": [
        "# 훈련 셋 출력\n",
        "X_train[:5, :]"
      ],
      "metadata": {
        "colab": {
          "base_uri": "https://localhost:8080/"
        },
        "id": "8Lssjpbvv2ko",
        "outputId": "64d72a89-4957-4bde-b3f2-2d694825959c"
      },
      "execution_count": 333,
      "outputs": [
        {
          "output_type": "execute_result",
          "data": {
            "text/plain": [
              "array([[19.6],\n",
              "       [22. ],\n",
              "       [18.7],\n",
              "       [17.4],\n",
              "       [36. ]])"
            ]
          },
          "metadata": {},
          "execution_count": 333
        }
      ]
    },
    {
      "cell_type": "code",
      "source": [
        "# 훈련 셋에서 2차항(Length ** 2)을 추가한 데이터 셋으로 변환\n",
        "X_train_2 = poly.fit_transform(X_train)\n",
        "X_train_2[:5, :]"
      ],
      "metadata": {
        "colab": {
          "base_uri": "https://localhost:8080/"
        },
        "id": "k_VTqU5ywXvT",
        "outputId": "5a9ebce2-1ec1-4468-a20f-d42881cd579a"
      },
      "execution_count": 334,
      "outputs": [
        {
          "output_type": "execute_result",
          "data": {
            "text/plain": [
              "array([[  19.6 ,  384.16],\n",
              "       [  22.  ,  484.  ],\n",
              "       [  18.7 ,  349.69],\n",
              "       [  17.4 ,  302.76],\n",
              "       [  36.  , 1296.  ]])"
            ]
          },
          "metadata": {},
          "execution_count": 334
        }
      ]
    },
    {
      "cell_type": "code",
      "source": [
        "# 테스트 셋에서 2차항을 추가\n",
        "X_test_2 = poly.transform(X_test)\n",
        "X_test_2[:5, :]"
      ],
      "metadata": {
        "colab": {
          "base_uri": "https://localhost:8080/"
        },
        "id": "R7URV6t1xAW4",
        "outputId": "7b7ff646-14e4-465b-8102-e3a536a8e5b6"
      },
      "execution_count": 335,
      "outputs": [
        {
          "output_type": "execute_result",
          "data": {
            "text/plain": [
              "array([[  8.4 ,  70.56],\n",
              "       [ 18.  , 324.  ],\n",
              "       [ 27.5 , 756.25],\n",
              "       [ 21.3 , 453.69],\n",
              "       [ 22.5 , 506.25]])"
            ]
          },
          "metadata": {},
          "execution_count": 335
        }
      ]
    },
    {
      "cell_type": "code",
      "source": [
        "# 3차 다항식까지 생성하는 변환기 객체 생성.\n",
        "poly_3 = PolynomialFeatures(degree=3, include_bias=False)"
      ],
      "metadata": {
        "id": "xAalokXoxQ56"
      },
      "execution_count": 336,
      "outputs": []
    },
    {
      "cell_type": "code",
      "source": [
        "X_train_3 = poly_3.fit_transform(X_train)\n",
        "X_train_3[:5, :]"
      ],
      "metadata": {
        "colab": {
          "base_uri": "https://localhost:8080/"
        },
        "id": "KdlLYV4Px14K",
        "outputId": "5ee6d756-302e-46d1-d600-f1ae37436b4b"
      },
      "execution_count": 337,
      "outputs": [
        {
          "output_type": "execute_result",
          "data": {
            "text/plain": [
              "array([[1.960000e+01, 3.841600e+02, 7.529536e+03],\n",
              "       [2.200000e+01, 4.840000e+02, 1.064800e+04],\n",
              "       [1.870000e+01, 3.496900e+02, 6.539203e+03],\n",
              "       [1.740000e+01, 3.027600e+02, 5.268024e+03],\n",
              "       [3.600000e+01, 1.296000e+03, 4.665600e+04]])"
            ]
          },
          "metadata": {},
          "execution_count": 337
        }
      ]
    },
    {
      "cell_type": "code",
      "source": [
        "X_test_3 = poly_3.transform(X_test)\n",
        "X_test_3[:5, :]"
      ],
      "metadata": {
        "colab": {
          "base_uri": "https://localhost:8080/"
        },
        "id": "TP5evMfkx9cC",
        "outputId": "51a8a703-411a-4361-f242-5738a2202479"
      },
      "execution_count": 338,
      "outputs": [
        {
          "output_type": "execute_result",
          "data": {
            "text/plain": [
              "array([[8.4000000e+00, 7.0560000e+01, 5.9270400e+02],\n",
              "       [1.8000000e+01, 3.2400000e+02, 5.8320000e+03],\n",
              "       [2.7500000e+01, 7.5625000e+02, 2.0796875e+04],\n",
              "       [2.1300000e+01, 4.5369000e+02, 9.6635970e+03],\n",
              "       [2.2500000e+01, 5.0625000e+02, 1.1390625e+04]])"
            ]
          },
          "metadata": {},
          "execution_count": 338
        }
      ]
    },
    {
      "cell_type": "markdown",
      "source": [
        "## PolynomiaFeatures + StandardScaler\n",
        "\n",
        "* 다항 선형 회귀에서 차수(degree)가 커질 수록 고차항이 저차항에 비해서 예측값을 계산할 때 더 큰 영향을 미치게 됨.\n",
        "* 다항 선형 회귀에서 고차항을 포함시킬 때는 일반적으로 scaling(표준화)을 함께 사용하는 경우가 많음."
      ],
      "metadata": {
        "id": "p_LySLrn06EQ"
      }
    },
    {
      "cell_type": "code",
      "source": [
        "# 3차항까지 추가 -> 표준화\n",
        "poly = PolynomialFeatures(degree=3, include_bias=False) # 다차항 추가 변환기\n",
        "scaler = StandardScaler() # 표준화 변환기"
      ],
      "metadata": {
        "id": "kpMphljlzBMQ"
      },
      "execution_count": 339,
      "outputs": []
    },
    {
      "cell_type": "code",
      "source": [
        "# 훈련 셋 변환\n",
        "X_tr_poly = poly.fit_transform(X_train) # 2차항, 3차항을 추가\n",
        "X_tr_poly_sc = scaler.fit_transform(X_tr_poly) # 컬럼 별로 평균과 표준편차를 찾아서 스케일 변환"
      ],
      "metadata": {
        "id": "6xdi-woo2F-V"
      },
      "execution_count": 340,
      "outputs": []
    },
    {
      "cell_type": "code",
      "source": [
        "X_tr_poly_sc[:5, :]"
      ],
      "metadata": {
        "colab": {
          "base_uri": "https://localhost:8080/"
        },
        "id": "vG7QT3dC2WHY",
        "outputId": "247da3cf-66c9-4be0-a9c5-97108df5f2fe"
      },
      "execution_count": 341,
      "outputs": [
        {
          "output_type": "execute_result",
          "data": {
            "text/plain": [
              "array([[-1.01339619, -0.9549757 , -0.88757122],\n",
              "       [-0.73842893, -0.76472563, -0.76291014],\n",
              "       [-1.11650891, -1.02065999, -0.92715994],\n",
              "       [-1.26544951, -1.11008743, -0.97797552],\n",
              "       [ 0.86554673,  0.78258063,  0.67651527]])"
            ]
          },
          "metadata": {},
          "execution_count": 341
        }
      ]
    },
    {
      "cell_type": "code",
      "source": [
        "# 테스트 셋 변환\n",
        "X_te_poly = poly.transform(X_test)\n",
        "X_te_poly_sc = scaler.transform(X_te_poly)"
      ],
      "metadata": {
        "id": "y9OULIoV25Qy"
      },
      "execution_count": 342,
      "outputs": []
    },
    {
      "cell_type": "code",
      "source": [
        "X_te_poly_sc[:5, :]"
      ],
      "metadata": {
        "colab": {
          "base_uri": "https://localhost:8080/"
        },
        "id": "JIifECE03jrG",
        "outputId": "209658e1-05e5-4a6d-c8b8-1cdc4a6ccf13"
      },
      "execution_count": 343,
      "outputs": [
        {
          "output_type": "execute_result",
          "data": {
            "text/plain": [
              "array([[-2.29657672, -1.55255604, -1.16487216],\n",
              "       [-1.1967077 , -1.06961356, -0.95543049],\n",
              "       [-0.10829564, -0.24593976, -0.35720728],\n",
              "       [-0.81862772, -0.82248284, -0.8022618 ],\n",
              "       [-0.68114409, -0.72232715, -0.73322359]])"
            ]
          },
          "metadata": {},
          "execution_count": 343
        }
      ]
    },
    {
      "cell_type": "code",
      "source": [
        "lin_reg = LinearRegression() # 모델 생성\n",
        "lin_reg.fit(X_tr_poly_sc, y_train) # 모델 훈련\n",
        "train_pred = lin_reg.predict(X_tr_poly_sc) # 예측\n",
        "print(train_pred)"
      ],
      "metadata": {
        "colab": {
          "base_uri": "https://localhost:8080/"
        },
        "id": "xKfJTaya3lc8",
        "outputId": "efdffaaa-0b10-4ab1-a797-ffe8906020fe"
      },
      "execution_count": 344,
      "outputs": [
        {
          "output_type": "stream",
          "name": "stdout",
          "text": [
            "[  76.11208213  121.32671907   64.43503022   53.03736922  676.51776072\n",
            "  203.64006744  883.41268054  831.17507632 1039.71479927  121.32671907\n",
            "   82.25658755  121.32671907  173.27607317  290.93930643 1039.71479927\n",
            "  883.41268054  173.27607317  100.09367224  290.93930643  883.41268054\n",
            "  519.14231311  254.17726522  701.95141826   59.18009181  138.11611752\n",
            "   50.17607368  727.55145991  626.2376762   338.00950138  159.158376\n",
            "  831.17507632  100.09367224  145.77957155  121.32671907 1091.09141922\n",
            "  133.16167938   67.9916215   727.55145991  121.32671907  223.16157937\n",
            "  987.85869851  601.43528834]\n"
          ]
        }
      ]
    },
    {
      "cell_type": "code",
      "source": [
        "lin_reg.score(X_tr_poly_sc, y_train) # 훈련 셋 결과 평가"
      ],
      "metadata": {
        "colab": {
          "base_uri": "https://localhost:8080/"
        },
        "id": "Vs6aNy9c4Qxl",
        "outputId": "e1e3efce-aa72-4e3d-edb5-f6dd758c48f0"
      },
      "execution_count": 345,
      "outputs": [
        {
          "output_type": "execute_result",
          "data": {
            "text/plain": [
              "0.9729178478354534"
            ]
          },
          "metadata": {},
          "execution_count": 345
        }
      ]
    },
    {
      "cell_type": "code",
      "source": [
        "lin_reg.score(X_te_poly_sc, y_test) # 테스트 셋 결과 평가"
      ],
      "metadata": {
        "colab": {
          "base_uri": "https://localhost:8080/"
        },
        "id": "NjRtxilb4X3z",
        "outputId": "d7d11ca1-f1e1-48f0-b799-cf0a700fd114"
      },
      "execution_count": 346,
      "outputs": [
        {
          "output_type": "execute_result",
          "data": {
            "text/plain": [
              "0.9588363727422972"
            ]
          },
          "metadata": {},
          "execution_count": 346
        }
      ]
    },
    {
      "cell_type": "markdown",
      "source": [
        "# 다항 회귀에서 과대적합(overfitting)\n",
        "\n",
        "60차항을 포함하는 선형 회귀\n",
        "\n",
        "$$\n",
        "\\hat{y} = w_0 + w_1 \\times x + w_2 \\times x^2 + ... + w_{60} \\times x^{60}\n",
        "= w_0 + X \\cdot w\n",
        "$$"
      ],
      "metadata": {
        "id": "kRAN3d16hVgF"
      }
    },
    {
      "cell_type": "code",
      "source": [
        "# Pipeline으로 연결할 변환기(Transformer), 예측기(Estimator) 객체들을 생성\n",
        "poly = PolynomialFeatures(degree=60, include_bias=False) # 다차항 추가 변환기\n",
        "scaler = StandardScaler() # 표준화 변환기\n",
        "reg = LinearRegression() # 선형회귀 알고리즘(모델) 예측기"
      ],
      "metadata": {
        "id": "Odb0e4UL4tB7"
      },
      "execution_count": 347,
      "outputs": []
    },
    {
      "cell_type": "code",
      "source": [
        "# 변환기와 예측기를 순서대로 연결하는 Pipeline 객체 생성\n",
        "model = Pipeline(steps=[('poly_feature', poly),\n",
        "                        ('std_scaler', scaler),\n",
        "                        ('lin_reg', reg)])"
      ],
      "metadata": {
        "id": "HkSFrfu8jOS8"
      },
      "execution_count": 348,
      "outputs": []
    },
    {
      "cell_type": "code",
      "source": [
        "# 머신 러닝 모델을 훈련\n",
        "model.fit(X_train, y_train)\n",
        "#> X_train: (42, 1) shape의 2차원 배열. 훈련 셋 42마리 농어의 길이를 가지고 있는 특성 배열.\n",
        "#> (1) poly_feature의 fit_transform()을 호출 -> 길이의 100차항까지 가지는 2차원 배열 변환. (42, 60) 2차원 배열\n",
        "#> (2) std_scaler의 fit_transform()을 호출 -> 모든 특성들(1~60차항)에 대해서 스케일링. (42, 60) 2차원 배열\n",
        "#> (3) lin_reg의 fit()을 호출 -> 선형 회귀식을 찾음. intercep_, coef_을 찾음."
      ],
      "metadata": {
        "colab": {
          "base_uri": "https://localhost:8080/"
        },
        "id": "tird7ue_k6E_",
        "outputId": "00bb97ee-df2d-4287-eca0-a526c0940080"
      },
      "execution_count": 349,
      "outputs": [
        {
          "output_type": "execute_result",
          "data": {
            "text/plain": [
              "Pipeline(steps=[('poly_feature',\n",
              "                 PolynomialFeatures(degree=60, include_bias=False)),\n",
              "                ('std_scaler', StandardScaler()),\n",
              "                ('lin_reg', LinearRegression())])"
            ]
          },
          "metadata": {},
          "execution_count": 349
        }
      ]
    },
    {
      "cell_type": "code",
      "source": [
        "model.named_steps['lin_reg'].intercept_"
      ],
      "metadata": {
        "colab": {
          "base_uri": "https://localhost:8080/"
        },
        "id": "n00PiTkGvVYs",
        "outputId": "89b6a8a9-f970-423b-bfe5-ab39a128c052"
      },
      "execution_count": 350,
      "outputs": [
        {
          "output_type": "execute_result",
          "data": {
            "text/plain": [
              "400.8389383918388"
            ]
          },
          "metadata": {},
          "execution_count": 350
        }
      ]
    },
    {
      "cell_type": "code",
      "source": [
        "model.named_steps['lin_reg'].coef_"
      ],
      "metadata": {
        "colab": {
          "base_uri": "https://localhost:8080/"
        },
        "id": "zTEHqUh1wKHt",
        "outputId": "7c7d4177-1855-4494-ffac-2b65940f7edc"
      },
      "execution_count": 351,
      "outputs": [
        {
          "output_type": "execute_result",
          "data": {
            "text/plain": [
              "array([-1.65781947e+11,  2.47304146e+12, -1.69664350e+13,  6.84437750e+13,\n",
              "       -1.71783603e+14,  2.53996839e+14, -1.53474006e+14, -1.15459548e+14,\n",
              "        1.86883849e+14,  8.69636077e+13, -1.65843483e+14, -1.38023452e+14,\n",
              "        1.05209256e+14,  1.81014042e+14,  4.83614562e+13, -1.58084449e+14,\n",
              "       -1.85172772e+14,  1.98220033e+12,  1.30844751e+14,  1.81462119e+14,\n",
              "        6.63047026e+13, -7.18393173e+13, -1.89663857e+14, -1.54059836e+14,\n",
              "       -3.12335207e+13,  1.14772798e+14,  1.96793583e+14,  1.42712660e+14,\n",
              "        5.19049009e+13, -8.78325479e+13, -1.78140934e+14, -1.89408443e+14,\n",
              "       -1.04448121e+14,  1.64809285e+13,  1.38768086e+14,  2.01212189e+14,\n",
              "        1.65937726e+14,  8.67995149e+13, -2.93793059e+13, -1.40311382e+14,\n",
              "       -2.06750994e+14, -1.85554194e+14, -9.30499408e+13,  2.10107237e+13,\n",
              "        1.39244110e+14,  2.15074334e+14,  1.88646019e+14,  1.17511066e+14,\n",
              "       -1.85640092e+13, -1.45640520e+14, -2.22999015e+14, -2.06909877e+14,\n",
              "       -9.34200197e+13,  7.26307412e+13,  2.35773088e+14,  2.37448695e+14,\n",
              "        1.10736198e+14, -1.90642361e+14, -3.56352513e+14,  2.33777241e+14])"
            ]
          },
          "metadata": {},
          "execution_count": 351
        }
      ]
    },
    {
      "cell_type": "code",
      "source": [
        "train_pred = model.predict(X_train) # 훈련된 모델로 훈련 셋 예측값 계산.\n",
        "#> (1) poly_features의 transform() 호출 -> (42, 60) 변환\n",
        "#> (2) std_scaler의 transform() 호출 -> 60개 특성들을 모두 스케일링.\n",
        "#> (3) lin_reg의 predict() 호출 -> 예측값 계산.\n",
        "print(train_pred)"
      ],
      "metadata": {
        "colab": {
          "base_uri": "https://localhost:8080/"
        },
        "id": "JE2Zz6V-lDF0",
        "outputId": "aa340ae3-3554-4e65-9406-fb6f2b9c63a1"
      },
      "execution_count": 352,
      "outputs": [
        {
          "output_type": "stream",
          "name": "stdout",
          "text": [
            "[  82.83893839  125.21393839   78.99518839   69.80768839  700.12800089\n",
            "  186.65143839  921.77643839  735.21393839 1050.46393839  125.21393839\n",
            "   89.80768839  125.21393839  183.08893839  261.99518839 1050.46393839\n",
            "  921.77643839  183.08893839  109.33893839  261.99518839  921.77643839\n",
            "  514.06550089  221.02643839  685.08893839   31.87018839  144.08893839\n",
            "   39.87018839  695.08893839  840.03425089  300.08893839  171.21393839\n",
            "  735.21393839  109.33893839  154.49518839  125.21393839 1000.58893839\n",
            "  137.77643839   78.65143839  695.08893839  125.21393839  189.90143839\n",
            " 1100.46393839  555.99518839]\n"
          ]
        }
      ]
    },
    {
      "cell_type": "code",
      "source": [
        "r2_score(y_train, train_pred)"
      ],
      "metadata": {
        "colab": {
          "base_uri": "https://localhost:8080/"
        },
        "id": "CACcelCXx9I2",
        "outputId": "fdafb569-7ec3-4c43-ce57-f402053abd19"
      },
      "execution_count": 353,
      "outputs": [
        {
          "output_type": "execute_result",
          "data": {
            "text/plain": [
              "0.9927102007101539"
            ]
          },
          "metadata": {},
          "execution_count": 353
        }
      ]
    },
    {
      "cell_type": "code",
      "source": [
        "model.score(X_train, y_train) # 훈련 셋의 R2 score"
      ],
      "metadata": {
        "colab": {
          "base_uri": "https://localhost:8080/"
        },
        "id": "HBCTrVgboOaO",
        "outputId": "83235149-184b-44aa-c754-80058a25cc59"
      },
      "execution_count": 354,
      "outputs": [
        {
          "output_type": "execute_result",
          "data": {
            "text/plain": [
              "0.9927102007101539"
            ]
          },
          "metadata": {},
          "execution_count": 354
        }
      ]
    },
    {
      "cell_type": "code",
      "source": [
        "# 테스트 셋의 예측값\n",
        "test_pred = model.predict(X_test)\n",
        "test_pred"
      ],
      "metadata": {
        "colab": {
          "base_uri": "https://localhost:8080/"
        },
        "id": "hLszTC7UubOH",
        "outputId": "e8aef93d-6e29-43f3-de83-e278d89a1312"
      },
      "execution_count": 355,
      "outputs": [
        {
          "output_type": "execute_result",
          "data": {
            "text/plain": [
              "array([ 4.98439169e+07,  7.80889384e+01,  2.61995188e+02,  1.13682688e+02,\n",
              "        1.37776438e+02,  9.21776438e+02,  7.21510813e+02,  1.87370188e+02,\n",
              "        7.35213938e+02,  1.09338938e+02, -2.69736412e+07,  1.30995188e+02,\n",
              "        2.69526438e+02,  2.56651438e+02])"
            ]
          },
          "metadata": {},
          "execution_count": 355
        }
      ]
    },
    {
      "cell_type": "code",
      "source": [
        "y_test # 테스트 셋의 실젯값"
      ],
      "metadata": {
        "colab": {
          "base_uri": "https://localhost:8080/"
        },
        "id": "93sai5Xqy90a",
        "outputId": "de3acee8-38e3-4f18-f688-bd059d433969"
      },
      "execution_count": 356,
      "outputs": [
        {
          "output_type": "execute_result",
          "data": {
            "text/plain": [
              "array([   5.9,  100. ,  250. ,  130. ,  130. ,  820. ,  320. ,  188. ,\n",
              "        900. ,  125. , 1000. ,   51.5,  250. ,  300. ])"
            ]
          },
          "metadata": {},
          "execution_count": 356
        }
      ]
    },
    {
      "cell_type": "code",
      "source": [
        "r2_score(y_test, test_pred)"
      ],
      "metadata": {
        "colab": {
          "base_uri": "https://localhost:8080/"
        },
        "id": "ppG0EjKUyVXs",
        "outputId": "b8e057c2-0916-458a-b54c-f3df40406e4b"
      },
      "execution_count": 357,
      "outputs": [
        {
          "output_type": "execute_result",
          "data": {
            "text/plain": [
              "-2285802301.920006"
            ]
          },
          "metadata": {},
          "execution_count": 357
        }
      ]
    },
    {
      "cell_type": "code",
      "source": [
        "# 훈련 셋, 테스트 셋, 다항 선형 회귀 곡선 시각화\n",
        "plt.scatter(X_train, y_train, alpha=0.5, label='train')\n",
        "plt.scatter(X_test, y_test, alpha=0.5, label='test')\n",
        "\n",
        "# 60차 항을 포함하는 회귀 곡선\n",
        "x = np.arange(5, 45, 0.001).reshape((-1, 1)) # (n_samples, 1) shape의 2차원 배열\n",
        "y = model.predict(x) # 2차원 배열 만든 이유: predict 사용하려고\n",
        "plt.plot(x, y, 'r-', label='regression')\n",
        "\n",
        "plt.ylim((-200, 1600))\n",
        "plt.legend()\n",
        "plt.grid()\n",
        "plt.xlabel('Length (cm)')\n",
        "plt.ylabel('Weight (g)')\n",
        "plt.show()"
      ],
      "metadata": {
        "colab": {
          "base_uri": "https://localhost:8080/",
          "height": 283
        },
        "id": "7LTYbyzsyb4G",
        "outputId": "b0c5ee37-eb94-490a-8ec0-cb1847920c8d"
      },
      "execution_count": 358,
      "outputs": [
        {
          "output_type": "display_data",
          "data": {
            "text/plain": [
              "<Figure size 432x288 with 1 Axes>"
            ],
            "image/png": "[encoded data removed]"
          },
          "metadata": {
            "needs_background": "light"
          }
        }
      ]
    }
  ]
}