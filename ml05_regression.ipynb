{
  "nbformat": 4,
  "nbformat_minor": 0,
  "metadata": {
    "colab": {
      "name": "ml05_regression.ipynb",
      "provenance": [],
      "collapsed_sections": [],
      "authorship_tag": "ABX9TyMqMjwvjW4De5OVq4THVojl",
      "include_colab_link": true
    },
    "kernelspec": {
      "name": "python3",
      "display_name": "Python 3"
    },
    "language_info": {
      "name": "python"
    }
  },
  "cells": [
    {
      "cell_type": "markdown",
      "metadata": {
        "id": "view-in-github",
        "colab_type": "text"
      },
      "source": [
        "<a href=\"https://colab.research.google.com/github/sejinseo/Itwill_Python/blob/main/ml05_regression.ipynb\" target=\"_parent\"><img src=\"https://colab.research.google.com/assets/colab-badge.svg\" alt=\"Open In Colab\"/></a>"
      ]
    },
    {
      "cell_type": "markdown",
      "source": [
        "Machine Learning(기계 학습)\n",
        "\n",
        "* __지도 학습(supervised learning)__: 레이블이 있는 데이터로 모델을 훈련 시키는 것.\n",
        "    * __분류(classification)__: 클래스를 분류.\n",
        "    * __회귀(regression)__: 숫자 값을 예측.\n",
        "* __비지도 학습(unsupervised learning)__: 레이블이 없는 데이터로 모델을 훈련시키는 것.\n",
        "* __강화 학습(reinforcement learning)__: 보상과 벌칙을 통해서 학습(훈련)."
      ],
      "metadata": {
        "id": "W7gaTKU1RfwD"
      }
    },
    {
      "cell_type": "markdown",
      "source": [
        "# 문제 정의\n",
        "\n",
        "fish 데이터 셋에서 농어(Perch)의 무게(Weight)를 예측\n",
        "* 농어의 길이(Length)로만 무게(Weight)를 예측.\n",
        "* 농어의 여러가지 특성들(Length, Diagonal, ...)로 무게(Weight)를 예측"
      ],
      "metadata": {
        "id": "Ec6lrRovUyai"
      }
    },
    {
      "cell_type": "markdown",
      "source": [
        "# imports"
      ],
      "metadata": {
        "id": "HxWrfDrSWC8S"
      }
    },
    {
      "cell_type": "code",
      "execution_count": 144,
      "metadata": {
        "id": "uTYn16R5Rb62"
      },
      "outputs": [],
      "source": [
        "import numpy as np\n",
        "import pandas as pd\n",
        "import matplotlib.pyplot as plt\n",
        "import seaborn as sns\n",
        "\n",
        "from sklearn.model_selection import train_test_split\n",
        "from sklearn.neighbors import KNeighborsRegressor # KNN 알고리즘을 사용한 예측기\n",
        "from sklearn.linear_model import LinearRegression # 선형회귀 알고리즘을 사용한 예측기\n",
        "from sklearn.metrics import mean_squared_error, mean_absolute_error, r2_score # 회귀 문제에서의 평가 지표\n",
        "from sklearn.preprocessing import PolynomialFeatures, StandardScaler # 전처리 변환기 클래스\n",
        "from sklearn.pipeline import Pipeline # 변환기와 추정기(예측기)를 연결해 주는 클래스"
      ]
    },
    {
      "cell_type": "markdown",
      "source": [
        "# 데이터 준비"
      ],
      "metadata": {
        "id": "B-X8jMEJYcWL"
      }
    },
    {
      "cell_type": "code",
      "source": [
        "fish_csv = 'https://github.com/JakeOh/202110_itw_lab_python/raw/main/fish.csv'"
      ],
      "metadata": {
        "id": "jAkmJBAYWMVX"
      },
      "execution_count": null,
      "outputs": []
    },
    {
      "cell_type": "code",
      "source": [
        "fish = pd.read_csv(fish_csv)"
      ],
      "metadata": {
        "id": "rB70iDCLYxn4"
      },
      "execution_count": null,
      "outputs": []
    },
    {
      "cell_type": "code",
      "source": [
        "fish.info()"
      ],
      "metadata": {
        "colab": {
          "base_uri": "https://localhost:8080/"
        },
        "id": "ZsIycPDZY2be",
        "outputId": "efbd0961-df8d-427f-cbcc-36f904e80b62"
      },
      "execution_count": null,
      "outputs": [
        {
          "output_type": "stream",
          "name": "stdout",
          "text": [
            "<class 'pandas.core.frame.DataFrame'>\n",
            "RangeIndex: 159 entries, 0 to 158\n",
            "Data columns (total 6 columns):\n",
            " #   Column    Non-Null Count  Dtype  \n",
            "---  ------    --------------  -----  \n",
            " 0   Species   159 non-null    object \n",
            " 1   Weight    159 non-null    float64\n",
            " 2   Length    159 non-null    float64\n",
            " 3   Diagonal  159 non-null    float64\n",
            " 4   Height    159 non-null    float64\n",
            " 5   Width     159 non-null    float64\n",
            "dtypes: float64(5), object(1)\n",
            "memory usage: 7.6+ KB\n"
          ]
        }
      ]
    },
    {
      "cell_type": "code",
      "source": [
        "fish.head()"
      ],
      "metadata": {
        "colab": {
          "base_uri": "https://localhost:8080/",
          "height": 206
        },
        "id": "nJIn0R1KY3g8",
        "outputId": "4d9e17d6-37ff-4052-99f0-7916f19154bb"
      },
      "execution_count": null,
      "outputs": [
        {
          "output_type": "execute_result",
          "data": {
            "text/plain": [
              "  Species  Weight  Length  Diagonal   Height   Width\n",
              "0   Bream   242.0    25.4      30.0  11.5200  4.0200\n",
              "1   Bream   290.0    26.3      31.2  12.4800  4.3056\n",
              "2   Bream   340.0    26.5      31.1  12.3778  4.6961\n",
              "3   Bream   363.0    29.0      33.5  12.7300  4.4555\n",
              "4   Bream   430.0    29.0      34.0  12.4440  5.1340"
            ],
            "text/html": [
              "\n",
              "  <div id=\"df-142cfae0-4a63-454b-ad3d-1f201016afb6\">\n",
              "    <div class=\"colab-df-container\">\n",
              "      <div>\n",
              "<style scoped>\n",
              "    .dataframe tbody tr th:only-of-type {\n",
              "        vertical-align: middle;\n",
              "    }\n",
              "\n",
              "    .dataframe tbody tr th {\n",
              "        vertical-align: top;\n",
              "    }\n",
              "\n",
              "    .dataframe thead th {\n",
              "        text-align: right;\n",
              "    }\n",
              "</style>\n",
              "<table border=\"1\" class=\"dataframe\">\n",
              "  <thead>\n",
              "    <tr style=\"text-align: right;\">\n",
              "      <th></th>\n",
              "      <th>Species</th>\n",
              "      <th>Weight</th>\n",
              "      <th>Length</th>\n",
              "      <th>Diagonal</th>\n",
              "      <th>Height</th>\n",
              "      <th>Width</th>\n",
              "    </tr>\n",
              "  </thead>\n",
              "  <tbody>\n",
              "    <tr>\n",
              "      <th>0</th>\n",
              "      <td>Bream</td>\n",
              "      <td>242.0</td>\n",
              "      <td>25.4</td>\n",
              "      <td>30.0</td>\n",
              "      <td>11.5200</td>\n",
              "      <td>4.0200</td>\n",
              "    </tr>\n",
              "    <tr>\n",
              "      <th>1</th>\n",
              "      <td>Bream</td>\n",
              "      <td>290.0</td>\n",
              "      <td>26.3</td>\n",
              "      <td>31.2</td>\n",
              "      <td>12.4800</td>\n",
              "      <td>4.3056</td>\n",
              "    </tr>\n",
              "    <tr>\n",
              "      <th>2</th>\n",
              "      <td>Bream</td>\n",
              "      <td>340.0</td>\n",
              "      <td>26.5</td>\n",
              "      <td>31.1</td>\n",
              "      <td>12.3778</td>\n",
              "      <td>4.6961</td>\n",
              "    </tr>\n",
              "    <tr>\n",
              "      <th>3</th>\n",
              "      <td>Bream</td>\n",
              "      <td>363.0</td>\n",
              "      <td>29.0</td>\n",
              "      <td>33.5</td>\n",
              "      <td>12.7300</td>\n",
              "      <td>4.4555</td>\n",
              "    </tr>\n",
              "    <tr>\n",
              "      <th>4</th>\n",
              "      <td>Bream</td>\n",
              "      <td>430.0</td>\n",
              "      <td>29.0</td>\n",
              "      <td>34.0</td>\n",
              "      <td>12.4440</td>\n",
              "      <td>5.1340</td>\n",
              "    </tr>\n",
              "  </tbody>\n",
              "</table>\n",
              "</div>\n",
              "      <button class=\"colab-df-convert\" onclick=\"convertToInteractive('df-142cfae0-4a63-454b-ad3d-1f201016afb6')\"\n",
              "              title=\"Convert this dataframe to an interactive table.\"\n",
              "              style=\"display:none;\">\n",
              "        \n",
              "  <svg xmlns=\"http://www.w3.org/2000/svg\" height=\"24px\"viewBox=\"0 0 24 24\"\n",
              "       width=\"24px\">\n",
              "    <path d=\"M0 0h24v24H0V0z\" fill=\"none\"/>\n",
              "    <path d=\"M18.56 5.44l.94 2.06.94-2.06 2.06-.94-2.06-.94-.94-2.06-.94 2.06-2.06.94zm-11 1L8.5 8.5l.94-2.06 2.06-.94-2.06-.94L8.5 2.5l-.94 2.06-2.06.94zm10 10l.94 2.06.94-2.06 2.06-.94-2.06-.94-.94-2.06-.94 2.06-2.06.94z\"/><path d=\"M17.41 7.96l-1.37-1.37c-.4-.4-.92-.59-1.43-.59-.52 0-1.04.2-1.43.59L10.3 9.45l-7.72 7.72c-.78.78-.78 2.05 0 2.83L4 21.41c.39.39.9.59 1.41.59.51 0 1.02-.2 1.41-.59l7.78-7.78 2.81-2.81c.8-.78.8-2.07 0-2.86zM5.41 20L4 18.59l7.72-7.72 1.47 1.35L5.41 20z\"/>\n",
              "  </svg>\n",
              "      </button>\n",
              "      \n",
              "  <style>\n",
              "    .colab-df-container {\n",
              "      display:flex;\n",
              "      flex-wrap:wrap;\n",
              "      gap: 12px;\n",
              "    }\n",
              "\n",
              "    .colab-df-convert {\n",
              "      background-color: #E8F0FE;\n",
              "      border: none;\n",
              "      border-radius: 50%;\n",
              "      cursor: pointer;\n",
              "      display: none;\n",
              "      fill: #1967D2;\n",
              "      height: 32px;\n",
              "      padding: 0 0 0 0;\n",
              "      width: 32px;\n",
              "    }\n",
              "\n",
              "    .colab-df-convert:hover {\n",
              "      background-color: #E2EBFA;\n",
              "      box-shadow: 0px 1px 2px rgba(60, 64, 67, 0.3), 0px 1px 3px 1px rgba(60, 64, 67, 0.15);\n",
              "      fill: #174EA6;\n",
              "    }\n",
              "\n",
              "    [theme=dark] .colab-df-convert {\n",
              "      background-color: #3B4455;\n",
              "      fill: #D2E3FC;\n",
              "    }\n",
              "\n",
              "    [theme=dark] .colab-df-convert:hover {\n",
              "      background-color: #434B5C;\n",
              "      box-shadow: 0px 1px 3px 1px rgba(0, 0, 0, 0.15);\n",
              "      filter: drop-shadow(0px 1px 2px rgba(0, 0, 0, 0.3));\n",
              "      fill: #FFFFFF;\n",
              "    }\n",
              "  </style>\n",
              "\n",
              "      <script>\n",
              "        const buttonEl =\n",
              "          document.querySelector('#df-142cfae0-4a63-454b-ad3d-1f201016afb6 button.colab-df-convert');\n",
              "        buttonEl.style.display =\n",
              "          google.colab.kernel.accessAllowed ? 'block' : 'none';\n",
              "\n",
              "        async function convertToInteractive(key) {\n",
              "          const element = document.querySelector('#df-142cfae0-4a63-454b-ad3d-1f201016afb6');\n",
              "          const dataTable =\n",
              "            await google.colab.kernel.invokeFunction('convertToInteractive',\n",
              "                                                     [key], {});\n",
              "          if (!dataTable) return;\n",
              "\n",
              "          const docLinkHtml = 'Like what you see? Visit the ' +\n",
              "            '<a target=\"_blank\" href=https://colab.research.google.com/notebooks/data_table.ipynb>data table notebook</a>'\n",
              "            + ' to learn more about interactive tables.';\n",
              "          element.innerHTML = '';\n",
              "          dataTable['output_type'] = 'display_data';\n",
              "          await google.colab.output.renderOutput(dataTable, element);\n",
              "          const docLink = document.createElement('div');\n",
              "          docLink.innerHTML = docLinkHtml;\n",
              "          element.appendChild(docLink);\n",
              "        }\n",
              "      </script>\n",
              "    </div>\n",
              "  </div>\n",
              "  "
            ]
          },
          "metadata": {},
          "execution_count": 49
        }
      ]
    },
    {
      "cell_type": "code",
      "source": [
        "# fish 데이터프레임에서 Perch(농어)만 선택\n",
        "perch = fish[fish['Species'] == 'Perch']"
      ],
      "metadata": {
        "id": "sqf0Gqn7ZC2Q"
      },
      "execution_count": null,
      "outputs": []
    },
    {
      "cell_type": "code",
      "source": [
        "perch.info()"
      ],
      "metadata": {
        "colab": {
          "base_uri": "https://localhost:8080/"
        },
        "id": "_Pmfg5B5ZrgU",
        "outputId": "9d535dae-e636-4235-d399-6444f0d2f778"
      },
      "execution_count": null,
      "outputs": [
        {
          "output_type": "stream",
          "name": "stdout",
          "text": [
            "<class 'pandas.core.frame.DataFrame'>\n",
            "Int64Index: 56 entries, 72 to 127\n",
            "Data columns (total 6 columns):\n",
            " #   Column    Non-Null Count  Dtype  \n",
            "---  ------    --------------  -----  \n",
            " 0   Species   56 non-null     object \n",
            " 1   Weight    56 non-null     float64\n",
            " 2   Length    56 non-null     float64\n",
            " 3   Diagonal  56 non-null     float64\n",
            " 4   Height    56 non-null     float64\n",
            " 5   Width     56 non-null     float64\n",
            "dtypes: float64(5), object(1)\n",
            "memory usage: 3.1+ KB\n"
          ]
        }
      ]
    },
    {
      "cell_type": "code",
      "source": [
        "perch.head()"
      ],
      "metadata": {
        "colab": {
          "base_uri": "https://localhost:8080/",
          "height": 206
        },
        "id": "BEkoeQY8ZwEb",
        "outputId": "23a13fa2-32e5-4c3a-9e90-ee9ea8029b9b"
      },
      "execution_count": null,
      "outputs": [
        {
          "output_type": "execute_result",
          "data": {
            "text/plain": [
              "   Species  Weight  Length  Diagonal  Height   Width\n",
              "72   Perch     5.9     8.4       8.8  2.1120  1.4080\n",
              "73   Perch    32.0    13.7      14.7  3.5280  1.9992\n",
              "74   Perch    40.0    15.0      16.0  3.8240  2.4320\n",
              "75   Perch    51.5    16.2      17.2  4.5924  2.6316\n",
              "76   Perch    70.0    17.4      18.5  4.5880  2.9415"
            ],
            "text/html": [
              "\n",
              "  <div id=\"df-c3bf49ff-221f-446d-80fc-dbc4231213cd\">\n",
              "    <div class=\"colab-df-container\">\n",
              "      <div>\n",
              "<style scoped>\n",
              "    .dataframe tbody tr th:only-of-type {\n",
              "        vertical-align: middle;\n",
              "    }\n",
              "\n",
              "    .dataframe tbody tr th {\n",
              "        vertical-align: top;\n",
              "    }\n",
              "\n",
              "    .dataframe thead th {\n",
              "        text-align: right;\n",
              "    }\n",
              "</style>\n",
              "<table border=\"1\" class=\"dataframe\">\n",
              "  <thead>\n",
              "    <tr style=\"text-align: right;\">\n",
              "      <th></th>\n",
              "      <th>Species</th>\n",
              "      <th>Weight</th>\n",
              "      <th>Length</th>\n",
              "      <th>Diagonal</th>\n",
              "      <th>Height</th>\n",
              "      <th>Width</th>\n",
              "    </tr>\n",
              "  </thead>\n",
              "  <tbody>\n",
              "    <tr>\n",
              "      <th>72</th>\n",
              "      <td>Perch</td>\n",
              "      <td>5.9</td>\n",
              "      <td>8.4</td>\n",
              "      <td>8.8</td>\n",
              "      <td>2.1120</td>\n",
              "      <td>1.4080</td>\n",
              "    </tr>\n",
              "    <tr>\n",
              "      <th>73</th>\n",
              "      <td>Perch</td>\n",
              "      <td>32.0</td>\n",
              "      <td>13.7</td>\n",
              "      <td>14.7</td>\n",
              "      <td>3.5280</td>\n",
              "      <td>1.9992</td>\n",
              "    </tr>\n",
              "    <tr>\n",
              "      <th>74</th>\n",
              "      <td>Perch</td>\n",
              "      <td>40.0</td>\n",
              "      <td>15.0</td>\n",
              "      <td>16.0</td>\n",
              "      <td>3.8240</td>\n",
              "      <td>2.4320</td>\n",
              "    </tr>\n",
              "    <tr>\n",
              "      <th>75</th>\n",
              "      <td>Perch</td>\n",
              "      <td>51.5</td>\n",
              "      <td>16.2</td>\n",
              "      <td>17.2</td>\n",
              "      <td>4.5924</td>\n",
              "      <td>2.6316</td>\n",
              "    </tr>\n",
              "    <tr>\n",
              "      <th>76</th>\n",
              "      <td>Perch</td>\n",
              "      <td>70.0</td>\n",
              "      <td>17.4</td>\n",
              "      <td>18.5</td>\n",
              "      <td>4.5880</td>\n",
              "      <td>2.9415</td>\n",
              "    </tr>\n",
              "  </tbody>\n",
              "</table>\n",
              "</div>\n",
              "      <button class=\"colab-df-convert\" onclick=\"convertToInteractive('df-c3bf49ff-221f-446d-80fc-dbc4231213cd')\"\n",
              "              title=\"Convert this dataframe to an interactive table.\"\n",
              "              style=\"display:none;\">\n",
              "        \n",
              "  <svg xmlns=\"http://www.w3.org/2000/svg\" height=\"24px\"viewBox=\"0 0 24 24\"\n",
              "       width=\"24px\">\n",
              "    <path d=\"M0 0h24v24H0V0z\" fill=\"none\"/>\n",
              "    <path d=\"M18.56 5.44l.94 2.06.94-2.06 2.06-.94-2.06-.94-.94-2.06-.94 2.06-2.06.94zm-11 1L8.5 8.5l.94-2.06 2.06-.94-2.06-.94L8.5 2.5l-.94 2.06-2.06.94zm10 10l.94 2.06.94-2.06 2.06-.94-2.06-.94-.94-2.06-.94 2.06-2.06.94z\"/><path d=\"M17.41 7.96l-1.37-1.37c-.4-.4-.92-.59-1.43-.59-.52 0-1.04.2-1.43.59L10.3 9.45l-7.72 7.72c-.78.78-.78 2.05 0 2.83L4 21.41c.39.39.9.59 1.41.59.51 0 1.02-.2 1.41-.59l7.78-7.78 2.81-2.81c.8-.78.8-2.07 0-2.86zM5.41 20L4 18.59l7.72-7.72 1.47 1.35L5.41 20z\"/>\n",
              "  </svg>\n",
              "      </button>\n",
              "      \n",
              "  <style>\n",
              "    .colab-df-container {\n",
              "      display:flex;\n",
              "      flex-wrap:wrap;\n",
              "      gap: 12px;\n",
              "    }\n",
              "\n",
              "    .colab-df-convert {\n",
              "      background-color: #E8F0FE;\n",
              "      border: none;\n",
              "      border-radius: 50%;\n",
              "      cursor: pointer;\n",
              "      display: none;\n",
              "      fill: #1967D2;\n",
              "      height: 32px;\n",
              "      padding: 0 0 0 0;\n",
              "      width: 32px;\n",
              "    }\n",
              "\n",
              "    .colab-df-convert:hover {\n",
              "      background-color: #E2EBFA;\n",
              "      box-shadow: 0px 1px 2px rgba(60, 64, 67, 0.3), 0px 1px 3px 1px rgba(60, 64, 67, 0.15);\n",
              "      fill: #174EA6;\n",
              "    }\n",
              "\n",
              "    [theme=dark] .colab-df-convert {\n",
              "      background-color: #3B4455;\n",
              "      fill: #D2E3FC;\n",
              "    }\n",
              "\n",
              "    [theme=dark] .colab-df-convert:hover {\n",
              "      background-color: #434B5C;\n",
              "      box-shadow: 0px 1px 3px 1px rgba(0, 0, 0, 0.15);\n",
              "      filter: drop-shadow(0px 1px 2px rgba(0, 0, 0, 0.3));\n",
              "      fill: #FFFFFF;\n",
              "    }\n",
              "  </style>\n",
              "\n",
              "      <script>\n",
              "        const buttonEl =\n",
              "          document.querySelector('#df-c3bf49ff-221f-446d-80fc-dbc4231213cd button.colab-df-convert');\n",
              "        buttonEl.style.display =\n",
              "          google.colab.kernel.accessAllowed ? 'block' : 'none';\n",
              "\n",
              "        async function convertToInteractive(key) {\n",
              "          const element = document.querySelector('#df-c3bf49ff-221f-446d-80fc-dbc4231213cd');\n",
              "          const dataTable =\n",
              "            await google.colab.kernel.invokeFunction('convertToInteractive',\n",
              "                                                     [key], {});\n",
              "          if (!dataTable) return;\n",
              "\n",
              "          const docLinkHtml = 'Like what you see? Visit the ' +\n",
              "            '<a target=\"_blank\" href=https://colab.research.google.com/notebooks/data_table.ipynb>data table notebook</a>'\n",
              "            + ' to learn more about interactive tables.';\n",
              "          element.innerHTML = '';\n",
              "          dataTable['output_type'] = 'display_data';\n",
              "          await google.colab.output.renderOutput(dataTable, element);\n",
              "          const docLink = document.createElement('div');\n",
              "          docLink.innerHTML = docLinkHtml;\n",
              "          element.appendChild(docLink);\n",
              "        }\n",
              "      </script>\n",
              "    </div>\n",
              "  </div>\n",
              "  "
            ]
          },
          "metadata": {},
          "execution_count": 52
        }
      ]
    },
    {
      "cell_type": "markdown",
      "source": [
        "농어(Perch)의 길이(Length)를 알면 무게(Weight)를 예측할 수 있을까?\n",
        "\n",
        "* 관심 변수, 종속 변수(label, target) - Weight --> 1차원 배열\n",
        "* 독립 변수, 특성(feature) - Length --> (컬럼이 1개인) 2차원 배열"
      ],
      "metadata": {
        "id": "WeItJua1d-Rc"
      }
    },
    {
      "cell_type": "code",
      "source": [
        "X = perch[['Length']].values # (컬럼이 1개인) 2차원 배열로 만들기 위해서 \n",
        "X[:5]"
      ],
      "metadata": {
        "colab": {
          "base_uri": "https://localhost:8080/"
        },
        "id": "Jkiy_UEnZ6c9",
        "outputId": "b30f2bf2-8afa-442c-ed1d-ad8917beb2fa"
      },
      "execution_count": null,
      "outputs": [
        {
          "output_type": "execute_result",
          "data": {
            "text/plain": [
              "array([[ 8.4],\n",
              "       [13.7],\n",
              "       [15. ],\n",
              "       [16.2],\n",
              "       [17.4]])"
            ]
          },
          "metadata": {},
          "execution_count": 53
        }
      ]
    },
    {
      "cell_type": "code",
      "source": [
        "y = perch['Weight'].values # 1차원 배열\n",
        "y[:5]"
      ],
      "metadata": {
        "colab": {
          "base_uri": "https://localhost:8080/"
        },
        "id": "9cEigdF0f09u",
        "outputId": "7f67db86-248e-4ab8-b5c3-f0a311f6a9d2"
      },
      "execution_count": null,
      "outputs": [
        {
          "output_type": "execute_result",
          "data": {
            "text/plain": [
              "array([ 5.9, 32. , 40. , 51.5, 70. ])"
            ]
          },
          "metadata": {},
          "execution_count": 54
        }
      ]
    },
    {
      "cell_type": "markdown",
      "source": [
        "# 훈련/테스트 셋 분리"
      ],
      "metadata": {
        "id": "f2z3cwIGgmd0"
      }
    },
    {
      "cell_type": "code",
      "source": [
        "X_train, X_test, y_train, y_test = train_test_split(X, y,\n",
        "                                                    test_size=0.25,\n",
        "                                                    random_state=42)"
      ],
      "metadata": {
        "id": "MIY7fm0BgpU0"
      },
      "execution_count": null,
      "outputs": []
    },
    {
      "cell_type": "code",
      "source": [
        "X_train.shape, X_test.shape"
      ],
      "metadata": {
        "colab": {
          "base_uri": "https://localhost:8080/"
        },
        "id": "RwuxuzDnhbhB",
        "outputId": "e6c55596-fe2f-4022-c015-93c9a3d86f58"
      },
      "execution_count": null,
      "outputs": [
        {
          "output_type": "execute_result",
          "data": {
            "text/plain": [
              "((42, 1), (14, 1))"
            ]
          },
          "metadata": {},
          "execution_count": 56
        }
      ]
    },
    {
      "cell_type": "code",
      "source": [
        "y_train.shape, y_test.shape"
      ],
      "metadata": {
        "colab": {
          "base_uri": "https://localhost:8080/"
        },
        "id": "1khI_D2yhhLb",
        "outputId": "63973ad7-04a3-421b-c066-333e92f7032a"
      },
      "execution_count": null,
      "outputs": [
        {
          "output_type": "execute_result",
          "data": {
            "text/plain": [
              "((42,), (14,))"
            ]
          },
          "metadata": {},
          "execution_count": 57
        }
      ]
    },
    {
      "cell_type": "markdown",
      "source": [
        "훈련 셋/테스트 셋 시각화(Weight ~ Length 산점도)"
      ],
      "metadata": {
        "id": "fiIk5DAkh5YR"
      }
    },
    {
      "cell_type": "code",
      "source": [
        "plt.scatter(X_train, y_train, label='train', alpha=0.5)\n",
        "plt.scatter(X_test, y_test, label='test', alpha=0.5)\n",
        "\n",
        "plt.xlabel('Length (cm)')\n",
        "plt.ylabel('Weight (g)')\n",
        "plt.legend()\n",
        "plt.grid()\n",
        "plt.show()"
      ],
      "metadata": {
        "colab": {
          "base_uri": "https://localhost:8080/",
          "height": 279
        },
        "id": "LoSq-ZA_hlEM",
        "outputId": "c6f15f89-bc46-49f3-d000-c81856b57ac8"
      },
      "execution_count": null,
      "outputs": [
        {
          "output_type": "display_data",
          "data": {
            "text/plain": [
              "<Figure size 432x288 with 1 Axes>"
            ],
            "image/png": "[encoded data removed]"
          },
          "metadata": {
            "needs_background": "light"
          }
        }
      ]
    },
    {
      "cell_type": "markdown",
      "source": [
        "# KNN Regressor 모델 훈련, 평가\n",
        "\n",
        "KNN Regressor: 가장 가까운 k개의 이웃들의 레이블(타겟)의 평균값으로 숫자를 예측."
      ],
      "metadata": {
        "id": "BD0NUg5EkMOU"
      }
    },
    {
      "cell_type": "code",
      "source": [
        "knn_reg = KNeighborsRegressor() # k=5 인 모델 생성"
      ],
      "metadata": {
        "id": "ciK5kGK4iUD-"
      },
      "execution_count": null,
      "outputs": []
    },
    {
      "cell_type": "code",
      "source": [
        "knn_reg.fit(X_train, y_train) # 모델 학습"
      ],
      "metadata": {
        "colab": {
          "base_uri": "https://localhost:8080/"
        },
        "id": "nYh5_oqlkxPo",
        "outputId": "465aad6d-0fef-4c90-e99e-322423ba509a"
      },
      "execution_count": null,
      "outputs": [
        {
          "output_type": "execute_result",
          "data": {
            "text/plain": [
              "KNeighborsRegressor()"
            ]
          },
          "metadata": {},
          "execution_count": 60
        }
      ]
    },
    {
      "cell_type": "code",
      "source": [
        "# 학습된 훈련 셋의 예측값\n",
        "train_pred = knn_reg.predict(X_train)\n",
        "train_pred"
      ],
      "metadata": {
        "colab": {
          "base_uri": "https://localhost:8080/"
        },
        "id": "oimktclZk2AB",
        "outputId": "c5efdbbe-3378-486d-cb4c-48d33fe87e61"
      },
      "execution_count": null,
      "outputs": [
        {
          "output_type": "execute_result",
          "data": {
            "text/plain": [
              "array([  88.6,  123. ,   79.6,   70.6,  723. ,  193. ,  847. ,  847. ,\n",
              "       1010. ,  123. ,   95. ,  123. ,  174. ,  248. , 1010. ,  847. ,\n",
              "        174. ,  113. ,  248. ,  847. ,  659. ,  224. ,  723. ,   60. ,\n",
              "        140. ,   60. ,  719. ,  694.2,  248. ,  167. ,  847. ,  113. ,\n",
              "        168. ,  123. , 1010. ,  136. ,   79.6,  719. ,  123. ,  193. ,\n",
              "        990. ,  659. ])"
            ]
          },
          "metadata": {},
          "execution_count": 61
        }
      ]
    },
    {
      "cell_type": "code",
      "source": [
        "# 훈련 셋의 실젯값(레이블)\n",
        "y_train"
      ],
      "metadata": {
        "colab": {
          "base_uri": "https://localhost:8080/"
        },
        "id": "suDHQBGKlHBB",
        "outputId": "590dd5a1-c2fa-4303-8320-77cc4e165a71"
      },
      "execution_count": null,
      "outputs": [
        {
          "output_type": "execute_result",
          "data": {
            "text/plain": [
              "array([  85.,  135.,   78.,   70.,  700.,  180.,  850.,  820., 1000.,\n",
              "        120.,   85.,  130.,  225.,  260., 1100.,  900.,  145.,  115.,\n",
              "        265., 1015.,  514.,  218.,  685.,   32.,  145.,   40.,  690.,\n",
              "        840.,  300.,  170.,  650.,  110.,  150.,  110., 1000.,  150.,\n",
              "         80.,  700.,  120.,  197., 1100.,  556.])"
            ]
          },
          "metadata": {},
          "execution_count": 62
        }
      ]
    },
    {
      "cell_type": "markdown",
      "source": [
        "## 회귀 문제에서의 평가 지표:\n",
        "\n",
        "* 기호 정의\n",
        "    * $y_i$: $i$번째 샘플의 실젯값(label)\n",
        "    * $\\hat{y_i}$: $i$번째 샘플의 예측값\n",
        "    * $\\bar{y}$: 타겟의 평균값\n",
        "    * $n$: 샘플 개수\n",
        "\n",
        "* MSE(Mean Squared Errors): 오차들의 제곱의 평균\n",
        "\n",
        "$$ MSE = \\frac{1}{n} \\sum_{i=1}^{n} (y_i - \\hat{y_i})^2$$\n",
        "\n",
        "* RMSE(Root Mean Squared Errors): MSE의 제곱근\n",
        "\n",
        "$$ RMSE = \\sqrt{ \\frac{1}{n} \\sum_{i=1}^{n} (y_i - \\hat{y_i})^2 } $$\n",
        "\n",
        "* MAE(Mean Absolute Erroes): 오차들의 절대값의 평균\n",
        "\n",
        "$$ MAE = \\frac{1}{n} \\sum_{i=1}^{n} \\lvert y_i - \\hat{y_i} \\rvert$$\n",
        "\n",
        "* $R^2$ score(결정 계수, coefficient of determinant) \n",
        "$$ R^2 = 1 - \\dfrac{ \\sum_{i=1}^{n} (y_i - \\hat{y_i})^2 }\n",
        "          { \\sum_{i=1}^{n} (y_i - \\bar{y})^2 }\n",
        "$$\n",
        "    \n",
        "    * 일반적인 평가 지표는 점수가 높을 수록 좋은 모델, 점수가 낮을 수록 나쁜 모델.\n",
        "    * 그런데, 회귀 문제에서는 오차(MSE, MAE)는 작을 수록 좋은 모델이고, 오차가 클 수록 나쁜 모델.\n",
        "    * 회귀 문제에서도 점수가 높을 수록 좋은 모델이고 점수가 낮을 수록 나쁜 모델이라고 평가할 수 있는 지표가 필요. --> $R^2 score(결정 계수)$\n",
        "    * 결정 계수는 최댓값이 1이 되도록 만든 평가 지표.\n",
        "    * 모델이 타겟을 오차없이 정확하게 예측한다면 실제값 - 예측값 = 0 이므로, 결정 계수는 최댓값이 1이 됨.\n",
        "    * 모델이 타겟을 매우 비슷하게 예측한다면(즉, 오차가 매우 작다면) 분자가 0에 가까운 값이 되므로, 결정 계수는 1보다는 작지만 1에 가까운 값이 됨.\n",
        "    * 모델이 타겟의 평균으로만 예측하는 정도라면 분자 = 분모 이므로, 결정 계수는 0이 됨.\n",
        "    * 모델이 타겟의 평균 정도도 예측하지 못하는 모델이라면(오차가 매우 크다면), 분자 > 분모 일 수 있고, 그런 경우 결정 계수는 음수가 될 수 있음.\n",
        "    * 즉, 결정 계수는 1에 가까울 수록 오차가 작은 좋은 예측 모델이고, 숫자가 작아질 수록 오차가 큰 나쁜 예측 모델임."
      ],
      "metadata": {
        "id": "eelRvoYamur9"
      }
    },
    {
      "cell_type": "code",
      "source": [
        "# 훈련 셋의 MSE, RMSE:\n",
        "train_mse = mean_squared_error(y_train, train_pred)\n",
        "train_rmse = np.sqrt(train_mse)\n",
        "train_rmse"
      ],
      "metadata": {
        "colab": {
          "base_uri": "https://localhost:8080/"
        },
        "id": "VURhoZv9lUw8",
        "outputId": "c579625e-b3de-45fd-e3ae-1be4c72b6adb"
      },
      "execution_count": null,
      "outputs": [
        {
          "output_type": "execute_result",
          "data": {
            "text/plain": [
              "60.96323638453089"
            ]
          },
          "metadata": {},
          "execution_count": 63
        }
      ]
    },
    {
      "cell_type": "code",
      "source": [
        "# 훈련 셋의 MAE\n",
        "mean_absolute_error(y_train, train_pred)"
      ],
      "metadata": {
        "colab": {
          "base_uri": "https://localhost:8080/"
        },
        "id": "fikrL8UPoUFK",
        "outputId": "ba9e24db-e960-4b76-d264-6ea846351b41"
      },
      "execution_count": null,
      "outputs": [
        {
          "output_type": "execute_result",
          "data": {
            "text/plain": [
              "35.76190476190476"
            ]
          },
          "metadata": {},
          "execution_count": 64
        }
      ]
    },
    {
      "cell_type": "code",
      "source": [
        "# 테스트 셋의 예측값\n",
        "test_pred = knn_reg.predict(X_test)\n",
        "print(test_pred)\n",
        "print(y_test) # 테스트 셋 실젯값\n",
        "# 테스트 셋의 RMSE\n",
        "test_mes = mean_squared_error(y_test, test_pred)\n",
        "test_rmes = np.sqrt(test_mes)\n",
        "print(test_rmes)"
      ],
      "metadata": {
        "colab": {
          "base_uri": "https://localhost:8080/"
        },
        "id": "CPcw5wZiordE",
        "outputId": "e3753f97-b7fd-4eaf-a9de-a93eaee34742"
      },
      "execution_count": null,
      "outputs": [
        {
          "output_type": "stream",
          "name": "stdout",
          "text": [
            "[  60.    79.6  248.   122.   136.   847.   311.4  183.4  847.   113.\n",
            " 1010.    60.   248.   248. ]\n",
            "[   5.9  100.   250.   130.   130.   820.   320.   188.   900.   125.\n",
            " 1000.    51.5  250.   300. ]\n",
            "26.865192562655704\n"
          ]
        }
      ]
    },
    {
      "cell_type": "code",
      "source": [
        "# 훈련 셋의 R^2(결정 계수)\n",
        "train_r2 = r2_score(y_train, train_pred)\n",
        "print('훈련 셋 R2:', train_r2)\n",
        "\n",
        "# 테스트 셋의 R^2\n",
        "test_r2 = r2_score(y_test, test_pred)\n",
        "print('테스트 셋 R2:', test_r2)"
      ],
      "metadata": {
        "colab": {
          "base_uri": "https://localhost:8080/"
        },
        "id": "OZMGISEIqZtD",
        "outputId": "e812ce72-af90-4f57-9017-6299a5d3033a"
      },
      "execution_count": null,
      "outputs": [
        {
          "output_type": "stream",
          "name": "stdout",
          "text": [
            "훈련 셋 R2: 0.9698823289099254\n",
            "테스트 셋 R2: 0.992809406101064\n"
          ]
        }
      ]
    },
    {
      "cell_type": "code",
      "source": [
        "knn_reg.score(X_test, y_test) # 분류 --> 정확도, 회귀 --> R^2 score"
      ],
      "metadata": {
        "colab": {
          "base_uri": "https://localhost:8080/"
        },
        "id": "kuTHczMdzILp",
        "outputId": "2f934c8f-df5d-4959-e48e-81856d50a1b8"
      },
      "execution_count": null,
      "outputs": [
        {
          "output_type": "execute_result",
          "data": {
            "text/plain": [
              "0.992809406101064"
            ]
          },
          "metadata": {},
          "execution_count": 67
        }
      ]
    },
    {
      "cell_type": "markdown",
      "source": [
        "# 모델 튜닝\n",
        "\n",
        "k값 변화에 따른 훈련 셋과 테스트 셋에서의 $R^2$ score 변화를 시각화"
      ],
      "metadata": {
        "id": "u5UrpjTtcyds"
      }
    },
    {
      "cell_type": "code",
      "source": [
        "k_values = np.arange(1, 16)\n",
        "train_scores = [] # 훈련 셋의 R^2 score를 저장할 리스트\n",
        "test_scores = [] # 테스트 셋의 R^2 score를 저장할 리스트\n",
        "\n",
        "for k in k_values:\n",
        "    knn = KNeighborsRegressor(n_neighbors=k) # KNN 예측기 모델 생성\n",
        "    knn.fit(X_train, y_train) # 모델 훈련\n",
        "    train_r2 = knn.score(X_train, y_train) # 훈련 셋에서의 R^2 score\n",
        "    train_scores.append(train_r2)\n",
        "    test_r2 = knn.score(X_test, y_test) # 테스트 셋에서의 R^2 score\n",
        "    test_scores.append(test_r2)\n",
        "\n",
        "print(train_scores)\n",
        "print(test_scores)"
      ],
      "metadata": {
        "colab": {
          "base_uri": "https://localhost:8080/"
        },
        "id": "30G4uDuLdUKP",
        "outputId": "ea9bcf37-7139-4167-afc5-1351370a49fe"
      },
      "execution_count": null,
      "outputs": [
        {
          "output_type": "stream",
          "name": "stdout",
          "text": [
            "[0.9852830341215901, 0.9828437127041165, 0.9804899950518966, 0.978211389719245, 0.9698823289099254, 0.9757140960298665, 0.9761170732051527, 0.9697604397763201, 0.9693310367551284, 0.96164569026043, 0.9515761381539326, 0.9467103631225754, 0.9413423450130075, 0.9429470576557883, 0.930201118360776]\n",
            "[0.991309195814175, 0.9725010241788556, 0.9746459963987609, 0.9840231023848637, 0.992809406101064, 0.9855001139899048, 0.9781383949643516, 0.9780541148735824, 0.9692647749722698, 0.9737908255822255, 0.970279643030474, 0.967703620310643, 0.9639044643206888, 0.9615046463124021, 0.9554827691127018]\n"
          ]
        }
      ]
    },
    {
      "cell_type": "code",
      "source": [
        "plt.plot(k_values, train_scores, 'bo-', label='train r2 score')\n",
        "plt.plot(k_values, test_scores, 'ro:', label='test r2 score')\n",
        "\n",
        "plt.xlabel('k (# of nearest neighbors)')\n",
        "plt.ylabel('$R^2$ score')\n",
        "plt.grid()\n",
        "plt.legend()\n",
        "plt.show()"
      ],
      "metadata": {
        "colab": {
          "base_uri": "https://localhost:8080/",
          "height": 279
        },
        "id": "hDWjBKWDe1cH",
        "outputId": "593e6436-bbf3-4ea3-9ee4-e87d9f7c825e"
      },
      "execution_count": null,
      "outputs": [
        {
          "output_type": "display_data",
          "data": {
            "text/plain": [
              "<Figure size 432x288 with 1 Axes>"
            ],
            "image/png": "[encoded data removed]"
          },
          "metadata": {
            "needs_background": "light"
          }
        }
      ]
    },
    {
      "cell_type": "markdown",
      "source": [
        "# KNN Regressor의 문제점"
      ],
      "metadata": {
        "id": "IBR4s0MIk05-"
      }
    },
    {
      "cell_type": "code",
      "source": [
        "# 훈련 셋 시각화\n",
        "plt.scatter(X_train, y_train, label='train set', alpha=0.5)\n",
        "\n",
        "# 길이는 50cm, 무게가 1500g인 가상의 농어(perch) 한 마리\n",
        "test_fish_length = [[50]] # 특성 배열: (n_sample, n_feature) shape의 2차원 배열\n",
        "test_fish_weight = [1500] # 레이블 배열: (n_sample,) shape의 1차원 배열\n",
        "plt.scatter(test_fish_length, test_fish_weight, marker='v', color='red')\n",
        "\n",
        "plt.legend()\n",
        "plt.grid()\n",
        "plt.xlabel('Length (cm)')\n",
        "plt.ylabel('Weight (g)')\n",
        "plt.show()"
      ],
      "metadata": {
        "colab": {
          "base_uri": "https://localhost:8080/",
          "height": 279
        },
        "id": "j90BBCf2faGa",
        "outputId": "6f308be0-b0a8-44d5-d256-a4fe505cfde0"
      },
      "execution_count": null,
      "outputs": [
        {
          "output_type": "display_data",
          "data": {
            "text/plain": [
              "<Figure size 432x288 with 1 Axes>"
            ],
            "image/png": "[encoded data removed]"
          },
          "metadata": {
            "needs_background": "light"
          }
        }
      ]
    },
    {
      "cell_type": "code",
      "source": [
        "# k=3인 KNN regressor 생성, 훈련, 예측\n",
        "knn = KNeighborsRegressor(n_neighbors=3) # 모델 생성\n",
        "knn.fit(X_train, y_train) # 모델 훈련\n",
        "prediction = knn.predict(test_fish_length) # 길이 50cm인 가상의 농어의 무게 예측값\n",
        "print(prediction)"
      ],
      "metadata": {
        "colab": {
          "base_uri": "https://localhost:8080/"
        },
        "id": "hQjOwVXKk_mW",
        "outputId": "1bf762ec-6ff3-4654-dd4b-3fcc39a0b390"
      },
      "execution_count": null,
      "outputs": [
        {
          "output_type": "stream",
          "name": "stdout",
          "text": [
            "[1033.33333333]\n"
          ]
        }
      ]
    },
    {
      "cell_type": "markdown",
      "source": [
        "* 머신 러닝 알고리즘\n",
        "    * 사례 기반 학습(instance-based learning): KNN\n",
        "        * 샘플들의 다수결 또는 평균으로 예측하는 알고리즘.\n",
        "        * 특별한 수학적인 모델링이 사용되지 않는 알고리즘.\n",
        "        * 장점: 이해하기 쉽다.\n",
        "        * 단점: 이상치(outlier)에 대한 예측값은 매우 나쁘다.\n",
        "    * 모델 기반 학습(model-based learning): Linear Regression\n",
        "        * 훈련 셋에서 수학적인 모델(공식)을 추론해서 예측하는 알고리즘."
      ],
      "metadata": {
        "id": "_Ej3xPDUpFtv"
      }
    },
    {
      "cell_type": "markdown",
      "source": [
        "# 선형 회귀(Linear Refression)"
      ],
      "metadata": {
        "id": "AlPYJp6W94up"
      }
    },
    {
      "cell_type": "code",
      "source": [
        "lin_reg = LinearRegression() # 선형 회귀 모델 생성"
      ],
      "metadata": {
        "id": "f3UhnKtL8NyZ"
      },
      "execution_count": null,
      "outputs": []
    },
    {
      "cell_type": "code",
      "source": [
        "lin_reg.fit(X_train, y_train) # 모델 훈련"
      ],
      "metadata": {
        "colab": {
          "base_uri": "https://localhost:8080/"
        },
        "id": "14abNBpy-MgV",
        "outputId": "88371fe5-0dd8-4b79-d37f-50c5a3f9e354"
      },
      "execution_count": null,
      "outputs": [
        {
          "output_type": "execute_result",
          "data": {
            "text/plain": [
              "LinearRegression()"
            ]
          },
          "metadata": {},
          "execution_count": 73
        }
      ]
    },
    {
      "cell_type": "markdown",
      "source": [
        "선형 회귀 모델을 훈련 셋으로 학습 시킨다라는 의미는 데이터들을 가장 잘 설명할 수 있는(훈련 셋과 예측값들 사이의 오차가 적어지도록 하는) 직선(곡선)의 방정식을 찾는 과정.\n",
        "\n",
        "$$\n",
        "\\hat{y_1} = w_0 + w_1 \\times x_i\n",
        "$$\n",
        "\n",
        "* $w_0$: 절편(intercept), 편향(bias)\n",
        "* $w_1$: 계수(coefficient), 기울기(slope)\n",
        "* 선형 회귀의 목적은 MSE(오차들의 제곱의 평균)이 가장 작아지는 절편($w_0$)과 계수들($w_1$)을 찾는 것."
      ],
      "metadata": {
        "id": "Hp7Mr5qaAHPZ"
      }
    },
    {
      "cell_type": "code",
      "source": [
        "lin_reg.intercept_ # 선형 회귀 모델을 훈련시킨 후 찾은 직선의 절편"
      ],
      "metadata": {
        "colab": {
          "base_uri": "https://localhost:8080/"
        },
        "id": "FZmMssz--Zo-",
        "outputId": "f7d67285-9d7c-4924-c86d-9fe2e1148096"
      },
      "execution_count": null,
      "outputs": [
        {
          "output_type": "execute_result",
          "data": {
            "text/plain": [
              "-709.0186449535477"
            ]
          },
          "metadata": {},
          "execution_count": 75
        }
      ]
    },
    {
      "cell_type": "code",
      "source": [
        "lin_reg.coef_ # 선형 회귀 모델을 훈련시킨 후 찾은 직선의 기울기"
      ],
      "metadata": {
        "colab": {
          "base_uri": "https://localhost:8080/"
        },
        "id": "DZCYcYf6B_v-",
        "outputId": "f9b99476-72fe-43eb-8972-3ce7c3f83577"
      },
      "execution_count": null,
      "outputs": [
        {
          "output_type": "execute_result",
          "data": {
            "text/plain": [
              "array([39.01714496])"
            ]
          },
          "metadata": {},
          "execution_count": 76
        }
      ]
    },
    {
      "cell_type": "markdown",
      "source": [
        "선형 회귀 모델을 훈련시킨 후 찾은 수학적 모델(직선의 방적식)\n",
        "\n",
        "$$\n",
        "\\hat{y} = -709 + 39 \\times x\n",
        "$$"
      ],
      "metadata": {
        "id": "uuj9_hGzCtU6"
      }
    },
    {
      "cell_type": "code",
      "source": [
        "-709 + 39 * 50"
      ],
      "metadata": {
        "colab": {
          "base_uri": "https://localhost:8080/"
        },
        "id": "nUTu9cjnCJW3",
        "outputId": "64d2668e-17ef-420c-f261-2bd4e9bbfdfe"
      },
      "execution_count": null,
      "outputs": [
        {
          "output_type": "execute_result",
          "data": {
            "text/plain": [
              "1241"
            ]
          },
          "metadata": {},
          "execution_count": 79
        }
      ]
    },
    {
      "cell_type": "code",
      "source": [
        "# 훈련 셋, 테스트 셋, 선형 회귀 모델(직선) 시각화\n",
        "plt.scatter(X_train, y_train, alpha=0.5, label='train') # 훈련 셋\n",
        "plt.scatter(X_test, y_test, label='test', alpha=0.5) # 테스트 셋\n",
        "\n",
        "# 직선(곡선) 시각화\n",
        "x = np.arange(5, 45, 0.001)\n",
        "w0 = lin_reg.intercept_ # 직선의 y절편\n",
        "w1 = lin_reg.coef_[0] # 직선의 기울기\n",
        "y = w0 + w1 * x # 직선의 방정식\n",
        "plt.plot(x, y, 'r-', label='linear regression')\n",
        "\n",
        "plt.grid()\n",
        "plt.legend()\n",
        "plt.xlabel('Length (cm)')\n",
        "plt.ylabel('Weight (g)')\n",
        "plt.show()"
      ],
      "metadata": {
        "colab": {
          "base_uri": "https://localhost:8080/",
          "height": 279
        },
        "id": "vmi6mo4uDHeJ",
        "outputId": "db9ffe84-f865-4f12-fbe7-068669f195a5"
      },
      "execution_count": null,
      "outputs": [
        {
          "output_type": "display_data",
          "data": {
            "text/plain": [
              "<Figure size 432x288 with 1 Axes>"
            ],
            "image/png": "[encoded data removed]"
          },
          "metadata": {
            "needs_background": "light"
          }
        }
      ]
    },
    {
      "cell_type": "code",
      "source": [
        "# 훈련 셋에서의 예측값\n",
        "train_pred = lin_reg.predict(X_train)\n",
        "print(train_pred)"
      ],
      "metadata": {
        "colab": {
          "base_uri": "https://localhost:8080/"
        },
        "id": "MSBVA9JED-aJ",
        "outputId": "b9eb93e1-a8bf-41ab-c60e-638a85547e70"
      },
      "execution_count": null,
      "outputs": [
        {
          "output_type": "stream",
          "name": "stdout",
          "text": [
            "[  55.71739633  149.35854425   20.60196587  -30.12032259  695.59857374\n",
            "  266.40997914  851.66715359  812.65000863  968.71858848  149.35854425\n",
            "   71.32425432  149.35854425  227.39283417  363.95284155  968.71858848\n",
            "  851.66715359  227.39283417  110.34139928  363.95284155  851.66715359\n",
            "  570.74370985  324.93569658  715.10714622 -174.48375895  176.67054572\n",
            " -123.7614705   734.6157187   656.58142877  410.7734155   207.88426169\n",
            "  812.65000863  110.34139928  188.37568921  149.35854425 1007.73573345\n",
            "  168.86711673   32.30710936  734.6157187   149.35854425  289.82026612\n",
            "  929.70144352  637.07285629]\n"
          ]
        }
      ]
    },
    {
      "cell_type": "code",
      "source": [
        "print(y_train)"
      ],
      "metadata": {
        "colab": {
          "base_uri": "https://localhost:8080/"
        },
        "id": "q_ocooKqG340",
        "outputId": "7c36f498-a73a-4cdd-bece-a7a8f65c0a20"
      },
      "execution_count": null,
      "outputs": [
        {
          "output_type": "stream",
          "name": "stdout",
          "text": [
            "[  85.  135.   78.   70.  700.  180.  850.  820. 1000.  120.   85.  130.\n",
            "  225.  260. 1100.  900.  145.  115.  265. 1015.  514.  218.  685.   32.\n",
            "  145.   40.  690.  840.  300.  170.  650.  110.  150.  110. 1000.  150.\n",
            "   80.  700.  120.  197. 1100.  556.]\n"
          ]
        }
      ]
    },
    {
      "cell_type": "code",
      "source": [
        "# 훈련 셋에서의 R^2 score\n",
        "lin_reg.score(X_train, y_train)"
      ],
      "metadata": {
        "colab": {
          "base_uri": "https://localhost:8080/"
        },
        "id": "eiU5hqKSHHKL",
        "outputId": "90bccdd4-a97c-4640-8af8-899847f9c6ce"
      },
      "execution_count": null,
      "outputs": [
        {
          "output_type": "execute_result",
          "data": {
            "text/plain": [
              "0.939846333997604"
            ]
          },
          "metadata": {},
          "execution_count": 95
        }
      ]
    },
    {
      "cell_type": "code",
      "source": [
        "# 테스트 셋에서의 R^2 score\n",
        "lin_reg.score(X_test, y_test)"
      ],
      "metadata": {
        "colab": {
          "base_uri": "https://localhost:8080/"
        },
        "id": "H9X3dknIHiFF",
        "outputId": "15d12f4a-95d2-4eb5-88ed-588a387f6082"
      },
      "execution_count": null,
      "outputs": [
        {
          "output_type": "execute_result",
          "data": {
            "text/plain": [
              "0.8247503123313558"
            ]
          },
          "metadata": {},
          "execution_count": 96
        }
      ]
    },
    {
      "cell_type": "markdown",
      "source": [
        "# 2차 항(polymonial)을 포함하는 선형 회귀\n",
        "\n",
        "$$\n",
        "\\hat{y} = w_0 + w_1 \\times x + w_2 \\times x^2\n",
        "$$\n",
        "\n",
        "2차 함수에 의해서 계산된 MSE가 최소가 되는 절편과 계수들을 찾는 것."
      ],
      "metadata": {
        "id": "CSKPVLlnPmUc"
      }
    },
    {
      "cell_type": "code",
      "source": [
        "X_train.shape # 훈련 셋의 shape"
      ],
      "metadata": {
        "colab": {
          "base_uri": "https://localhost:8080/"
        },
        "id": "aFHWrkQTQcjB",
        "outputId": "ac594cf9-c47f-424d-de8d-0d8f50e9f548"
      },
      "execution_count": null,
      "outputs": [
        {
          "output_type": "execute_result",
          "data": {
            "text/plain": [
              "(42, 1)"
            ]
          },
          "metadata": {},
          "execution_count": 97
        }
      ]
    },
    {
      "cell_type": "code",
      "source": [
        "X_train[:3, :]"
      ],
      "metadata": {
        "colab": {
          "base_uri": "https://localhost:8080/"
        },
        "id": "9sP0O3NhQnhN",
        "outputId": "87cbea3f-f23e-4190-db62-35c7d33f1ef6"
      },
      "execution_count": null,
      "outputs": [
        {
          "output_type": "execute_result",
          "data": {
            "text/plain": [
              "array([[19.6],\n",
              "       [22. ],\n",
              "       [18.7]])"
            ]
          },
          "metadata": {},
          "execution_count": 100
        }
      ]
    },
    {
      "cell_type": "code",
      "source": [
        "# 특성(feature) 배열에 2차항을 추가\n",
        "X_train_poly = np.c_[X_train, X_train ** 2]"
      ],
      "metadata": {
        "id": "_S7M1N9WQ7O7"
      },
      "execution_count": null,
      "outputs": []
    },
    {
      "cell_type": "code",
      "source": [
        "X_train_poly.shape"
      ],
      "metadata": {
        "colab": {
          "base_uri": "https://localhost:8080/"
        },
        "id": "y8x1FtHSRQ1Q",
        "outputId": "67a278a4-a06c-49ee-9bbd-0ee2ef026ca9"
      },
      "execution_count": null,
      "outputs": [
        {
          "output_type": "execute_result",
          "data": {
            "text/plain": [
              "(42, 2)"
            ]
          },
          "metadata": {},
          "execution_count": 102
        }
      ]
    },
    {
      "cell_type": "code",
      "source": [
        "X_train_poly[:3, :]"
      ],
      "metadata": {
        "colab": {
          "base_uri": "https://localhost:8080/"
        },
        "id": "VZjZcWxTRTlL",
        "outputId": "aa77173a-0ca2-4b7a-f209-dd07bb30d5ea"
      },
      "execution_count": null,
      "outputs": [
        {
          "output_type": "execute_result",
          "data": {
            "text/plain": [
              "array([[ 19.6 , 384.16],\n",
              "       [ 22.  , 484.  ],\n",
              "       [ 18.7 , 349.69]])"
            ]
          },
          "metadata": {},
          "execution_count": 103
        }
      ]
    },
    {
      "cell_type": "code",
      "source": [
        "# 테스트 셋의 특성 배열에 2차항을 추가\n",
        "X_test_poly = np.c_[X_test, X_test ** 2]"
      ],
      "metadata": {
        "id": "pUjQHQy0RbpC"
      },
      "execution_count": null,
      "outputs": []
    },
    {
      "cell_type": "code",
      "source": [
        "X_test_poly.shape"
      ],
      "metadata": {
        "colab": {
          "base_uri": "https://localhost:8080/"
        },
        "id": "oZanODs1SSAH",
        "outputId": "b3a824d3-d6a4-4ecd-b5a5-29d8f8719ede"
      },
      "execution_count": null,
      "outputs": [
        {
          "output_type": "execute_result",
          "data": {
            "text/plain": [
              "(14, 2)"
            ]
          },
          "metadata": {},
          "execution_count": 105
        }
      ]
    },
    {
      "cell_type": "code",
      "source": [
        "X_test_poly[:3, :]"
      ],
      "metadata": {
        "colab": {
          "base_uri": "https://localhost:8080/"
        },
        "id": "1iwkyRgwSUDe",
        "outputId": "c676d3d8-ed8f-4850-96c7-7bbd86362068"
      },
      "execution_count": null,
      "outputs": [
        {
          "output_type": "execute_result",
          "data": {
            "text/plain": [
              "array([[  8.4 ,  70.56],\n",
              "       [ 18.  , 324.  ],\n",
              "       [ 27.5 , 756.25]])"
            ]
          },
          "metadata": {},
          "execution_count": 106
        }
      ]
    },
    {
      "cell_type": "code",
      "source": [
        "lin_reg2 = LinearRegression() # 선형 회귀 모델 생성"
      ],
      "metadata": {
        "id": "rftad_W9SXhy"
      },
      "execution_count": null,
      "outputs": []
    },
    {
      "cell_type": "code",
      "source": [
        "lin_reg2.fit(X_train_poly, y_train) # 선형 회귀 모델 훈련"
      ],
      "metadata": {
        "colab": {
          "base_uri": "https://localhost:8080/"
        },
        "id": "fk04LxDBSkv-",
        "outputId": "cb97dac1-dd68-4024-d0bc-ed95a1299b1e"
      },
      "execution_count": null,
      "outputs": [
        {
          "output_type": "execute_result",
          "data": {
            "text/plain": [
              "LinearRegression()"
            ]
          },
          "metadata": {},
          "execution_count": 108
        }
      ]
    },
    {
      "cell_type": "code",
      "source": [
        "# 학습 결과 - 선형 회귀식에서 절편(intercept)과 계수들(coefficients)을 찾음.\n",
        "print(lin_reg2.intercept_)\n",
        "print(lin_reg2.coef_)"
      ],
      "metadata": {
        "id": "Pk7Qa-bAS2Xp",
        "colab": {
          "base_uri": "https://localhost:8080/"
        },
        "outputId": "ade020b8-4ea9-4615-d1ba-f6a361c053ad"
      },
      "execution_count": 111,
      "outputs": [
        {
          "output_type": "stream",
          "name": "stdout",
          "text": [
            "116.05021078278384\n",
            "[-21.55792498   1.01433211]\n"
          ]
        }
      ]
    },
    {
      "cell_type": "markdown",
      "source": [
        "$$\n",
        "\\hat{y} = 116 - 21.6 \\times x + 1.0 \\times x^2\n",
        "$$"
      ],
      "metadata": {
        "id": "qWWAyvTTUAA8"
      }
    },
    {
      "cell_type": "code",
      "source": [
        "116 - 21.6 * 50 + 1.0 * 50 ** 2"
      ],
      "metadata": {
        "colab": {
          "base_uri": "https://localhost:8080/"
        },
        "id": "j0N4g-GzUjEL",
        "outputId": "9b8159e5-00ba-4f3e-cb62-3f58bb713dac"
      },
      "execution_count": 113,
      "outputs": [
        {
          "output_type": "execute_result",
          "data": {
            "text/plain": [
              "1536.0"
            ]
          },
          "metadata": {},
          "execution_count": 113
        }
      ]
    },
    {
      "cell_type": "code",
      "source": [
        "116 - 21.6 * 8 + 1.0 * 8 **2"
      ],
      "metadata": {
        "colab": {
          "base_uri": "https://localhost:8080/"
        },
        "id": "IYDyZPmxT9MB",
        "outputId": "9238686c-6bce-44c8-f2a6-4c7b0c794b6b"
      },
      "execution_count": 114,
      "outputs": [
        {
          "output_type": "execute_result",
          "data": {
            "text/plain": [
              "7.199999999999989"
            ]
          },
          "metadata": {},
          "execution_count": 114
        }
      ]
    },
    {
      "cell_type": "code",
      "source": [
        "# 훈련 셋의 예측값\n",
        "train_pred = lin_reg2.predict(X_train_poly)\n",
        "print(train_pred)"
      ],
      "metadata": {
        "colab": {
          "base_uri": "https://localhost:8080/"
        },
        "id": "-1Mr6REDU1i8",
        "outputId": "670a4dae-5001-4db7-fecd-1965b3f5719d"
      },
      "execution_count": 115,
      "outputs": [
        {
          "output_type": "stream",
          "name": "stdout",
          "text": [
            "[  83.18070434  132.71260219   67.61880901   48.04150559  654.5393253\n",
            "  211.05965467  876.66458663  818.09027497 1064.55950693  132.71260219\n",
            "   90.62455496  132.71260219  182.91530629  290.29593158 1064.55950693\n",
            "  876.66458663  182.91530629  110.65424646  290.29593158  876.66458663\n",
            "  500.20932803  257.07992265  680.52990177   11.08663218  149.3605064\n",
            "   20.90606071  707.0276443   604.07967051  332.83297906  169.60388118\n",
            "  818.09027497  110.65424646  156.79962213  132.71260219 1131.24847547\n",
            "  144.50252913   72.62352767  707.0276443   132.71260219  228.92002253\n",
            "  999.89920261  579.6105922 ]\n"
          ]
        }
      ]
    },
    {
      "cell_type": "code",
      "source": [
        "# 훈련 셋의 실젯값(레이블)\n",
        "print(y_train)"
      ],
      "metadata": {
        "colab": {
          "base_uri": "https://localhost:8080/"
        },
        "id": "ua5uKSCYVIM1",
        "outputId": "c8e610d7-f5d8-4a28-e862-6b6ab37bb445"
      },
      "execution_count": 116,
      "outputs": [
        {
          "output_type": "stream",
          "name": "stdout",
          "text": [
            "[  85.  135.   78.   70.  700.  180.  850.  820. 1000.  120.   85.  130.\n",
            "  225.  260. 1100.  900.  145.  115.  265. 1015.  514.  218.  685.   32.\n",
            "  145.   40.  690.  840.  300.  170.  650.  110.  150.  110. 1000.  150.\n",
            "   80.  700.  120.  197. 1100.  556.]\n"
          ]
        }
      ]
    },
    {
      "cell_type": "code",
      "source": [
        "# 테스트 셋 예측값\n",
        "test_pred = lin_reg2.predict(X_test_poly)\n",
        "print(test_pred)"
      ],
      "metadata": {
        "colab": {
          "base_uri": "https://localhost:8080/"
        },
        "id": "lUSNVGRRVLpT",
        "outputId": "1bdd5b54-8d57-4777-8bd3-e40730eba8bb"
      },
      "execution_count": 117,
      "outputs": [
        {
          "output_type": "stream",
          "name": "stdout",
          "text": [
            "[   6.5349146    56.6511646   290.29593158  117.05874344  144.50252913\n",
            "  876.66458663  382.21135986  199.55847561  818.09027497  110.65424646\n",
            " 1097.65040817   33.01314491  307.66468513  283.49043666]\n"
          ]
        }
      ]
    },
    {
      "cell_type": "code",
      "source": [
        "# 테스트 셋 실젯값\n",
        "print(y_test)"
      ],
      "metadata": {
        "colab": {
          "base_uri": "https://localhost:8080/"
        },
        "id": "__xHXla3Vo5c",
        "outputId": "a05a8851-2688-4223-8c11-bd38664001c1"
      },
      "execution_count": 118,
      "outputs": [
        {
          "output_type": "stream",
          "name": "stdout",
          "text": [
            "[   5.9  100.   250.   130.   130.   820.   320.   188.   900.   125.\n",
            " 1000.    51.5  250.   300. ]\n"
          ]
        }
      ]
    },
    {
      "cell_type": "code",
      "source": [
        "# 훈련 셋 R^2 score\n",
        "lin_reg2.score(X_train_poly, y_train)"
      ],
      "metadata": {
        "colab": {
          "base_uri": "https://localhost:8080/"
        },
        "id": "MSfDAxLXVrtO",
        "outputId": "fc177920-1072-43fe-f87a-683bfbe8d6f1"
      },
      "execution_count": 119,
      "outputs": [
        {
          "output_type": "execute_result",
          "data": {
            "text/plain": [
              "0.9706807451768623"
            ]
          },
          "metadata": {},
          "execution_count": 119
        }
      ]
    },
    {
      "cell_type": "code",
      "source": [
        "# 테스트 셋 R^2 score\n",
        "lin_reg2.score(X_test_poly, y_test)"
      ],
      "metadata": {
        "colab": {
          "base_uri": "https://localhost:8080/"
        },
        "id": "53B-LMAEV-4D",
        "outputId": "02398da8-391a-4c93-e0ca-4e81dc1ed197"
      },
      "execution_count": 120,
      "outputs": [
        {
          "output_type": "execute_result",
          "data": {
            "text/plain": [
              "0.9775935108325122"
            ]
          },
          "metadata": {},
          "execution_count": 120
        }
      ]
    },
    {
      "cell_type": "code",
      "source": [
        "# 훈련 셋, 테스트 셋, (다항) 선형 회귀 모델 시각화\n",
        "plt.scatter(X_train, y_train, alpha=0.5, label='train') # 훈련 셋\n",
        "plt.scatter(X_test, y_test, alpha=0.5, label='test') # 테스트 셋\n",
        "\n",
        "# 다항 선형 회귀 곡선 시각화\n",
        "x = np.arange(5, 50, 0.001)\n",
        "w0 = lin_reg2.intercept_ # 2차 함수의 y절편\n",
        "w1, w2 = lin_reg2.coef_ # 2차 함수의 1차항과 2차항의 계수들\n",
        "y = w0 + w1 * x + w2 + x **2\n",
        "\n",
        "plt.plot(x, y, 'r-', label='regression')\n",
        "\n",
        "plt.grid()\n",
        "plt.legend()\n",
        "plt.xlabel('Length (cm)')\n",
        "plt.ylabel('Weight (g)')\n",
        "plt.show()"
      ],
      "metadata": {
        "colab": {
          "base_uri": "https://localhost:8080/",
          "height": 281
        },
        "id": "ajhO52IwWGlh",
        "outputId": "7ac93f46-edc5-4066-dd41-487d73649a2f"
      },
      "execution_count": 124,
      "outputs": [
        {
          "output_type": "display_data",
          "data": {
            "text/plain": [
              "<Figure size 432x288 with 1 Axes>"
            ],
            "image/png": "[encoded data removed]"
          },
          "metadata": {
            "needs_background": "light"
          }
        }
      ]
    },
    {
      "cell_type": "markdown",
      "source": [
        "# 행렬의 점곱(dot product), 내적(inner product), 행렬 곱셈\n",
        "\n",
        "```\n",
        "(n, k) @ (k, m) = (n, m)\n",
        "```"
      ],
      "metadata": {
        "id": "kOftXIVieYS9"
      }
    },
    {
      "cell_type": "code",
      "source": [
        "A = np.arange(1, 7).reshape((3, -1))\n",
        "print(A) # (3, 2) shape"
      ],
      "metadata": {
        "colab": {
          "base_uri": "https://localhost:8080/"
        },
        "id": "m4gtJUMSb9B1",
        "outputId": "cc7a5370-8744-4754-b203-12aa9f494072"
      },
      "execution_count": 125,
      "outputs": [
        {
          "output_type": "stream",
          "name": "stdout",
          "text": [
            "[[1 2]\n",
            " [3 4]\n",
            " [5 6]]\n"
          ]
        }
      ]
    },
    {
      "cell_type": "code",
      "source": [
        "B = np.array([[0, 1, 2],\n",
        "             [1, 2, 3]])\n",
        "print(B) # (2, 3) shape"
      ],
      "metadata": {
        "colab": {
          "base_uri": "https://localhost:8080/"
        },
        "id": "7hOSr3CRfjyy",
        "outputId": "1ba4a3aa-c6ac-4ef1-f405-2d486fc639aa"
      },
      "execution_count": 128,
      "outputs": [
        {
          "output_type": "stream",
          "name": "stdout",
          "text": [
            "[[0 1 2]\n",
            " [1 2 3]]\n"
          ]
        }
      ]
    },
    {
      "cell_type": "code",
      "source": [
        "# A @ B #> @는 np 배열에서만 사용가능\n",
        "# A.dot(B)\n",
        "np.dot(A, B)"
      ],
      "metadata": {
        "colab": {
          "base_uri": "https://localhost:8080/"
        },
        "id": "SHF9ZIVEf4UA",
        "outputId": "985aec86-31c4-4481-9fee-361901c8485d"
      },
      "execution_count": 131,
      "outputs": [
        {
          "output_type": "execute_result",
          "data": {
            "text/plain": [
              "array([[ 2,  5,  8],\n",
              "       [ 4, 11, 18],\n",
              "       [ 6, 17, 28]])"
            ]
          },
          "metadata": {},
          "execution_count": 131
        }
      ]
    },
    {
      "cell_type": "code",
      "source": [
        "B @ A"
      ],
      "metadata": {
        "colab": {
          "base_uri": "https://localhost:8080/"
        },
        "id": "NYtxGCGyf8Fq",
        "outputId": "815bbb73-8383-4723-fe7e-aa56ae09dd6e"
      },
      "execution_count": 132,
      "outputs": [
        {
          "output_type": "execute_result",
          "data": {
            "text/plain": [
              "array([[13, 16],\n",
              "       [22, 28]])"
            ]
          },
          "metadata": {},
          "execution_count": 132
        }
      ]
    },
    {
      "cell_type": "code",
      "source": [
        "A = np.arange(6).reshape((3, -1))\n",
        "print(A) # (3, 2)"
      ],
      "metadata": {
        "colab": {
          "base_uri": "https://localhost:8080/"
        },
        "id": "guLvJKeoiAXm",
        "outputId": "0aeef4fa-36f7-4a5f-f623-c176687484d5"
      },
      "execution_count": 135,
      "outputs": [
        {
          "output_type": "stream",
          "name": "stdout",
          "text": [
            "[[0 1]\n",
            " [2 3]\n",
            " [4 5]]\n"
          ]
        }
      ]
    },
    {
      "cell_type": "code",
      "source": [
        "w = np.array([1, 2]) #> [1,\n",
        "                     #   2]\n",
        "print(w) # (2,)"
      ],
      "metadata": {
        "colab": {
          "base_uri": "https://localhost:8080/"
        },
        "id": "4klUywNDjFJN",
        "outputId": "90687d04-3d45-4e8a-e373-592b83a641bb"
      },
      "execution_count": 136,
      "outputs": [
        {
          "output_type": "stream",
          "name": "stdout",
          "text": [
            "[1 2]\n"
          ]
        }
      ]
    },
    {
      "cell_type": "code",
      "source": [
        "A @ w"
      ],
      "metadata": {
        "colab": {
          "base_uri": "https://localhost:8080/"
        },
        "id": "cHG-QQNKjecf",
        "outputId": "e4951e13-0380-4ca9-de02-cc6b8a0e26ee"
      },
      "execution_count": 137,
      "outputs": [
        {
          "output_type": "execute_result",
          "data": {
            "text/plain": [
              "array([ 2,  8, 14])"
            ]
          },
          "metadata": {},
          "execution_count": 137
        }
      ]
    },
    {
      "cell_type": "code",
      "source": [
        "X_train_poly.shape, lin_reg2.coef_.shape"
      ],
      "metadata": {
        "colab": {
          "base_uri": "https://localhost:8080/"
        },
        "id": "8bgpwkfyj7HB",
        "outputId": "a71e75fc-ca60-4de0-b7c0-1aa0604e0c55"
      },
      "execution_count": 139,
      "outputs": [
        {
          "output_type": "execute_result",
          "data": {
            "text/plain": [
              "((42, 2), (2,))"
            ]
          },
          "metadata": {},
          "execution_count": 139
        }
      ]
    },
    {
      "cell_type": "code",
      "source": [
        "X_test_poly.shape, lin_reg2.coef_.shape"
      ],
      "metadata": {
        "colab": {
          "base_uri": "https://localhost:8080/"
        },
        "id": "4tU9M8F_kE_E",
        "outputId": "350ef7b2-5758-463f-f797-9c7b7de592a3"
      },
      "execution_count": 141,
      "outputs": [
        {
          "output_type": "execute_result",
          "data": {
            "text/plain": [
              "((14, 2), (2,))"
            ]
          },
          "metadata": {},
          "execution_count": 141
        }
      ]
    },
    {
      "cell_type": "code",
      "source": [
        "lin_reg2.intercept_ + X_test_poly @ lin_reg2.coef_ # w0 + X * w1"
      ],
      "metadata": {
        "colab": {
          "base_uri": "https://localhost:8080/"
        },
        "id": "Upys0NRXkkij",
        "outputId": "724e46b2-4335-4fbb-f1f1-a3b99e02fe0f"
      },
      "execution_count": 142,
      "outputs": [
        {
          "output_type": "execute_result",
          "data": {
            "text/plain": [
              "array([   6.5349146 ,   56.6511646 ,  290.29593158,  117.05874344,\n",
              "        144.50252913,  876.66458663,  382.21135986,  199.55847561,\n",
              "        818.09027497,  110.65424646, 1097.65040817,   33.01314491,\n",
              "        307.66468513,  283.49043666])"
            ]
          },
          "metadata": {},
          "execution_count": 142
        }
      ]
    },
    {
      "cell_type": "code",
      "source": [
        "test_pred"
      ],
      "metadata": {
        "colab": {
          "base_uri": "https://localhost:8080/"
        },
        "id": "_QrIObYBk9WO",
        "outputId": "1c36161a-365e-47d4-b54c-ae2d9e658bc2"
      },
      "execution_count": 143,
      "outputs": [
        {
          "output_type": "execute_result",
          "data": {
            "text/plain": [
              "array([   6.5349146 ,   56.6511646 ,  290.29593158,  117.05874344,\n",
              "        144.50252913,  876.66458663,  382.21135986,  199.55847561,\n",
              "        818.09027497,  110.65424646, 1097.65040817,   33.01314491,\n",
              "        307.66468513,  283.49043666])"
            ]
          },
          "metadata": {},
          "execution_count": 143
        }
      ]
    },
    {
      "cell_type": "markdown",
      "source": [
        "# PolynomialFeatures 변환기"
      ],
      "metadata": {
        "id": "dLde5wpNs0lk"
      }
    },
    {
      "cell_type": "markdown",
      "source": [
        "scikit-learn 클래스\n",
        "\n",
        "* Estimator(추정기, 예측기) 클래스\n",
        "    * 머신 러닝 알고리즘을 구현한 클래스\n",
        "    * `fit, predict, score` 메서드를 가지고 있음.\n",
        "    * 예: `KNeighborsClassifier, KNeighborsRegressor, LinearRegression, ` ...\n",
        "* Transformer(변환기) 클래스\n",
        "    * 전처리(preprocessing) 과정에서(모델을 훈련시키기 전에) 훈련 셋과 데스트 셋의 데이터들을 변환할 때 사용하는 클래스.\n",
        "    * `fit, transform, fit_transform` 메서드를 가지고 있음.\n",
        "    * `StandardScaler, MinMaxScaler, PolynomialFeatures, `..."
      ],
      "metadata": {
        "id": "nTSCbTFrs7mg"
      }
    },
    {
      "cell_type": "code",
      "source": [
        "# PolynomialFeatures 변환기 클래스의 인스턴스 생성\n",
        "poly = PolynomialFeatures(include_bias=False) # 2차 다항식을 만들어 주는 변환기(degree의 기본값은 2)"
      ],
      "metadata": {
        "id": "o2KuxFiSsw-f"
      },
      "execution_count": 147,
      "outputs": []
    },
    {
      "cell_type": "code",
      "source": [
        "# 훈련 셋 출력\n",
        "X_train[:5, :]"
      ],
      "metadata": {
        "colab": {
          "base_uri": "https://localhost:8080/"
        },
        "id": "8Lssjpbvv2ko",
        "outputId": "b942d55a-ac7b-4829-c7e3-3b82ed2b2e6f"
      },
      "execution_count": 149,
      "outputs": [
        {
          "output_type": "execute_result",
          "data": {
            "text/plain": [
              "array([[19.6],\n",
              "       [22. ],\n",
              "       [18.7],\n",
              "       [17.4],\n",
              "       [36. ]])"
            ]
          },
          "metadata": {},
          "execution_count": 149
        }
      ]
    },
    {
      "cell_type": "code",
      "source": [
        "# 훈련 셋에서 2차항(Length ** 2)을 추가한 데이터 셋으로 변환\n",
        "X_train_2 = poly.fit_transform(X_train)\n",
        "X_train_2[:5, :]"
      ],
      "metadata": {
        "colab": {
          "base_uri": "https://localhost:8080/"
        },
        "id": "k_VTqU5ywXvT",
        "outputId": "98e6916d-1dac-4a83-bb2d-1c39222ea7b3"
      },
      "execution_count": 150,
      "outputs": [
        {
          "output_type": "execute_result",
          "data": {
            "text/plain": [
              "array([[  19.6 ,  384.16],\n",
              "       [  22.  ,  484.  ],\n",
              "       [  18.7 ,  349.69],\n",
              "       [  17.4 ,  302.76],\n",
              "       [  36.  , 1296.  ]])"
            ]
          },
          "metadata": {},
          "execution_count": 150
        }
      ]
    },
    {
      "cell_type": "code",
      "source": [
        "# 테스트 셋에서 2차항을 추가\n",
        "X_test_2 = poly.transform(X_test)\n",
        "X_test_2[:5, :]"
      ],
      "metadata": {
        "colab": {
          "base_uri": "https://localhost:8080/"
        },
        "id": "R7URV6t1xAW4",
        "outputId": "bf38fc15-1e29-42ca-da4a-cc4443a30270"
      },
      "execution_count": 153,
      "outputs": [
        {
          "output_type": "execute_result",
          "data": {
            "text/plain": [
              "array([[  8.4 ,  70.56],\n",
              "       [ 18.  , 324.  ],\n",
              "       [ 27.5 , 756.25],\n",
              "       [ 21.3 , 453.69],\n",
              "       [ 22.5 , 506.25]])"
            ]
          },
          "metadata": {},
          "execution_count": 153
        }
      ]
    },
    {
      "cell_type": "code",
      "source": [
        "# 3차 다항식까지 생성하는 변환기 객체 생성.\n",
        "poly_3 = PolynomialFeatures(degree=3, include_bias=False)"
      ],
      "metadata": {
        "id": "xAalokXoxQ56"
      },
      "execution_count": 155,
      "outputs": []
    },
    {
      "cell_type": "code",
      "source": [
        "X_train_3 = poly_3.fit_transform(X_train)\n",
        "X_train_3[:5, :]"
      ],
      "metadata": {
        "colab": {
          "base_uri": "https://localhost:8080/"
        },
        "id": "KdlLYV4Px14K",
        "outputId": "74bf9b5b-9fb4-4150-90d3-f185e2dac757"
      },
      "execution_count": 156,
      "outputs": [
        {
          "output_type": "execute_result",
          "data": {
            "text/plain": [
              "array([[1.960000e+01, 3.841600e+02, 7.529536e+03],\n",
              "       [2.200000e+01, 4.840000e+02, 1.064800e+04],\n",
              "       [1.870000e+01, 3.496900e+02, 6.539203e+03],\n",
              "       [1.740000e+01, 3.027600e+02, 5.268024e+03],\n",
              "       [3.600000e+01, 1.296000e+03, 4.665600e+04]])"
            ]
          },
          "metadata": {},
          "execution_count": 156
        }
      ]
    },
    {
      "cell_type": "code",
      "source": [
        "X_test_3 = poly_3.transform(X_test)\n",
        "X_test_3[:5, :]"
      ],
      "metadata": {
        "colab": {
          "base_uri": "https://localhost:8080/"
        },
        "id": "TP5evMfkx9cC",
        "outputId": "887ee2d8-ea64-4404-a133-88c25f99b4c0"
      },
      "execution_count": 157,
      "outputs": [
        {
          "output_type": "execute_result",
          "data": {
            "text/plain": [
              "array([[8.4000000e+00, 7.0560000e+01, 5.9270400e+02],\n",
              "       [1.8000000e+01, 3.2400000e+02, 5.8320000e+03],\n",
              "       [2.7500000e+01, 7.5625000e+02, 2.0796875e+04],\n",
              "       [2.1300000e+01, 4.5369000e+02, 9.6635970e+03],\n",
              "       [2.2500000e+01, 5.0625000e+02, 1.1390625e+04]])"
            ]
          },
          "metadata": {},
          "execution_count": 157
        }
      ]
    },
    {
      "cell_type": "markdown",
      "source": [
        "## PolynomiaFeatures + StandardScaler\n",
        "\n",
        "* 다항 선형 회귀에서 차수(degree)가 커질 수록 고차항이 저차항에 비해서 예측값을 계산할 때 더 큰 영향을 미치게 됨.\n",
        "* 다항 선형 회귀에서 고차항을 포함시킬 때는 일반적으로 scaling(표준화)을 함께 사용하는 경우가 많음."
      ],
      "metadata": {
        "id": "p_LySLrn06EQ"
      }
    },
    {
      "cell_type": "code",
      "source": [
        "# 3차항까지 추가 -> 표준화\n",
        "poly = PolynomialFeatures(degree=3, include_bias=False) # 다차항 추가 변환기\n",
        "scaler = StandardScaler() # 표준화 변환기"
      ],
      "metadata": {
        "id": "kpMphljlzBMQ"
      },
      "execution_count": 158,
      "outputs": []
    },
    {
      "cell_type": "code",
      "source": [
        "# 훈련 셋 변환\n",
        "X_tr_poly = poly.fit_transform(X_train) # 2차항, 3차항을 추가\n",
        "X_tr_poly_sc = scaler.fit_transform(X_tr_poly) # 컬럼 별로 평균과 표준편차를 찾아서 스케일 변환"
      ],
      "metadata": {
        "id": "6xdi-woo2F-V"
      },
      "execution_count": 161,
      "outputs": []
    },
    {
      "cell_type": "code",
      "source": [
        "X_tr_poly_sc[:5, :]"
      ],
      "metadata": {
        "colab": {
          "base_uri": "https://localhost:8080/"
        },
        "id": "vG7QT3dC2WHY",
        "outputId": "7202a833-5adc-432a-937b-781dcaf6ff5c"
      },
      "execution_count": 162,
      "outputs": [
        {
          "output_type": "execute_result",
          "data": {
            "text/plain": [
              "array([[-1.01339619, -0.9549757 , -0.88757122],\n",
              "       [-0.73842893, -0.76472563, -0.76291014],\n",
              "       [-1.11650891, -1.02065999, -0.92715994],\n",
              "       [-1.26544951, -1.11008743, -0.97797552],\n",
              "       [ 0.86554673,  0.78258063,  0.67651527]])"
            ]
          },
          "metadata": {},
          "execution_count": 162
        }
      ]
    },
    {
      "cell_type": "code",
      "source": [
        "# 테스트 셋 변환\n",
        "X_te_poly = poly.transform(X_test)\n",
        "X_te_poly_sc = scaler.transform(X_te_poly)"
      ],
      "metadata": {
        "id": "y9OULIoV25Qy"
      },
      "execution_count": 163,
      "outputs": []
    },
    {
      "cell_type": "code",
      "source": [
        "X_te_poly_sc[:5, :]"
      ],
      "metadata": {
        "colab": {
          "base_uri": "https://localhost:8080/"
        },
        "id": "JIifECE03jrG",
        "outputId": "ae808d2a-d5c9-4443-dcc8-1a6887d12833"
      },
      "execution_count": 164,
      "outputs": [
        {
          "output_type": "execute_result",
          "data": {
            "text/plain": [
              "array([[-2.29657672, -1.55255604, -1.16487216],\n",
              "       [-1.1967077 , -1.06961356, -0.95543049],\n",
              "       [-0.10829564, -0.24593976, -0.35720728],\n",
              "       [-0.81862772, -0.82248284, -0.8022618 ],\n",
              "       [-0.68114409, -0.72232715, -0.73322359]])"
            ]
          },
          "metadata": {},
          "execution_count": 164
        }
      ]
    },
    {
      "cell_type": "code",
      "source": [
        "lin_reg = LinearRegression() # 모델 생성\n",
        "lin_reg.fit(X_tr_poly_sc, y_train) # 모델 훈련\n",
        "train_pred = lin_reg.predict(X_tr_poly_sc) # 예측\n",
        "print(train_pred)"
      ],
      "metadata": {
        "colab": {
          "base_uri": "https://localhost:8080/"
        },
        "id": "xKfJTaya3lc8",
        "outputId": "2051c0ea-30bd-4ccc-d28d-5984c20b1996"
      },
      "execution_count": 166,
      "outputs": [
        {
          "output_type": "stream",
          "name": "stdout",
          "text": [
            "[  76.11208213  121.32671907   64.43503022   53.03736922  676.51776072\n",
            "  203.64006744  883.41268054  831.17507632 1039.71479927  121.32671907\n",
            "   82.25658755  121.32671907  173.27607317  290.93930643 1039.71479927\n",
            "  883.41268054  173.27607317  100.09367224  290.93930643  883.41268054\n",
            "  519.14231311  254.17726522  701.95141826   59.18009181  138.11611752\n",
            "   50.17607368  727.55145991  626.2376762   338.00950138  159.158376\n",
            "  831.17507632  100.09367224  145.77957155  121.32671907 1091.09141922\n",
            "  133.16167938   67.9916215   727.55145991  121.32671907  223.16157937\n",
            "  987.85869851  601.43528834]\n"
          ]
        }
      ]
    },
    {
      "cell_type": "code",
      "source": [
        "lin_reg.score(X_tr_poly_sc, y_train) # 훈련 셋 결과 평가"
      ],
      "metadata": {
        "colab": {
          "base_uri": "https://localhost:8080/"
        },
        "id": "Vs6aNy9c4Qxl",
        "outputId": "93aba529-0426-4502-84f2-9e32433a3b68"
      },
      "execution_count": 168,
      "outputs": [
        {
          "output_type": "execute_result",
          "data": {
            "text/plain": [
              "0.9729178478354534"
            ]
          },
          "metadata": {},
          "execution_count": 168
        }
      ]
    },
    {
      "cell_type": "code",
      "source": [
        "lin_reg.score(X_te_poly_sc, y_test) # 테스트 셋 결과 평가"
      ],
      "metadata": {
        "colab": {
          "base_uri": "https://localhost:8080/"
        },
        "id": "NjRtxilb4X3z",
        "outputId": "2f04266c-b3ff-475a-aa92-50e6d1a171f8"
      },
      "execution_count": 169,
      "outputs": [
        {
          "output_type": "execute_result",
          "data": {
            "text/plain": [
              "0.9588363727422972"
            ]
          },
          "metadata": {},
          "execution_count": 169
        }
      ]
    },
    {
      "cell_type": "code",
      "source": [
        ""
      ],
      "metadata": {
        "id": "Odb0e4UL4tB7"
      },
      "execution_count": null,
      "outputs": []
    }
  ]
}