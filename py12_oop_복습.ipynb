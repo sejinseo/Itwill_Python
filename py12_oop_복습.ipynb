{
  "nbformat": 4,
  "nbformat_minor": 0,
  "metadata": {
    "colab": {
      "name": "py12_oop 복습.ipynb",
      "provenance": [],
      "collapsed_sections": [],
      "authorship_tag": "ABX9TyN3DiwLGaQHBYe83VKiNvrU",
      "include_colab_link": true
    },
    "kernelspec": {
      "name": "python3",
      "display_name": "Python 3"
    },
    "language_info": {
      "name": "python"
    }
  },
  "cells": [
    {
      "cell_type": "markdown",
      "metadata": {
        "id": "view-in-github",
        "colab_type": "text"
      },
      "source": [
        "<a href=\"https://colab.research.google.com/github/sejinseo/Python/blob/main/py12_oop_%EB%B3%B5%EC%8A%B5.ipynb\" target=\"_parent\"><img src=\"https://colab.research.google.com/assets/colab-badge.svg\" alt=\"Open In Colab\"/></a>"
      ]
    },
    {
      "cell_type": "markdown",
      "source": [
        "# OOP(Object-Oriented Programming, 객체 지향 프로그래밍)의 배경"
      ],
      "metadata": {
        "id": "gi6vuUMTc-Us"
      }
    },
    {
      "cell_type": "markdown",
      "source": [
        "## list, dict 사용"
      ],
      "metadata": {
        "id": "QH7UK6_kdFMh"
      }
    },
    {
      "cell_type": "code",
      "execution_count": 1,
      "metadata": {
        "id": "zur0BaBQc5_7"
      },
      "outputs": [],
      "source": [
        "student = [\n",
        "           {'name': 'aa', 'korean': 90, 'english': 95, 'math': 80},\n",
        "           {'name': 'bb', 'korean': 95, 'english': 90, 'math': 85},\n",
        "           {'name': 'cc', 'korean': 80, 'english': 85, 'math': 90},\n",
        "]"
      ]
    },
    {
      "cell_type": "code",
      "source": [
        "# 각 학생의 3과목 총점과 평균\n",
        "for s in student:\n",
        "    total = s['korean'] + s['english'] + s['math']\n",
        "    mean = total / 3\n",
        "\n",
        "    print(f'이름: {s[\"name\"]}, 총점: {total}, 평균: {mean}')"
      ],
      "metadata": {
        "colab": {
          "base_uri": "https://localhost:8080/"
        },
        "id": "jAi11c6jdY1K",
        "outputId": "f2b66a3d-e13f-4a7b-bf86-7b65d5e0ce90"
      },
      "execution_count": 2,
      "outputs": [
        {
          "output_type": "stream",
          "name": "stdout",
          "text": [
            "이름: aa, 총점: 265, 평균: 88.33333333333333\n",
            "이름: bb, 총점: 270, 평균: 90.0\n",
            "이름: cc, 총점: 255, 평균: 85.0\n"
          ]
        }
      ]
    },
    {
      "cell_type": "markdown",
      "source": [
        "# 함수형 프로그래밍(Functional Programming)"
      ],
      "metadata": {
        "id": "QEzRCY3md5Jd"
      }
    },
    {
      "cell_type": "code",
      "source": [
        "def create_student(name, korean, english, math):\n",
        "    student = {\n",
        "        'name': name,\n",
        "        'korean': korean,\n",
        "        'english': english,\n",
        "        'math': math\n",
        "    }\n",
        "\n",
        "    return student"
      ],
      "metadata": {
        "id": "ak-uxteHd1Zp"
      },
      "execution_count": 3,
      "outputs": []
    },
    {
      "cell_type": "code",
      "source": [
        "student = [\n",
        "           create_student(name='aa', korean=100, english=50, math=40),\n",
        "           create_student(name='bb', korean=90, english=60, math=50),\n",
        "           create_student(name='cc', korean=80, english=70, math=60),\n",
        "           create_student(name='dd', korean=70, english=80, math=70),\n",
        "]"
      ],
      "metadata": {
        "id": "aIqc0eJPeRaF"
      },
      "execution_count": 4,
      "outputs": []
    },
    {
      "cell_type": "code",
      "source": [
        "def get_total(student):\n",
        "    return student['korean'] + student['english'] + student['math']"
      ],
      "metadata": {
        "id": "IDHImVDPeqKA"
      },
      "execution_count": 7,
      "outputs": []
    },
    {
      "cell_type": "code",
      "source": [
        "def get_mean(student):\n",
        "    return get_total(student) / 3"
      ],
      "metadata": {
        "id": "TOm07PQRe3hO"
      },
      "execution_count": 8,
      "outputs": []
    },
    {
      "cell_type": "code",
      "source": [
        "for s in student:\n",
        "    total = get_total(s)\n",
        "    mean = get_mean(s)\n",
        "    print(f'이름: {s[\"name\"]}, 총점: {total}, 평균: {mean}')"
      ],
      "metadata": {
        "colab": {
          "base_uri": "https://localhost:8080/"
        },
        "id": "CyEIIrw5e8wj",
        "outputId": "4afc33fe-434a-49ea-edbe-b7e067150c71"
      },
      "execution_count": 9,
      "outputs": [
        {
          "output_type": "stream",
          "name": "stdout",
          "text": [
            "이름: aa, 총점: 190, 평균: 63.333333333333336\n",
            "이름: bb, 총점: 200, 평균: 66.66666666666667\n",
            "이름: cc, 총점: 210, 평균: 70.0\n",
            "이름: dd, 총점: 220, 평균: 73.33333333333333\n"
          ]
        }
      ]
    },
    {
      "cell_type": "markdown",
      "source": [
        "# 객체 지향 프로그래밍(OOP)\n",
        "    * 객체(object): 소프트웨어로 구현할 대상.\n",
        "    * 클래스(class): 객체를 구현하기 위한 소스 코드.\n",
        "        * 속성(attribute, property): 객체가 가져야 하는 데이터. 변수들에 저장되는 값.\n",
        "        * 메서드(method): 객체가 가져야 하는 기능. 클래스 내부에서 정의하는 함수.\n",
        "    * 인스턴스(instance): 클래스를 사용해서 메모리에 생성된 객체\n",
        "    * 인스턴스 생성(intantiate): 클래스의 객체를 메모리에 생성하는 것.\n",
        "    * 생성자(construct): 인스턴스를 생성하기 위해서 호출하는 함수. 클래스 이름과 동일한 함수"
      ],
      "metadata": {
        "id": "Dg8MUmNMfT89"
      }
    },
    {
      "cell_type": "code",
      "source": [
        "# 클래스 정의\n",
        "class Student:\n",
        "    # 생성자 함수: 생성자가 호출됐을 때 자동으로 호출되는 함수. 속성들을 선언하고 초기화.\n",
        "    def __init__(self, name, korean, english, math):\n",
        "        self.name = name\n",
        "        self.korean = korean\n",
        "        self.english = english\n",
        "        self.math = math\n",
        "    \n",
        "    # 메서드\n",
        "    def get_total(self):\n",
        "        return self.korean + self.english + self.math\n",
        "\n",
        "    def get_mean(self):\n",
        "        return self.get_total() / 3\n",
        "\n",
        "    def print_info(self):\n",
        "        print(f'이름: {self.name}, 총점: {self.get_total()}, 평균: {self.get_mean()}')"
      ],
      "metadata": {
        "id": "B4t63vr_fQ2y"
      },
      "execution_count": 10,
      "outputs": []
    },
    {
      "cell_type": "code",
      "source": [
        "stu1 = Student(name='서세진', korean=100, english=100, math=100)"
      ],
      "metadata": {
        "id": "FAYxL0ohg7nD"
      },
      "execution_count": 11,
      "outputs": []
    },
    {
      "cell_type": "code",
      "source": [
        "stu1"
      ],
      "metadata": {
        "colab": {
          "base_uri": "https://localhost:8080/"
        },
        "id": "qh8wbnKrhDEK",
        "outputId": "52d2e11c-3816-4b8d-b333-d1bd65ff4c74"
      },
      "execution_count": 12,
      "outputs": [
        {
          "output_type": "execute_result",
          "data": {
            "text/plain": [
              "<__main__.Student at 0x7fa3424a31d0>"
            ]
          },
          "metadata": {},
          "execution_count": 12
        }
      ]
    },
    {
      "cell_type": "code",
      "source": [
        "stu1.get_total()"
      ],
      "metadata": {
        "colab": {
          "base_uri": "https://localhost:8080/"
        },
        "id": "pEAQqBTthERu",
        "outputId": "c3c73f57-201e-4f4b-a7a4-0913eb04e5eb"
      },
      "execution_count": 13,
      "outputs": [
        {
          "output_type": "execute_result",
          "data": {
            "text/plain": [
              "300"
            ]
          },
          "metadata": {},
          "execution_count": 13
        }
      ]
    },
    {
      "cell_type": "code",
      "source": [
        "stu1.get_mean()"
      ],
      "metadata": {
        "colab": {
          "base_uri": "https://localhost:8080/"
        },
        "id": "TTYVq3WYhG8N",
        "outputId": "07f85aca-703f-4760-ef8f-2eb044814636"
      },
      "execution_count": 14,
      "outputs": [
        {
          "output_type": "execute_result",
          "data": {
            "text/plain": [
              "100.0"
            ]
          },
          "metadata": {},
          "execution_count": 14
        }
      ]
    },
    {
      "cell_type": "code",
      "source": [
        "stu1.print_info()"
      ],
      "metadata": {
        "colab": {
          "base_uri": "https://localhost:8080/"
        },
        "id": "FflroMHqhJGF",
        "outputId": "49e82b45-5490-487e-86c9-a72201a8c098"
      },
      "execution_count": 15,
      "outputs": [
        {
          "output_type": "stream",
          "name": "stdout",
          "text": [
            "이름: 서세진, 총점: 300, 평균: 100.0\n"
          ]
        }
      ]
    },
    {
      "cell_type": "code",
      "source": [
        "dir(stu1) # 객체가 가지고 있는 멤버들(속성과 메서드)의 리스트"
      ],
      "metadata": {
        "colab": {
          "base_uri": "https://localhost:8080/"
        },
        "id": "hgR7C6rOhLTE",
        "outputId": "3ce2d7ff-55cb-474b-f43f-d69667835f06"
      },
      "execution_count": 16,
      "outputs": [
        {
          "output_type": "execute_result",
          "data": {
            "text/plain": [
              "['__class__',\n",
              " '__delattr__',\n",
              " '__dict__',\n",
              " '__dir__',\n",
              " '__doc__',\n",
              " '__eq__',\n",
              " '__format__',\n",
              " '__ge__',\n",
              " '__getattribute__',\n",
              " '__gt__',\n",
              " '__hash__',\n",
              " '__init__',\n",
              " '__init_subclass__',\n",
              " '__le__',\n",
              " '__lt__',\n",
              " '__module__',\n",
              " '__ne__',\n",
              " '__new__',\n",
              " '__reduce__',\n",
              " '__reduce_ex__',\n",
              " '__repr__',\n",
              " '__setattr__',\n",
              " '__sizeof__',\n",
              " '__str__',\n",
              " '__subclasshook__',\n",
              " '__weakref__',\n",
              " 'english',\n",
              " 'get_mean',\n",
              " 'get_total',\n",
              " 'korean',\n",
              " 'math',\n",
              " 'name',\n",
              " 'print_info']"
            ]
          },
          "metadata": {},
          "execution_count": 16
        }
      ]
    },
    {
      "cell_type": "markdown",
      "source": [
        "# class 작성 연습"
      ],
      "metadata": {
        "id": "a7ux8P8phUs9"
      }
    },
    {
      "cell_type": "code",
      "source": [
        "import math # 수학 관련 함수들을 사용하기 위해서"
      ],
      "metadata": {
        "id": "xZQxLRWbhSQD"
      },
      "execution_count": 17,
      "outputs": []
    },
    {
      "cell_type": "code",
      "source": [
        "class Point:\n",
        "    def __init__(self, x=0, y=0):\n",
        "        \"\"\"\n",
        "        2차원 평면의 점의 좌표를 표현하는 클래스\n",
        "        \"\"\"\n",
        "        self.x = x\n",
        "        self.y = y\n",
        "\n",
        "    def move(self, dx=0, dy=0):\n",
        "        \"\"\"\n",
        "        점의 좌표를 원래 위치에서 x축의 방향으로 dx만큼, y축의 방향으로 dy만큼 이동\n",
        "        \"\"\"\n",
        "        self.x += dx\n",
        "        self.y += dy\n",
        "    \n",
        "    def distance(self, other):\n",
        "        \"\"\"\n",
        "        현재 위치와 다른 Point other 사이의 거리를 리턴\n",
        "        \"\"\"\n",
        "        return math.sqrt((self.x - other.x)**2 + (self.y - other.y)**2)\n",
        "    "
      ],
      "metadata": {
        "id": "Wkf81oyVhZD3"
      },
      "execution_count": 19,
      "outputs": []
    },
    {
      "cell_type": "code",
      "source": [
        "pt1 = Point()"
      ],
      "metadata": {
        "id": "EF1Zo-gLidO_"
      },
      "execution_count": 20,
      "outputs": []
    },
    {
      "cell_type": "code",
      "source": [
        "print(pt1)"
      ],
      "metadata": {
        "colab": {
          "base_uri": "https://localhost:8080/"
        },
        "id": "7SQpuU_jijnS",
        "outputId": "132d1103-3bd0-4c90-ed68-7867ff4085f1"
      },
      "execution_count": 21,
      "outputs": [
        {
          "output_type": "stream",
          "name": "stdout",
          "text": [
            "<__main__.Point object at 0x7fa3424a3350>\n"
          ]
        }
      ]
    },
    {
      "cell_type": "code",
      "source": [
        "# 객체(인스턴스)의 속성들(멤버 변수들)\n",
        "print(pt1.x)\n",
        "print(pt1.y)"
      ],
      "metadata": {
        "colab": {
          "base_uri": "https://localhost:8080/"
        },
        "id": "DRPeaovqilXJ",
        "outputId": "b86f1123-8b5a-4eec-cf6d-447bfeaccd8e"
      },
      "execution_count": 22,
      "outputs": [
        {
          "output_type": "stream",
          "name": "stdout",
          "text": [
            "0\n",
            "0\n"
          ]
        }
      ]
    },
    {
      "cell_type": "code",
      "source": [
        "pt2 = Point(3, 4)\n",
        "print(pt2)\n",
        "print(pt2.x)\n",
        "print(pt2.y)"
      ],
      "metadata": {
        "colab": {
          "base_uri": "https://localhost:8080/"
        },
        "id": "c6HUbaqXitZH",
        "outputId": "e8354e13-de6d-4d03-9902-293dfeaf591c"
      },
      "execution_count": 23,
      "outputs": [
        {
          "output_type": "stream",
          "name": "stdout",
          "text": [
            "<__main__.Point object at 0x7fa342515f50>\n",
            "3\n",
            "4\n"
          ]
        }
      ]
    },
    {
      "cell_type": "code",
      "source": [
        "pt3 = Point(1)\n",
        "print(pt3)\n",
        "print(pt3.x)\n",
        "print(pt3.y)"
      ],
      "metadata": {
        "colab": {
          "base_uri": "https://localhost:8080/"
        },
        "id": "JNJcic67i8qC",
        "outputId": "a6cb6109-854d-4753-e154-3bff31bf8079"
      },
      "execution_count": 24,
      "outputs": [
        {
          "output_type": "stream",
          "name": "stdout",
          "text": [
            "<__main__.Point object at 0x7fa3424c1fd0>\n",
            "1\n",
            "0\n"
          ]
        }
      ]
    },
    {
      "cell_type": "code",
      "source": [
        "pt4 = Point(y=1)\n",
        "print(pt4)\n",
        "print(pt4.x)\n",
        "print(pt4.y)"
      ],
      "metadata": {
        "colab": {
          "base_uri": "https://localhost:8080/"
        },
        "id": "I9KN-hSMjF6C",
        "outputId": "f8aab593-972d-48fe-8563-5de86aeff0c0"
      },
      "execution_count": 25,
      "outputs": [
        {
          "output_type": "stream",
          "name": "stdout",
          "text": [
            "<__main__.Point object at 0x7fa34248e190>\n",
            "0\n",
            "1\n"
          ]
        }
      ]
    },
    {
      "cell_type": "code",
      "source": [
        "# pt4를 x축의 방향으로 1만큼, y축의 방향으로 2만큼 이동\n",
        "pt4.move(1, 2)\n",
        "print(pt4.x, pt4.y)"
      ],
      "metadata": {
        "colab": {
          "base_uri": "https://localhost:8080/"
        },
        "id": "NMLgXH0kjMyr",
        "outputId": "5ea8b947-7267-461e-9153-72dbcbd7b74d"
      },
      "execution_count": 26,
      "outputs": [
        {
          "output_type": "stream",
          "name": "stdout",
          "text": [
            "1 3\n"
          ]
        }
      ]
    },
    {
      "cell_type": "code",
      "source": [
        "pt1.distance(pt2)"
      ],
      "metadata": {
        "colab": {
          "base_uri": "https://localhost:8080/"
        },
        "id": "Zjnnk0Z9javd",
        "outputId": "e2768e88-4747-4458-f803-dc6240be6159"
      },
      "execution_count": 27,
      "outputs": [
        {
          "output_type": "execute_result",
          "data": {
            "text/plain": [
              "5.0"
            ]
          },
          "metadata": {},
          "execution_count": 27
        }
      ]
    },
    {
      "cell_type": "code",
      "source": [
        "class Rectangle:\n",
        "    \"\"\"\n",
        "    직사각형: 꼭지점의 x좌표, 꼭지점의 y좌표, 가로길이, 세로길이, 둘레 길이 계산 기능, 넓이 계산 기능\n",
        "    \"\"\"\n",
        "    def __init__(self, x=0, y=0, width=0, height=0):\n",
        "        self.x = x\n",
        "        self.y = y\n",
        "        self.w = width\n",
        "        self.h = height\n",
        "    \n",
        "    def perimeter(self):\n",
        "        return 2 * (self.w + self.h)\n",
        "    \n",
        "    def area(self):\n",
        "        return self.w * self.h"
      ],
      "metadata": {
        "id": "mtseu1YjjfFY"
      },
      "execution_count": 31,
      "outputs": []
    },
    {
      "cell_type": "code",
      "source": [
        "# 꼭지점의 좌표가 원점(0, 0)이고, 가로 길이는 2, 세로 길이는 3인 직사각형\n",
        "rect1 = Rectangle(width=2, height=3)"
      ],
      "metadata": {
        "id": "x20oDnbtkUyF"
      },
      "execution_count": 32,
      "outputs": []
    },
    {
      "cell_type": "code",
      "source": [
        "rect1.perimeter()"
      ],
      "metadata": {
        "colab": {
          "base_uri": "https://localhost:8080/"
        },
        "id": "hExuNSggkevx",
        "outputId": "6b7ae5c5-825a-4c70-b700-4cd452787939"
      },
      "execution_count": 33,
      "outputs": [
        {
          "output_type": "execute_result",
          "data": {
            "text/plain": [
              "10"
            ]
          },
          "metadata": {},
          "execution_count": 33
        }
      ]
    },
    {
      "cell_type": "code",
      "source": [
        "rect1.area()"
      ],
      "metadata": {
        "colab": {
          "base_uri": "https://localhost:8080/"
        },
        "id": "aizN4WbqkiNJ",
        "outputId": "daf3d8fe-e444-4e2e-86af-7f107f5293a5"
      },
      "execution_count": 34,
      "outputs": [
        {
          "output_type": "execute_result",
          "data": {
            "text/plain": [
              "6"
            ]
          },
          "metadata": {},
          "execution_count": 34
        }
      ]
    },
    {
      "cell_type": "code",
      "source": [
        "# 꼭지점의 좌표가 (1, 1)이고, 가로 길이는 4, 세로 길이는 3인 직사각형\n",
        "rect2 = Rectangle(1, 1, 4, 3)"
      ],
      "metadata": {
        "id": "jVOs237UkqkQ"
      },
      "execution_count": 35,
      "outputs": []
    },
    {
      "cell_type": "code",
      "source": [
        "rect2.perimeter()"
      ],
      "metadata": {
        "colab": {
          "base_uri": "https://localhost:8080/"
        },
        "id": "1Ll-NZqdkxw6",
        "outputId": "67b48f0d-4eec-407c-dfd0-387afa0d71b4"
      },
      "execution_count": 36,
      "outputs": [
        {
          "output_type": "execute_result",
          "data": {
            "text/plain": [
              "14"
            ]
          },
          "metadata": {},
          "execution_count": 36
        }
      ]
    },
    {
      "cell_type": "code",
      "source": [
        "rect2.area()"
      ],
      "metadata": {
        "colab": {
          "base_uri": "https://localhost:8080/"
        },
        "id": "wcmOqyI3kzcb",
        "outputId": "baf21ff3-0bba-451e-86dd-3323de42f774"
      },
      "execution_count": 37,
      "outputs": [
        {
          "output_type": "execute_result",
          "data": {
            "text/plain": [
              "12"
            ]
          },
          "metadata": {},
          "execution_count": 37
        }
      ]
    },
    {
      "cell_type": "markdown",
      "source": [
        "# magic method\n",
        "\n",
        "모든 클래스가 같은 이름으로 가지고 있는 메서드. 특별한 경우에 자동으로 호출되는 메서드.\n",
        "\n",
        "    * __init__(self): 생성자를 호출하면 자동으로 호출되는 메서드.\n",
        "    * __str__(self): print() 함수에서 자동으로 호출되는 메서드.\n",
        "    * __repr__(self): 식(expression)을 자동으로 출력할 때 호출되는 메서드.\n",
        "        * 클래스에서 __str__과 __repr__ 메서드가 다르게 구현되어 있으면, print() 함수의 출려과 식을 출력하는 내용이 다름.\n",
        "        * print 함수는 __str__ 메서드가 구현되어 있으면 __str__를 호출하고, __str__ 함수가 구현되어 있지 않으면 __repr__ 함수를 호출함.\n",
        "    * __eq__(self, object): == 연산자가 사용됐을 때 자동으로 호출되는 메서드.\n",
        "    * __add__(self, object): + 연산자가 사용됐을 때 자동으로 호출되는 메서드.\n",
        "    * __mul__(self, object): * 연산자가 사용됐을 때 자동으로 호출되는 메서드."
      ],
      "metadata": {
        "id": "BPuyJtATnMgm"
      }
    },
    {
      "cell_type": "code",
      "source": [
        "class Test:\n",
        "    def __init__(self):\n",
        "        print('Test 객체 생성됨')\n",
        "    \n",
        "    def __repr__(self):\n",
        "        return 'Test 인스턴스'"
      ],
      "metadata": {
        "id": "0AlFgJa0k0ZZ"
      },
      "execution_count": 38,
      "outputs": []
    },
    {
      "cell_type": "code",
      "source": [
        "test = Test()"
      ],
      "metadata": {
        "colab": {
          "base_uri": "https://localhost:8080/"
        },
        "id": "CdblMBvmoUcL",
        "outputId": "12bd3990-d582-47d4-d2d1-cfc1282e7553"
      },
      "execution_count": 39,
      "outputs": [
        {
          "output_type": "stream",
          "name": "stdout",
          "text": [
            "Test 객체 생성됨\n"
          ]
        }
      ]
    },
    {
      "cell_type": "code",
      "source": [
        "print(test)\n",
        "test"
      ],
      "metadata": {
        "colab": {
          "base_uri": "https://localhost:8080/"
        },
        "id": "HIxCPajXoVdb",
        "outputId": "1df30d0e-45bd-4d41-a426-03f626949ac5"
      },
      "execution_count": 40,
      "outputs": [
        {
          "output_type": "stream",
          "name": "stdout",
          "text": [
            "Test 인스턴스\n"
          ]
        },
        {
          "output_type": "execute_result",
          "data": {
            "text/plain": [
              "Test 인스턴스"
            ]
          },
          "metadata": {},
          "execution_count": 40
        }
      ]
    },
    {
      "cell_type": "code",
      "source": [
        "numbers1 = [1, 2, 3]\n",
        "numbers2 = [1, 2, 3]\n",
        "numbers1 == numbers2"
      ],
      "metadata": {
        "colab": {
          "base_uri": "https://localhost:8080/"
        },
        "id": "IaM8ReBHoZXI",
        "outputId": "30735c6d-f0cc-4fbb-a8f3-06fa69bfe58b"
      },
      "execution_count": 41,
      "outputs": [
        {
          "output_type": "execute_result",
          "data": {
            "text/plain": [
              "True"
            ]
          },
          "metadata": {},
          "execution_count": 41
        }
      ]
    },
    {
      "cell_type": "code",
      "source": [
        "id(numbers1) # 리스트 numbers1의 주소값"
      ],
      "metadata": {
        "colab": {
          "base_uri": "https://localhost:8080/"
        },
        "id": "7zh_09xzogic",
        "outputId": "21f50c5a-9e5e-49ef-ea41-d26815535901"
      },
      "execution_count": 42,
      "outputs": [
        {
          "output_type": "execute_result",
          "data": {
            "text/plain": [
              "140339168355344"
            ]
          },
          "metadata": {},
          "execution_count": 42
        }
      ]
    },
    {
      "cell_type": "code",
      "source": [
        "id(numbers2) # 리스트 numbers2의 주소값"
      ],
      "metadata": {
        "colab": {
          "base_uri": "https://localhost:8080/"
        },
        "id": "kaIUtR2sojeP",
        "outputId": "a83156db-2b53-4948-d315-103f3561fb58"
      },
      "execution_count": 44,
      "outputs": [
        {
          "output_type": "execute_result",
          "data": {
            "text/plain": [
              "140339168505760"
            ]
          },
          "metadata": {},
          "execution_count": 44
        }
      ]
    },
    {
      "cell_type": "code",
      "source": [
        "class Test2:\n",
        "    def __init__(self, x):\n",
        "        self.x = x\n",
        "    \n",
        "    def __eq__(self, other):\n",
        "        if isinstance(other, Test2):\n",
        "            if self.x == other.x:\n",
        "                return True\n",
        "            return False"
      ],
      "metadata": {
        "id": "6CPgB2gkop5t"
      },
      "execution_count": 45,
      "outputs": []
    },
    {
      "cell_type": "code",
      "source": [
        "t1 = Test2(1)\n",
        "t2 = Test2(1)"
      ],
      "metadata": {
        "id": "QHslCCC3o-Rb"
      },
      "execution_count": 46,
      "outputs": []
    },
    {
      "cell_type": "code",
      "source": [
        "print(t1)\n",
        "print(t2)"
      ],
      "metadata": {
        "colab": {
          "base_uri": "https://localhost:8080/"
        },
        "id": "cfS-qv3spCXl",
        "outputId": "b8b59431-1298-479e-8479-64a750a1f9ef"
      },
      "execution_count": 47,
      "outputs": [
        {
          "output_type": "stream",
          "name": "stdout",
          "text": [
            "<__main__.Test2 object at 0x7fa342484050>\n",
            "<__main__.Test2 object at 0x7fa3424ba710>\n"
          ]
        }
      ]
    },
    {
      "cell_type": "code",
      "source": [
        "t1 == t2"
      ],
      "metadata": {
        "colab": {
          "base_uri": "https://localhost:8080/"
        },
        "id": "vrp7b7jqpG2D",
        "outputId": "3613bd6f-6082-4202-988a-e662e828bb4d"
      },
      "execution_count": 48,
      "outputs": [
        {
          "output_type": "execute_result",
          "data": {
            "text/plain": [
              "True"
            ]
          },
          "metadata": {},
          "execution_count": 48
        }
      ]
    },
    {
      "cell_type": "code",
      "source": [
        "numbers1 = [1, 2]\n",
        "numbers2 = [3, 4]\n",
        "numbers1 + numbers2"
      ],
      "metadata": {
        "colab": {
          "base_uri": "https://localhost:8080/"
        },
        "id": "JErAuFxxpJL2",
        "outputId": "3e68c240-f0b4-41cb-80ca-6190915cf225"
      },
      "execution_count": 49,
      "outputs": [
        {
          "output_type": "execute_result",
          "data": {
            "text/plain": [
              "[1, 2, 3, 4]"
            ]
          },
          "metadata": {},
          "execution_count": 49
        }
      ]
    },
    {
      "cell_type": "code",
      "source": [
        "numbers1 * 3"
      ],
      "metadata": {
        "colab": {
          "base_uri": "https://localhost:8080/"
        },
        "id": "N9ZGPUQOpXgj",
        "outputId": "4a93c74c-af79-4712-8798-661f3b4968c3"
      },
      "execution_count": 50,
      "outputs": [
        {
          "output_type": "execute_result",
          "data": {
            "text/plain": [
              "[1, 2, 1, 2, 1, 2]"
            ]
          },
          "metadata": {},
          "execution_count": 50
        }
      ]
    },
    {
      "cell_type": "markdown",
      "source": [
        "# class 작성 연습"
      ],
      "metadata": {
        "id": "Lkv4L6VJpd6f"
      }
    },
    {
      "cell_type": "markdown",
      "source": [
        "## Ex 1. Score 클래스\n",
        "    * 속성(attribute):\n",
        "        * 국어, 영어, 수학 점수\n",
        "        * 모든 과목의 기본 값은 0\n",
        "    * 기능(method):\n",
        "        * __repr__: Score{국어=100, 영어=100, 수학=100}문자열 포맷을 리턴.\n",
        "        * calc_sum: 세 과목 총점을 리턴\n",
        "        * calc_mean: 세 과목 평균을 리턴"
      ],
      "metadata": {
        "id": "i_yCmLC6pfse"
      }
    },
    {
      "cell_type": "code",
      "source": [
        "class Score:\n",
        "    def __init__(self, korean=0, english=0, math=0):\n",
        "        self.korean = korean\n",
        "        self.english = english\n",
        "        self.math = math\n",
        "    def __repr__(self):\n",
        "        return f'Score{{국어={self.korean}, 영어={self.english}, 수학={self.math}}}'\n",
        "    \n",
        "    def calc_sum(self):\n",
        "        return self.korean + self.english + self.math\n",
        "    \n",
        "    def calc_mean(self):\n",
        "        return self.calc_sum() / 3"
      ],
      "metadata": {
        "id": "MUjm-21kpb7Q"
      },
      "execution_count": 57,
      "outputs": []
    },
    {
      "cell_type": "code",
      "source": [
        "s1 = Score(80, 80 ,80)"
      ],
      "metadata": {
        "id": "jy1mf_RXqt31"
      },
      "execution_count": 61,
      "outputs": []
    },
    {
      "cell_type": "code",
      "source": [
        "s1"
      ],
      "metadata": {
        "colab": {
          "base_uri": "https://localhost:8080/"
        },
        "id": "jz1f7jWtqxfo",
        "outputId": "aed6ca11-ad21-470f-f1da-92a200ed4feb"
      },
      "execution_count": 62,
      "outputs": [
        {
          "output_type": "execute_result",
          "data": {
            "text/plain": [
              "Score{국어=80, 영어=80, 수학=80}"
            ]
          },
          "metadata": {},
          "execution_count": 62
        }
      ]
    },
    {
      "cell_type": "code",
      "source": [
        "s1.calc_sum()"
      ],
      "metadata": {
        "colab": {
          "base_uri": "https://localhost:8080/"
        },
        "id": "6PnE-n_5qz8T",
        "outputId": "a166a655-ffe4-4e67-c23b-8ff5d6117c5e"
      },
      "execution_count": 63,
      "outputs": [
        {
          "output_type": "execute_result",
          "data": {
            "text/plain": [
              "240"
            ]
          },
          "metadata": {},
          "execution_count": 63
        }
      ]
    },
    {
      "cell_type": "code",
      "source": [
        "s1.calc_mean()"
      ],
      "metadata": {
        "colab": {
          "base_uri": "https://localhost:8080/"
        },
        "id": "lmTit3xdq3fh",
        "outputId": "2b825ce1-d4da-44ed-fc8d-2a7429553b34"
      },
      "execution_count": 64,
      "outputs": [
        {
          "output_type": "execute_result",
          "data": {
            "text/plain": [
              "80.0"
            ]
          },
          "metadata": {},
          "execution_count": 64
        }
      ]
    },
    {
      "cell_type": "markdown",
      "source": [
        "# Ex 2.Student 클래스\n",
        "    * 속성(attribute):\n",
        "        * 이름, Score 객체\n",
        "    * 기능(method):\n",
        "        * __repr__: Student{이름:xxx, 점수:Score{국어=100, 영어=100, 수학=100}} 포맷의 문자열을 리턴."
      ],
      "metadata": {
        "id": "9FCX4GP5rHAH"
      }
    },
    {
      "cell_type": "code",
      "source": [
        "class Student:\n",
        "    def __init__(self, name, korean=0, english=0, math=0):\n",
        "        self.name = name\n",
        "        self.score = Score(korean, english, math)\n",
        "\n",
        "    def __repr__(self):\n",
        "        return f'Student{{이름:{self.name}, 점수:{self.score}}}'"
      ],
      "metadata": {
        "id": "yPmaQAWTq4rz"
      },
      "execution_count": 72,
      "outputs": []
    },
    {
      "cell_type": "code",
      "source": [
        "stu1 = Student('서세진')"
      ],
      "metadata": {
        "id": "-yr12oYor_Ks"
      },
      "execution_count": 73,
      "outputs": []
    },
    {
      "cell_type": "code",
      "source": [
        "stu1"
      ],
      "metadata": {
        "colab": {
          "base_uri": "https://localhost:8080/"
        },
        "id": "ivD-nUInsD-t",
        "outputId": "a7684918-0bd6-448a-d7ca-2250aa6ee243"
      },
      "execution_count": 74,
      "outputs": [
        {
          "output_type": "execute_result",
          "data": {
            "text/plain": [
              "Student{이름:서세진, 점수:Score{국어=0, 영어=0, 수학=0}}"
            ]
          },
          "metadata": {},
          "execution_count": 74
        }
      ]
    },
    {
      "cell_type": "code",
      "source": [
        "stu2 = Student('서세진', 100, 100, 100)\n",
        "stu2"
      ],
      "metadata": {
        "colab": {
          "base_uri": "https://localhost:8080/"
        },
        "id": "lvMz72YBsGha",
        "outputId": "29b4115d-574f-4ee7-99d5-9543c7f7629c"
      },
      "execution_count": 75,
      "outputs": [
        {
          "output_type": "execute_result",
          "data": {
            "text/plain": [
              "Student{이름:서세진, 점수:Score{국어=100, 영어=100, 수학=100}}"
            ]
          },
          "metadata": {},
          "execution_count": 75
        }
      ]
    },
    {
      "cell_type": "code",
      "source": [
        "# stu2 객체의 점수 합계, 평균\n",
        "print(stu2.score.calc_sum())\n",
        "print(stu2.score.calc_mean())"
      ],
      "metadata": {
        "colab": {
          "base_uri": "https://localhost:8080/"
        },
        "id": "eaxnt_k-sXsf",
        "outputId": "e72ad399-84ea-47f2-8388-670f4a21cdf8"
      },
      "execution_count": 76,
      "outputs": [
        {
          "output_type": "stream",
          "name": "stdout",
          "text": [
            "300\n",
            "100.0\n"
          ]
        }
      ]
    },
    {
      "cell_type": "code",
      "source": [
        "class Student2:\n",
        "    def __init__(self, name, score):\n",
        "        self.name = name\n",
        "        self.score = score\n",
        "    def __repr__(self):\n",
        "        return f'Student{{이름: {self.name}, 점수: {self.score}}}'"
      ],
      "metadata": {
        "id": "hNzI_8-4smL-"
      },
      "execution_count": 77,
      "outputs": []
    },
    {
      "cell_type": "code",
      "source": [
        "stu3 = Student2('abc', Score())\n",
        "stu3"
      ],
      "metadata": {
        "colab": {
          "base_uri": "https://localhost:8080/"
        },
        "id": "sMg81M1ftIHQ",
        "outputId": "19c14118-e7d7-4924-ff19-0bccc9da1d63"
      },
      "execution_count": 80,
      "outputs": [
        {
          "output_type": "execute_result",
          "data": {
            "text/plain": [
              "Student{이름: abc, 점수: Score{국어=0, 영어=0, 수학=0}}"
            ]
          },
          "metadata": {},
          "execution_count": 80
        }
      ]
    },
    {
      "cell_type": "code",
      "source": [
        "stu4 = Student2('서세진', Score(100, 100, 100))\n",
        "stu4"
      ],
      "metadata": {
        "colab": {
          "base_uri": "https://localhost:8080/"
        },
        "id": "YPTiAz4CtQV8",
        "outputId": "51faf392-4579-45d9-ce4d-5cfdf5c8e21a"
      },
      "execution_count": 79,
      "outputs": [
        {
          "output_type": "execute_result",
          "data": {
            "text/plain": [
              "Student{이름: 서세진, 점수: Score{국어=100, 영어=100, 수학=100}}"
            ]
          },
          "metadata": {},
          "execution_count": 79
        }
      ]
    },
    {
      "cell_type": "code",
      "source": [
        "print(stu4.score.calc_sum())\n",
        "print(stu4.score.calc_mean())"
      ],
      "metadata": {
        "colab": {
          "base_uri": "https://localhost:8080/"
        },
        "id": "KUiGw0xktYj9",
        "outputId": "8a343a61-4e2b-4a0f-85f3-60e953c0b817"
      },
      "execution_count": 81,
      "outputs": [
        {
          "output_type": "stream",
          "name": "stdout",
          "text": [
            "300\n",
            "100.0\n"
          ]
        }
      ]
    },
    {
      "cell_type": "code",
      "source": [
        ""
      ],
      "metadata": {
        "id": "lqwd6FPVtiGX"
      },
      "execution_count": null,
      "outputs": []
    }
  ]
}