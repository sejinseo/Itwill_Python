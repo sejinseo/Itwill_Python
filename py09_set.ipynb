{
  "nbformat": 4,
  "nbformat_minor": 0,
  "metadata": {
    "colab": {
      "name": "py09_set.ipynb",
      "provenance": [],
      "collapsed_sections": [],
      "authorship_tag": "ABX9TyMl5hu9+9V+lCHzmcMeFCl3",
      "include_colab_link": true
    },
    "kernelspec": {
      "name": "python3",
      "display_name": "Python 3"
    },
    "language_info": {
      "name": "python"
    }
  },
  "cells": [
    {
      "cell_type": "markdown",
      "metadata": {
        "id": "view-in-github",
        "colab_type": "text"
      },
      "source": [
        "<a href=\"https://colab.research.google.com/github/sejinseo/Python/blob/main/py09_set.ipynb\" target=\"_parent\"><img src=\"https://colab.research.google.com/assets/colab-badge.svg\" alt=\"Open In Colab\"/></a>"
      ]
    },
    {
      "cell_type": "markdown",
      "source": [
        "# 집합(set)\n",
        "\n",
        "* 중복된 데이터의 저장을 허용하지 않음. `{1, 2, 2, 3} = {1, 2, 3}`\n",
        "* 데이터가 저장되는 순서가 중요하지 않음.(인덱스를 사용하지 않음.) `{1, 3, 2} = {1, 2, 3}`"
      ],
      "metadata": {
        "id": "DAQc60PDG1H2"
      }
    },
    {
      "cell_type": "code",
      "execution_count": null,
      "metadata": {
        "colab": {
          "base_uri": "https://localhost:8080/"
        },
        "id": "lKOswNahGjDw",
        "outputId": "41c3155b-dced-4023-de00-aee6b1af5dfd"
      },
      "outputs": [
        {
          "output_type": "execute_result",
          "data": {
            "text/plain": [
              "{1, 2, 3}"
            ]
          },
          "metadata": {},
          "execution_count": 1
        }
      ],
      "source": [
        "s1 = {1, 2, 2, 3, 3, 3}\n",
        "s1"
      ]
    },
    {
      "cell_type": "code",
      "source": [
        "type(s1)"
      ],
      "metadata": {
        "colab": {
          "base_uri": "https://localhost:8080/"
        },
        "id": "zPZ_p-NQHvkM",
        "outputId": "dd034890-ef7f-402b-ea37-8aaaf1782756"
      },
      "execution_count": null,
      "outputs": [
        {
          "output_type": "execute_result",
          "data": {
            "text/plain": [
              "set"
            ]
          },
          "metadata": {},
          "execution_count": 2
        }
      ]
    },
    {
      "cell_type": "code",
      "source": [
        "s2 = {3, 1, 2}\n",
        "s2"
      ],
      "metadata": {
        "colab": {
          "base_uri": "https://localhost:8080/"
        },
        "id": "QbfZCqHwHzSa",
        "outputId": "16472f29-a3a5-4109-92bd-1fdbd599125b"
      },
      "execution_count": null,
      "outputs": [
        {
          "output_type": "execute_result",
          "data": {
            "text/plain": [
              "{1, 2, 3}"
            ]
          },
          "metadata": {},
          "execution_count": 7
        }
      ]
    },
    {
      "cell_type": "code",
      "source": [
        "# s1[0] #> set 객체는 인덱스를 사용할 수 없음!\n",
        "# for-in 구문을 사용해서 set 객체의 원소들을 하나씩 반복하면서 참조할 수 있음.\n",
        "for x in s1:\n",
        "    print(x)\n"
      ],
      "metadata": {
        "colab": {
          "base_uri": "https://localhost:8080/"
        },
        "id": "4zw9aWtBILik",
        "outputId": "5a5484fa-6fc8-473f-b4dc-dcc20db17c15"
      },
      "execution_count": null,
      "outputs": [
        {
          "output_type": "stream",
          "name": "stdout",
          "text": [
            "1\n",
            "2\n",
            "3\n"
          ]
        }
      ]
    },
    {
      "cell_type": "markdown",
      "source": [
        "# set의 기능(메서드)"
      ],
      "metadata": {
        "id": "hbfi-ut5IrQc"
      }
    },
    {
      "cell_type": "code",
      "source": [
        "s1 = {1, 2, 3, 4}\n",
        "s2 = {3, 4, 5}"
      ],
      "metadata": {
        "id": "Dp7WVtA8IWB3"
      },
      "execution_count": null,
      "outputs": []
    },
    {
      "cell_type": "code",
      "source": [
        "# 합집합(union)\n",
        "s1.union(s2)"
      ],
      "metadata": {
        "colab": {
          "base_uri": "https://localhost:8080/"
        },
        "id": "QBoPO4ZVI8p3",
        "outputId": "f1950a9b-8b8d-4ce4-d770-fd49e2996651"
      },
      "execution_count": null,
      "outputs": [
        {
          "output_type": "execute_result",
          "data": {
            "text/plain": [
              "{1, 2, 3, 4, 5}"
            ]
          },
          "metadata": {},
          "execution_count": 10
        }
      ]
    },
    {
      "cell_type": "code",
      "source": [
        "s1 | s2 #> |: 합집합 연산자"
      ],
      "metadata": {
        "colab": {
          "base_uri": "https://localhost:8080/"
        },
        "id": "nxEQC3_bJQyj",
        "outputId": "a53b52c6-27e8-4f5c-b066-ec3ad83ddfd8"
      },
      "execution_count": null,
      "outputs": [
        {
          "output_type": "execute_result",
          "data": {
            "text/plain": [
              "{1, 2, 3, 4, 5}"
            ]
          },
          "metadata": {},
          "execution_count": 12
        }
      ]
    },
    {
      "cell_type": "code",
      "source": [
        "# 교집합(intersecion)\n",
        "s1.intersection(s2)"
      ],
      "metadata": {
        "colab": {
          "base_uri": "https://localhost:8080/"
        },
        "id": "n3o7qXB3Je2_",
        "outputId": "eb4cfb4b-158c-4e11-b15b-a9e4ac26bf26"
      },
      "execution_count": null,
      "outputs": [
        {
          "output_type": "execute_result",
          "data": {
            "text/plain": [
              "{3, 4}"
            ]
          },
          "metadata": {},
          "execution_count": 13
        }
      ]
    },
    {
      "cell_type": "code",
      "source": [
        "s1 & s2 #> &: 교집합 연산자"
      ],
      "metadata": {
        "colab": {
          "base_uri": "https://localhost:8080/"
        },
        "id": "vdBYkltKJsWd",
        "outputId": "892d8d44-b291-427e-c004-4516e8e5ef34"
      },
      "execution_count": null,
      "outputs": [
        {
          "output_type": "execute_result",
          "data": {
            "text/plain": [
              "{3, 4}"
            ]
          },
          "metadata": {},
          "execution_count": 15
        }
      ]
    },
    {
      "cell_type": "code",
      "source": [
        "# 차집합(difference)\n",
        "s1.difference(s2)"
      ],
      "metadata": {
        "colab": {
          "base_uri": "https://localhost:8080/"
        },
        "id": "rLAc3dqPJyo2",
        "outputId": "d1362ebd-2597-4f45-b3a6-2b0b8de986a0"
      },
      "execution_count": null,
      "outputs": [
        {
          "output_type": "execute_result",
          "data": {
            "text/plain": [
              "{1, 2}"
            ]
          },
          "metadata": {},
          "execution_count": 17
        }
      ]
    },
    {
      "cell_type": "code",
      "source": [
        "s1 - s2 #> -: 차집합 연산자"
      ],
      "metadata": {
        "colab": {
          "base_uri": "https://localhost:8080/"
        },
        "id": "AwLO7-TlKIZO",
        "outputId": "3b0a9404-d592-40de-f61e-8ddf11d2e4ab"
      },
      "execution_count": null,
      "outputs": [
        {
          "output_type": "execute_result",
          "data": {
            "text/plain": [
              "{1, 2}"
            ]
          },
          "metadata": {},
          "execution_count": 18
        }
      ]
    },
    {
      "cell_type": "markdown",
      "source": [
        "```\n",
        "s1 | s2 = s2 | s1\n",
        "s1 & s2 = s2 & s1\n",
        "s1 - s2 != s2 - s1\n",
        "```"
      ],
      "metadata": {
        "id": "Xwz88SL9Kgaj"
      }
    },
    {
      "cell_type": "code",
      "source": [
        "# set(arg): set 객체를 생성해서 리턴.\n",
        "numbers = [1, 2, 3, 1, 2, 1, 2, 3, 4] #> 9개의 아이템을 갖는 리스트\n",
        "\n",
        "# numbers에서 중복되지 않는 값\n",
        "number_set = set(numbers)\n",
        "print(number_set)\n",
        "\n",
        "# numbers에서 중복되지 않는 값들의 갯수\n",
        "print(len(number_set))"
      ],
      "metadata": {
        "colab": {
          "base_uri": "https://localhost:8080/"
        },
        "id": "lQJ7zIx_KbLD",
        "outputId": "dc0511d5-ceb4-43a1-f676-a0be5d03d5af"
      },
      "execution_count": null,
      "outputs": [
        {
          "output_type": "stream",
          "name": "stdout",
          "text": [
            "{1, 2, 3, 4}\n",
            "4\n"
          ]
        }
      ]
    },
    {
      "cell_type": "code",
      "source": [
        "print(s1)\n",
        "\n",
        "# set에 원소 추가. 이미 존재하는 원소이면 중복 저장은 되지 않음.\n",
        "s1.add(100)\n",
        "print(s1)\n",
        "\n",
        "s1.add(1)\n",
        "print(s1)"
      ],
      "metadata": {
        "colab": {
          "base_uri": "https://localhost:8080/"
        },
        "id": "QswgWqEvLwBt",
        "outputId": "77a37194-369d-4842-a2a2-990e42098486"
      },
      "execution_count": null,
      "outputs": [
        {
          "output_type": "stream",
          "name": "stdout",
          "text": [
            "{1, 2, 3, 100, 4}\n",
            "{1, 2, 3, 100, 4}\n",
            "{1, 2, 3, 100, 4}\n"
          ]
        }
      ]
    },
    {
      "cell_type": "code",
      "source": [
        "# set의 원소 삭제.\n",
        "s1.remove(4)\n",
        "print(s1)"
      ],
      "metadata": {
        "colab": {
          "base_uri": "https://localhost:8080/"
        },
        "id": "5mYtuDUrNFm6",
        "outputId": "051166fc-5b99-4985-81d4-b736ec6d61df"
      },
      "execution_count": null,
      "outputs": [
        {
          "output_type": "stream",
          "name": "stdout",
          "text": [
            "{1, 2, 3}\n"
          ]
        }
      ]
    },
    {
      "cell_type": "code",
      "source": [
        ""
      ],
      "metadata": {
        "id": "e_GDp3ELNfLU"
      },
      "execution_count": null,
      "outputs": []
    }
  ]
}