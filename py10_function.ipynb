{
  "nbformat": 4,
  "nbformat_minor": 0,
  "metadata": {
    "colab": {
      "name": "py10_function.ipynb",
      "provenance": [],
      "collapsed_sections": [],
      "authorship_tag": "ABX9TyPY1gYWqAq7ejh0QTmllb50",
      "include_colab_link": true
    },
    "kernelspec": {
      "name": "python3",
      "display_name": "Python 3"
    },
    "language_info": {
      "name": "python"
    }
  },
  "cells": [
    {
      "cell_type": "markdown",
      "metadata": {
        "id": "view-in-github",
        "colab_type": "text"
      },
      "source": [
        "<a href=\"https://colab.research.google.com/github/sejinseo/Python/blob/main/py10_function.ipynb\" target=\"_parent\"><img src=\"https://colab.research.google.com/assets/colab-badge.svg\" alt=\"Open In Colab\"/></a>"
      ]
    },
    {
      "cell_type": "markdown",
      "source": [
        "# 함수(Function)\n",
        "\n",
        "* **함수(function)**: 기능을 수행하는 코드 블록.\n",
        "* **인수(argumnet)**: 함수를 호출할 때, 함수에게 전달하는 값(들)\n",
        "* **매개변수(parameter)**: argument를 저장하기 위해서, 함수를 정의할 때 선언하는(지역) 변수.\n",
        "* **반환 값(return value)**: 함수가 기능 수행의 결과로 반환하는 값.\n",
        "    * 반환 값이 있는 함수\n",
        "    * 반환 값이 없는 함수"
      ],
      "metadata": {
        "id": "nYReehtuOOjT"
      }
    },
    {
      "cell_type": "code",
      "execution_count": null,
      "metadata": {
        "id": "taJ273mAOAxE"
      },
      "outputs": [],
      "source": [
        "result = len([1, 2, 3, 4, 5])\n",
        "# function: len\n",
        "# argument: [1, 2, 3, 4, 5]\n",
        "# 함수 호출(call, invoke): len([1, 2, 3, 4, 5])\n",
        "# return value: 5"
      ]
    },
    {
      "cell_type": "code",
      "source": [
        "result"
      ],
      "metadata": {
        "colab": {
          "base_uri": "https://localhost:8080/"
        },
        "id": "f9T4B3xeQJUK",
        "outputId": "3d5db245-a70f-4857-ac20-d7b5eace38c6"
      },
      "execution_count": null,
      "outputs": [
        {
          "output_type": "execute_result",
          "data": {
            "text/plain": [
              "5"
            ]
          },
          "metadata": {},
          "execution_count": 2
        }
      ]
    },
    {
      "cell_type": "markdown",
      "source": [
        "# 함수 정의(선언) 방법\n",
        "\n",
        "```\n",
        "def function_name([param1, ...]):\n",
        "    [\"\"\"문서화 주석(documentation comment): 함수에 대한 설명\"\"\"]\n",
        "    함수 기능 작성(코드)\n",
        "    [return 반환 값]\n",
        "```"
      ],
      "metadata": {
        "id": "yly_qVLnU0fR"
      }
    },
    {
      "cell_type": "code",
      "source": [
        "def subtract(x, y):\n",
        "    \"\"\"숫자 2개(x, y)를 전달 받아서, x - y를 반환하는 함수.\n",
        "    \"\"\"\n",
        "    return x - y"
      ],
      "metadata": {
        "id": "xNivLVuDQJ8F"
      },
      "execution_count": null,
      "outputs": []
    },
    {
      "cell_type": "code",
      "source": [
        "result = subtract(4, 5)\n",
        "result"
      ],
      "metadata": {
        "colab": {
          "base_uri": "https://localhost:8080/"
        },
        "id": "TRmtdb2TXTvV",
        "outputId": "1bc72c9e-0fc8-44c2-fdf4-199d1479a509"
      },
      "execution_count": null,
      "outputs": [
        {
          "output_type": "execute_result",
          "data": {
            "text/plain": [
              "-1"
            ]
          },
          "metadata": {},
          "execution_count": 5
        }
      ]
    },
    {
      "cell_type": "markdown",
      "source": [
        "파이썬은 2개 이상의 값을 반환하는 함수를 정의할 수 있음."
      ],
      "metadata": {
        "id": "fwzbpcKSYkFQ"
      }
    },
    {
      "cell_type": "code",
      "source": [
        "def plus_and_minus(x, y):\n",
        "    \"\"\"2개의 숫자 x, y를 전달 받아서, x + y와 x - y를 반환하는 함수.\n",
        "    \"\"\"\n",
        "    return x + y, x - y"
      ],
      "metadata": {
        "id": "Rxi0fD22XXgS"
      },
      "execution_count": null,
      "outputs": []
    },
    {
      "cell_type": "code",
      "source": [
        "result = plus_and_minus(1, 2)\n",
        "result #> tuple"
      ],
      "metadata": {
        "colab": {
          "base_uri": "https://localhost:8080/"
        },
        "id": "AgL2g2S-ZJiJ",
        "outputId": "add27cc2-d95d-4109-e999-4ad34f17f6fb"
      },
      "execution_count": null,
      "outputs": [
        {
          "output_type": "execute_result",
          "data": {
            "text/plain": [
              "(3, -1)"
            ]
          },
          "metadata": {},
          "execution_count": 8
        }
      ]
    },
    {
      "cell_type": "code",
      "source": [
        "# tuple decomposition(분해): x, y = (3, -1)\n",
        "plus, minus = plus_and_minus(1, 2)\n",
        "print(plus)\n",
        "print(minus)"
      ],
      "metadata": {
        "colab": {
          "base_uri": "https://localhost:8080/"
        },
        "id": "bBTM2Yt4ZhDJ",
        "outputId": "645827e5-8ca0-4213-c7f1-e86d7dc8ec72"
      },
      "execution_count": null,
      "outputs": [
        {
          "output_type": "stream",
          "name": "stdout",
          "text": [
            "3\n",
            "-1\n"
          ]
        }
      ]
    },
    {
      "cell_type": "markdown",
      "source": [
        "값을 반환하지 않는 함수"
      ],
      "metadata": {
        "id": "TLTZ-ynoap9_"
      }
    },
    {
      "cell_type": "code",
      "source": [
        "def repeat_messages(message, n):\n",
        "    \"\"\"문자열 message와 양의 정수 n을 전달 받아서, \n",
        "    전달 받은 문자열을 n 번 반복해서 출력하는 함수.\n",
        "    \"\"\"\n",
        "    for _ in range(n):\n",
        "        print(message)\n",
        "\n",
        "    # return None # 반환 값이 없다는 것을 명시적으로 작성.\n",
        "    # 반환 값이 없는 경우 return None 문장을 보통 생략함."
      ],
      "metadata": {
        "id": "R11J5iFpaPPJ"
      },
      "execution_count": null,
      "outputs": []
    },
    {
      "cell_type": "code",
      "source": [
        "result = repeat_messages('안녕하세요', 3)"
      ],
      "metadata": {
        "colab": {
          "base_uri": "https://localhost:8080/"
        },
        "id": "Wby2_uuSbi6r",
        "outputId": "161c4cb8-6d35-4fd1-ad72-83a213909aec"
      },
      "execution_count": null,
      "outputs": [
        {
          "output_type": "stream",
          "name": "stdout",
          "text": [
            "안녕하세요\n",
            "안녕하세요\n",
            "안녕하세요\n"
          ]
        }
      ]
    },
    {
      "cell_type": "code",
      "source": [
        "print(result) #> None: 값이 없음."
      ],
      "metadata": {
        "colab": {
          "base_uri": "https://localhost:8080/"
        },
        "id": "wCWjJK5obqJe",
        "outputId": "ec8a72e2-b86d-4e09-eec6-1cddd5382da1"
      },
      "execution_count": null,
      "outputs": [
        {
          "output_type": "stream",
          "name": "stdout",
          "text": [
            "None\n"
          ]
        }
      ]
    },
    {
      "cell_type": "markdown",
      "source": [
        "## 함수 정의/호출 연습"
      ],
      "metadata": {
        "id": "pZhM2FrmfYQe"
      }
    },
    {
      "cell_type": "code",
      "source": [
        "import random # 난수 관련 함수들을 사용하기 위해서\n",
        "import math # 수학 함수들을 사용하기 위해서\n",
        "import numpy # 분산, 표준편차 쉽게 구하기 위해서"
      ],
      "metadata": {
        "id": "WCRX0kcpcYWq"
      },
      "execution_count": null,
      "outputs": []
    },
    {
      "cell_type": "markdown",
      "source": [
        "### Ex 1.\n",
        "\n",
        "* 함수 이름: make_list\n",
        "* 기능: start 이상 end 미만의 정수 난수 n개를 갖는 리스트를 반환."
      ],
      "metadata": {
        "id": "TXE2fvBCfluW"
      }
    },
    {
      "cell_type": "code",
      "source": [
        "def make_list(start, end, n):\n",
        "    array = [] # 빈 리스트\n",
        "    for _ in range(n): # n번 반복하면서\n",
        "        array.append(random.randrange(start, end)) # 난수를 생성해서 리스트에 추가\n",
        "    return array # 리스트를 리턴\n",
        "make_list(2, 4, 2)"
      ],
      "metadata": {
        "colab": {
          "base_uri": "https://localhost:8080/"
        },
        "id": "DRra7ZoF_oBC",
        "outputId": "398619c0-4d0b-4545-828f-e5bae41b97a5"
      },
      "execution_count": null,
      "outputs": [
        {
          "output_type": "execute_result",
          "data": {
            "text/plain": [
              "[3, 3]"
            ]
          },
          "metadata": {},
          "execution_count": 5
        }
      ]
    },
    {
      "cell_type": "code",
      "source": [
        "def make_list(start, end, n):\n",
        "    list = [random.randrange(start, end) for _ in range(n)]\n",
        "\n",
        "    return list\n",
        "\n",
        "make_list(3, 6, 3)"
      ],
      "metadata": {
        "colab": {
          "base_uri": "https://localhost:8080/"
        },
        "id": "j2irwx55fkIB",
        "outputId": "22f83df9-dfb9-48e3-e8b5-85562daef9ba"
      },
      "execution_count": null,
      "outputs": [
        {
          "output_type": "execute_result",
          "data": {
            "text/plain": [
              "[5, 3, 3]"
            ]
          },
          "metadata": {},
          "execution_count": 3
        }
      ]
    },
    {
      "cell_type": "markdown",
      "source": [
        "### Ex 2.\n",
        "\n",
        "* 함수 이름: calc_sum\n",
        "* 기능: 숫자들을 저장하고 있는 리스트의 모든 원소들의 합을 반환."
      ],
      "metadata": {
        "id": "jEye5iZOiLaG"
      }
    },
    {
      "cell_type": "code",
      "source": [
        "def calc_sum(list):\n",
        "    result = sum(list)\n",
        "    return result\n",
        "\n",
        "calc_sum([1, 2, 3, 5])\n"
      ],
      "metadata": {
        "colab": {
          "base_uri": "https://localhost:8080/"
        },
        "id": "-3sgRl65h9qP",
        "outputId": "1ad69a14-3c49-4dab-8fc5-6ae1332c86a8"
      },
      "execution_count": null,
      "outputs": [
        {
          "output_type": "execute_result",
          "data": {
            "text/plain": [
              "11"
            ]
          },
          "metadata": {},
          "execution_count": 29
        }
      ]
    },
    {
      "cell_type": "markdown",
      "source": [
        "### Ex 3.\n",
        "\n",
        "* 함수 이름: calc_mean\n",
        "* 기능: 숫자들을 저장하고 있는 리스트의 모든 원소들의 평균을 반환."
      ],
      "metadata": {
        "id": "qDupszxkibQe"
      }
    },
    {
      "cell_type": "code",
      "source": [
        "def calc_mean(list):\n",
        "    mean = sum(list) / len(list)\n",
        "    return mean\n",
        "\n",
        "calc_mean([5, 5, 5, 5, 0])"
      ],
      "metadata": {
        "colab": {
          "base_uri": "https://localhost:8080/"
        },
        "id": "5uBwElh5igvv",
        "outputId": "62ab6f26-532b-42c4-afb8-5373010725ea"
      },
      "execution_count": null,
      "outputs": [
        {
          "output_type": "execute_result",
          "data": {
            "text/plain": [
              "4.0"
            ]
          },
          "metadata": {},
          "execution_count": 9
        }
      ]
    },
    {
      "cell_type": "markdown",
      "source": [
        "### Ex 4.\n",
        "\n",
        "* 함수 이름: calc_variance\n",
        "* 기능: 숫자들을 저장하고 있는 리스트의 원소들의 분산을 반환."
      ],
      "metadata": {
        "id": "LYb-W7CJihKm"
      }
    },
    {
      "cell_type": "code",
      "source": [
        "def calc_variance(list):\n",
        "   variance = numpy.var(list)\n",
        "   return variance\n",
        "\n",
        "calc_variance([3, 4, 5, 6, 7])"
      ],
      "metadata": {
        "colab": {
          "base_uri": "https://localhost:8080/"
        },
        "id": "FU3DZ6Tyik_O",
        "outputId": "d9faebad-e5f2-43fb-bcfd-9df367d0da91"
      },
      "execution_count": null,
      "outputs": [
        {
          "output_type": "execute_result",
          "data": {
            "text/plain": [
              "2.0"
            ]
          },
          "metadata": {},
          "execution_count": 41
        }
      ]
    },
    {
      "cell_type": "markdown",
      "source": [
        "### Ex 5.\n",
        "\n",
        "* 함수 이름: calc_stddev\n",
        "* 기능: 숫자들을 저장하고 있는 리스트의 원소들의 표준편차를 반환."
      ],
      "metadata": {
        "id": "0XiaTgvLin4V"
      }
    },
    {
      "cell_type": "code",
      "source": [
        "def calc_stddev(list):\n",
        "    stddev = numpy.std(list)\n",
        "    return stddev\n",
        "\n",
        "calc_stddev([3, 4, 5, 6, 7])"
      ],
      "metadata": {
        "colab": {
          "base_uri": "https://localhost:8080/"
        },
        "id": "eY2brxajiqSa",
        "outputId": "50056595-22af-45fb-9af0-220613260d07"
      },
      "execution_count": null,
      "outputs": [
        {
          "output_type": "execute_result",
          "data": {
            "text/plain": [
              "1.4142135623730951"
            ]
          },
          "metadata": {},
          "execution_count": 42
        }
      ]
    },
    {
      "cell_type": "markdown",
      "source": [
        "### Ex 6.\n",
        "\n",
        "* 함수 이름: find_max_and_min\n",
        "* 기능: 숫자들을 저장하고 있는 리스트에서 최댓값과 최솟값을 반환."
      ],
      "metadata": {
        "id": "acYvE3pBir0t"
      }
    },
    {
      "cell_type": "code",
      "source": [
        "def find_max_and_min(list):\n",
        "   list_max = max(list)\n",
        "   list_min = min(list)\n",
        "   return list_max, list_min\n",
        "\n",
        "find_max_and_min([3, 4, 6, 7, 8, 9])"
      ],
      "metadata": {
        "colab": {
          "base_uri": "https://localhost:8080/"
        },
        "id": "TP7qku39ivSL",
        "outputId": "217f0582-0e89-4c47-976f-f68cbec71eb9"
      },
      "execution_count": null,
      "outputs": [
        {
          "output_type": "execute_result",
          "data": {
            "text/plain": [
              "(9, 3)"
            ]
          },
          "metadata": {},
          "execution_count": 35
        }
      ]
    },
    {
      "cell_type": "markdown",
      "source": [
        "# Default argument(기본 인수)\n",
        "\n",
        "* 함수를 정의할 때 파라미터(parameter)에 설정된 기본 값.\n",
        "* 함수를 호출할 때 default argument를 갖는 파라미터에 값을 전달하지 않으면, default argument가 함수 내부에서 사용됨.\n",
        "* 함수를 호출할 때 default argument를 갖는 파라미터에 값을 전달하면, default argument는 무시되고 전달된 값이 함수 내부에서 사용됨.\n",
        "* **(주의)** 함수를 정의할 때, default parameter들은 반드시 default 값을 갖지 않는 파라미터들 뒤에 선언해야 함!"
      ],
      "metadata": {
        "id": "MvxH_qVqLmZP"
      }
    },
    {
      "cell_type": "code",
      "source": [
        "def repeat_messages(message, n = 1):\n",
        "    for _ in range(n):\n",
        "        print(message)\n",
        "\n",
        "repeat_messages('안녕하세요')\n",
        "# 파라미터에 n에 값을 전달하지 않은 경우, n은 기본 값 1을 갖게 됨.\n"
      ],
      "metadata": {
        "id": "So2FUzBvlTYt",
        "colab": {
          "base_uri": "https://localhost:8080/"
        },
        "outputId": "f9caf9c5-fa5d-4ed1-b118-70433760cda3"
      },
      "execution_count": null,
      "outputs": [
        {
          "output_type": "stream",
          "name": "stdout",
          "text": [
            "안녕하세요\n"
          ]
        }
      ]
    },
    {
      "cell_type": "code",
      "source": [
        "repeat_messages('안녕하세요', 3)"
      ],
      "metadata": {
        "colab": {
          "base_uri": "https://localhost:8080/"
        },
        "id": "-6j9Un5UNqO3",
        "outputId": "a17aacfb-47d0-479e-8f50-fc8abbadf515"
      },
      "execution_count": null,
      "outputs": [
        {
          "output_type": "stream",
          "name": "stdout",
          "text": [
            "안녕하세요\n",
            "안녕하세요\n",
            "안녕하세요\n"
          ]
        }
      ]
    },
    {
      "cell_type": "markdown",
      "source": [
        "# argument 전달 방법:\n",
        "\n",
        "함수를 호출할 때, 함수에 값(argument)를 전달하는 방법:\n",
        "* **positional argument**: 함수를 정의할 때 선언된 파라미터 순서대로 값을 전달하는 방식.\n",
        "* **keyword argument:** `param_name = value`와 같은 형식으로 값을 전달하는 방식\n",
        "    * keyword argument 방식으로 값을 전달할 때는 함수 정의의 파라미터 순서를 지키지 않아도 됨.\n",
        "* **(주의)** 함수를 호출할 때 positional 방식과 keyword 방식을 함께 사용하는 경우에는 반드시 positional argument가 먼저, keyword argument가 나중에 와야 함."
      ],
      "metadata": {
        "id": "2o8M7NI7PWW2"
      }
    },
    {
      "cell_type": "code",
      "source": [
        "def minus(x , y):\n",
        "    return x - y"
      ],
      "metadata": {
        "id": "k27mfyKgOE5t"
      },
      "execution_count": null,
      "outputs": []
    },
    {
      "cell_type": "code",
      "source": [
        "# positional argument 방식의 함수 호출\n",
        "minus(1, 2)"
      ],
      "metadata": {
        "colab": {
          "base_uri": "https://localhost:8080/"
        },
        "id": "U-UxaObvQ2X1",
        "outputId": "0ad37a63-8192-4efb-c050-4c89d51ea0a3"
      },
      "execution_count": null,
      "outputs": [
        {
          "output_type": "execute_result",
          "data": {
            "text/plain": [
              "-1"
            ]
          },
          "metadata": {},
          "execution_count": 17
        }
      ]
    },
    {
      "cell_type": "code",
      "source": [
        "# keyword argument 방식의 함수 호출\n",
        "minus(x = 1, y = 2)"
      ],
      "metadata": {
        "colab": {
          "base_uri": "https://localhost:8080/"
        },
        "id": "JctmX6sFR5hp",
        "outputId": "460b4c3b-5ba9-4054-cc4c-8f27fb8b0c16"
      },
      "execution_count": null,
      "outputs": [
        {
          "output_type": "execute_result",
          "data": {
            "text/plain": [
              "-1"
            ]
          },
          "metadata": {},
          "execution_count": 18
        }
      ]
    },
    {
      "cell_type": "code",
      "source": [
        "# keyword argument 방식의 함수 호출에서는 파라미터의 순서를 지키지 않아도 됨.\n",
        "minus(y = 1, x = 2)"
      ],
      "metadata": {
        "colab": {
          "base_uri": "https://localhost:8080/"
        },
        "id": "Aa-9TOUwSKW7",
        "outputId": "b8dd1a75-b23e-4528-b3da-d9f376084717"
      },
      "execution_count": null,
      "outputs": [
        {
          "output_type": "execute_result",
          "data": {
            "text/plain": [
              "1"
            ]
          },
          "metadata": {},
          "execution_count": 19
        }
      ]
    },
    {
      "cell_type": "code",
      "source": [
        "minus(1, y = 2)\n",
        "# positional argument를 먼저, keyword argument를 나중에 전달하는 것은 가능."
      ],
      "metadata": {
        "colab": {
          "base_uri": "https://localhost:8080/"
        },
        "id": "EjxbfIAKSZ5c",
        "outputId": "423cfa70-9f1f-4cdc-ed11-8606989a4af8"
      },
      "execution_count": null,
      "outputs": [
        {
          "output_type": "execute_result",
          "data": {
            "text/plain": [
              "-1"
            ]
          },
          "metadata": {},
          "execution_count": 21
        }
      ]
    },
    {
      "cell_type": "code",
      "source": [
        "# minus(x = 1, 2)\n",
        "#> positional argument가 keyword argument보다 나중에 나오면 안됨!"
      ],
      "metadata": {
        "id": "e_t4S8FiTHQb"
      },
      "execution_count": null,
      "outputs": []
    },
    {
      "cell_type": "markdown",
      "source": [
        "# 가변길이 인수(variable-length arguments)"
      ],
      "metadata": {
        "id": "2vR9hft2T2mt"
      }
    },
    {
      "cell_type": "code",
      "source": [
        "print('hello') # argument 1개"
      ],
      "metadata": {
        "colab": {
          "base_uri": "https://localhost:8080/"
        },
        "id": "njuI-V_ATv8X",
        "outputId": "99d24638-525b-41f4-a341-b0d0c5ec693d"
      },
      "execution_count": null,
      "outputs": [
        {
          "output_type": "stream",
          "name": "stdout",
          "text": [
            "hello\n"
          ]
        }
      ]
    },
    {
      "cell_type": "code",
      "source": [
        "print('hello', 'python') # argument 2개"
      ],
      "metadata": {
        "colab": {
          "base_uri": "https://localhost:8080/"
        },
        "id": "w_lZ0T25UHBj",
        "outputId": "5926c1b6-954e-4950-ad3a-8f3cb92819ba"
      },
      "execution_count": null,
      "outputs": [
        {
          "output_type": "stream",
          "name": "stdout",
          "text": [
            "hello python\n"
          ]
        }
      ]
    },
    {
      "cell_type": "code",
      "source": [
        "max([1, 2, 3]) # argument 1개"
      ],
      "metadata": {
        "colab": {
          "base_uri": "https://localhost:8080/"
        },
        "id": "qcGMy0dOUMIm",
        "outputId": "09103548-feb3-49fe-8147-cef03396e9b5"
      },
      "execution_count": null,
      "outputs": [
        {
          "output_type": "execute_result",
          "data": {
            "text/plain": [
              "3"
            ]
          },
          "metadata": {},
          "execution_count": 25
        }
      ]
    },
    {
      "cell_type": "code",
      "source": [
        "max(1, 2, 3, 4, 10, 5, 6) # argument 6개"
      ],
      "metadata": {
        "colab": {
          "base_uri": "https://localhost:8080/"
        },
        "id": "M0fpWskrUbR1",
        "outputId": "0722fb68-511d-4bcc-a3d9-36050d36e985"
      },
      "execution_count": null,
      "outputs": [
        {
          "output_type": "execute_result",
          "data": {
            "text/plain": [
              "10"
            ]
          },
          "metadata": {},
          "execution_count": 26
        }
      ]
    },
    {
      "cell_type": "markdown",
      "source": [
        "**가변길이 인수(variable-length argument)**\n",
        "\n",
        "* 함수를 호출할 때 전달하는 값(argument)의 개수가 임의로 변할 수 있는 것.\n",
        "    * argument 개수의 제한이 없다.\n",
        "    * argument를 전달하지 않아도 됨.\n",
        "* 함수를 정의할 때, 파라미터 이름 앞에 `*`를 사용하면 가변길이 인수를 전달 받는 파라미터가 됨.\n",
        "* 함수 내부에서 가변길이 인수는 tuple로 취급.\n",
        "    * 가변길이 인수는 인덱스를 사용할 수 있음.\n",
        "    * 가변길이 인수는 for-in 구문에서 사용할 수 있음.\n",
        "* **(주의)**\n",
        "    * 가변길이 인수는 keyword argument 방식으로 전달할 수 없음.\n",
        "    * 함수를 선언할 때, 가변길이 인수를 갖는 파라미터는 **하나**만 선언할 수 있음."
      ],
      "metadata": {
        "id": "-qh5JSPMYqzW"
      }
    },
    {
      "cell_type": "code",
      "source": [
        "def add_all(*values):\n",
        "    total = 0\n",
        "    for x in values:\n",
        "        total += x\n",
        "    return total"
      ],
      "metadata": {
        "id": "n0ip4Z9vUhuc"
      },
      "execution_count": null,
      "outputs": []
    },
    {
      "cell_type": "code",
      "source": [
        "add_all(1)"
      ],
      "metadata": {
        "colab": {
          "base_uri": "https://localhost:8080/"
        },
        "id": "TX_Z4LOkaPZc",
        "outputId": "bdf6641c-35ad-403f-e4d5-9462ff7692f3"
      },
      "execution_count": null,
      "outputs": [
        {
          "output_type": "execute_result",
          "data": {
            "text/plain": [
              "1"
            ]
          },
          "metadata": {},
          "execution_count": 31
        }
      ]
    },
    {
      "cell_type": "code",
      "source": [
        "add_all(1, 2, 3)"
      ],
      "metadata": {
        "colab": {
          "base_uri": "https://localhost:8080/"
        },
        "id": "Ro6-OD9_aWi0",
        "outputId": "c56157df-45a8-42ed-82d6-9844ad34d23f"
      },
      "execution_count": null,
      "outputs": [
        {
          "output_type": "execute_result",
          "data": {
            "text/plain": [
              "6"
            ]
          },
          "metadata": {},
          "execution_count": 32
        }
      ]
    },
    {
      "cell_type": "code",
      "source": [
        "add_all()"
      ],
      "metadata": {
        "colab": {
          "base_uri": "https://localhost:8080/"
        },
        "id": "22Tnsdzrap1S",
        "outputId": "9c8c89b3-91cb-4c4e-cf10-30225680af3f"
      },
      "execution_count": null,
      "outputs": [
        {
          "output_type": "execute_result",
          "data": {
            "text/plain": [
              "0"
            ]
          },
          "metadata": {},
          "execution_count": 33
        }
      ]
    },
    {
      "cell_type": "code",
      "source": [
        "def test1(a, *b):\n",
        "    print('a = ', a)\n",
        "    print('b = ', b)"
      ],
      "metadata": {
        "id": "GU3XARTYbHqO"
      },
      "execution_count": null,
      "outputs": []
    },
    {
      "cell_type": "code",
      "source": [
        "test1(1, 2)"
      ],
      "metadata": {
        "colab": {
          "base_uri": "https://localhost:8080/"
        },
        "id": "66CGaIe4cjhb",
        "outputId": "33647d61-fe8b-47a2-dce9-edd67f0a3845"
      },
      "execution_count": null,
      "outputs": [
        {
          "output_type": "stream",
          "name": "stdout",
          "text": [
            "a =  1\n",
            "b =  (2,)\n"
          ]
        }
      ]
    },
    {
      "cell_type": "code",
      "source": [
        "test1(1, 2, 3)"
      ],
      "metadata": {
        "colab": {
          "base_uri": "https://localhost:8080/"
        },
        "id": "hRmxIb_ycnaD",
        "outputId": "c9caa31c-358a-44a5-a0eb-ba669d8ee60d"
      },
      "execution_count": null,
      "outputs": [
        {
          "output_type": "stream",
          "name": "stdout",
          "text": [
            "a =  1\n",
            "b =  (2, 3)\n"
          ]
        }
      ]
    },
    {
      "cell_type": "markdown",
      "source": [
        "`test1()` 함수는 positional argument 방식으로만 값을 전달할 수 있는 함수."
      ],
      "metadata": {
        "id": "zCzo0rvLdz7L"
      }
    },
    {
      "cell_type": "code",
      "source": [
        "def test2(*a, b):\n",
        "    print('a = ', a)\n",
        "    print('b = ', b)"
      ],
      "metadata": {
        "id": "W2u5_VfNdbxT"
      },
      "execution_count": null,
      "outputs": []
    },
    {
      "cell_type": "code",
      "source": [
        "test2(1, 2, b = 3)"
      ],
      "metadata": {
        "colab": {
          "base_uri": "https://localhost:8080/"
        },
        "id": "C7szMEszeIZc",
        "outputId": "b7bd66f0-3e17-4547-dfea-c854fd9588f7"
      },
      "execution_count": null,
      "outputs": [
        {
          "output_type": "stream",
          "name": "stdout",
          "text": [
            "a =  (1, 2)\n",
            "b =  3\n"
          ]
        }
      ]
    },
    {
      "cell_type": "markdown",
      "source": [
        "`test2()` 함수에서 파라미터 b는 반드시 keyword argument 방식으로만 값을 전달할 수 있음."
      ],
      "metadata": {
        "id": "uA_NTT-300Bd"
      }
    },
    {
      "cell_type": "code",
      "source": [
        "def test3(*a, b = 0):\n",
        "    print('a = ', a)\n",
        "    print('b = ', b)"
      ],
      "metadata": {
        "id": "RnFcSQtLfQw5"
      },
      "execution_count": null,
      "outputs": []
    },
    {
      "cell_type": "code",
      "source": [
        "test3(1)"
      ],
      "metadata": {
        "colab": {
          "base_uri": "https://localhost:8080/"
        },
        "id": "afN5_J-rfuo-",
        "outputId": "d88aa8de-55ee-476d-da53-2619a1ac251c"
      },
      "execution_count": null,
      "outputs": [
        {
          "output_type": "stream",
          "name": "stdout",
          "text": [
            "a =  (1,)\n",
            "b =  0\n"
          ]
        }
      ]
    },
    {
      "cell_type": "code",
      "source": [
        "test3(1, 2, 3)"
      ],
      "metadata": {
        "colab": {
          "base_uri": "https://localhost:8080/"
        },
        "id": "erGy5t46f0dV",
        "outputId": "6e91cc3f-706a-4f3f-c0d8-d6ffd234c6dd"
      },
      "execution_count": null,
      "outputs": [
        {
          "output_type": "stream",
          "name": "stdout",
          "text": [
            "a =  (1, 2, 3)\n",
            "b =  0\n"
          ]
        }
      ]
    },
    {
      "cell_type": "code",
      "source": [
        "test3(1, 2, 3, b = 100)"
      ],
      "metadata": {
        "colab": {
          "base_uri": "https://localhost:8080/"
        },
        "id": "Z9hjmKi2f2eB",
        "outputId": "454e8b04-bc8a-4e4a-928e-244ba6de98b9"
      },
      "execution_count": null,
      "outputs": [
        {
          "output_type": "stream",
          "name": "stdout",
          "text": [
            "a =  (1, 2, 3)\n",
            "b =  100\n"
          ]
        }
      ]
    },
    {
      "cell_type": "code",
      "source": [
        "def calculate(*values, op):\n",
        "    \"\"\"\n",
        "    values: 임의의 개수의 숫자들.\n",
        "    op: 문자열. ('+', 또는 '*')\n",
        "    op가 '+'인 경우에는 모든 값들의 합을 리턴. values에 전달된 값이 없으면 0을 리턴.\n",
        "    op가 '*'인 경우에는 모든 값들의 곱을 리턴. values에 전달된 값이 없으면 1을 리턴.\n",
        "    \"\"\"\n",
        "    if op == '+':\n",
        "        result = 0\n",
        "        for x in values:\n",
        "            result += x\n",
        "    elif op == '*':\n",
        "        result = 1\n",
        "        for x in values:\n",
        "            result *= x\n",
        "    return result\n",
        "\n",
        "calculate(1, 3, 4, 5, 6, 7, op = '*')\n"
      ],
      "metadata": {
        "colab": {
          "base_uri": "https://localhost:8080/"
        },
        "id": "ZJLAaEUGf5PG",
        "outputId": "bc8094d4-ff77-432e-c0c4-1f990c7f526d"
      },
      "execution_count": null,
      "outputs": [
        {
          "output_type": "execute_result",
          "data": {
            "text/plain": [
              "2520"
            ]
          },
          "metadata": {},
          "execution_count": 47
        }
      ]
    },
    {
      "cell_type": "markdown",
      "source": [
        "# 가변길이 키워드 인수(variable-length keyword argument)\n",
        "\n",
        "* variable-length + keyword\n",
        "    * variable-length argument: 함수를 호출할 때, 임의의 개수의 argument를 전달할 수 있음.\n",
        "    * keyword argument: 함수를 호출할 때 반드시 `param_name=value` 형식으로 값을 전달.\n",
        "* 함수를 정의할 때, 파라미터 이름 앞에 `**`를 사용.\n",
        "* 함수를 호출할 때, 임의의 개수의 keyword argument를 전달하면 됨.\n",
        "    * 파라미터 이름 제한 없음.\n",
        "    * 값의 개수 제한 없음.\n",
        "* 함수 내부에서 가변길이 키워드 인수는 dict로 취급됨.\n",
        "    * 함수 호출할 때 사용한 파라미터 이름이 dict의 키(key)가 됨.\n",
        "    * 함수 호출할 때 파라미터에 전달한 값(argument)이 dict의 값(value)이 됨.\n",
        "* 가변길이 키워드 인수는 함수 정의에서 오직 한번만 가능."
      ],
      "metadata": {
        "id": "LBoPHqMx1xmN"
      }
    },
    {
      "cell_type": "code",
      "source": [
        "def test4(**kwargs):\n",
        "    print(kwargs)"
      ],
      "metadata": {
        "id": "RO0m2X2qhs-Y"
      },
      "execution_count": null,
      "outputs": []
    },
    {
      "cell_type": "code",
      "source": [
        "test4()"
      ],
      "metadata": {
        "colab": {
          "base_uri": "https://localhost:8080/"
        },
        "id": "5cfkzct73fRB",
        "outputId": "5f591bff-4548-4f5b-9038-c4cd6cb68a19"
      },
      "execution_count": null,
      "outputs": [
        {
          "output_type": "stream",
          "name": "stdout",
          "text": [
            "{}\n"
          ]
        }
      ]
    },
    {
      "cell_type": "code",
      "source": [
        "test4(a = 1, b = 'hello')"
      ],
      "metadata": {
        "colab": {
          "base_uri": "https://localhost:8080/"
        },
        "id": "Xt1UgKma3h3t",
        "outputId": "683639ed-9b29-464f-ff7e-42d10665b88c"
      },
      "execution_count": null,
      "outputs": [
        {
          "output_type": "stream",
          "name": "stdout",
          "text": [
            "{'a': 1, 'b': 'hello'}\n"
          ]
        }
      ]
    },
    {
      "cell_type": "code",
      "source": [
        "def test5(*args, **kwargs):\n",
        "    print('args = ', args)     # args: 가변길이 인수 -> tuple\n",
        "    print('kwargs = ', kwargs) # kwargs: 가변길이 키워드 인수 -> dict"
      ],
      "metadata": {
        "id": "0_PUkXte3vhf"
      },
      "execution_count": null,
      "outputs": []
    },
    {
      "cell_type": "code",
      "source": [
        "test5(1, 2, 3, 'a', 'b')"
      ],
      "metadata": {
        "colab": {
          "base_uri": "https://localhost:8080/"
        },
        "id": "PqveodQI4-tZ",
        "outputId": "7c276258-713f-4233-cfc3-3bbe175fff51"
      },
      "execution_count": null,
      "outputs": [
        {
          "output_type": "stream",
          "name": "stdout",
          "text": [
            "args =  (1, 2, 3, 'a', 'b')\n",
            "kwargs =  {}\n"
          ]
        }
      ]
    },
    {
      "cell_type": "code",
      "source": [
        "test5(1, 2, a = 100, b = 200)"
      ],
      "metadata": {
        "colab": {
          "base_uri": "https://localhost:8080/"
        },
        "id": "m2HAgaio5Uq_",
        "outputId": "08ed76cf-8e64-4c72-befa-3b165b6475e0"
      },
      "execution_count": null,
      "outputs": [
        {
          "output_type": "stream",
          "name": "stdout",
          "text": [
            "args =  (1, 2)\n",
            "kwargs =  {'a': 100, 'b': 200}\n"
          ]
        }
      ]
    },
    {
      "cell_type": "code",
      "source": [
        "def make_employee(emp_no, emp_name, **kwargs):\n",
        "    emp = {'emp_no' : emp_no, 'emp_name' : emp_name}\n",
        "    for k, v in kwargs.items():\n",
        "        # kwargs의 키(파라미터 이름)이 email 또는 phone인 경우에만 dict에 추가.\n",
        "        # 그 이외의 파라미터들은 모두 무시.\n",
        "        if k == 'email' or k == 'phone':\n",
        "            emp[k] = v\n",
        "    return emp"
      ],
      "metadata": {
        "id": "_Bj1qw_T5ycm"
      },
      "execution_count": null,
      "outputs": []
    },
    {
      "cell_type": "code",
      "source": [
        "make_employee(101, 'Scott', email = 'tjtpwls1@naver.com')"
      ],
      "metadata": {
        "colab": {
          "base_uri": "https://localhost:8080/"
        },
        "id": "cLDFRH6-72HU",
        "outputId": "c903a597-4305-4d93-b0e0-7c1ccd0a3929"
      },
      "execution_count": null,
      "outputs": [
        {
          "output_type": "execute_result",
          "data": {
            "text/plain": [
              "{'email': 'tjtpwls1@naver.com', 'emp_name': 'Scott', 'emp_no': 101}"
            ]
          },
          "metadata": {},
          "execution_count": 60
        }
      ]
    },
    {
      "cell_type": "markdown",
      "source": [
        "# 재귀 함수(recursive function)\n",
        "\n",
        "함수 내부에서 자기 자신을 다시 호출하는 함수"
      ],
      "metadata": {
        "id": "3sVqyO2L9OWr"
      }
    },
    {
      "cell_type": "code",
      "source": [
        "def factorial(n):\n",
        "    \"\"\"\n",
        "    0! = 1 (정의)\n",
        "    1! = 1 = 0! x 1\n",
        "    2! = 1 x 2 = 2 = 1! x 2\n",
        "    3! = 1 x 2 x 3 = 6 = 2! x 3\n",
        "    ...\n",
        "    n! = 1 x 2 x ... x (n-1) x n = (n-1)! x n, n >= 1\n",
        "    \"\"\"\n",
        "    result = None\n",
        "    if n == 0:\n",
        "        result = 1\n",
        "    elif n > 0:\n",
        "        result = factorial(n - 1) * n\n",
        "    return result"
      ],
      "metadata": {
        "id": "zaBB_1748Ace"
      },
      "execution_count": null,
      "outputs": []
    },
    {
      "cell_type": "code",
      "source": [
        "for n in range(6):\n",
        "    print(factorial(n))"
      ],
      "metadata": {
        "colab": {
          "base_uri": "https://localhost:8080/"
        },
        "id": "LDhOcN5X-5sa",
        "outputId": "635ab2ea-062b-44bd-a197-a3f04a7031e7"
      },
      "execution_count": null,
      "outputs": [
        {
          "output_type": "stream",
          "name": "stdout",
          "text": [
            "1\n",
            "1\n",
            "2\n",
            "6\n",
            "24\n",
            "120\n"
          ]
        }
      ]
    },
    {
      "cell_type": "code",
      "source": [
        ""
      ],
      "metadata": {
        "id": "aWXtj2YX--sB"
      },
      "execution_count": null,
      "outputs": []
    }
  ]
}