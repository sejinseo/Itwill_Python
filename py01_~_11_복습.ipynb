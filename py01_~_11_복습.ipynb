{
  "nbformat": 4,
  "nbformat_minor": 0,
  "metadata": {
    "colab": {
      "name": "py01 ~ 11 복습.ipynb",
      "provenance": [],
      "collapsed_sections": [],
      "authorship_tag": "ABX9TyMjT2KrvhRGxHMrCCHJV0NO",
      "include_colab_link": true
    },
    "kernelspec": {
      "name": "python3",
      "display_name": "Python 3"
    },
    "language_info": {
      "name": "python"
    }
  },
  "cells": [
    {
      "cell_type": "markdown",
      "metadata": {
        "id": "view-in-github",
        "colab_type": "text"
      },
      "source": [
        "<a href=\"https://colab.research.google.com/github/sejinseo/Python/blob/main/py01_~_11_%EB%B3%B5%EC%8A%B5.ipynb\" target=\"_parent\"><img src=\"https://colab.research.google.com/assets/colab-badge.svg\" alt=\"Open In Colab\"/></a>"
      ]
    },
    {
      "cell_type": "code",
      "execution_count": 1,
      "metadata": {
        "id": "LXE0pK2vQVx-"
      },
      "outputs": [],
      "source": [
        "import random"
      ]
    },
    {
      "cell_type": "code",
      "source": [
        "numbers = []\n",
        "for _ in range(5):\n",
        "    numbers.append(random.randrange(1, 11))\n",
        "numbers"
      ],
      "metadata": {
        "colab": {
          "base_uri": "https://localhost:8080/"
        },
        "id": "uwC5kr7kQay1",
        "outputId": "316b1b48-451c-4e85-c775-cc2b0eb3df25"
      },
      "execution_count": 2,
      "outputs": [
        {
          "output_type": "execute_result",
          "data": {
            "text/plain": [
              "[4, 10, 8, 5, 9]"
            ]
          },
          "metadata": {},
          "execution_count": 2
        }
      ]
    },
    {
      "cell_type": "code",
      "source": [
        "sum(numbers)"
      ],
      "metadata": {
        "colab": {
          "base_uri": "https://localhost:8080/"
        },
        "id": "t6SSAZY2Qrth",
        "outputId": "7cc512bc-074e-4c9d-ae92-15198e9b8a2a"
      },
      "execution_count": 3,
      "outputs": [
        {
          "output_type": "execute_result",
          "data": {
            "text/plain": [
              "36"
            ]
          },
          "metadata": {},
          "execution_count": 3
        }
      ]
    },
    {
      "cell_type": "code",
      "source": [
        "mean = sum(numbers) / len(numbers)\n",
        "mean"
      ],
      "metadata": {
        "colab": {
          "base_uri": "https://localhost:8080/"
        },
        "id": "GtpiHWqiQuck",
        "outputId": "de720507-3394-4a5a-e3b5-98ef9b571e59"
      },
      "execution_count": 5,
      "outputs": [
        {
          "output_type": "execute_result",
          "data": {
            "text/plain": [
              "7.2"
            ]
          },
          "metadata": {},
          "execution_count": 5
        }
      ]
    },
    {
      "cell_type": "code",
      "source": [
        "numbers = []\n",
        "for _ in range(10):\n",
        "    numbers.append(random.randrange(10, 100))\n",
        "numbers"
      ],
      "metadata": {
        "colab": {
          "base_uri": "https://localhost:8080/"
        },
        "id": "6WoIWY4GQ1nf",
        "outputId": "a447f4a2-ddc1-47a0-ab64-e86686a1c24b"
      },
      "execution_count": 6,
      "outputs": [
        {
          "output_type": "execute_result",
          "data": {
            "text/plain": [
              "[42, 81, 16, 44, 54, 87, 44, 95, 78, 10]"
            ]
          },
          "metadata": {},
          "execution_count": 6
        }
      ]
    },
    {
      "cell_type": "code",
      "source": [
        "evens = []\n",
        "odds = []\n",
        "for n in numbers:\n",
        "    if n % 2 == 0:\n",
        "        evens.append(n)\n",
        "    else:\n",
        "        odds.append(n)\n",
        "print(evens)\n",
        "print(odds)\n"
      ],
      "metadata": {
        "colab": {
          "base_uri": "https://localhost:8080/"
        },
        "id": "6hJYCMtORJGx",
        "outputId": "9ec4a184-681a-4dc8-b60f-9dcc5cab80b1"
      },
      "execution_count": 7,
      "outputs": [
        {
          "output_type": "stream",
          "name": "stdout",
          "text": [
            "[42, 16, 44, 54, 44, 78, 10]\n",
            "[81, 87, 95]\n"
          ]
        }
      ]
    },
    {
      "cell_type": "code",
      "source": [
        "numbers = []\n",
        "for _ in range(10):\n",
        "    numbers.append(random.randrange(-10, 11))\n",
        "numbers"
      ],
      "metadata": {
        "colab": {
          "base_uri": "https://localhost:8080/"
        },
        "id": "_taFi6rNRhZV",
        "outputId": "09f08bfc-6962-4ae6-eb62-0b5126fd866c"
      },
      "execution_count": 8,
      "outputs": [
        {
          "output_type": "execute_result",
          "data": {
            "text/plain": [
              "[6, -1, 8, 9, 4, -6, -5, -3, -9, -8]"
            ]
          },
          "metadata": {},
          "execution_count": 8
        }
      ]
    },
    {
      "cell_type": "code",
      "source": [
        "is_positives = []\n",
        "for n in numbers:\n",
        "    if n > 0:\n",
        "        is_positives.append(True)\n",
        "    else:\n",
        "        is_positives.append(False)\n",
        "is_positives"
      ],
      "metadata": {
        "colab": {
          "base_uri": "https://localhost:8080/"
        },
        "id": "s88sceJhRzyG",
        "outputId": "7e9f54b5-75c6-4125-e108-f8a6986d9a07"
      },
      "execution_count": 9,
      "outputs": [
        {
          "output_type": "execute_result",
          "data": {
            "text/plain": [
              "[True, False, True, True, True, False, False, False, False, False]"
            ]
          },
          "metadata": {},
          "execution_count": 9
        }
      ]
    },
    {
      "cell_type": "code",
      "source": [
        "gender_codes = []\n",
        "for _ in range(10):\n",
        "    gender_codes.append(random.randrange(2))\n",
        "gender_codes\n"
      ],
      "metadata": {
        "colab": {
          "base_uri": "https://localhost:8080/"
        },
        "id": "iuUxEBDXSFgZ",
        "outputId": "372ba7c0-ddfa-4fd4-d1cd-95c9bed9d5fc"
      },
      "execution_count": 10,
      "outputs": [
        {
          "output_type": "execute_result",
          "data": {
            "text/plain": [
              "[0, 0, 1, 1, 0, 1, 0, 1, 1, 0]"
            ]
          },
          "metadata": {},
          "execution_count": 10
        }
      ]
    },
    {
      "cell_type": "code",
      "source": [
        "genders = []\n",
        "for g in gender_codes:\n",
        "    if g == 0:\n",
        "        genders.append('Male')\n",
        "    else:\n",
        "        genders.append('Female')\n",
        "genders"
      ],
      "metadata": {
        "colab": {
          "base_uri": "https://localhost:8080/"
        },
        "id": "dC6qWu1fSyBn",
        "outputId": "cd10abba-a8bb-488a-98c3-ab18560e29ab"
      },
      "execution_count": 15,
      "outputs": [
        {
          "output_type": "execute_result",
          "data": {
            "text/plain": [
              "['Male',\n",
              " 'Male',\n",
              " 'Female',\n",
              " 'Female',\n",
              " 'Male',\n",
              " 'Female',\n",
              " 'Male',\n",
              " 'Female',\n",
              " 'Female',\n",
              " 'Male']"
            ]
          },
          "metadata": {},
          "execution_count": 15
        }
      ]
    },
    {
      "cell_type": "code",
      "source": [
        "numbers = [x ** 2 for x in range(1, 11)]\n",
        "numbers"
      ],
      "metadata": {
        "colab": {
          "base_uri": "https://localhost:8080/"
        },
        "id": "DK_93PjhTCE1",
        "outputId": "28aa14bf-ad94-4901-aa8c-b82719702f82"
      },
      "execution_count": 16,
      "outputs": [
        {
          "output_type": "execute_result",
          "data": {
            "text/plain": [
              "[1, 4, 9, 16, 25, 36, 49, 64, 81, 100]"
            ]
          },
          "metadata": {},
          "execution_count": 16
        }
      ]
    },
    {
      "cell_type": "code",
      "source": [
        "evens = [x for x in range(0, 11, 2)]\n",
        "evens"
      ],
      "metadata": {
        "colab": {
          "base_uri": "https://localhost:8080/"
        },
        "id": "TsQ7KyIrTnqI",
        "outputId": "a5a343df-ea72-41e8-f00f-47ed800ceccf"
      },
      "execution_count": 18,
      "outputs": [
        {
          "output_type": "execute_result",
          "data": {
            "text/plain": [
              "[0, 2, 4, 6, 8, 10]"
            ]
          },
          "metadata": {},
          "execution_count": 18
        }
      ]
    },
    {
      "cell_type": "code",
      "source": [
        "odds = [x for x in range(1, 11, 2)]\n",
        "odds"
      ],
      "metadata": {
        "colab": {
          "base_uri": "https://localhost:8080/"
        },
        "id": "f1XXD4_KTzB6",
        "outputId": "41d799f0-9a17-4351-830e-7a86cb8c6b9a"
      },
      "execution_count": 19,
      "outputs": [
        {
          "output_type": "execute_result",
          "data": {
            "text/plain": [
              "[1, 3, 5, 7, 9]"
            ]
          },
          "metadata": {},
          "execution_count": 19
        }
      ]
    },
    {
      "cell_type": "code",
      "source": [
        "numbers = [random.randrange(10, 100) for _ in range(10)]\n",
        "numbers"
      ],
      "metadata": {
        "colab": {
          "base_uri": "https://localhost:8080/"
        },
        "id": "9Kql4mPZT7iG",
        "outputId": "4b96e6a9-e588-4af5-d925-ff64756bdf69"
      },
      "execution_count": 20,
      "outputs": [
        {
          "output_type": "execute_result",
          "data": {
            "text/plain": [
              "[94, 70, 88, 50, 66, 92, 44, 41, 49, 81]"
            ]
          },
          "metadata": {},
          "execution_count": 20
        }
      ]
    },
    {
      "cell_type": "code",
      "source": [
        "evens = [x for x in numbers if x % 2 == 0]\n",
        "evens"
      ],
      "metadata": {
        "colab": {
          "base_uri": "https://localhost:8080/"
        },
        "id": "8BM-Mi01UR9t",
        "outputId": "0a1340cd-0d12-4b8a-9183-abee4540c677"
      },
      "execution_count": 22,
      "outputs": [
        {
          "output_type": "execute_result",
          "data": {
            "text/plain": [
              "[94, 70, 88, 50, 66, 92, 44]"
            ]
          },
          "metadata": {},
          "execution_count": 22
        }
      ]
    },
    {
      "cell_type": "code",
      "source": [
        "odds = [x for x in numbers if x % 2]\n",
        "odds"
      ],
      "metadata": {
        "colab": {
          "base_uri": "https://localhost:8080/"
        },
        "id": "xyQTcwOPUiQA",
        "outputId": "7b53d496-585b-4d8e-c105-c853efe4a345"
      },
      "execution_count": 23,
      "outputs": [
        {
          "output_type": "execute_result",
          "data": {
            "text/plain": [
              "[41, 49, 81]"
            ]
          },
          "metadata": {},
          "execution_count": 23
        }
      ]
    },
    {
      "cell_type": "code",
      "source": [
        "is_even = ['even' if x % 2 == 0 else 'odd' for x in numbers]\n",
        "is_even"
      ],
      "metadata": {
        "colab": {
          "base_uri": "https://localhost:8080/"
        },
        "id": "Vd3LJfvrUxov",
        "outputId": "f81e2d27-fc89-4d4e-837b-907ecbb28d39"
      },
      "execution_count": 24,
      "outputs": [
        {
          "output_type": "execute_result",
          "data": {
            "text/plain": [
              "['even', 'even', 'even', 'even', 'even', 'even', 'even', 'odd', 'odd', 'odd']"
            ]
          },
          "metadata": {},
          "execution_count": 24
        }
      ]
    },
    {
      "cell_type": "code",
      "source": [
        "numbers = [random.randrange(-10, 11) for _ in range(10)]\n",
        "numbers"
      ],
      "metadata": {
        "colab": {
          "base_uri": "https://localhost:8080/"
        },
        "id": "f5-dGSynVGnG",
        "outputId": "f436ad71-febe-400e-f0f8-26f2b5fbd02c"
      },
      "execution_count": 25,
      "outputs": [
        {
          "output_type": "execute_result",
          "data": {
            "text/plain": [
              "[-1, -7, -10, 7, -5, -9, 4, -8, 4, 6]"
            ]
          },
          "metadata": {},
          "execution_count": 25
        }
      ]
    },
    {
      "cell_type": "code",
      "source": [
        "positives = [x for x in numbers if x > 0]\n",
        "positives"
      ],
      "metadata": {
        "colab": {
          "base_uri": "https://localhost:8080/"
        },
        "id": "Z64TV6FGVYl8",
        "outputId": "505dd0bb-0ab4-42e7-92c7-aa52523193b7"
      },
      "execution_count": 26,
      "outputs": [
        {
          "output_type": "execute_result",
          "data": {
            "text/plain": [
              "[7, 4, 4, 6]"
            ]
          },
          "metadata": {},
          "execution_count": 26
        }
      ]
    },
    {
      "cell_type": "code",
      "source": [
        "not_positives = [x for x in numbers if x <= 0]\n",
        "not_positives"
      ],
      "metadata": {
        "colab": {
          "base_uri": "https://localhost:8080/"
        },
        "id": "xvwYmNliVjPo",
        "outputId": "e258e2dd-77e6-4556-fc8a-579249a238b3"
      },
      "execution_count": 27,
      "outputs": [
        {
          "output_type": "execute_result",
          "data": {
            "text/plain": [
              "[-1, -7, -10, -5, -9, -8]"
            ]
          },
          "metadata": {},
          "execution_count": 27
        }
      ]
    },
    {
      "cell_type": "code",
      "source": [
        "is_positives = [True if x > 0 else False for x in numbers]\n",
        "is_positives"
      ],
      "metadata": {
        "colab": {
          "base_uri": "https://localhost:8080/"
        },
        "id": "nElJR8tEVtox",
        "outputId": "8f529ace-1c7e-4f7f-ec57-f71594d52585"
      },
      "execution_count": 28,
      "outputs": [
        {
          "output_type": "execute_result",
          "data": {
            "text/plain": [
              "[False, False, False, True, False, False, True, False, True, True]"
            ]
          },
          "metadata": {},
          "execution_count": 28
        }
      ]
    },
    {
      "cell_type": "code",
      "source": [
        "gender_codes = [random.randrange(2) for _ in range(10)]\n",
        "gender_codes"
      ],
      "metadata": {
        "colab": {
          "base_uri": "https://localhost:8080/"
        },
        "id": "2eXfmG4iV7Ti",
        "outputId": "de029164-a679-4ee7-ac66-05f17083b317"
      },
      "execution_count": 29,
      "outputs": [
        {
          "output_type": "execute_result",
          "data": {
            "text/plain": [
              "[1, 0, 0, 1, 1, 1, 1, 0, 1, 0]"
            ]
          },
          "metadata": {},
          "execution_count": 29
        }
      ]
    },
    {
      "cell_type": "code",
      "source": [
        "genders = ['Male' if x == 0 else 'Female' for x in gender_codes]\n",
        "genders"
      ],
      "metadata": {
        "colab": {
          "base_uri": "https://localhost:8080/"
        },
        "id": "T-LkBgSUWK8V",
        "outputId": "182ad1ec-0013-4678-c3c5-535ddf395851"
      },
      "execution_count": 30,
      "outputs": [
        {
          "output_type": "execute_result",
          "data": {
            "text/plain": [
              "['Female',\n",
              " 'Male',\n",
              " 'Male',\n",
              " 'Female',\n",
              " 'Female',\n",
              " 'Female',\n",
              " 'Female',\n",
              " 'Male',\n",
              " 'Female',\n",
              " 'Male']"
            ]
          },
          "metadata": {},
          "execution_count": 30
        }
      ]
    },
    {
      "cell_type": "code",
      "source": [
        "gender_codes = [random.randrange(3) for _ in range(10)]\n",
        "gender_codes"
      ],
      "metadata": {
        "colab": {
          "base_uri": "https://localhost:8080/"
        },
        "id": "QCM1VKI9WcLi",
        "outputId": "f1d5f070-41b7-49ad-d7c1-aa3e2bc977b3"
      },
      "execution_count": 31,
      "outputs": [
        {
          "output_type": "execute_result",
          "data": {
            "text/plain": [
              "[1, 1, 1, 1, 0, 0, 2, 1, 1, 2]"
            ]
          },
          "metadata": {},
          "execution_count": 31
        }
      ]
    },
    {
      "cell_type": "code",
      "source": [
        "genders = ['Male' if x == 0 else 'Female' if x == 1 else 'Unknown' for x in gender_codes]\n",
        "genders"
      ],
      "metadata": {
        "colab": {
          "base_uri": "https://localhost:8080/"
        },
        "id": "jzRgxExrWnqm",
        "outputId": "5cb98504-ce30-43bd-8580-c6c41a424593"
      },
      "execution_count": 32,
      "outputs": [
        {
          "output_type": "execute_result",
          "data": {
            "text/plain": [
              "['Female',\n",
              " 'Female',\n",
              " 'Female',\n",
              " 'Female',\n",
              " 'Male',\n",
              " 'Male',\n",
              " 'Unknown',\n",
              " 'Female',\n",
              " 'Female',\n",
              " 'Unknown']"
            ]
          },
          "metadata": {},
          "execution_count": 32
        }
      ]
    },
    {
      "cell_type": "code",
      "source": [
        "numbers1 = [random.randrange(0, 10) for _ in range(10)]\n",
        "numbers1"
      ],
      "metadata": {
        "colab": {
          "base_uri": "https://localhost:8080/"
        },
        "id": "vBxPb_OlW3y5",
        "outputId": "201ccdad-6655-46c3-d724-77805ce0be95"
      },
      "execution_count": 33,
      "outputs": [
        {
          "output_type": "execute_result",
          "data": {
            "text/plain": [
              "[0, 9, 3, 5, 1, 5, 8, 2, 4, 7]"
            ]
          },
          "metadata": {},
          "execution_count": 33
        }
      ]
    },
    {
      "cell_type": "code",
      "source": [
        "numbers2 = [random.randrange(0, 10) for _ in range(10)]\n",
        "numbers2"
      ],
      "metadata": {
        "colab": {
          "base_uri": "https://localhost:8080/"
        },
        "id": "ec0WJedgXDz0",
        "outputId": "9319441e-30de-4a06-a07c-48225b6692e2"
      },
      "execution_count": 34,
      "outputs": [
        {
          "output_type": "execute_result",
          "data": {
            "text/plain": [
              "[6, 4, 3, 3, 2, 6, 2, 7, 2, 0]"
            ]
          },
          "metadata": {},
          "execution_count": 34
        }
      ]
    },
    {
      "cell_type": "code",
      "source": [
        "adds = [numbers1[x] + numbers2[x] for x in range(10)]\n",
        "adds"
      ],
      "metadata": {
        "colab": {
          "base_uri": "https://localhost:8080/"
        },
        "id": "9XBsoKd2XLns",
        "outputId": "8f0bca5a-1a8f-4efe-f365-3d3bbcba6d19"
      },
      "execution_count": 35,
      "outputs": [
        {
          "output_type": "execute_result",
          "data": {
            "text/plain": [
              "[6, 13, 6, 8, 3, 11, 10, 9, 6, 7]"
            ]
          },
          "metadata": {},
          "execution_count": 35
        }
      ]
    },
    {
      "cell_type": "code",
      "source": [
        "adds = [x + y for x, y in zip(numbers1, numbers2)]\n",
        "adds"
      ],
      "metadata": {
        "colab": {
          "base_uri": "https://localhost:8080/"
        },
        "id": "7KM5N3GyXnf_",
        "outputId": "7a5d15bf-ae86-4f46-abcc-3d0f82769bcd"
      },
      "execution_count": 37,
      "outputs": [
        {
          "output_type": "execute_result",
          "data": {
            "text/plain": [
              "[6, 13, 6, 8, 3, 11, 10, 9, 6, 7]"
            ]
          },
          "metadata": {},
          "execution_count": 37
        }
      ]
    },
    {
      "cell_type": "code",
      "source": [
        "mutiplicatoins = [numbers1[x] * numbers2[x] for x in range(10)]\n",
        "mutiplicatoins"
      ],
      "metadata": {
        "colab": {
          "base_uri": "https://localhost:8080/"
        },
        "id": "r_39v2YNXX95",
        "outputId": "80e34efd-5948-455e-e4cd-ba51af8c0005"
      },
      "execution_count": 36,
      "outputs": [
        {
          "output_type": "execute_result",
          "data": {
            "text/plain": [
              "[0, 36, 9, 15, 2, 30, 16, 14, 8, 0]"
            ]
          },
          "metadata": {},
          "execution_count": 36
        }
      ]
    },
    {
      "cell_type": "code",
      "source": [
        "mutiplicatoins = [x * y for x, y in zip(numbers1, numbers2)]\n",
        "mutiplicatoins"
      ],
      "metadata": {
        "colab": {
          "base_uri": "https://localhost:8080/"
        },
        "id": "6HHe5oq8XhWE",
        "outputId": "97813c12-63a4-45c1-a6d7-3853c4ab50cf"
      },
      "execution_count": 38,
      "outputs": [
        {
          "output_type": "execute_result",
          "data": {
            "text/plain": [
              "[0, 36, 9, 15, 2, 30, 16, 14, 8, 0]"
            ]
          },
          "metadata": {},
          "execution_count": 38
        }
      ]
    },
    {
      "cell_type": "code",
      "source": [
        "sum(mutiplicatoins)"
      ],
      "metadata": {
        "colab": {
          "base_uri": "https://localhost:8080/"
        },
        "id": "E1nQEQbTX5z0",
        "outputId": "bd9b420d-d790-4be7-b3af-9cd594a7c314"
      },
      "execution_count": 39,
      "outputs": [
        {
          "output_type": "execute_result",
          "data": {
            "text/plain": [
              "130"
            ]
          },
          "metadata": {},
          "execution_count": 39
        }
      ]
    },
    {
      "cell_type": "code",
      "source": [
        "martix = [[1, 2, 3], [4, 5, 6], [7, 8, 9]]\n",
        "martix"
      ],
      "metadata": {
        "colab": {
          "base_uri": "https://localhost:8080/"
        },
        "id": "MFPVa-_SX95k",
        "outputId": "7d4af655-d1c3-4764-8281-8d2c49f3d050"
      },
      "execution_count": 40,
      "outputs": [
        {
          "output_type": "execute_result",
          "data": {
            "text/plain": [
              "[[1, 2, 3], [4, 5, 6], [7, 8, 9]]"
            ]
          },
          "metadata": {},
          "execution_count": 40
        }
      ]
    },
    {
      "cell_type": "code",
      "source": [
        "martix[0]"
      ],
      "metadata": {
        "colab": {
          "base_uri": "https://localhost:8080/"
        },
        "id": "0eKtaKO3YXVU",
        "outputId": "31fe732e-f9a0-44f1-db2e-ae5e69df06f8"
      },
      "execution_count": 41,
      "outputs": [
        {
          "output_type": "execute_result",
          "data": {
            "text/plain": [
              "[1, 2, 3]"
            ]
          },
          "metadata": {},
          "execution_count": 41
        }
      ]
    },
    {
      "cell_type": "code",
      "source": [
        "martix[0][0]"
      ],
      "metadata": {
        "colab": {
          "base_uri": "https://localhost:8080/"
        },
        "id": "A2JGPpkwYZuM",
        "outputId": "0a6d2875-d201-4e98-9d05-c5f2cfb7ed42"
      },
      "execution_count": 42,
      "outputs": [
        {
          "output_type": "execute_result",
          "data": {
            "text/plain": [
              "1"
            ]
          },
          "metadata": {},
          "execution_count": 42
        }
      ]
    },
    {
      "cell_type": "code",
      "source": [
        "martix[1][2]"
      ],
      "metadata": {
        "colab": {
          "base_uri": "https://localhost:8080/"
        },
        "id": "60UR-vIDYcX8",
        "outputId": "bab723f9-7ff4-4fe1-c76a-4ce4e51fbabb"
      },
      "execution_count": 43,
      "outputs": [
        {
          "output_type": "execute_result",
          "data": {
            "text/plain": [
              "6"
            ]
          },
          "metadata": {},
          "execution_count": 43
        }
      ]
    },
    {
      "cell_type": "code",
      "source": [
        "for row in martix:\n",
        "    print(row)"
      ],
      "metadata": {
        "colab": {
          "base_uri": "https://localhost:8080/"
        },
        "id": "8vVDqpbwYjis",
        "outputId": "2262879b-6bf8-4533-c396-3dd451197cbc"
      },
      "execution_count": 44,
      "outputs": [
        {
          "output_type": "stream",
          "name": "stdout",
          "text": [
            "[1, 2, 3]\n",
            "[4, 5, 6]\n",
            "[7, 8, 9]\n"
          ]
        }
      ]
    },
    {
      "cell_type": "code",
      "source": [
        "for row in martix:\n",
        "    for x in row:\n",
        "        print(x)\n"
      ],
      "metadata": {
        "colab": {
          "base_uri": "https://localhost:8080/"
        },
        "id": "oN5_XneWYpMx",
        "outputId": "729d82f5-7a32-4f51-9e03-b3a977d48510"
      },
      "execution_count": 45,
      "outputs": [
        {
          "output_type": "stream",
          "name": "stdout",
          "text": [
            "1\n",
            "2\n",
            "3\n",
            "4\n",
            "5\n",
            "6\n",
            "7\n",
            "8\n",
            "9\n"
          ]
        }
      ]
    },
    {
      "cell_type": "code",
      "source": [
        "for row in martix:\n",
        "    for x in row:\n",
        "        print(x, end=' ')\n",
        "    print()"
      ],
      "metadata": {
        "colab": {
          "base_uri": "https://localhost:8080/"
        },
        "id": "7za5k-FwYww8",
        "outputId": "14882938-2dda-4c42-8a50-e6912571e45c"
      },
      "execution_count": 47,
      "outputs": [
        {
          "output_type": "stream",
          "name": "stdout",
          "text": [
            "1 2 3 \n",
            "4 5 6 \n",
            "7 8 9 \n"
          ]
        }
      ]
    },
    {
      "cell_type": "code",
      "source": [
        "martix1 = []\n",
        "for _ in range(3):\n",
        "    row = []\n",
        "    for _ in range(3):\n",
        "        row.append(random.randrange(10))\n",
        "    martix1.append(row)\n",
        "martix1"
      ],
      "metadata": {
        "colab": {
          "base_uri": "https://localhost:8080/"
        },
        "id": "akJ9GfyUY2kZ",
        "outputId": "dbd7e5f6-befd-4ec8-f563-5a48cb04e3fe"
      },
      "execution_count": 48,
      "outputs": [
        {
          "output_type": "execute_result",
          "data": {
            "text/plain": [
              "[[1, 2, 4], [7, 8, 2], [0, 8, 6]]"
            ]
          },
          "metadata": {},
          "execution_count": 48
        }
      ]
    },
    {
      "cell_type": "code",
      "source": [
        "martix2 = []\n",
        "for _ in range(3):\n",
        "    row = [random.randrange(10) for _ in range(3)]\n",
        "    martix2.append(row)\n",
        "martix2"
      ],
      "metadata": {
        "colab": {
          "base_uri": "https://localhost:8080/"
        },
        "id": "4xCPpzH7ZVwo",
        "outputId": "f928d9c4-80cc-4c31-9365-1680137dc21a"
      },
      "execution_count": 49,
      "outputs": [
        {
          "output_type": "execute_result",
          "data": {
            "text/plain": [
              "[[4, 0, 3], [6, 4, 3], [7, 5, 7]]"
            ]
          },
          "metadata": {},
          "execution_count": 49
        }
      ]
    },
    {
      "cell_type": "code",
      "source": [
        "martix3 = [[random.randrange(10) for _ in range(3)] for _ in range(3)]\n",
        "martix3"
      ],
      "metadata": {
        "colab": {
          "base_uri": "https://localhost:8080/"
        },
        "id": "JEOUA1dkZqOI",
        "outputId": "d9fe1695-400c-42f0-d79d-bae5b145a84a"
      },
      "execution_count": 51,
      "outputs": [
        {
          "output_type": "execute_result",
          "data": {
            "text/plain": [
              "[[6, 6, 0], [1, 2, 6], [0, 2, 3]]"
            ]
          },
          "metadata": {},
          "execution_count": 51
        }
      ]
    },
    {
      "cell_type": "code",
      "source": [
        "adds = []\n",
        "for row1, row2 in zip(martix1, martix2):\n",
        "    temp = []\n",
        "    for x, y in zip(row1, row2):\n",
        "        temp.append(x + y)\n",
        "    adds.append(temp)\n",
        "adds"
      ],
      "metadata": {
        "colab": {
          "base_uri": "https://localhost:8080/"
        },
        "id": "QhqJA8voabXX",
        "outputId": "ff042ede-ba25-4f75-aca9-1dd35e28c71a"
      },
      "execution_count": 53,
      "outputs": [
        {
          "output_type": "execute_result",
          "data": {
            "text/plain": [
              "[[5, 2, 7], [13, 12, 5], [7, 13, 13]]"
            ]
          },
          "metadata": {},
          "execution_count": 53
        }
      ]
    },
    {
      "cell_type": "code",
      "source": [
        "adds = []\n",
        "for row1, row2 in zip(martix1, martix2):\n",
        "    temp = [x + y for x, y in zip(row1, row2)]\n",
        "    adds.append(temp)\n",
        "adds"
      ],
      "metadata": {
        "colab": {
          "base_uri": "https://localhost:8080/"
        },
        "id": "OhYi8Ry4Z1-g",
        "outputId": "ce072133-d471-4111-d881-92c9dcfd8fbb"
      },
      "execution_count": 55,
      "outputs": [
        {
          "output_type": "execute_result",
          "data": {
            "text/plain": [
              "[[5, 2, 7], [13, 12, 5], [7, 13, 13]]"
            ]
          },
          "metadata": {},
          "execution_count": 55
        }
      ]
    },
    {
      "cell_type": "code",
      "source": [
        "adds = [[x + y for x, y in zip(row1, row2)] \n",
        "        for row1, row2 in zip(martix1, martix2)]\n",
        "adds"
      ],
      "metadata": {
        "colab": {
          "base_uri": "https://localhost:8080/"
        },
        "id": "A1zNrOTBaKRL",
        "outputId": "6c17ab32-5a8f-4760-9715-a06b94e50188"
      },
      "execution_count": 56,
      "outputs": [
        {
          "output_type": "execute_result",
          "data": {
            "text/plain": [
              "[[5, 2, 7], [13, 12, 5], [7, 13, 13]]"
            ]
          },
          "metadata": {},
          "execution_count": 56
        }
      ]
    },
    {
      "cell_type": "code",
      "source": [
        "first, second = (100, 50)\n",
        "print(first)\n",
        "print(second)"
      ],
      "metadata": {
        "colab": {
          "base_uri": "https://localhost:8080/"
        },
        "id": "tzrEMMf2bWNr",
        "outputId": "6f0d3989-815b-411b-f9e9-18f0dc5dec8b"
      },
      "execution_count": 57,
      "outputs": [
        {
          "output_type": "stream",
          "name": "stdout",
          "text": [
            "100\n",
            "50\n"
          ]
        }
      ]
    },
    {
      "cell_type": "code",
      "source": [
        "x, y, z = [1, 2, 3]\n",
        "print(f'{x}, {y}, {z}')"
      ],
      "metadata": {
        "colab": {
          "base_uri": "https://localhost:8080/"
        },
        "id": "jSwPZTdzcFdf",
        "outputId": "1f4ae0de-2848-42a7-9226-c893a863938f"
      },
      "execution_count": 58,
      "outputs": [
        {
          "output_type": "stream",
          "name": "stdout",
          "text": [
            "1, 2, 3\n"
          ]
        }
      ]
    },
    {
      "cell_type": "code",
      "source": [
        "emp_no = [101, 102, 103, 201, 202] \n",
        "emp_name = ['King', 'Scott', 'Allen', 'Tiger', '세진']"
      ],
      "metadata": {
        "id": "vy2vSTKNcOCL"
      },
      "execution_count": 59,
      "outputs": []
    },
    {
      "cell_type": "code",
      "source": [
        "emp = {}\n",
        "for i in range(5):\n",
        "    emp[emp_no[i]] = emp_name[i]\n",
        "emp"
      ],
      "metadata": {
        "colab": {
          "base_uri": "https://localhost:8080/"
        },
        "id": "YJXcCjlAeFuz",
        "outputId": "75cb4540-9791-430b-a54a-9b1ec0617f4c"
      },
      "execution_count": 60,
      "outputs": [
        {
          "output_type": "execute_result",
          "data": {
            "text/plain": [
              "{101: 'King', 102: 'Scott', 103: 'Allen', 201: 'Tiger', 202: '세진'}"
            ]
          },
          "metadata": {},
          "execution_count": 60
        }
      ]
    },
    {
      "cell_type": "code",
      "source": [
        "emp = {}\n",
        "for x, y in zip(emp_no, emp_name):\n",
        "    emp[x] = y\n",
        "emp"
      ],
      "metadata": {
        "colab": {
          "base_uri": "https://localhost:8080/"
        },
        "id": "CiDhm_E5eTp1",
        "outputId": "1b93241d-917a-4994-947c-b4895c732c2e"
      },
      "execution_count": 61,
      "outputs": [
        {
          "output_type": "execute_result",
          "data": {
            "text/plain": [
              "{101: 'King', 102: 'Scott', 103: 'Allen', 201: 'Tiger', 202: '세진'}"
            ]
          },
          "metadata": {},
          "execution_count": 61
        }
      ]
    },
    {
      "cell_type": "code",
      "source": [
        "emp = {x: y for x, y in zip(emp_no, emp_name)}\n",
        "emp"
      ],
      "metadata": {
        "colab": {
          "base_uri": "https://localhost:8080/"
        },
        "id": "9qXmSCKzeg6a",
        "outputId": "7d7f25c3-fafa-4deb-9053-b8f95f7506a2"
      },
      "execution_count": 63,
      "outputs": [
        {
          "output_type": "execute_result",
          "data": {
            "text/plain": [
              "{101: 'King', 102: 'Scott', 103: 'Allen', 201: 'Tiger', 202: '세진'}"
            ]
          },
          "metadata": {},
          "execution_count": 63
        }
      ]
    },
    {
      "cell_type": "code",
      "source": [
        "fruits = ['apple', 'banana', 'cherry', 'pineapple', 'watermelon']\n",
        "fruits_lengths = {}\n",
        "for i in fruits:\n",
        "    fruits_lengths[i] = len(i)\n",
        "fruits_lengths"
      ],
      "metadata": {
        "colab": {
          "base_uri": "https://localhost:8080/"
        },
        "id": "kksC1oN2epow",
        "outputId": "c98bfa7b-246e-4cab-bc0f-09a9508aebf7"
      },
      "execution_count": 64,
      "outputs": [
        {
          "output_type": "execute_result",
          "data": {
            "text/plain": [
              "{'apple': 5, 'banana': 6, 'cherry': 6, 'pineapple': 9, 'watermelon': 10}"
            ]
          },
          "metadata": {},
          "execution_count": 64
        }
      ]
    },
    {
      "cell_type": "code",
      "source": [
        "lengths = {x: len(x) for x in fruits}\n",
        "lengths"
      ],
      "metadata": {
        "colab": {
          "base_uri": "https://localhost:8080/"
        },
        "id": "GZ7_o4dhfN4R",
        "outputId": "1a85be98-1164-4878-df17-fcd42ec19206"
      },
      "execution_count": 65,
      "outputs": [
        {
          "output_type": "execute_result",
          "data": {
            "text/plain": [
              "{'apple': 5, 'banana': 6, 'cherry': 6, 'pineapple': 9, 'watermelon': 10}"
            ]
          },
          "metadata": {},
          "execution_count": 65
        }
      ]
    },
    {
      "cell_type": "code",
      "source": [
        "def make_list(start, end, n):\n",
        "    # array = []\n",
        "    # for _ in range(n):\n",
        "    #     array.append(random.randrange(start, end))\n",
        "    # return array\n",
        "    array = [random.randrange(start, end) for _ in range(n)]\n",
        "    return array"
      ],
      "metadata": {
        "id": "opNNujHtfaoj"
      },
      "execution_count": 73,
      "outputs": []
    },
    {
      "cell_type": "code",
      "source": [
        "make_list(3, 6, 3)"
      ],
      "metadata": {
        "colab": {
          "base_uri": "https://localhost:8080/"
        },
        "id": "zSCAKs_TySO0",
        "outputId": "b60e7a7e-0ba3-427e-c3e6-fd615cb200a7"
      },
      "execution_count": 74,
      "outputs": [
        {
          "output_type": "execute_result",
          "data": {
            "text/plain": [
              "[5, 4, 4]"
            ]
          },
          "metadata": {},
          "execution_count": 74
        }
      ]
    },
    {
      "cell_type": "code",
      "source": [
        "def calc_sum(numbers):\n",
        "    # total = 0\n",
        "    # for n in numbers:\n",
        "    #     total += n\n",
        "    # return total\n",
        "    \n",
        "    return sum(numbers)"
      ],
      "metadata": {
        "id": "9N-orjMfyUvI"
      },
      "execution_count": 81,
      "outputs": []
    },
    {
      "cell_type": "code",
      "source": [
        "calc_sum([1, 3, 4, 5, 6])"
      ],
      "metadata": {
        "colab": {
          "base_uri": "https://localhost:8080/"
        },
        "id": "zTLRc7PRzlTK",
        "outputId": "af26a9ed-82b0-4ded-aa98-b2c19d461b91"
      },
      "execution_count": 82,
      "outputs": [
        {
          "output_type": "execute_result",
          "data": {
            "text/plain": [
              "19"
            ]
          },
          "metadata": {},
          "execution_count": 82
        }
      ]
    },
    {
      "cell_type": "code",
      "source": [
        "def calc_mean(numbers):\n",
        "    return calc_sum(numbers) / len(numbers)"
      ],
      "metadata": {
        "id": "UaI1eQ3bzofZ"
      },
      "execution_count": 91,
      "outputs": []
    },
    {
      "cell_type": "code",
      "source": [
        "calc_mean([5,5,5,5,5])"
      ],
      "metadata": {
        "colab": {
          "base_uri": "https://localhost:8080/"
        },
        "id": "KRAn23kx0Nn8",
        "outputId": "477aa936-2129-47b3-c649-b2499e0ea7cc"
      },
      "execution_count": 92,
      "outputs": [
        {
          "output_type": "execute_result",
          "data": {
            "text/plain": [
              "5.0"
            ]
          },
          "metadata": {},
          "execution_count": 92
        }
      ]
    },
    {
      "cell_type": "code",
      "source": [
        "def calc_variance(numbers):\n",
        "    mean = calc_mean(numbers)\n",
        "    squares = [(x - mean) ** 2 for x in numbers]\n",
        "    var = calc_sum(squares) / (len(numbers) - 1)\n",
        "    return var"
      ],
      "metadata": {
        "id": "V1UhcSl10QBJ"
      },
      "execution_count": 96,
      "outputs": []
    },
    {
      "cell_type": "code",
      "source": [
        "calc_variance([1,2,3,4,5,6])"
      ],
      "metadata": {
        "colab": {
          "base_uri": "https://localhost:8080/"
        },
        "id": "9J9xPxH81EA_",
        "outputId": "7ca74bdc-829e-4bc3-bc3a-658e4c049a50"
      },
      "execution_count": 97,
      "outputs": [
        {
          "output_type": "stream",
          "name": "stdout",
          "text": [
            "[6.25, 2.25, 0.25, 0.25, 2.25, 6.25]\n"
          ]
        },
        {
          "output_type": "execute_result",
          "data": {
            "text/plain": [
              "3.5"
            ]
          },
          "metadata": {},
          "execution_count": 97
        }
      ]
    },
    {
      "cell_type": "code",
      "source": [
        "import math\n",
        "def calc_stddev(numbers):\n",
        "    return math.sqrt(calc_variance(numbers))"
      ],
      "metadata": {
        "id": "32jH-RB21J9F"
      },
      "execution_count": 98,
      "outputs": []
    },
    {
      "cell_type": "code",
      "source": [
        "calc_stddev([1, 3, 4, 5, 6])"
      ],
      "metadata": {
        "colab": {
          "base_uri": "https://localhost:8080/"
        },
        "id": "edntzIal1plb",
        "outputId": "ce78f295-155b-47fa-ab8b-ae53fe9012d0"
      },
      "execution_count": 99,
      "outputs": [
        {
          "output_type": "stream",
          "name": "stdout",
          "text": [
            "[7.839999999999999, 0.6399999999999997, 0.04000000000000007, 1.4400000000000004, 4.840000000000001]\n"
          ]
        },
        {
          "output_type": "execute_result",
          "data": {
            "text/plain": [
              "1.9235384061671346"
            ]
          },
          "metadata": {},
          "execution_count": 99
        }
      ]
    },
    {
      "cell_type": "code",
      "source": [
        "def find_max_and_min(numbers):\n",
        "    # return max(numbers), min(numbers)\n",
        "    max_numbers = numbers[0]\n",
        "    min_numbers = numbers[0]\n",
        "    for x in numbers:\n",
        "        if x > max_numbers:\n",
        "            max_numbers = x\n",
        "        if x < min_numbers:\n",
        "            min_numbers = x\n",
        "    return max_numbers, min_numbers\n"
      ],
      "metadata": {
        "id": "806Hg8FS1wLw"
      },
      "execution_count": 106,
      "outputs": []
    },
    {
      "cell_type": "code",
      "source": [
        "find_max_and_min([2, 2, 3, 4, 5])"
      ],
      "metadata": {
        "colab": {
          "base_uri": "https://localhost:8080/"
        },
        "id": "o6petOR42CQU",
        "outputId": "24a2c874-7570-4501-9201-fc5e39c1fc1f"
      },
      "execution_count": 107,
      "outputs": [
        {
          "output_type": "execute_result",
          "data": {
            "text/plain": [
              "(5, 2)"
            ]
          },
          "metadata": {},
          "execution_count": 107
        }
      ]
    },
    {
      "cell_type": "code",
      "source": [
        "def calculate(*values, op):\n",
        "    result = 1\n",
        "    if op == '+':\n",
        "        return sum(values)\n",
        "    elif op == '*':\n",
        "        for x in values:\n",
        "            result *= x\n",
        "        return result"
      ],
      "metadata": {
        "id": "sa7g7zdw2q-Q"
      },
      "execution_count": 108,
      "outputs": []
    },
    {
      "cell_type": "code",
      "source": [
        "calculate(1, 2, 3, 4, 5, op='*')"
      ],
      "metadata": {
        "colab": {
          "base_uri": "https://localhost:8080/"
        },
        "id": "pyqPFQdL5Ang",
        "outputId": "0c666938-e831-442e-eb07-90f1e4b85a23"
      },
      "execution_count": 110,
      "outputs": [
        {
          "output_type": "execute_result",
          "data": {
            "text/plain": [
              "120"
            ]
          },
          "metadata": {},
          "execution_count": 110
        }
      ]
    },
    {
      "cell_type": "code",
      "source": [
        "def make_employee(emp_no, emp_name, **kwargs):\n",
        "    emp = {'emp_no': emp_no, 'emp_name': emp_name}\n",
        "    for k, v in kwargs.items():\n",
        "        if k == 'email' or k =='phone':\n",
        "            emp[k] = v\n",
        "        return emp"
      ],
      "metadata": {
        "id": "SHzU2mO35CKz"
      },
      "execution_count": 111,
      "outputs": []
    },
    {
      "cell_type": "code",
      "source": [
        "make_employee(101, 'Scott', email='tjtpwls1@naver.com')"
      ],
      "metadata": {
        "colab": {
          "base_uri": "https://localhost:8080/"
        },
        "id": "Le80DlB46Lsx",
        "outputId": "19a19cd4-116c-4956-e895-1ec5833fdca3"
      },
      "execution_count": 112,
      "outputs": [
        {
          "output_type": "execute_result",
          "data": {
            "text/plain": [
              "{'email': 'tjtpwls1@naver.com', 'emp_name': 'Scott', 'emp_no': 101}"
            ]
          },
          "metadata": {},
          "execution_count": 112
        }
      ]
    },
    {
      "cell_type": "code",
      "source": [
        "def calculator(x, y, fn):\n",
        "    result = fn(x, y)\n",
        "    return result"
      ],
      "metadata": {
        "id": "xYoxFPak6Rrg"
      },
      "execution_count": 113,
      "outputs": []
    },
    {
      "cell_type": "code",
      "source": [
        "def plus(x, y):\n",
        "    return x+y"
      ],
      "metadata": {
        "id": "uukbVhLN7ECi"
      },
      "execution_count": 114,
      "outputs": []
    },
    {
      "cell_type": "code",
      "source": [
        "calculator(3, 4, plus)"
      ],
      "metadata": {
        "colab": {
          "base_uri": "https://localhost:8080/"
        },
        "id": "QAr2DO3b7Jw1",
        "outputId": "4023ada8-6788-4253-bb4d-3a0c84782755"
      },
      "execution_count": 115,
      "outputs": [
        {
          "output_type": "execute_result",
          "data": {
            "text/plain": [
              "7"
            ]
          },
          "metadata": {},
          "execution_count": 115
        }
      ]
    },
    {
      "cell_type": "code",
      "source": [
        "def make_increment(n):\n",
        "    def add_n(x):\n",
        "        return x + n"
      ],
      "metadata": {
        "id": "geSX3m3a7MVx"
      },
      "execution_count": 116,
      "outputs": []
    },
    {
      "cell_type": "code",
      "source": [
        "plus_one = lambda x: x +1"
      ],
      "metadata": {
        "id": "k6wLl6PP7ghs"
      },
      "execution_count": 117,
      "outputs": []
    },
    {
      "cell_type": "code",
      "source": [
        "plus_one(2)"
      ],
      "metadata": {
        "colab": {
          "base_uri": "https://localhost:8080/"
        },
        "id": "tniYW5kS8Ck4",
        "outputId": "cc1872f1-d8cd-474e-9c26-8ffd440e41b2"
      },
      "execution_count": 118,
      "outputs": [
        {
          "output_type": "execute_result",
          "data": {
            "text/plain": [
              "3"
            ]
          },
          "metadata": {},
          "execution_count": 118
        }
      ]
    },
    {
      "cell_type": "code",
      "source": [
        "calculator(1, 2, lambda x, y : x - y)"
      ],
      "metadata": {
        "colab": {
          "base_uri": "https://localhost:8080/"
        },
        "id": "oqUmq9dR8ERR",
        "outputId": "2f247bc6-42a7-4cf0-c510-34ff0282c92b"
      },
      "execution_count": 119,
      "outputs": [
        {
          "output_type": "execute_result",
          "data": {
            "text/plain": [
              "-1"
            ]
          },
          "metadata": {},
          "execution_count": 119
        }
      ]
    },
    {
      "cell_type": "code",
      "source": [
        "calculator(2, 3, lambda x, y: x * y)"
      ],
      "metadata": {
        "colab": {
          "base_uri": "https://localhost:8080/"
        },
        "id": "o1G_0uA-8On4",
        "outputId": "6fff8dad-4968-44ca-aa56-ac2f0aeec88f"
      },
      "execution_count": 120,
      "outputs": [
        {
          "output_type": "execute_result",
          "data": {
            "text/plain": [
              "6"
            ]
          },
          "metadata": {},
          "execution_count": 120
        }
      ]
    },
    {
      "cell_type": "code",
      "source": [
        "calculator(1, 2, lambda x, y : x if x > y else y)"
      ],
      "metadata": {
        "colab": {
          "base_uri": "https://localhost:8080/"
        },
        "id": "Y21XKRju8WMv",
        "outputId": "4a359807-6df6-4f56-892b-8189507ebd48"
      },
      "execution_count": 121,
      "outputs": [
        {
          "output_type": "execute_result",
          "data": {
            "text/plain": [
              "2"
            ]
          },
          "metadata": {},
          "execution_count": 121
        }
      ]
    },
    {
      "cell_type": "code",
      "source": [
        "numbers = [1, -2, 3, -4, -5, 6, 7, 8]"
      ],
      "metadata": {
        "id": "wlNPEM8l8o8J"
      },
      "execution_count": 122,
      "outputs": []
    },
    {
      "cell_type": "code",
      "source": [
        "result = filter(lambda x: x > 0, numbers)\n",
        "result"
      ],
      "metadata": {
        "colab": {
          "base_uri": "https://localhost:8080/"
        },
        "id": "bIoEJPqQ9E-M",
        "outputId": "dda56b8e-5bb6-4777-8962-f2cc2b8fe1c0"
      },
      "execution_count": 123,
      "outputs": [
        {
          "output_type": "execute_result",
          "data": {
            "text/plain": [
              "<filter at 0x7fc454e4ed10>"
            ]
          },
          "metadata": {},
          "execution_count": 123
        }
      ]
    },
    {
      "cell_type": "code",
      "source": [
        "list(result)"
      ],
      "metadata": {
        "colab": {
          "base_uri": "https://localhost:8080/"
        },
        "id": "m88imcTW9T9p",
        "outputId": "fdca7a00-bfe1-4f04-c8be-0aee9e2a6300"
      },
      "execution_count": 124,
      "outputs": [
        {
          "output_type": "execute_result",
          "data": {
            "text/plain": [
              "[1, 3, 6, 7, 8]"
            ]
          },
          "metadata": {},
          "execution_count": 124
        }
      ]
    },
    {
      "cell_type": "code",
      "source": [
        "result = filter(lambda x: x < 0, numbers)\n",
        "list(result)"
      ],
      "metadata": {
        "colab": {
          "base_uri": "https://localhost:8080/"
        },
        "id": "U-12_hr49YAR",
        "outputId": "cfac7865-af34-496b-993f-07ef1f459134"
      },
      "execution_count": 127,
      "outputs": [
        {
          "output_type": "execute_result",
          "data": {
            "text/plain": [
              "[-2, -4, -5]"
            ]
          },
          "metadata": {},
          "execution_count": 127
        }
      ]
    },
    {
      "cell_type": "code",
      "source": [
        "result = filter(lambda x: x % 2, numbers)\n",
        "list(result)"
      ],
      "metadata": {
        "colab": {
          "base_uri": "https://localhost:8080/"
        },
        "id": "jl2t4fIk9kUS",
        "outputId": "49100b06-cebd-4fa8-ff24-71ba0e346ede"
      },
      "execution_count": 128,
      "outputs": [
        {
          "output_type": "execute_result",
          "data": {
            "text/plain": [
              "[1, 3, -5, 7]"
            ]
          },
          "metadata": {},
          "execution_count": 128
        }
      ]
    },
    {
      "cell_type": "code",
      "source": [
        "result = map(lambda x: 'even' if x % 2 == 0 else 'odd', numbers)\n",
        "list(result)"
      ],
      "metadata": {
        "colab": {
          "base_uri": "https://localhost:8080/"
        },
        "id": "02GDfqsq9vTO",
        "outputId": "7097036a-0032-43c1-faa6-f29efedb755d"
      },
      "execution_count": 129,
      "outputs": [
        {
          "output_type": "execute_result",
          "data": {
            "text/plain": [
              "['odd', 'even', 'odd', 'even', 'odd', 'even', 'odd', 'even']"
            ]
          },
          "metadata": {},
          "execution_count": 129
        }
      ]
    },
    {
      "cell_type": "code",
      "source": [
        "genders = ['Male', 'Female', 'Female', 'Male']"
      ],
      "metadata": {
        "id": "kiNypRg3-DWu"
      },
      "execution_count": 130,
      "outputs": []
    },
    {
      "cell_type": "code",
      "source": [
        "result = filter(lambda x: x =='Female', genders)\n",
        "list(result)"
      ],
      "metadata": {
        "colab": {
          "base_uri": "https://localhost:8080/"
        },
        "id": "h2EBn09k-VYO",
        "outputId": "419e51c0-ece6-4238-b2d3-b08f40d4de29"
      },
      "execution_count": 131,
      "outputs": [
        {
          "output_type": "execute_result",
          "data": {
            "text/plain": [
              "['Female', 'Female']"
            ]
          },
          "metadata": {},
          "execution_count": 131
        }
      ]
    },
    {
      "cell_type": "code",
      "source": [
        "result = map(lambda x: 1 if x == 'Male' else '0', genders)\n",
        "list(result)"
      ],
      "metadata": {
        "colab": {
          "base_uri": "https://localhost:8080/"
        },
        "id": "eFnPAwVW-dOW",
        "outputId": "8c4dcb21-e207-40cf-de25-c40bc57c75a4"
      },
      "execution_count": 134,
      "outputs": [
        {
          "output_type": "execute_result",
          "data": {
            "text/plain": [
              "[1, '0', '0', 1]"
            ]
          },
          "metadata": {},
          "execution_count": 134
        }
      ]
    },
    {
      "cell_type": "code",
      "source": [
        "def my_filter(iterable, fn):\n",
        "    # result = []\n",
        "    # for x in iterable:\n",
        "    #     if fn(x):\n",
        "    #         result.append(x)\n",
        "    #     return result\n",
        "    return [x for x in iterable if fn(x)]"
      ],
      "metadata": {
        "id": "Zj0otGLE-qas"
      },
      "execution_count": 135,
      "outputs": []
    },
    {
      "cell_type": "code",
      "source": [
        "numbers"
      ],
      "metadata": {
        "colab": {
          "base_uri": "https://localhost:8080/"
        },
        "id": "XcXTsHlX_hZ9",
        "outputId": "5b0ad588-eb07-4d31-92ea-b226a87a7eb2"
      },
      "execution_count": 136,
      "outputs": [
        {
          "output_type": "execute_result",
          "data": {
            "text/plain": [
              "[1, -2, 3, -4, -5, 6, 7, 8]"
            ]
          },
          "metadata": {},
          "execution_count": 136
        }
      ]
    },
    {
      "cell_type": "code",
      "source": [
        "my_filter(numbers, lambda x: x>0)"
      ],
      "metadata": {
        "colab": {
          "base_uri": "https://localhost:8080/"
        },
        "id": "RFLfQE2N_jJ1",
        "outputId": "7a5d9f8b-5ca9-4ea6-9b55-7226969de091"
      },
      "execution_count": 140,
      "outputs": [
        {
          "output_type": "execute_result",
          "data": {
            "text/plain": [
              "[1, 3, 6, 7, 8]"
            ]
          },
          "metadata": {},
          "execution_count": 140
        }
      ]
    },
    {
      "cell_type": "code",
      "source": [
        "languages = ['Java', 'HTML', 'CSS', 'JavaScript', 'Python']\n",
        "my_filter(languages, lambda x: len(x) >= 5)"
      ],
      "metadata": {
        "colab": {
          "base_uri": "https://localhost:8080/"
        },
        "id": "ywk0hScg_lM_",
        "outputId": "c3789ba3-88a3-4e77-b9fb-117d379e017c"
      },
      "execution_count": 141,
      "outputs": [
        {
          "output_type": "execute_result",
          "data": {
            "text/plain": [
              "['JavaScript', 'Python']"
            ]
          },
          "metadata": {},
          "execution_count": 141
        }
      ]
    },
    {
      "cell_type": "code",
      "source": [
        "def my_mapper(iterable, fn):\n",
        "    # result = []\n",
        "    # for x in iterable:\n",
        "    #     result.append(fn(x))\n",
        "    # return result\n",
        "    return [fn(x) for x in iterable]"
      ],
      "metadata": {
        "id": "noVKvRJYAA57"
      },
      "execution_count": 142,
      "outputs": []
    },
    {
      "cell_type": "code",
      "source": [
        "numbers"
      ],
      "metadata": {
        "colab": {
          "base_uri": "https://localhost:8080/"
        },
        "id": "v_APGVJjAqEU",
        "outputId": "d02c06cb-71cb-4135-ba0b-5ce4cb3c9802"
      },
      "execution_count": 143,
      "outputs": [
        {
          "output_type": "execute_result",
          "data": {
            "text/plain": [
              "[1, -2, 3, -4, -5, 6, 7, 8]"
            ]
          },
          "metadata": {},
          "execution_count": 143
        }
      ]
    },
    {
      "cell_type": "code",
      "source": [
        "my_mapper(numbers, lambda x: '짝수' if x % 2 == 0 else '홀수')"
      ],
      "metadata": {
        "colab": {
          "base_uri": "https://localhost:8080/"
        },
        "id": "7v0MCucXArO2",
        "outputId": "27873fb8-7d81-4cb3-8820-bd9ea0f941c4"
      },
      "execution_count": 145,
      "outputs": [
        {
          "output_type": "execute_result",
          "data": {
            "text/plain": [
              "['홀수', '짝수', '홀수', '짝수', '홀수', '짝수', '홀수', '짝수']"
            ]
          },
          "metadata": {},
          "execution_count": 145
        }
      ]
    },
    {
      "cell_type": "code",
      "source": [
        "genders = ['남성', '여성', '여성', '남성']\n",
        "my_mapper(genders, lambda x: 0 if x == '남성' else 1)"
      ],
      "metadata": {
        "colab": {
          "base_uri": "https://localhost:8080/"
        },
        "id": "7W12hjz2A2gq",
        "outputId": "7e34869f-4cec-48b5-a00f-67363675ffa9"
      },
      "execution_count": 146,
      "outputs": [
        {
          "output_type": "execute_result",
          "data": {
            "text/plain": [
              "[0, 1, 1, 0]"
            ]
          },
          "metadata": {},
          "execution_count": 146
        }
      ]
    },
    {
      "cell_type": "code",
      "source": [
        "def my_mapper2(iterable, fn):\n",
        "    # result = {}\n",
        "    # for x in iterable:\n",
        "    #     result[x] = fn(x)\n",
        "    # return result\n",
        "    return {x: fn(x) for x in iterable}"
      ],
      "metadata": {
        "id": "SsXvhohNBJvU"
      },
      "execution_count": 150,
      "outputs": []
    },
    {
      "cell_type": "code",
      "source": [
        "my_mapper2(numbers, lambda x: '짝수' if x % 2 == 0 else '홀수')"
      ],
      "metadata": {
        "colab": {
          "base_uri": "https://localhost:8080/"
        },
        "id": "bqA7XxTjB7KS",
        "outputId": "240f52c1-8a77-43d8-9ac5-61083eb08d02"
      },
      "execution_count": 151,
      "outputs": [
        {
          "output_type": "execute_result",
          "data": {
            "text/plain": [
              "{-5: '홀수', -4: '짝수', -2: '짝수', 1: '홀수', 3: '홀수', 6: '짝수', 7: '홀수', 8: '짝수'}"
            ]
          },
          "metadata": {},
          "execution_count": 151
        }
      ]
    },
    {
      "cell_type": "code",
      "source": [
        "my_mapper2(languages, lambda x: len(x))"
      ],
      "metadata": {
        "colab": {
          "base_uri": "https://localhost:8080/"
        },
        "id": "yHK7PptFCLCH",
        "outputId": "78950f3a-28da-4b68-a20a-2ab2039f82f2"
      },
      "execution_count": 152,
      "outputs": [
        {
          "output_type": "execute_result",
          "data": {
            "text/plain": [
              "{'CSS': 3, 'HTML': 4, 'Java': 4, 'JavaScript': 10, 'Python': 6}"
            ]
          },
          "metadata": {},
          "execution_count": 152
        }
      ]
    }
  ]
}