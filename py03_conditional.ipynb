{
  "nbformat": 4,
  "nbformat_minor": 0,
  "metadata": {
    "colab": {
      "name": "py03_conditional.ipynb",
      "provenance": [],
      "collapsed_sections": [],
      "authorship_tag": "ABX9TyM6lw3tt7QoN1hWJGjf5I1Z",
      "include_colab_link": true
    },
    "kernelspec": {
      "name": "python3",
      "display_name": "Python 3"
    },
    "language_info": {
      "name": "python"
    }
  },
  "cells": [
    {
      "cell_type": "markdown",
      "metadata": {
        "id": "view-in-github",
        "colab_type": "text"
      },
      "source": [
        "<a href=\"https://colab.research.google.com/github/sejinseo/Python/blob/main/py03_conditional.ipynb\" target=\"_parent\"><img src=\"https://colab.research.google.com/assets/colab-badge.svg\" alt=\"Open In Colab\"/></a>"
      ]
    },
    {
      "cell_type": "markdown",
      "source": [
        "# 조건문(Conditional Statment)"
      ],
      "metadata": {
        "id": "nzr0LpmJHH5Z"
      }
    },
    {
      "cell_type": "markdown",
      "source": [
        "## else가 없는 조건문\n",
        "\n",
        "```\n",
        "if 조건식:\n",
        "  조건식을 만족할 때 실행할 코드(들)\n",
        "```\n",
        "\n",
        "* `if 조건식` 뒤에는 반드시 **콜론(:)**을 사용해야 함.\n",
        "* `if` 블록(조건식을 만족할 때 실행할 문장들)은 반드시 **들여쓰기(indentation)**을 해야 함.\n",
        "* 파이썬은 들여쓰기(indentation)가 제대로 되어 있지 않으면 문장이 실행되지 않음!"
      ],
      "metadata": {
        "id": "3eSRni8iG1TI"
      }
    },
    {
      "cell_type": "code",
      "source": [
        "n = -100"
      ],
      "metadata": {
        "id": "3svtvt3-Idpb"
      },
      "execution_count": null,
      "outputs": []
    },
    {
      "cell_type": "code",
      "source": [
        "if n > 0:\n",
        "  print(f'{n}은 양수입니다...')\n",
        "  print('if 블록 내부 끝')\n",
        "print('if 블록 바깥')"
      ],
      "metadata": {
        "colab": {
          "base_uri": "https://localhost:8080/"
        },
        "id": "FwaNdLRyIhh2",
        "outputId": "e61d78d3-8170-40ae-962b-4a543efc8813"
      },
      "execution_count": null,
      "outputs": [
        {
          "output_type": "stream",
          "name": "stdout",
          "text": [
            "if 블록 바깥\n"
          ]
        }
      ]
    },
    {
      "cell_type": "markdown",
      "source": [
        "## else 있는 조건문\n",
        "\n",
        "```\n",
        "if 조건식:\n",
        "  조건식을 만족할 때 실행할 문장(들)\n",
        "else:\n",
        "  조건식을 만족하지 못할 때 실행할 문장(들)\n",
        "```"
      ],
      "metadata": {
        "id": "ghoAq7unLDGH"
      }
    },
    {
      "cell_type": "code",
      "source": [
        "if n > 0:\n",
        "  print(f'{n}은 양수입니다...')\n",
        "else:\n",
        "  print(f'{n}은 양수가 아닙니다...')\n",
        "print('if-else 끝')"
      ],
      "metadata": {
        "colab": {
          "base_uri": "https://localhost:8080/"
        },
        "id": "ixCqAxstI820",
        "outputId": "3be06e83-b28b-49c8-c772-3554b914568d"
      },
      "execution_count": null,
      "outputs": [
        {
          "output_type": "stream",
          "name": "stdout",
          "text": [
            "-100은 양수가 아닙니다...\n",
            "if-else 끝\n"
          ]
        }
      ]
    },
    {
      "cell_type": "code",
      "source": [
        "# 정수를 입력 받아서 짝수인지 홀수인지 출력\n",
        "n = int(input('정수를 입력>>> ')) # input은 str 타입이기 때문에 int로 casting 해야함.\n",
        "if n % 2 == 0:\n",
        "  print(f'{n}: even')\n",
        "else:\n",
        "  print(f'{n}: odd')"
      ],
      "metadata": {
        "colab": {
          "base_uri": "https://localhost:8080/"
        },
        "id": "4IWwoNsbLw0X",
        "outputId": "e1c32479-1226-4377-e2c2-3a545149d05c"
      },
      "execution_count": null,
      "outputs": [
        {
          "output_type": "stream",
          "name": "stdout",
          "text": [
            "정수를 입력>>> 15\n",
            "15: odd\n"
          ]
        }
      ]
    },
    {
      "cell_type": "markdown",
      "source": [
        "## chained conditional(if-elif-else)\n",
        "\n",
        "```\n",
        "if 조건식1:\n",
        "  조건식1을 만족할 때 실행할 문장(들)\n",
        "elif 조건식2:\n",
        "  조건식2를 만족할 때 실행할 문장(들)\n",
        "...\n",
        "else:\n",
        "  위의 모든 조건식을 만족하지 못할 때 실행할 문장(들)\n",
        "```"
      ],
      "metadata": {
        "id": "y_YDB7llSxKG"
      }
    },
    {
      "cell_type": "code",
      "source": [
        "# 정수를 입력 받아서 양수, 음수, 0인 지를 출력\n",
        "n = int(input('정수를 입력해주세요 >>> ')) # input은 str 타입이기 때문에 int로 casting\n",
        "if n > 0 :\n",
        "  print(f'{n}은 양수입니다.')\n",
        "elif n < 0 :\n",
        "  print(f'{n}은 음수입니다.')\n",
        "else:\n",
        "  print(f'{n}은 0입니다.')"
      ],
      "metadata": {
        "colab": {
          "base_uri": "https://localhost:8080/"
        },
        "id": "IAU8ABKENNK1",
        "outputId": "d813b2ad-6861-464f-9271-cc9ba8b4837f"
      },
      "execution_count": null,
      "outputs": [
        {
          "output_type": "stream",
          "name": "stdout",
          "text": [
            "정수를 입력해주세요 >>> -2\n",
            "-2은 음수입니다.\n"
          ]
        }
      ]
    },
    {
      "cell_type": "markdown",
      "source": [
        "## 중첩 조건문(nestde conditional)\n",
        "\n",
        "* `if` 블록, `elif` 블록, `else` 블록 안에서 조건문을 사용하는 것.\n",
        "* 중첩 조건문은 `elif`를 사용하거나 논리 연산자(and, or)를 사용해서 중첩되지 않는 조건문으로 만들 수도 있음.\n",
        "* 중첩 조건문을 사용할 때는 들여쓰기(indentation)을 주의해야 함. 들여쓰기 방법에 따라서 완전히 다른 실행 코드(로직)가 될 수 있음."
      ],
      "metadata": {
        "id": "mZdb0M5MVuLV"
      }
    },
    {
      "cell_type": "code",
      "source": [
        "number = int(input('정수 입력 >>> '))\n",
        "if number > 0:\n",
        "  print('양수')\n",
        "else:\n",
        "  if number < 0:\n",
        "    print('음수')\n",
        "  else:\n",
        "    print('zero')"
      ],
      "metadata": {
        "colab": {
          "base_uri": "https://localhost:8080/"
        },
        "id": "KXl6eZuMUQu7",
        "outputId": "e83af831-a1a2-4326-aa2a-15392aff3e69"
      },
      "execution_count": null,
      "outputs": [
        {
          "output_type": "stream",
          "name": "stdout",
          "text": [
            "정수 입력 >>> 0\n",
            "0\n"
          ]
        }
      ]
    },
    {
      "cell_type": "markdown",
      "source": [
        "# 연습 문제\n",
        "\n",
        "* 변수 3개에 정수 3개를 입력받고 저장\n",
        "* 입력받은 정수 3개의 평균을 계산\n",
        "  * 90 이상이면 'A',\n",
        "  * 80 이상이면 'B',\n",
        "  * 70 이상이면 'C',\n",
        "  * 70 미만이면 'F'를 출력"
      ],
      "metadata": {
        "id": "YVaO5B-3YEp0"
      }
    },
    {
      "cell_type": "code",
      "source": [
        "# 정수를 입력받고 변수에 저장\n",
        "x = int(input('정수1을 입력하세요>>> '))\n",
        "y = int(input('정수2를 입력하세요>>> '))\n",
        "z = int(input('정수3을 입력하세요>>> '))\n",
        "\n",
        "# 세 정수의 평균 계산\n",
        "mean = (x + y + z) / 3\n",
        "print(f'평균 = {mean}')\n",
        "\n",
        "# A, B, C, F를 출력\n",
        "if mean >= 90:\n",
        "  print('A')\n",
        "else:\n",
        "   if mean >= 80:\n",
        "     print('B')\n",
        "   elif mean >= 70:\n",
        "     print('C')\n",
        "   else:\n",
        "     print('F')\n",
        "      \n",
        "\n"
      ],
      "metadata": {
        "colab": {
          "base_uri": "https://localhost:8080/"
        },
        "id": "u_KModsOXQpW",
        "outputId": "85778e36-482e-48a3-b7bb-8284521228c0"
      },
      "execution_count": null,
      "outputs": [
        {
          "output_type": "stream",
          "name": "stdout",
          "text": [
            "정수1을 입력하세요>>> 80\n",
            "정수2를 입력하세요>>> 25\n",
            "정수3을 입력하세요>>> 100\n",
            "평균 = 68.33333333333333\n",
            "F\n"
          ]
        }
      ]
    },
    {
      "cell_type": "code",
      "source": [
        ""
      ],
      "metadata": {
        "id": "x5N3OEZmZTY5"
      },
      "execution_count": null,
      "outputs": []
    }
  ]
}