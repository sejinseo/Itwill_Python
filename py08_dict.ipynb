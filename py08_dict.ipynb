{
  "nbformat": 4,
  "nbformat_minor": 0,
  "metadata": {
    "colab": {
      "name": "py08_dict.ipynb",
      "provenance": [],
      "collapsed_sections": [],
      "authorship_tag": "ABX9TyNpo6UVQv/9GzNhKNSeA/Cd",
      "include_colab_link": true
    },
    "kernelspec": {
      "name": "python3",
      "display_name": "Python 3"
    },
    "language_info": {
      "name": "python"
    }
  },
  "cells": [
    {
      "cell_type": "markdown",
      "metadata": {
        "id": "view-in-github",
        "colab_type": "text"
      },
      "source": [
        "<a href=\"https://colab.research.google.com/github/sejinseo/Python/blob/main/py08_dict.ipynb\" target=\"_parent\"><img src=\"https://colab.research.google.com/assets/colab-badge.svg\" alt=\"Open In Colab\"/></a>"
      ]
    },
    {
      "cell_type": "markdown",
      "source": [
        "# dict\n",
        "\n",
        "* dictionary(사전) 형식의 데이터 타입\n",
        "* 키(key)를 기반으로 값(value)를 저장하는 데이터 타입.\n",
        "    * list, tuple: index를 기반으로 값을 저장하는 데이터 타입\n",
        "    * key의 역할은 list 또는 tuple에서 인덱스의 역할과 마찬가지로, dict 타입에 저장되어 있는 유일한 1개의 값을 참조하기 위한 용도.\n",
        "\n"
      ],
      "metadata": {
        "id": "XYoY44CUp7hE"
      }
    },
    {
      "cell_type": "code",
      "execution_count": null,
      "metadata": {
        "colab": {
          "base_uri": "https://localhost:8080/"
        },
        "id": "dZUoUGUPp2B3",
        "outputId": "40893558-e7bb-4afa-a0d0-64b460e39122"
      },
      "outputs": [
        {
          "output_type": "execute_result",
          "data": {
            "text/plain": [
              "{1: '홍길동', 2: 'Scott', 10: '김길동'}"
            ]
          },
          "metadata": {},
          "execution_count": 1
        }
      ],
      "source": [
        "students = {1: '홍길동', 2: 'Scott', 10: '김길동'}\n",
        "students"
      ]
    },
    {
      "cell_type": "code",
      "source": [
        "type(students)"
      ],
      "metadata": {
        "colab": {
          "base_uri": "https://localhost:8080/"
        },
        "id": "rpWZPh_hrMja",
        "outputId": "673b06cd-fa64-49fa-f75c-c8c4521f8f80"
      },
      "execution_count": null,
      "outputs": [
        {
          "output_type": "execute_result",
          "data": {
            "text/plain": [
              "dict"
            ]
          },
          "metadata": {},
          "execution_count": 2
        }
      ]
    },
    {
      "cell_type": "code",
      "source": [
        "len(students)"
      ],
      "metadata": {
        "colab": {
          "base_uri": "https://localhost:8080/"
        },
        "id": "XGte5GybriFG",
        "outputId": "a07c39c3-3116-4695-b631-2b07d5867bdb"
      },
      "execution_count": null,
      "outputs": [
        {
          "output_type": "execute_result",
          "data": {
            "text/plain": [
              "3"
            ]
          },
          "metadata": {},
          "execution_count": 3
        }
      ]
    },
    {
      "cell_type": "code",
      "source": [
        "# dict의 저장된 값(value)를 참조할 때 인덱스 연산자([])와 키(key)를 사용.\n",
        "students[1]"
      ],
      "metadata": {
        "colab": {
          "base_uri": "https://localhost:8080/",
          "height": 38
        },
        "id": "so2BP9lwroSa",
        "outputId": "82ffc551-16e3-454f-eab6-13cb80145843"
      },
      "execution_count": null,
      "outputs": [
        {
          "output_type": "execute_result",
          "data": {
            "application/vnd.google.colaboratory.intrinsic+json": {
              "type": "string"
            },
            "text/plain": [
              "'홍길동'"
            ]
          },
          "metadata": {},
          "execution_count": 4
        }
      ]
    },
    {
      "cell_type": "code",
      "source": [
        "# dict에 새로운 아이템 추가: dict[new_key] = value\n",
        "students[11] = 'Tiger'\n",
        "students"
      ],
      "metadata": {
        "colab": {
          "base_uri": "https://localhost:8080/"
        },
        "id": "jsiHqUjVsal0",
        "outputId": "75ee18dc-9ef0-4a66-de90-94db2dd8dee8"
      },
      "execution_count": null,
      "outputs": [
        {
          "output_type": "execute_result",
          "data": {
            "text/plain": [
              "{1: '홍길동', 2: 'Scott', 3: '서세진', 10: '김길동', 11: 'Tiger'}"
            ]
          },
          "metadata": {},
          "execution_count": 8
        }
      ]
    },
    {
      "cell_type": "code",
      "source": [
        "# dict에서 해당 키의 값을 변경: dict[key] = new_value\n",
        "students[10] = 'King'\n",
        "students"
      ],
      "metadata": {
        "colab": {
          "base_uri": "https://localhost:8080/"
        },
        "id": "Z2NF9mHKtA7V",
        "outputId": "c4afb6b1-db6d-4dca-8f15-363e755a915f"
      },
      "execution_count": null,
      "outputs": [
        {
          "output_type": "execute_result",
          "data": {
            "text/plain": [
              "{1: '홍길동', 2: 'Scott', 3: '서세진', 10: 'King', 11: 'Tiger'}"
            ]
          },
          "metadata": {},
          "execution_count": 10
        }
      ]
    },
    {
      "cell_type": "markdown",
      "source": [
        "# dict의 메서드(기능)"
      ],
      "metadata": {
        "id": "wXPQERBnt1xr"
      }
    },
    {
      "cell_type": "code",
      "source": [
        "book = {'title': '점프 투 파이썬',\n",
        "        'author': '박응용',\n",
        "        'price': 10_000}\n",
        "book"
      ],
      "metadata": {
        "colab": {
          "base_uri": "https://localhost:8080/"
        },
        "id": "7nXWgRl5tghq",
        "outputId": "9f56323d-51d0-4d8b-af1e-8d3f0625b96c"
      },
      "execution_count": null,
      "outputs": [
        {
          "output_type": "execute_result",
          "data": {
            "text/plain": [
              "{'author': '박응용', 'price': 10000, 'title': '점프 투 파이썬'}"
            ]
          },
          "metadata": {},
          "execution_count": 11
        }
      ]
    },
    {
      "cell_type": "code",
      "source": [
        "# dict의 key들의 집합\n",
        "book.keys()"
      ],
      "metadata": {
        "colab": {
          "base_uri": "https://localhost:8080/"
        },
        "id": "aDISY7eJuTor",
        "outputId": "4f086753-f637-4e05-a634-d5d3a13b4728"
      },
      "execution_count": null,
      "outputs": [
        {
          "output_type": "execute_result",
          "data": {
            "text/plain": [
              "dict_keys(['title', 'author', 'price'])"
            ]
          },
          "metadata": {},
          "execution_count": 14
        }
      ]
    },
    {
      "cell_type": "code",
      "source": [
        "# dict의 value들의 집합\n",
        "book.values()"
      ],
      "metadata": {
        "colab": {
          "base_uri": "https://localhost:8080/"
        },
        "id": "PqZW3oymu9eX",
        "outputId": "42cb873e-5d71-49d2-e39f-72515d077f2a"
      },
      "execution_count": null,
      "outputs": [
        {
          "output_type": "execute_result",
          "data": {
            "text/plain": [
              "dict_values(['점프 투 파이썬', '박응용', 10000])"
            ]
          },
          "metadata": {},
          "execution_count": 15
        }
      ]
    },
    {
      "cell_type": "code",
      "source": [
        "# dict의 item(key, value)들의 집합\n",
        "book.items()"
      ],
      "metadata": {
        "colab": {
          "base_uri": "https://localhost:8080/"
        },
        "id": "RzAlf5uzvbVt",
        "outputId": "2fc4ed16-7f27-4010-9fb6-b4d35815226d"
      },
      "execution_count": null,
      "outputs": [
        {
          "output_type": "execute_result",
          "data": {
            "text/plain": [
              "dict_items([('title', '점프 투 파이썬'), ('author', '박응용'), ('price', 10000)])"
            ]
          },
          "metadata": {},
          "execution_count": 16
        }
      ]
    },
    {
      "cell_type": "code",
      "source": [
        "# dict에서 해당 key의 value를 리턴\n",
        "book['title'] # 인덱스 연산자 + 키"
      ],
      "metadata": {
        "colab": {
          "base_uri": "https://localhost:8080/",
          "height": 38
        },
        "id": "yYTboCnKvxzc",
        "outputId": "43a262f7-5d80-4f27-c9a7-07e4b022bb7d"
      },
      "execution_count": null,
      "outputs": [
        {
          "output_type": "execute_result",
          "data": {
            "application/vnd.google.colaboratory.intrinsic+json": {
              "type": "string"
            },
            "text/plain": [
              "'점프 투 파이썬'"
            ]
          },
          "metadata": {},
          "execution_count": 17
        }
      ]
    },
    {
      "cell_type": "code",
      "source": [
        "book.get('title') # 메서드를 호출하면서 키를 argument로 전달."
      ],
      "metadata": {
        "colab": {
          "base_uri": "https://localhost:8080/",
          "height": 38
        },
        "id": "ZL0Sqgsow_mk",
        "outputId": "16387c37-1723-482a-d71e-0924b233360b"
      },
      "execution_count": null,
      "outputs": [
        {
          "output_type": "execute_result",
          "data": {
            "application/vnd.google.colaboratory.intrinsic+json": {
              "type": "string"
            },
            "text/plain": [
              "'점프 투 파이썬'"
            ]
          },
          "metadata": {},
          "execution_count": 19
        }
      ]
    },
    {
      "cell_type": "code",
      "source": [
        "# 인덱스 연산자를 사용하는 경우, dict에 없는 키를 사용하면 KeyError가 발생함.\n",
        "# book['isbn']\n",
        "\n",
        "# get() 메서드를 호출할 때는 dict에 없는 키인 경우 None을 리턴.\n",
        "print(book.get('isbn'))"
      ],
      "metadata": {
        "colab": {
          "base_uri": "https://localhost:8080/"
        },
        "id": "T-9u-UMBxG0e",
        "outputId": "ee62ddd2-bdbb-4113-fda2-0387e1139caf"
      },
      "execution_count": null,
      "outputs": [
        {
          "output_type": "stream",
          "name": "stdout",
          "text": [
            "None\n"
          ]
        }
      ]
    },
    {
      "cell_type": "code",
      "source": [
        "# dict에서 아이템 삭제\n",
        "book.pop('price')"
      ],
      "metadata": {
        "colab": {
          "base_uri": "https://localhost:8080/"
        },
        "id": "UVf6GzKFx9cc",
        "outputId": "d4fd453c-5f44-4d61-858c-49827068ce2e"
      },
      "execution_count": null,
      "outputs": [
        {
          "output_type": "execute_result",
          "data": {
            "text/plain": [
              "10000"
            ]
          },
          "metadata": {},
          "execution_count": 22
        }
      ]
    },
    {
      "cell_type": "code",
      "source": [
        "book"
      ],
      "metadata": {
        "colab": {
          "base_uri": "https://localhost:8080/"
        },
        "id": "_4-Ov3Cvy8at",
        "outputId": "4097c592-9210-4666-9d98-c4e5d427b239"
      },
      "execution_count": null,
      "outputs": [
        {
          "output_type": "execute_result",
          "data": {
            "text/plain": [
              "{'author': '박응용', 'title': '점프 투 파이썬'}"
            ]
          },
          "metadata": {},
          "execution_count": 23
        }
      ]
    },
    {
      "cell_type": "markdown",
      "source": [
        "dict는 키(key)와 값(value) 모두 다양한 타입의 자료들을 사용할 수 있음."
      ],
      "metadata": {
        "id": "9UTu4SUr3T-h"
      }
    },
    {
      "cell_type": "code",
      "source": [
        "contact = {\n",
        "    'no': 1,\n",
        "    'name': '세진',\n",
        "    'phone': ['010-1111-1111', '02-1111-1111'],\n",
        "    'email': {'personal': 'tjtpwls1@naver.com', 'company': 'sejin@itwill.co.kr'}\n",
        "}\n",
        "contact"
      ],
      "metadata": {
        "colab": {
          "base_uri": "https://localhost:8080/"
        },
        "id": "rsmzW3CNzBRP",
        "outputId": "4e5db1b1-0df8-44dd-f602-dc4cd50dba99"
      },
      "execution_count": null,
      "outputs": [
        {
          "output_type": "execute_result",
          "data": {
            "text/plain": [
              "{'email': {'company': 'sejin@itwill.co.kr', 'personal': 'tjtpwls1@naver.com'},\n",
              " 'name': '세진',\n",
              " 'no': 1,\n",
              " 'phone': ['010-1111-1111', '02-1111-1111']}"
            ]
          },
          "metadata": {},
          "execution_count": 24
        }
      ]
    },
    {
      "cell_type": "code",
      "source": [
        "contact['no'] #> int"
      ],
      "metadata": {
        "colab": {
          "base_uri": "https://localhost:8080/"
        },
        "id": "lG43ic-M4k_g",
        "outputId": "7eeac2a6-9219-4cf8-c49d-7fec4de72757"
      },
      "execution_count": null,
      "outputs": [
        {
          "output_type": "execute_result",
          "data": {
            "text/plain": [
              "1"
            ]
          },
          "metadata": {},
          "execution_count": 25
        }
      ]
    },
    {
      "cell_type": "code",
      "source": [
        "contact['phone'] #> list"
      ],
      "metadata": {
        "colab": {
          "base_uri": "https://localhost:8080/"
        },
        "id": "mpYlCD474x6U",
        "outputId": "bfaea16e-2dcc-4e4c-d888-aac554ff779c"
      },
      "execution_count": null,
      "outputs": [
        {
          "output_type": "execute_result",
          "data": {
            "text/plain": [
              "['010-1111-1111', '02-1111-1111']"
            ]
          },
          "metadata": {},
          "execution_count": 26
        }
      ]
    },
    {
      "cell_type": "code",
      "source": [
        "contact['phone'][0]"
      ],
      "metadata": {
        "colab": {
          "base_uri": "https://localhost:8080/",
          "height": 38
        },
        "id": "ueMiXaHL42UQ",
        "outputId": "8e7e81b5-3f80-45d4-c231-a6025c71f4e4"
      },
      "execution_count": null,
      "outputs": [
        {
          "output_type": "execute_result",
          "data": {
            "application/vnd.google.colaboratory.intrinsic+json": {
              "type": "string"
            },
            "text/plain": [
              "'010-1111-1111'"
            ]
          },
          "metadata": {},
          "execution_count": 27
        }
      ]
    },
    {
      "cell_type": "code",
      "source": [
        "contact['email']"
      ],
      "metadata": {
        "colab": {
          "base_uri": "https://localhost:8080/"
        },
        "id": "F47SoFqq5CIT",
        "outputId": "655a9b60-9efa-44a4-9e55-8aa4a6fc87e1"
      },
      "execution_count": null,
      "outputs": [
        {
          "output_type": "execute_result",
          "data": {
            "text/plain": [
              "{'company': 'sejin@itwill.co.kr', 'personal': 'tjtpwls1@naver.com'}"
            ]
          },
          "metadata": {},
          "execution_count": 28
        }
      ]
    },
    {
      "cell_type": "code",
      "source": [
        "contact['email']['company']"
      ],
      "metadata": {
        "colab": {
          "base_uri": "https://localhost:8080/",
          "height": 38
        },
        "id": "XYl4eNpr5R4T",
        "outputId": "810f5dcf-6436-45a8-9999-54db2ff79f0d"
      },
      "execution_count": null,
      "outputs": [
        {
          "output_type": "execute_result",
          "data": {
            "application/vnd.google.colaboratory.intrinsic+json": {
              "type": "string"
            },
            "text/plain": [
              "'sejin@itwill.co.kr'"
            ]
          },
          "metadata": {},
          "execution_count": 29
        }
      ]
    },
    {
      "cell_type": "markdown",
      "source": [
        "dict와 for 반복문"
      ],
      "metadata": {
        "id": "zMrJUM6G5v0w"
      }
    },
    {
      "cell_type": "markdown",
      "source": [
        "for-in 구문에 dict 타입 객체를 사용하면, key에 대해서 반복(iteration)을 함."
      ],
      "metadata": {
        "id": "2FSsKva_6SDo"
      }
    },
    {
      "cell_type": "code",
      "source": [
        "for k in contact:\n",
        "    print(k)"
      ],
      "metadata": {
        "colab": {
          "base_uri": "https://localhost:8080/"
        },
        "id": "2XaQWk4C5YXt",
        "outputId": "480d5422-284b-4402-84aa-8cfb421b6e4f"
      },
      "execution_count": null,
      "outputs": [
        {
          "output_type": "stream",
          "name": "stdout",
          "text": [
            "no\n",
            "name\n",
            "phone\n",
            "email\n"
          ]
        }
      ]
    },
    {
      "cell_type": "code",
      "source": [
        "for k in contact:\n",
        "    print(k, ':', contact[k])"
      ],
      "metadata": {
        "colab": {
          "base_uri": "https://localhost:8080/"
        },
        "id": "mjHbpyoW6ATs",
        "outputId": "2034d0a1-8f91-4c60-e43e-81d24f1634c8"
      },
      "execution_count": null,
      "outputs": [
        {
          "output_type": "stream",
          "name": "stdout",
          "text": [
            "no : 1\n",
            "name : 세진\n",
            "phone : ['010-1111-1111', '02-1111-1111']\n",
            "email : {'personal': 'tjtpwls1@naver.com', 'company': 'sejin@itwill.co.kr'}\n"
          ]
        }
      ]
    },
    {
      "cell_type": "code",
      "source": [
        "for item in contact.items():\n",
        "    print(item)"
      ],
      "metadata": {
        "colab": {
          "base_uri": "https://localhost:8080/"
        },
        "id": "pm8YMvBJ6svO",
        "outputId": "d6f51f28-966e-4527-8450-485fc01eadd2"
      },
      "execution_count": null,
      "outputs": [
        {
          "output_type": "stream",
          "name": "stdout",
          "text": [
            "('no', 1)\n",
            "('name', '세진')\n",
            "('phone', ['010-1111-1111', '02-1111-1111'])\n",
            "('email', {'personal': 'tjtpwls1@naver.com', 'company': 'sejin@itwill.co.kr'})\n"
          ]
        }
      ]
    },
    {
      "cell_type": "code",
      "source": [
        "# tuple decomposition: k, v = ('no', 1)\n",
        "for k, v in contact.items():\n",
        "    print(k, ':', v)"
      ],
      "metadata": {
        "colab": {
          "base_uri": "https://localhost:8080/"
        },
        "id": "SkD_RJkE69zP",
        "outputId": "4ddde6c2-e773-428d-8265-5d9a0dbd1caa"
      },
      "execution_count": null,
      "outputs": [
        {
          "output_type": "stream",
          "name": "stdout",
          "text": [
            "no : 1\n",
            "name : 세진\n",
            "phone : ['010-1111-1111', '02-1111-1111']\n",
            "email : {'personal': 'tjtpwls1@naver.com', 'company': 'sejin@itwill.co.kr'}\n"
          ]
        }
      ]
    },
    {
      "cell_type": "markdown",
      "source": [
        "# Dictionary Comprehension"
      ],
      "metadata": {
        "id": "QeKB_Pv-7_EQ"
      }
    },
    {
      "cell_type": "code",
      "source": [
        "emp_no = [101, 102, 103, 201, 202] # 사번 리스트\n",
        "emp_name = ['King', 'Scott', 'Allen', 'Tiger', '세진'] # 직원 이름 리스트"
      ],
      "metadata": {
        "id": "6xHygezH7eLs"
      },
      "execution_count": null,
      "outputs": []
    },
    {
      "cell_type": "code",
      "source": [
        "# 사번을 key로 하고, 이름을 value로 하는 dict 객체 생성.\n",
        "# 1) empty dict\n",
        "emp = {}\n",
        "\n",
        "# 2) dict[k] = v 추가 반복\n",
        "for i in range(5):\n",
        "    emp[emp_no[i]] = emp_name[i]\n",
        "\n",
        "print(emp)\n"
      ],
      "metadata": {
        "colab": {
          "base_uri": "https://localhost:8080/"
        },
        "id": "FtzoYC3u8fzd",
        "outputId": "db76384c-96e2-440f-cc63-d3858180f799"
      },
      "execution_count": null,
      "outputs": [
        {
          "output_type": "stream",
          "name": "stdout",
          "text": [
            "{101: 'King', 102: 'Scott', 103: 'Allen', 201: 'Tiger', 202: '세진'}\n"
          ]
        }
      ]
    },
    {
      "cell_type": "code",
      "source": [
        "emp = {}\n",
        "for k, v in zip(emp_no, emp_name):\n",
        "    emp[k] = v\n",
        "\n",
        "emp"
      ],
      "metadata": {
        "colab": {
          "base_uri": "https://localhost:8080/"
        },
        "id": "4izgf3Ma9Miu",
        "outputId": "2e5db239-c326-47f0-e15a-d10f746c1811"
      },
      "execution_count": null,
      "outputs": [
        {
          "output_type": "execute_result",
          "data": {
            "text/plain": [
              "{101: 'King', 102: 'Scott', 103: 'Allen', 201: 'Tiger', 202: '세진'}"
            ]
          },
          "metadata": {},
          "execution_count": 53
        }
      ]
    },
    {
      "cell_type": "code",
      "source": [
        "# dictionary comprehension\n",
        "emp = {k: v for k, v in zip(emp_no, emp_name)}\n",
        "emp"
      ],
      "metadata": {
        "colab": {
          "base_uri": "https://localhost:8080/"
        },
        "id": "5Czepku4_OtU",
        "outputId": "c97d1bac-d0af-4859-ff0c-031e8ba0611c"
      },
      "execution_count": null,
      "outputs": [
        {
          "output_type": "execute_result",
          "data": {
            "text/plain": [
              "{101: 'King', 102: 'Scott', 103: 'Allen', 201: 'Tiger', 202: '세진'}"
            ]
          },
          "metadata": {},
          "execution_count": 54
        }
      ]
    },
    {
      "cell_type": "code",
      "source": [
        "fruits = ['apple', 'banana', 'cherry', 'pineapple', 'watermelon']\n",
        "\n",
        "# {과일 이름: 이름의 길이} 형식의 dict를 생성\n",
        "fruit_lengths = {k: len(k) for k in fruits}\n",
        "print(fruit_lengths)\n",
        "\n",
        "fruit_lengths = {}\n",
        "for x in fruits:\n",
        "    # print(x, ':', len(x))\n",
        "    fruit_lengths[x] = len(x)\n",
        "fruit_lengths\n"
      ],
      "metadata": {
        "colab": {
          "base_uri": "https://localhost:8080/"
        },
        "id": "e5V5U14xAIE-",
        "outputId": "9c0e1322-b78b-45a0-8a4e-0372a83f966d"
      },
      "execution_count": null,
      "outputs": [
        {
          "output_type": "stream",
          "name": "stdout",
          "text": [
            "{'apple': 5, 'banana': 6, 'cherry': 6, 'pineapple': 9, 'watermelon': 10}\n"
          ]
        },
        {
          "output_type": "execute_result",
          "data": {
            "text/plain": [
              "{'apple': 5, 'banana': 6, 'cherry': 6, 'pineapple': 9, 'watermelon': 10}"
            ]
          },
          "metadata": {},
          "execution_count": 64
        }
      ]
    },
    {
      "cell_type": "code",
      "source": [
        ""
      ],
      "metadata": {
        "id": "bbxPSoL-A7cP"
      },
      "execution_count": null,
      "outputs": []
    }
  ]
}