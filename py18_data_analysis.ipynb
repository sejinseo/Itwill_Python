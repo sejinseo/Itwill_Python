{
  "nbformat": 4,
  "nbformat_minor": 0,
  "metadata": {
    "colab": {
      "name": "py18_data_analysis.ipynb",
      "provenance": [],
      "collapsed_sections": [],
      "authorship_tag": "ABX9TyMtdrznYLjrsHMWHAY4qw+n",
      "include_colab_link": true
    },
    "kernelspec": {
      "name": "python3",
      "display_name": "Python 3"
    },
    "language_info": {
      "name": "python"
    }
  },
  "cells": [
    {
      "cell_type": "markdown",
      "metadata": {
        "id": "view-in-github",
        "colab_type": "text"
      },
      "source": [
        "<a href=\"https://colab.research.google.com/github/sejinseo/Python/blob/main/py18_data_analysis.ipynb\" target=\"_parent\"><img src=\"https://colab.research.google.com/assets/colab-badge.svg\" alt=\"Open In Colab\"/></a>"
      ]
    },
    {
      "cell_type": "markdown",
      "source": [
        "# 데이터 분석에 많이 사용되는 패키지\n",
        "\n",
        "* NumPy: 다차원 배열(n-dimensional array)을 다루는 패키지. 머신 러닝(machine learning)에서 중요하게 사용됨.\n",
        "* pandas: 데이터프레임(DataFrame)과 시리즈(Series)를 다루는 패키지. 데이터 분석에서 기본으로 사용되는 패키지.\n",
        "* matplotlib: 데이터 시각화(그래프).\n",
        "\n",
        "Google Colab은 데이터 분석과 머신 러닝에 필요한 대부분의 패키지들이 이미 설치되어 있음."
      ],
      "metadata": {
        "id": "5Mtbs98-SXoP"
      }
    },
    {
      "cell_type": "code",
      "execution_count": 3,
      "metadata": {
        "id": "5REPtnNISLWM"
      },
      "outputs": [],
      "source": [
        "import numpy as np\n",
        "import pandas as pd\n",
        "import matplotlib"
      ]
    },
    {
      "cell_type": "code",
      "source": [
        "# Google Colab에 설치된 패키지 버전\n",
        "print('NumPy version:', np.__version__)\n",
        "print('pandas version:', pd.__version__)\n",
        "print('matplotlib version:', matplotlib.__version__)"
      ],
      "metadata": {
        "colab": {
          "base_uri": "https://localhost:8080/"
        },
        "id": "1nkY1nPfUMIr",
        "outputId": "f95a10d0-5687-4466-cd85-8b5570b028d2"
      },
      "execution_count": 6,
      "outputs": [
        {
          "output_type": "stream",
          "name": "stdout",
          "text": [
            "NumPy version: 1.21.5\n",
            "pandas version: 1.3.5\n",
            "matplotlib version: 3.2.2\n"
          ]
        }
      ]
    },
    {
      "cell_type": "markdown",
      "source": [
        "# Python list\n",
        "\n",
        "* 여러개의 값들을 저장할 수 있는 데이터 타입.\n",
        "* 인덱스를 기반으로 값들을 저장하는 데이터 타입.\n",
        "    * indexing: 인덱스로 원하는 위치의 값을 참조.\n",
        "    * slicing: `[start, end)` 인덱스 범위의 값들로 이루어진 부분집합(list)을 만듦.\n",
        "* `list + list`: extend 메서드의 기능. 두 개의 리스트를 이어붙여서 하나의 리스트를 만듦.\n",
        "    ```\n",
        "    [1, 2] + [3, 4] = [1, 2, 3, 4]\n",
        "    ```\n",
        "* `list * int, int * list`: list의 원소들을 정수 개수만큼 반복해서 추가.\n",
        "    ```\n",
        "    [1, 2] * 3 = [1, 2, 1, 2, 1, 2]\n",
        "    3 * [1, 2] = [1, 2, 1, 2, 1, 2]\n",
        "    ```"
      ],
      "metadata": {
        "id": "SeI3SxTJXMTU"
      }
    },
    {
      "cell_type": "code",
      "source": [
        "num_list1 = [1, 2, 3]\n",
        "num_list2 = [10, 20, 30]"
      ],
      "metadata": {
        "id": "FyqvEJLaU_uY"
      },
      "execution_count": 7,
      "outputs": []
    },
    {
      "cell_type": "code",
      "source": [
        "# indexing\n",
        "print(num_list1[0])\n",
        "print(num_list1[-1])"
      ],
      "metadata": {
        "colab": {
          "base_uri": "https://localhost:8080/"
        },
        "id": "jA-CBgwpY5IG",
        "outputId": "7d446e9c-b49b-4859-c848-d98d4bfc1906"
      },
      "execution_count": 8,
      "outputs": [
        {
          "output_type": "stream",
          "name": "stdout",
          "text": [
            "1\n",
            "3\n"
          ]
        }
      ]
    },
    {
      "cell_type": "code",
      "source": [
        "print(num_list1[:2])\n",
        "print(num_list1[-2:])"
      ],
      "metadata": {
        "colab": {
          "base_uri": "https://localhost:8080/"
        },
        "id": "YDQcyQs-ZBZS",
        "outputId": "78679c1c-18bb-4856-a21d-e85b1e25503e"
      },
      "execution_count": 10,
      "outputs": [
        {
          "output_type": "stream",
          "name": "stdout",
          "text": [
            "[1, 2]\n",
            "[2, 3]\n"
          ]
        }
      ]
    },
    {
      "cell_type": "code",
      "source": [
        "num_list1 + num_list2"
      ],
      "metadata": {
        "colab": {
          "base_uri": "https://localhost:8080/"
        },
        "id": "E0p_fxLaZcf6",
        "outputId": "0f4bbdb0-bcc0-4cfa-df8e-844df3def17c"
      },
      "execution_count": 11,
      "outputs": [
        {
          "output_type": "execute_result",
          "data": {
            "text/plain": [
              "[1, 2, 3, 10, 20, 30]"
            ]
          },
          "metadata": {},
          "execution_count": 11
        }
      ]
    },
    {
      "cell_type": "code",
      "source": [
        "2 * num_list1"
      ],
      "metadata": {
        "colab": {
          "base_uri": "https://localhost:8080/"
        },
        "id": "mvd6KjbnZqRh",
        "outputId": "208abe0a-7fa0-4a4a-97bc-be3f55d304fe"
      },
      "execution_count": 12,
      "outputs": [
        {
          "output_type": "execute_result",
          "data": {
            "text/plain": [
              "[1, 2, 3, 1, 2, 3]"
            ]
          },
          "metadata": {},
          "execution_count": 12
        }
      ]
    },
    {
      "cell_type": "code",
      "source": [
        "# num_list1과 num_list2의 같은 인덱스의 원소들끼리의 합을 원소로 갖는 리스트\n",
        "# add_list = []\n",
        "# for x, y in zip(num_list1, num_list2):\n",
        "#     add_list.append(x + y)\n",
        "add_list = [x + y for x, y in zip(num_list1, num_list2)]\n",
        "add_list"
      ],
      "metadata": {
        "colab": {
          "base_uri": "https://localhost:8080/"
        },
        "id": "nJ2scsbDuT1A",
        "outputId": "5637ea6b-2213-4327-d427-e552217e0ab1"
      },
      "execution_count": 16,
      "outputs": [
        {
          "output_type": "execute_result",
          "data": {
            "text/plain": [
              "[11, 22, 33]"
            ]
          },
          "metadata": {},
          "execution_count": 16
        }
      ]
    },
    {
      "cell_type": "code",
      "source": [
        "# num_list1의 모든 원소에 곱하기 2를 한 결과\n",
        "[2 * x for x in num_list1]"
      ],
      "metadata": {
        "colab": {
          "base_uri": "https://localhost:8080/"
        },
        "id": "dsTHefIswBkY",
        "outputId": "8abe3317-3bba-4fbf-ce76-0f9bd3d6a07f"
      },
      "execution_count": 20,
      "outputs": [
        {
          "output_type": "execute_result",
          "data": {
            "text/plain": [
              "[2, 4, 6]"
            ]
          },
          "metadata": {},
          "execution_count": 20
        }
      ]
    },
    {
      "cell_type": "markdown",
      "source": [
        "# NumPy(Numerical Python)\n",
        "\n",
        "* 배열(array)을 쉽고 빠르게 연산(+, -, *, /, ...)하기 위한 라이브러리.\n",
        "* NumPy 패키지의 대부분의 기능(함수, 메서드)들은 반복문의 기능을 가지고 있음.\n",
        "* `np.ndarray` 클래스: NumPy 패키지의 기본 데이터 타입. n차원 배열(n-dimensional array).\n",
        "    * ndarray는 같은 인덱스의 원소들끼리(element-wise) 연산을 수행함."
      ],
      "metadata": {
        "id": "IaRMB7Xvs-lR"
      }
    },
    {
      "cell_type": "code",
      "source": [
        "num_arr1 = np.array(num_list1) # np.array(): 객체를 ndarray 타입으로 변환."
      ],
      "metadata": {
        "id": "TgYJHdTKZtJ1"
      },
      "execution_count": 23,
      "outputs": []
    },
    {
      "cell_type": "code",
      "source": [
        "num_arr1 # 식(exprssion) 출력 - ndarray.__repr__() 메서드의 리턴값을 출력"
      ],
      "metadata": {
        "colab": {
          "base_uri": "https://localhost:8080/"
        },
        "id": "ELudJrB_wmCw",
        "outputId": "82e3b6af-9434-4244-b84e-d6ed2d361005"
      },
      "execution_count": 25,
      "outputs": [
        {
          "output_type": "execute_result",
          "data": {
            "text/plain": [
              "array([1, 2, 3])"
            ]
          },
          "metadata": {},
          "execution_count": 25
        }
      ]
    },
    {
      "cell_type": "code",
      "source": [
        "print(num_arr1) # print() 함수는 ndarray.__str__() 메서드의 리턴값을 출력"
      ],
      "metadata": {
        "colab": {
          "base_uri": "https://localhost:8080/"
        },
        "id": "InfHupR8wnhA",
        "outputId": "2ba2d31b-45dc-486d-929b-a7ae4bce0c09"
      },
      "execution_count": 27,
      "outputs": [
        {
          "output_type": "stream",
          "name": "stdout",
          "text": [
            "[1 2 3]\n"
          ]
        }
      ]
    },
    {
      "cell_type": "code",
      "source": [
        "type(num_arr1)"
      ],
      "metadata": {
        "colab": {
          "base_uri": "https://localhost:8080/"
        },
        "id": "P7Mc6VPaxLsR",
        "outputId": "723ea936-99f0-407b-e129-8cb68646b158"
      },
      "execution_count": 28,
      "outputs": [
        {
          "output_type": "execute_result",
          "data": {
            "text/plain": [
              "numpy.ndarray"
            ]
          },
          "metadata": {},
          "execution_count": 28
        }
      ]
    },
    {
      "cell_type": "code",
      "source": [
        "num_arr2 = np.array(num_list2)\n",
        "print(num_arr2)"
      ],
      "metadata": {
        "colab": {
          "base_uri": "https://localhost:8080/"
        },
        "id": "6UJaj6whxrEV",
        "outputId": "cdb0f713-a268-4bbe-d537-7a78c34bb87c"
      },
      "execution_count": 31,
      "outputs": [
        {
          "output_type": "stream",
          "name": "stdout",
          "text": [
            "[10 20 30]\n"
          ]
        }
      ]
    },
    {
      "cell_type": "code",
      "source": [
        "# ndarray의 사칙연산 - element-wise operation\n",
        "print(num_arr1 + num_arr2) \n",
        "print(num_arr1 - num_arr2)\n",
        "print(num_arr1 * num_arr2)\n",
        "print(num_arr1 / num_arr2)"
      ],
      "metadata": {
        "colab": {
          "base_uri": "https://localhost:8080/"
        },
        "id": "bckgU2AxyrV2",
        "outputId": "c3112771-31fd-4c21-abbe-39456313b7af"
      },
      "execution_count": 34,
      "outputs": [
        {
          "output_type": "stream",
          "name": "stdout",
          "text": [
            "[11 22 33]\n",
            "[ -9 -18 -27]\n",
            "[10 40 90]\n",
            "[0.1 0.1 0.1]\n"
          ]
        }
      ]
    },
    {
      "cell_type": "code",
      "source": [
        "print(num_arr1 * 2)"
      ],
      "metadata": {
        "colab": {
          "base_uri": "https://localhost:8080/"
        },
        "id": "w5SDNwJsy26d",
        "outputId": "fcc627f0-cf4c-495a-9c8c-31e4abeda7fd"
      },
      "execution_count": 35,
      "outputs": [
        {
          "output_type": "stream",
          "name": "stdout",
          "text": [
            "[2 4 6]\n"
          ]
        }
      ]
    },
    {
      "cell_type": "code",
      "source": [
        "# ndarray의 속성들(attributes)\n",
        "print(num_arr1)\n",
        "print('ndim =', num_arr1.ndim) # 차원(dimension)\n",
        "print('size =', num_arr1.size) # ndarray의 크기(원소의 갯수)\n",
        "print('shape =', num_arr1.shape) # 각 차원에서의 원소의 갯수\n",
        "print('dtype =', num_arr1.dtype) # 원소의 데이터 타입"
      ],
      "metadata": {
        "colab": {
          "base_uri": "https://localhost:8080/"
        },
        "id": "UPSRDSiOzn6Q",
        "outputId": "327665c5-1eb1-4a32-cc79-06cd0e10d118"
      },
      "execution_count": 40,
      "outputs": [
        {
          "output_type": "stream",
          "name": "stdout",
          "text": [
            "[1 2 3]\n",
            "ndim = 1\n",
            "size = 3\n",
            "shape = (3,)\n",
            "dtype = int64\n"
          ]
        }
      ]
    },
    {
      "cell_type": "markdown",
      "source": [
        "* Python 숫자 타입\n",
        "    * 정수: int\n",
        "    * 실수: float\n",
        "* np의 숫자 타입\n",
        "    * 정수: int8, int16, int32, int64, ...\n",
        "    * 실수: float16, float32, float64, ..."
      ],
      "metadata": {
        "id": "xLVLliCJ2kgg"
      }
    },
    {
      "cell_type": "markdown",
      "source": [
        "## 2차원 ndarray"
      ],
      "metadata": {
        "id": "hEWDJELi3Ctn"
      }
    },
    {
      "cell_type": "code",
      "source": [
        "arr_2d = np.array([[1, 2, 3], [4, 5, 6]])\n",
        "print(arr_2d)"
      ],
      "metadata": {
        "colab": {
          "base_uri": "https://localhost:8080/"
        },
        "id": "yEfHOLVc0zWo",
        "outputId": "bb2bd0a6-0742-4532-ae13-58df7d1223b5"
      },
      "execution_count": 41,
      "outputs": [
        {
          "output_type": "stream",
          "name": "stdout",
          "text": [
            "[[1 2 3]\n",
            " [4 5 6]]\n"
          ]
        }
      ]
    },
    {
      "cell_type": "code",
      "source": [
        "print('ndim =', arr_2d.ndim)\n",
        "print('size =', arr_2d.size)\n",
        "print('shape =', arr_2d.shape)\n",
        "print('dtype =', arr_2d.dtype)"
      ],
      "metadata": {
        "colab": {
          "base_uri": "https://localhost:8080/"
        },
        "id": "BuG_doAx3W9k",
        "outputId": "764a5f81-6ab4-4a0b-dbe7-04fad21ccd2e"
      },
      "execution_count": 42,
      "outputs": [
        {
          "output_type": "stream",
          "name": "stdout",
          "text": [
            "ndim = 2\n",
            "size = 6\n",
            "shape = (2, 3)\n",
            "dtype = int64\n"
          ]
        }
      ]
    },
    {
      "cell_type": "markdown",
      "source": [
        "# np.ndarray 객체 생성 함수"
      ],
      "metadata": {
        "id": "4SNIDh0m8a__"
      }
    },
    {
      "cell_type": "markdown",
      "source": [
        "```\n",
        "np.array(object)\n",
        "```\n",
        "* object: 배열과 비슷한 객체들(리스트, 튜플, dict, ndarray, ...)"
      ],
      "metadata": {
        "id": "PUtyZr5b8e_v"
      }
    },
    {
      "cell_type": "code",
      "source": [
        "# 0 이상 10 이하의 짝수들로 이루어진 ndarray\n",
        "evens = np.array([2 * x for x in range(6)])\n",
        "print(evens)"
      ],
      "metadata": {
        "colab": {
          "base_uri": "https://localhost:8080/"
        },
        "id": "EAbgF2To3r6o",
        "outputId": "47dad2ff-fab9-4c76-abeb-a47fb0bba703"
      },
      "execution_count": 45,
      "outputs": [
        {
          "output_type": "stream",
          "name": "stdout",
          "text": [
            "[ 0  2  4  6  8 10]\n"
          ]
        }
      ]
    },
    {
      "cell_type": "markdown",
      "source": [
        "```\n",
        "np.arange(start, end, step)\n",
        "```\n",
        "\n",
        "* `range(start, end, step)` 함수의 사용 방법과 동일\n",
        "* 1차원 배열 생성"
      ],
      "metadata": {
        "id": "RLgcU_vy9dv4"
      }
    },
    {
      "cell_type": "code",
      "source": [
        "evens = np.arange(0, 11, 2)\n",
        "print(evens)"
      ],
      "metadata": {
        "colab": {
          "base_uri": "https://localhost:8080/"
        },
        "id": "Xa3sw_6U9D0j",
        "outputId": "d002b314-0141-4817-e274-26a9e9690990"
      },
      "execution_count": 46,
      "outputs": [
        {
          "output_type": "stream",
          "name": "stdout",
          "text": [
            "[ 0  2  4  6  8 10]\n"
          ]
        }
      ]
    },
    {
      "cell_type": "markdown",
      "source": [
        "```\n",
        "np.reshape(array, shape) 함수\n",
        "np.ndarray.reshape(shape) 메서드\n",
        "```\n",
        "\n"
      ],
      "metadata": {
        "id": "G9wScbKo-M2H"
      }
    },
    {
      "cell_type": "code",
      "source": [
        "arr = np.arange(12)\n",
        "print(arr) # (12, ) shape의 1차원 배열"
      ],
      "metadata": {
        "colab": {
          "base_uri": "https://localhost:8080/"
        },
        "id": "t_5Z1I12-BJK",
        "outputId": "aa18121f-89cf-4309-f86e-1bb7b1ca8938"
      },
      "execution_count": 48,
      "outputs": [
        {
          "output_type": "stream",
          "name": "stdout",
          "text": [
            "[ 0  1  2  3  4  5  6  7  8  9 10 11]\n"
          ]
        }
      ]
    },
    {
      "cell_type": "code",
      "source": [
        "# 함수 호출\n",
        "np.reshape(arr, (3, 4))"
      ],
      "metadata": {
        "colab": {
          "base_uri": "https://localhost:8080/"
        },
        "id": "OQ7xYiQvBBQ8",
        "outputId": "5b92b17e-281f-4b9e-bffb-caaaeaa3a31d"
      },
      "execution_count": 52,
      "outputs": [
        {
          "output_type": "execute_result",
          "data": {
            "text/plain": [
              "array([[ 0,  1,  2,  3],\n",
              "       [ 4,  5,  6,  7],\n",
              "       [ 8,  9, 10, 11]])"
            ]
          },
          "metadata": {},
          "execution_count": 52
        }
      ]
    },
    {
      "cell_type": "code",
      "source": [
        "# 메서드 호출\n",
        "arr.reshape((3, 4))"
      ],
      "metadata": {
        "colab": {
          "base_uri": "https://localhost:8080/"
        },
        "id": "cM8Qh4QCBMRc",
        "outputId": "929c3e94-d996-495b-b00d-4c98cca38f00"
      },
      "execution_count": 53,
      "outputs": [
        {
          "output_type": "execute_result",
          "data": {
            "text/plain": [
              "array([[ 0,  1,  2,  3],\n",
              "       [ 4,  5,  6,  7],\n",
              "       [ 8,  9, 10, 11]])"
            ]
          },
          "metadata": {},
          "execution_count": 53
        }
      ]
    },
    {
      "cell_type": "code",
      "source": [
        "# 함수(메서드) 연쇄 호출\n",
        "np.arange(6).reshape((3, 2))"
      ],
      "metadata": {
        "colab": {
          "base_uri": "https://localhost:8080/"
        },
        "id": "DyFyYyZNBVCQ",
        "outputId": "d5a5432a-cb50-4dce-8e7b-72cb7f5a0180"
      },
      "execution_count": 56,
      "outputs": [
        {
          "output_type": "execute_result",
          "data": {
            "text/plain": [
              "array([[0, 1],\n",
              "       [2, 3],\n",
              "       [4, 5]])"
            ]
          },
          "metadata": {},
          "execution_count": 56
        }
      ]
    },
    {
      "cell_type": "markdown",
      "source": [
        "```\n",
        "np.random.rand(d0, d1, d2, ...) 함수\n",
        "```\n",
        "\n",
        "* `[0, 1)` 범위의 균등분포를 따르는 난수들로 만들어진 ndarray를 생성.\n",
        "* `d0, d1, d2, ...`: ndarray에서 각 차원의 원소의 개수"
      ],
      "metadata": {
        "id": "eEpUJ7qxDKcV"
      }
    },
    {
      "cell_type": "code",
      "source": [
        "np.random.rand(5) # (5,) shape의 1차원 배열"
      ],
      "metadata": {
        "colab": {
          "base_uri": "https://localhost:8080/"
        },
        "id": "XYj9JKxaC5h2",
        "outputId": "0e397584-0fec-496d-f2f5-41dd509843ba"
      },
      "execution_count": 60,
      "outputs": [
        {
          "output_type": "execute_result",
          "data": {
            "text/plain": [
              "array([0.8800377 , 0.6518775 , 0.1664339 , 0.75766597, 0.96348773])"
            ]
          },
          "metadata": {},
          "execution_count": 60
        }
      ]
    },
    {
      "cell_type": "code",
      "source": [
        "# (3, 4) shape의 2차원 배열\n",
        "np.random.rand(3, 4)"
      ],
      "metadata": {
        "colab": {
          "base_uri": "https://localhost:8080/"
        },
        "id": "PKp3QrCnEWFm",
        "outputId": "b3ac8593-5056-49f4-8cf0-3f4d4e9a54a8"
      },
      "execution_count": 61,
      "outputs": [
        {
          "output_type": "execute_result",
          "data": {
            "text/plain": [
              "array([[0.27370089, 0.8960339 , 0.42927841, 0.18308823],\n",
              "       [0.87487535, 0.59140456, 0.23217789, 0.81144187],\n",
              "       [0.82885061, 0.1087241 , 0.87314971, 0.72793471]])"
            ]
          },
          "metadata": {},
          "execution_count": 61
        }
      ]
    },
    {
      "cell_type": "markdown",
      "source": [
        "```\n",
        "np.random.randn(d0, d1, d2, ...) 함수\n",
        "```\n",
        "\n",
        "* 평균이 0이고 표준편차가 1인 표준정규분포(standard normal distribution)를 따르는 난수들의 배열을 생성.\n",
        "* `d0, d1, d2, ...`: ndarray의 각 차원의 원소의 개수."
      ],
      "metadata": {
        "id": "7FuBNRcwFCK9"
      }
    },
    {
      "cell_type": "code",
      "source": [
        "np.random.randn(5)"
      ],
      "metadata": {
        "colab": {
          "base_uri": "https://localhost:8080/"
        },
        "id": "5vhNeNVqEl1N",
        "outputId": "3c525926-f794-49ec-c05e-68d5725f6597"
      },
      "execution_count": 62,
      "outputs": [
        {
          "output_type": "execute_result",
          "data": {
            "text/plain": [
              "array([-0.7758178 , -1.06057694,  1.6771232 , -0.53826644, -0.06140303])"
            ]
          },
          "metadata": {},
          "execution_count": 62
        }
      ]
    },
    {
      "cell_type": "code",
      "source": [
        "np.random.randn(3, 4)"
      ],
      "metadata": {
        "colab": {
          "base_uri": "https://localhost:8080/"
        },
        "id": "lCTMT46cFxu1",
        "outputId": "18fae90e-811c-4591-832a-0c3d2df6fec4"
      },
      "execution_count": 63,
      "outputs": [
        {
          "output_type": "execute_result",
          "data": {
            "text/plain": [
              "array([[ 0.58085207,  0.60434094, -0.81224586,  1.5357347 ],\n",
              "       [ 0.03722211, -2.05563299,  0.78001923,  1.29840904],\n",
              "       [ 1.34822385, -0.80500634,  0.43821339, -0.57218826]])"
            ]
          },
          "metadata": {},
          "execution_count": 63
        }
      ]
    },
    {
      "cell_type": "markdown",
      "source": [
        "```\n",
        "np.random.randint(low, high, size, dtype) 함수\n",
        "```\n",
        "\n",
        "* `[low, high)` 범위의 균등분포를 따르는 정수 난수들의 배열 생성.\n",
        "* `size`: ndarray의 모양(shape). 정수 또는 정수들의 tuple.\n",
        "* `dtype`: int8, int16, int32, int64, ..."
      ],
      "metadata": {
        "id": "Y5quvBQMGJe1"
      }
    },
    {
      "cell_type": "code",
      "source": [
        "# 0 이상 10 미만의 정수 난수 5개로 이루어진 리스트\n",
        "np.random.randint(0, 10, 5)"
      ],
      "metadata": {
        "colab": {
          "base_uri": "https://localhost:8080/"
        },
        "id": "902lvpX6F-TQ",
        "outputId": "600f5834-d1e9-4c73-fc0b-4c2b87b751ca"
      },
      "execution_count": 65,
      "outputs": [
        {
          "output_type": "execute_result",
          "data": {
            "text/plain": [
              "array([0, 3, 7, 1, 7])"
            ]
          },
          "metadata": {},
          "execution_count": 65
        }
      ]
    },
    {
      "cell_type": "code",
      "source": [
        "np.random.randint(0, 10, size=(3, 4))"
      ],
      "metadata": {
        "colab": {
          "base_uri": "https://localhost:8080/"
        },
        "id": "epRt-rUkHGQG",
        "outputId": "84e905b1-6da5-477c-d981-c68a1274aa4e"
      },
      "execution_count": 66,
      "outputs": [
        {
          "output_type": "execute_result",
          "data": {
            "text/plain": [
              "array([[6, 1, 3, 9],\n",
              "       [6, 2, 7, 3],\n",
              "       [1, 3, 3, 5]])"
            ]
          },
          "metadata": {},
          "execution_count": 66
        }
      ]
    },
    {
      "cell_type": "markdown",
      "source": [
        "## np.ndarray 활용 - 그래프"
      ],
      "metadata": {
        "id": "uUOp6RR0LSxV"
      }
    },
    {
      "cell_type": "code",
      "source": [
        "x = np.arange(-3, 4)\n",
        "print(x)"
      ],
      "metadata": {
        "colab": {
          "base_uri": "https://localhost:8080/"
        },
        "id": "IKtWfSyfHZ5n",
        "outputId": "2f5ffd87-21e3-43a7-c429-b31194978178"
      },
      "execution_count": 68,
      "outputs": [
        {
          "output_type": "stream",
          "name": "stdout",
          "text": [
            "[-3 -2 -1  0  1  2  3]\n"
          ]
        }
      ]
    },
    {
      "cell_type": "code",
      "source": [
        "y = x ** 2\n",
        "print(y)"
      ],
      "metadata": {
        "colab": {
          "base_uri": "https://localhost:8080/"
        },
        "id": "phoOxZo4Le65",
        "outputId": "3e08fc46-0194-42b2-fda2-318a3a2e008b"
      },
      "execution_count": 69,
      "outputs": [
        {
          "output_type": "stream",
          "name": "stdout",
          "text": [
            "[9 4 1 0 1 4 9]\n"
          ]
        }
      ]
    },
    {
      "cell_type": "code",
      "source": [
        "import matplotlib.pyplot as plt"
      ],
      "metadata": {
        "id": "ZkzKo4BELpEM"
      },
      "execution_count": 70,
      "outputs": []
    },
    {
      "cell_type": "code",
      "source": [
        "plt.plot(x, y)\n",
        "plt.grid()\n",
        "plt.show()"
      ],
      "metadata": {
        "colab": {
          "base_uri": "https://localhost:8080/",
          "height": 265
        },
        "id": "NRTjjm8JMKLX",
        "outputId": "495cdb9c-2d2e-4d49-9efa-df9836710237"
      },
      "execution_count": 73,
      "outputs": [
        {
          "output_type": "display_data",
          "data": {
            "text/plain": [
              "<Figure size 432x288 with 1 Axes>"
            ],
            "image/png": "[encoded data removed]"
          },
          "metadata": {
            "needs_background": "light"
          }
        }
      ]
    },
    {
      "cell_type": "code",
      "source": [
        "x = np.arange(-3, 3, 0.001)\n",
        "y = x ** 2\n",
        "print(x)\n",
        "print(y)"
      ],
      "metadata": {
        "colab": {
          "base_uri": "https://localhost:8080/"
        },
        "id": "aca-OwCbML1N",
        "outputId": "db5cf3d4-a7e6-4f94-c05f-ecf6de96b026"
      },
      "execution_count": 74,
      "outputs": [
        {
          "output_type": "stream",
          "name": "stdout",
          "text": [
            "[-3.    -2.999 -2.998 ...  2.997  2.998  2.999]\n",
            "[9.       8.994001 8.988004 ... 8.982009 8.988004 8.994001]\n"
          ]
        }
      ]
    },
    {
      "cell_type": "code",
      "source": [
        "plt.plot(x, y)\n",
        "plt.grid()\n",
        "plt.show()"
      ],
      "metadata": {
        "colab": {
          "base_uri": "https://localhost:8080/",
          "height": 265
        },
        "id": "E76H_KISMwyB",
        "outputId": "66a715c6-77f4-4b5b-b8df-f95e0b6eb777"
      },
      "execution_count": 75,
      "outputs": [
        {
          "output_type": "display_data",
          "data": {
            "text/plain": [
              "<Figure size 432x288 with 1 Axes>"
            ],
            "image/png": "[encoded data removed]"
          },
          "metadata": {
            "needs_background": "light"
          }
        }
      ]
    },
    {
      "cell_type": "markdown",
      "source": [
        "# Array Index"
      ],
      "metadata": {
        "id": "9o7DFeUZN4IF"
      }
    },
    {
      "cell_type": "code",
      "source": [
        "arr = np.arange(10)\n",
        "print(arr)"
      ],
      "metadata": {
        "colab": {
          "base_uri": "https://localhost:8080/"
        },
        "id": "4PzhwYBCNBxm",
        "outputId": "fc1a486a-d5cb-4c72-f73d-1d77e6a94a6a"
      },
      "execution_count": 77,
      "outputs": [
        {
          "output_type": "stream",
          "name": "stdout",
          "text": [
            "[0 1 2 3 4 5 6 7 8 9]\n"
          ]
        }
      ]
    },
    {
      "cell_type": "code",
      "source": [
        "# indexing: 인덱스를 사용해서 배열의 원소를 참조.\n",
        "print(arr[0]) # 시작 인덱스 = 0\n",
        "print(arr[9]) # 마지막 인덱스 = 원소 개수 - 1\n",
        "print(arr[-1]) # 끝에서 첫번째"
      ],
      "metadata": {
        "colab": {
          "base_uri": "https://localhost:8080/"
        },
        "id": "sRTwC4lLOGV5",
        "outputId": "874694a3-bb17-47e6-a24d-7762a99ebdae"
      },
      "execution_count": 78,
      "outputs": [
        {
          "output_type": "stream",
          "name": "stdout",
          "text": [
            "0\n",
            "9\n",
            "9\n"
          ]
        }
      ]
    },
    {
      "cell_type": "code",
      "source": [
        "# slicing: [start, end) 범위의 원소들로 이루어진 배열\n",
        "print(arr[0:5])\n",
        "print(arr[:5]) # 앞에서 5개를 선택한 배열\n",
        "print(arr[-5:]) # 뒤에서 5개를 선택한 배열"
      ],
      "metadata": {
        "colab": {
          "base_uri": "https://localhost:8080/"
        },
        "id": "p9A8tWyDObQn",
        "outputId": "ee8c595d-b420-4833-8fd3-c744523d8b2d"
      },
      "execution_count": 81,
      "outputs": [
        {
          "output_type": "stream",
          "name": "stdout",
          "text": [
            "[0 1 2 3 4]\n",
            "[0 1 2 3 4]\n",
            "[5 6 7 8 9]\n"
          ]
        }
      ]
    },
    {
      "cell_type": "code",
      "source": [
        "print(arr[:1]) # slicing의 결과는 배열.\n",
        "print(arr[0])"
      ],
      "metadata": {
        "colab": {
          "base_uri": "https://localhost:8080/"
        },
        "id": "2N-CthVaOrm6",
        "outputId": "d0fca651-6a53-4bc1-e0bd-0c34f6c403b5"
      },
      "execution_count": 83,
      "outputs": [
        {
          "output_type": "stream",
          "name": "stdout",
          "text": [
            "[0]\n",
            "0\n"
          ]
        }
      ]
    },
    {
      "cell_type": "markdown",
      "source": [
        "## fancy indexing\n",
        "\n",
        "* 배열과 비슷한 객체(ndarray, list, tuple, ...)를 사용해서 indexing하는 방법\n",
        "* fancy indexing의 결과는 ndarray."
      ],
      "metadata": {
        "id": "W5JZ4FDoP2_M"
      }
    },
    {
      "cell_type": "code",
      "source": [
        "np.random.seed(1) # 난수 생성 순서 고정\n",
        "arr = np.random.randint(100, size=(10)) # 0 이상 100 미만의 정수 난수 10개로 이루어진 1차원 배열\n",
        "print(arr)"
      ],
      "metadata": {
        "colab": {
          "base_uri": "https://localhost:8080/"
        },
        "id": "VPPZSVGCPjRD",
        "outputId": "da0f4b09-15a0-49d0-a4e1-4575ecc1041a"
      },
      "execution_count": 84,
      "outputs": [
        {
          "output_type": "stream",
          "name": "stdout",
          "text": [
            "[37 12 72  9 75  5 79 64 16  1]\n"
          ]
        }
      ]
    },
    {
      "cell_type": "code",
      "source": [
        "arr[[0, 2, 4]]"
      ],
      "metadata": {
        "colab": {
          "base_uri": "https://localhost:8080/"
        },
        "id": "5MHdHJ69QgOl",
        "outputId": "12d3e7df-ca06-4828-eec4-2361fcf4d9fc"
      },
      "execution_count": 85,
      "outputs": [
        {
          "output_type": "execute_result",
          "data": {
            "text/plain": [
              "array([37, 72, 75])"
            ]
          },
          "metadata": {},
          "execution_count": 85
        }
      ]
    },
    {
      "cell_type": "code",
      "source": [
        "print(arr[1]) #> indexing: 숫자 1개\n",
        "print(arr[[1]]) #> fancy indexing: 숫자 1개로 이루어진 배열"
      ],
      "metadata": {
        "colab": {
          "base_uri": "https://localhost:8080/"
        },
        "id": "EckF8lTGQ_SH",
        "outputId": "0f049702-99a2-48d1-e159-9c2ca86a0b84"
      },
      "execution_count": 86,
      "outputs": [
        {
          "output_type": "stream",
          "name": "stdout",
          "text": [
            "12\n",
            "[12]\n"
          ]
        }
      ]
    },
    {
      "cell_type": "markdown",
      "source": [
        "## boolean indexing\n",
        "\n",
        "* 논리값들의 배열(리스트, 튜플)을 사용한 fancy indexing.\n",
        "* 배열에서 조건을 만족하는 원소들로 이루어진 부분집합(ndarray)를 생성."
      ],
      "metadata": {
        "id": "ShOrSioWR7Qc"
      }
    },
    {
      "cell_type": "code",
      "source": [
        "print(arr)"
      ],
      "metadata": {
        "colab": {
          "base_uri": "https://localhost:8080/"
        },
        "id": "RWbZ22vlRTZb",
        "outputId": "9f643a1d-4b33-45b5-a00e-174c871d34cf"
      },
      "execution_count": 87,
      "outputs": [
        {
          "output_type": "stream",
          "name": "stdout",
          "text": [
            "[37 12 72  9 75  5 79 64 16  1]\n"
          ]
        }
      ]
    },
    {
      "cell_type": "code",
      "source": [
        "indices = [False, True, True, False, False, False, False, True, True, False]\n",
        "arr[indices]"
      ],
      "metadata": {
        "colab": {
          "base_uri": "https://localhost:8080/"
        },
        "id": "tEwmyfIbSPUz",
        "outputId": "ed91a86a-e11a-4d66-a74d-dc3147486b5b"
      },
      "execution_count": 88,
      "outputs": [
        {
          "output_type": "execute_result",
          "data": {
            "text/plain": [
              "array([12, 72, 64, 16])"
            ]
          },
          "metadata": {},
          "execution_count": 88
        }
      ]
    },
    {
      "cell_type": "code",
      "source": [
        "arr[arr % 2 == 0]"
      ],
      "metadata": {
        "colab": {
          "base_uri": "https://localhost:8080/"
        },
        "id": "TNrDOG4ISydc",
        "outputId": "31b6431f-1a02-4b2d-d648-bc727b2d5de5"
      },
      "execution_count": 91,
      "outputs": [
        {
          "output_type": "execute_result",
          "data": {
            "text/plain": [
              "array([12, 72, 64, 16])"
            ]
          },
          "metadata": {},
          "execution_count": 91
        }
      ]
    },
    {
      "cell_type": "code",
      "source": [
        "arr[arr % 2 == 1]"
      ],
      "metadata": {
        "colab": {
          "base_uri": "https://localhost:8080/"
        },
        "id": "B5GDXx4MTN37",
        "outputId": "ba99032d-e845-4806-992d-91af53891000"
      },
      "execution_count": 93,
      "outputs": [
        {
          "output_type": "execute_result",
          "data": {
            "text/plain": [
              "array([37,  9, 75,  5, 79,  1])"
            ]
          },
          "metadata": {},
          "execution_count": 93
        }
      ]
    },
    {
      "cell_type": "markdown",
      "source": [
        "# NumPy 통계 함수/메서드\n",
        "\n",
        "```\n",
        "np.function_name(array) 함수\n",
        "np.ndarray.method_name() 메서드\n",
        "```"
      ],
      "metadata": {
        "id": "IpFHHa1FYu7T"
      }
    },
    {
      "cell_type": "code",
      "source": [
        "print(arr)"
      ],
      "metadata": {
        "colab": {
          "base_uri": "https://localhost:8080/"
        },
        "id": "yxjzTLlkTmmR",
        "outputId": "0fe89d80-da98-456a-bf3e-181fff97e9fc"
      },
      "execution_count": 94,
      "outputs": [
        {
          "output_type": "stream",
          "name": "stdout",
          "text": [
            "[37 12 72  9 75  5 79 64 16  1]\n"
          ]
        }
      ]
    },
    {
      "cell_type": "code",
      "source": [
        "# 평균\n",
        "print(np.mean(arr)) # 함수\n",
        "print(arr.mean()) # 메서드"
      ],
      "metadata": {
        "colab": {
          "base_uri": "https://localhost:8080/"
        },
        "id": "kyuHuRJGZd0_",
        "outputId": "ed3fb723-5c7d-486f-ac29-b3bcf4d71a69"
      },
      "execution_count": 96,
      "outputs": [
        {
          "output_type": "stream",
          "name": "stdout",
          "text": [
            "37.0\n",
            "37.0\n"
          ]
        }
      ]
    },
    {
      "cell_type": "code",
      "source": [
        "print('합계:', np.sum(arr), arr.sum())\n",
        "print('평균:', np.mean(arr), arr.mean())\n",
        "print('분산:', np.var(arr), arr.var()) # variance\n",
        "print('표준편차:', np.std(arr), arr.std()) # standard deviation\n",
        "print('최댓값:', np.max(arr), arr.max())\n",
        "print('최솟값:', np.min(arr), arr.min())\n",
        "print('중앙값:', np.median(arr)) # ndarray는 중앙값을 리턴하는 메서드를 제공하지 않음!\n",
        "# 중앙값: 배열의 원소들을 정렬했을 때 가운데 있는 값."
      ],
      "metadata": {
        "colab": {
          "base_uri": "https://localhost:8080/"
        },
        "id": "4dHzkxQ5ZmLA",
        "outputId": "d5413d11-f10e-4afb-9d7f-b04665dd6a4e"
      },
      "execution_count": 102,
      "outputs": [
        {
          "output_type": "stream",
          "name": "stdout",
          "text": [
            "합계: 370 370\n",
            "평균: 37.0 37.0\n",
            "분산: 933.2 933.2\n",
            "표준편차: 30.548322376196047 30.548322376196047\n",
            "최댓값: 79 79\n",
            "최솟값: 1 1\n",
            "중앙값: 26.5\n"
          ]
        }
      ]
    },
    {
      "cell_type": "code",
      "source": [
        "np.sort(arr) # 배열을 오름차순 정렬"
      ],
      "metadata": {
        "colab": {
          "base_uri": "https://localhost:8080/"
        },
        "id": "mvk4q9WMaLPn",
        "outputId": "61bed32e-1e58-4c3d-bc2f-c38b5cdfdfdf"
      },
      "execution_count": 103,
      "outputs": [
        {
          "output_type": "execute_result",
          "data": {
            "text/plain": [
              "array([ 1,  5,  9, 12, 16, 37, 64, 72, 75, 79])"
            ]
          },
          "metadata": {},
          "execution_count": 103
        }
      ]
    },
    {
      "cell_type": "code",
      "source": [
        "(16 + 37) / 2"
      ],
      "metadata": {
        "colab": {
          "base_uri": "https://localhost:8080/"
        },
        "id": "HJKiyFgibjM2",
        "outputId": "ee11aa2a-c65e-4ef3-fb15-683f722bbc49"
      },
      "execution_count": 104,
      "outputs": [
        {
          "output_type": "execute_result",
          "data": {
            "text/plain": [
              "26.5"
            ]
          },
          "metadata": {},
          "execution_count": 104
        }
      ]
    },
    {
      "cell_type": "markdown",
      "source": [
        "## 2차원 배열에서의 통계 함수/메서드"
      ],
      "metadata": {
        "id": "RBGL5Z4TciHi"
      }
    },
    {
      "cell_type": "code",
      "source": [
        "np.random.seed(2)\n",
        "arr = np.random.randint(100, size=(3, 4))\n",
        "print(arr)"
      ],
      "metadata": {
        "colab": {
          "base_uri": "https://localhost:8080/"
        },
        "id": "bUQ5DaPKb000",
        "outputId": "9b58ea5d-1e2b-4a87-846e-287db47fa7c5"
      },
      "execution_count": 105,
      "outputs": [
        {
          "output_type": "stream",
          "name": "stdout",
          "text": [
            "[[40 15 72 22]\n",
            " [43 82 75  7]\n",
            " [34 49 95 75]]\n"
          ]
        }
      ]
    },
    {
      "cell_type": "code",
      "source": [
        "# 2차원 배열의 모든 원소들의 합\n",
        "print(np.sum(arr), arr.sum()) # arr.sum(axis=None)"
      ],
      "metadata": {
        "colab": {
          "base_uri": "https://localhost:8080/"
        },
        "id": "AkPC2TQDc7Qe",
        "outputId": "382ac693-a5cb-465c-d583-1a66f0375191"
      },
      "execution_count": 109,
      "outputs": [
        {
          "output_type": "stream",
          "name": "stdout",
          "text": [
            "609 609\n"
          ]
        }
      ]
    },
    {
      "cell_type": "code",
      "source": [
        "# row index가 증가하는 방향으로 원소들의 합\n",
        "np.sum(arr, axis=0) # arr.sum(axis=0)"
      ],
      "metadata": {
        "colab": {
          "base_uri": "https://localhost:8080/"
        },
        "id": "p4TC3j--d2BW",
        "outputId": "de8427fd-406e-440d-a187-f94ef389131b"
      },
      "execution_count": 110,
      "outputs": [
        {
          "output_type": "execute_result",
          "data": {
            "text/plain": [
              "array([117, 146, 242, 104])"
            ]
          },
          "metadata": {},
          "execution_count": 110
        }
      ]
    },
    {
      "cell_type": "code",
      "source": [
        "# column index가 증가하는 방향으로 원소들의 합\n",
        "np.sum(arr, axis=1) # arr.sum(axis=1)"
      ],
      "metadata": {
        "colab": {
          "base_uri": "https://localhost:8080/"
        },
        "id": "X69CmHFOea0G",
        "outputId": "f598b44c-a036-4bbb-b918-1877e394bc6a"
      },
      "execution_count": 111,
      "outputs": [
        {
          "output_type": "execute_result",
          "data": {
            "text/plain": [
              "array([149, 207, 253])"
            ]
          },
          "metadata": {},
          "execution_count": 111
        }
      ]
    },
    {
      "cell_type": "code",
      "source": [
        "np.sum(arr, axis=1, keepdims=True) # arr.sum(axis=1, keepdims=True)"
      ],
      "metadata": {
        "colab": {
          "base_uri": "https://localhost:8080/"
        },
        "id": "JS1seC95evuH",
        "outputId": "70a476af-8c24-45bd-f59c-a4db5c1bfe45"
      },
      "execution_count": 112,
      "outputs": [
        {
          "output_type": "execute_result",
          "data": {
            "text/plain": [
              "array([[149],\n",
              "       [207],\n",
              "       [253]])"
            ]
          },
          "metadata": {},
          "execution_count": 112
        }
      ]
    },
    {
      "cell_type": "code",
      "source": [
        "# 전체 원소의 평균\n",
        "np.mean(arr)"
      ],
      "metadata": {
        "colab": {
          "base_uri": "https://localhost:8080/"
        },
        "id": "Wos8sMpve-I_",
        "outputId": "20cf1745-6c39-4201-89fc-cccf37e5c0c1"
      },
      "execution_count": 113,
      "outputs": [
        {
          "output_type": "execute_result",
          "data": {
            "text/plain": [
              "50.75"
            ]
          },
          "metadata": {},
          "execution_count": 113
        }
      ]
    },
    {
      "cell_type": "code",
      "source": [
        "# row index가 증가하는 방향으로 원소들의 평균\n",
        "np.mean(arr, axis=0, keepdims=True)"
      ],
      "metadata": {
        "colab": {
          "base_uri": "https://localhost:8080/"
        },
        "id": "v1mL3EKXf3B-",
        "outputId": "f9a25a46-7797-4327-d34c-ab747e4ac3d8"
      },
      "execution_count": 115,
      "outputs": [
        {
          "output_type": "execute_result",
          "data": {
            "text/plain": [
              "array([[39.        , 48.66666667, 80.66666667, 34.66666667]])"
            ]
          },
          "metadata": {},
          "execution_count": 115
        }
      ]
    },
    {
      "cell_type": "code",
      "source": [
        "# column index가 증가하는 방향으로 원소들의 평균\n",
        "np.mean(arr, axis=1, keepdims=True)"
      ],
      "metadata": {
        "colab": {
          "base_uri": "https://localhost:8080/"
        },
        "id": "T0YTmeWXf73c",
        "outputId": "492efa93-a872-4056-a15b-f55de63845dd"
      },
      "execution_count": 118,
      "outputs": [
        {
          "output_type": "execute_result",
          "data": {
            "text/plain": [
              "array([[37.25],\n",
              "       [51.75],\n",
              "       [63.25]])"
            ]
          },
          "metadata": {},
          "execution_count": 118
        }
      ]
    },
    {
      "cell_type": "markdown",
      "source": [
        "# Ex.\n",
        "\n",
        "* 0 이상 100 미만의 정수 난수 10개로 이루어진 1차원 배열을 생성, 출력\n",
        "* 배열에서 평균값보다 큰 값들로 이루어진 배열을 만들고 출력. (boolean indexing)"
      ],
      "metadata": {
        "id": "LI38hHwbg4k6"
      }
    },
    {
      "cell_type": "code",
      "source": [
        "number = np.random.randint(100, size=10)\n",
        "number"
      ],
      "metadata": {
        "colab": {
          "base_uri": "https://localhost:8080/"
        },
        "id": "jUodvO05gUxF",
        "outputId": "249c061b-a718-4723-adfa-4df25f376ea2"
      },
      "execution_count": 122,
      "outputs": [
        {
          "output_type": "execute_result",
          "data": {
            "text/plain": [
              "array([47, 63, 31, 90, 20, 37, 39, 67,  4, 42])"
            ]
          },
          "metadata": {},
          "execution_count": 122
        }
      ]
    },
    {
      "cell_type": "code",
      "source": [
        "number[number.mean() < number]"
      ],
      "metadata": {
        "colab": {
          "base_uri": "https://localhost:8080/"
        },
        "id": "MGGI5sYNhWMG",
        "outputId": "0d2c6bca-b5de-4607-ced4-92487fab6db3"
      },
      "execution_count": 123,
      "outputs": [
        {
          "output_type": "execute_result",
          "data": {
            "text/plain": [
              "array([47, 63, 90, 67])"
            ]
          },
          "metadata": {},
          "execution_count": 123
        }
      ]
    },
    {
      "cell_type": "code",
      "source": [
        ""
      ],
      "metadata": {
        "id": "LT9lGBL9hsJs"
      },
      "execution_count": null,
      "outputs": []
    }
  ]
}