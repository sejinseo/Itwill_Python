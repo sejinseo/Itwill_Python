{
  "nbformat": 4,
  "nbformat_minor": 0,
  "metadata": {
    "colab": {
      "name": "py18_data_analysis.ipynb",
      "provenance": [],
      "collapsed_sections": [],
      "authorship_tag": "ABX9TyPiD+dkSMM2dEMRwoPHv3MH",
      "include_colab_link": true
    },
    "kernelspec": {
      "name": "python3",
      "display_name": "Python 3"
    },
    "language_info": {
      "name": "python"
    }
  },
  "cells": [
    {
      "cell_type": "markdown",
      "metadata": {
        "id": "view-in-github",
        "colab_type": "text"
      },
      "source": [
        "<a href=\"https://colab.research.google.com/github/sejinseo/Python/blob/main/py18_data_analysis.ipynb\" target=\"_parent\"><img src=\"https://colab.research.google.com/assets/colab-badge.svg\" alt=\"Open In Colab\"/></a>"
      ]
    },
    {
      "cell_type": "markdown",
      "source": [
        "# 데이터 분석에 많이 사용되는 패키지\n",
        "\n",
        "* NumPy: 다차원 배열(n-dimensional array)을 다루는 패키지. 머신 러닝(machine learning)에서 중요하게 사용됨.\n",
        "* pandas: 데이터프레임(DataFrame)과 시리즈(Series)를 다루는 패키지. 데이터 분석에서 기본으로 사용되는 패키지.\n",
        "* matplotlib: 데이터 시각화(그래프).\n",
        "\n",
        "Google Colab은 데이터 분석과 머신 러닝에 필요한 대부분의 패키지들이 이미 설치되어 있음."
      ],
      "metadata": {
        "id": "5Mtbs98-SXoP"
      }
    },
    {
      "cell_type": "code",
      "execution_count": 3,
      "metadata": {
        "id": "5REPtnNISLWM"
      },
      "outputs": [],
      "source": [
        "import numpy as np\n",
        "import pandas as pd\n",
        "import matplotlib"
      ]
    },
    {
      "cell_type": "code",
      "source": [
        "# Google Colab에 설치된 패키지 버전\n",
        "print('NumPy version:', np.__version__)\n",
        "print('pandas version:', pd.__version__)\n",
        "print('matplotlib version:', matplotlib.__version__)"
      ],
      "metadata": {
        "colab": {
          "base_uri": "https://localhost:8080/"
        },
        "id": "1nkY1nPfUMIr",
        "outputId": "f95a10d0-5687-4466-cd85-8b5570b028d2"
      },
      "execution_count": 6,
      "outputs": [
        {
          "output_type": "stream",
          "name": "stdout",
          "text": [
            "NumPy version: 1.21.5\n",
            "pandas version: 1.3.5\n",
            "matplotlib version: 3.2.2\n"
          ]
        }
      ]
    },
    {
      "cell_type": "markdown",
      "source": [
        "# Python list\n",
        "\n",
        "* 여러개의 값들을 저장할 수 있는 데이터 타입.\n",
        "* 인덱스를 기반으로 값들을 저장하는 데이터 타입.\n",
        "    * indexing: 인덱스로 원하는 위치의 값을 참조.\n",
        "    * slicing: `[start, end)` 인덱스 범위의 값들로 이루어진 부분집합(list)을 만듦.\n",
        "* `list + list`: extend 메서드의 기능. 두 개의 리스트를 이어붙여서 하나의 리스트를 만듦.\n",
        "    ```\n",
        "    [1, 2] + [3, 4] = [1, 2, 3, 4]\n",
        "    ```\n",
        "* `list * int, int * list`: list의 원소들을 정수 개수만큼 반복해서 추가.\n",
        "    ```\n",
        "    [1, 2] * 3 = [1, 2, 1, 2, 1, 2]\n",
        "    3 * [1, 2] = [1, 2, 1, 2, 1, 2]\n",
        "    ```"
      ],
      "metadata": {
        "id": "SeI3SxTJXMTU"
      }
    },
    {
      "cell_type": "code",
      "source": [
        "num_list1 = [1, 2, 3]\n",
        "num_list2 = [10, 20, 30]"
      ],
      "metadata": {
        "id": "FyqvEJLaU_uY"
      },
      "execution_count": 7,
      "outputs": []
    },
    {
      "cell_type": "code",
      "source": [
        "# indexing\n",
        "print(num_list1[0])\n",
        "print(num_list1[-1])"
      ],
      "metadata": {
        "colab": {
          "base_uri": "https://localhost:8080/"
        },
        "id": "jA-CBgwpY5IG",
        "outputId": "7d446e9c-b49b-4859-c848-d98d4bfc1906"
      },
      "execution_count": 8,
      "outputs": [
        {
          "output_type": "stream",
          "name": "stdout",
          "text": [
            "1\n",
            "3\n"
          ]
        }
      ]
    },
    {
      "cell_type": "code",
      "source": [
        "print(num_list1[:2])\n",
        "print(num_list1[-2:])"
      ],
      "metadata": {
        "colab": {
          "base_uri": "https://localhost:8080/"
        },
        "id": "YDQcyQs-ZBZS",
        "outputId": "78679c1c-18bb-4856-a21d-e85b1e25503e"
      },
      "execution_count": 10,
      "outputs": [
        {
          "output_type": "stream",
          "name": "stdout",
          "text": [
            "[1, 2]\n",
            "[2, 3]\n"
          ]
        }
      ]
    },
    {
      "cell_type": "code",
      "source": [
        "num_list1 + num_list2"
      ],
      "metadata": {
        "colab": {
          "base_uri": "https://localhost:8080/"
        },
        "id": "E0p_fxLaZcf6",
        "outputId": "0f4bbdb0-bcc0-4cfa-df8e-844df3def17c"
      },
      "execution_count": 11,
      "outputs": [
        {
          "output_type": "execute_result",
          "data": {
            "text/plain": [
              "[1, 2, 3, 10, 20, 30]"
            ]
          },
          "metadata": {},
          "execution_count": 11
        }
      ]
    },
    {
      "cell_type": "code",
      "source": [
        "2 * num_list1"
      ],
      "metadata": {
        "colab": {
          "base_uri": "https://localhost:8080/"
        },
        "id": "mvd6KjbnZqRh",
        "outputId": "208abe0a-7fa0-4a4a-97bc-be3f55d304fe"
      },
      "execution_count": 12,
      "outputs": [
        {
          "output_type": "execute_result",
          "data": {
            "text/plain": [
              "[1, 2, 3, 1, 2, 3]"
            ]
          },
          "metadata": {},
          "execution_count": 12
        }
      ]
    },
    {
      "cell_type": "code",
      "source": [
        "# num_list1과 num_list2의 같은 인덱스의 원소들끼리의 합을 원소로 갖는 리스트\n",
        "# add_list = []\n",
        "# for x, y in zip(num_list1, num_list2):\n",
        "#     add_list.append(x + y)\n",
        "add_list = [x + y for x, y in zip(num_list1, num_list2)]\n",
        "add_list"
      ],
      "metadata": {
        "colab": {
          "base_uri": "https://localhost:8080/"
        },
        "id": "nJ2scsbDuT1A",
        "outputId": "5637ea6b-2213-4327-d427-e552217e0ab1"
      },
      "execution_count": 16,
      "outputs": [
        {
          "output_type": "execute_result",
          "data": {
            "text/plain": [
              "[11, 22, 33]"
            ]
          },
          "metadata": {},
          "execution_count": 16
        }
      ]
    },
    {
      "cell_type": "code",
      "source": [
        "# num_list1의 모든 원소에 곱하기 2를 한 결과\n",
        "[2 * x for x in num_list1]"
      ],
      "metadata": {
        "colab": {
          "base_uri": "https://localhost:8080/"
        },
        "id": "dsTHefIswBkY",
        "outputId": "8abe3317-3bba-4fbf-ce76-0f9bd3d6a07f"
      },
      "execution_count": 20,
      "outputs": [
        {
          "output_type": "execute_result",
          "data": {
            "text/plain": [
              "[2, 4, 6]"
            ]
          },
          "metadata": {},
          "execution_count": 20
        }
      ]
    },
    {
      "cell_type": "markdown",
      "source": [
        "# NumPy(Numerical Python)\n",
        "\n",
        "* 배열(array)을 쉽고 빠르게 연산(+, -, *, /, ...)하기 위한 라이브러리.\n",
        "* NumPy 패키지의 대부분의 기능(함수, 메서드)들은 반복문의 기능을 가지고 있음.\n",
        "* `np.ndarray` 클래스: NumPy 패키지의 기본 데이터 타입. n차원 배열(n-dimensional array).\n",
        "    * ndarray는 같은 인덱스의 원소들끼리(element-wise) 연산을 수행함."
      ],
      "metadata": {
        "id": "IaRMB7Xvs-lR"
      }
    },
    {
      "cell_type": "code",
      "source": [
        "num_arr1 = np.array(num_list1) # np.array(): 객체를 ndarray 타입으로 변환."
      ],
      "metadata": {
        "id": "TgYJHdTKZtJ1"
      },
      "execution_count": 23,
      "outputs": []
    },
    {
      "cell_type": "code",
      "source": [
        "num_arr1 # 식(exprssion) 출력 - ndarray.__repr__() 메서드의 리턴값을 출력"
      ],
      "metadata": {
        "colab": {
          "base_uri": "https://localhost:8080/"
        },
        "id": "ELudJrB_wmCw",
        "outputId": "82e3b6af-9434-4244-b84e-d6ed2d361005"
      },
      "execution_count": 25,
      "outputs": [
        {
          "output_type": "execute_result",
          "data": {
            "text/plain": [
              "array([1, 2, 3])"
            ]
          },
          "metadata": {},
          "execution_count": 25
        }
      ]
    },
    {
      "cell_type": "code",
      "source": [
        "print(num_arr1) # print() 함수는 ndarray.__str__() 메서드의 리턴값을 출력"
      ],
      "metadata": {
        "colab": {
          "base_uri": "https://localhost:8080/"
        },
        "id": "InfHupR8wnhA",
        "outputId": "2ba2d31b-45dc-486d-929b-a7ae4bce0c09"
      },
      "execution_count": 27,
      "outputs": [
        {
          "output_type": "stream",
          "name": "stdout",
          "text": [
            "[1 2 3]\n"
          ]
        }
      ]
    },
    {
      "cell_type": "code",
      "source": [
        "type(num_arr1)"
      ],
      "metadata": {
        "colab": {
          "base_uri": "https://localhost:8080/"
        },
        "id": "P7Mc6VPaxLsR",
        "outputId": "723ea936-99f0-407b-e129-8cb68646b158"
      },
      "execution_count": 28,
      "outputs": [
        {
          "output_type": "execute_result",
          "data": {
            "text/plain": [
              "numpy.ndarray"
            ]
          },
          "metadata": {},
          "execution_count": 28
        }
      ]
    },
    {
      "cell_type": "code",
      "source": [
        "num_arr2 = np.array(num_list2)\n",
        "print(num_arr2)"
      ],
      "metadata": {
        "colab": {
          "base_uri": "https://localhost:8080/"
        },
        "id": "6UJaj6whxrEV",
        "outputId": "cdb0f713-a268-4bbe-d537-7a78c34bb87c"
      },
      "execution_count": 31,
      "outputs": [
        {
          "output_type": "stream",
          "name": "stdout",
          "text": [
            "[10 20 30]\n"
          ]
        }
      ]
    },
    {
      "cell_type": "code",
      "source": [
        "# ndarray의 사칙연산 - element-wise operation\n",
        "print(num_arr1 + num_arr2) \n",
        "print(num_arr1 - num_arr2)\n",
        "print(num_arr1 * num_arr2)\n",
        "print(num_arr1 / num_arr2)"
      ],
      "metadata": {
        "colab": {
          "base_uri": "https://localhost:8080/"
        },
        "id": "bckgU2AxyrV2",
        "outputId": "c3112771-31fd-4c21-abbe-39456313b7af"
      },
      "execution_count": 34,
      "outputs": [
        {
          "output_type": "stream",
          "name": "stdout",
          "text": [
            "[11 22 33]\n",
            "[ -9 -18 -27]\n",
            "[10 40 90]\n",
            "[0.1 0.1 0.1]\n"
          ]
        }
      ]
    },
    {
      "cell_type": "code",
      "source": [
        "print(num_arr1 * 2)"
      ],
      "metadata": {
        "colab": {
          "base_uri": "https://localhost:8080/"
        },
        "id": "w5SDNwJsy26d",
        "outputId": "fcc627f0-cf4c-495a-9c8c-31e4abeda7fd"
      },
      "execution_count": 35,
      "outputs": [
        {
          "output_type": "stream",
          "name": "stdout",
          "text": [
            "[2 4 6]\n"
          ]
        }
      ]
    },
    {
      "cell_type": "code",
      "source": [
        "# ndarray의 속성들(attributes)\n",
        "print(num_arr1)\n",
        "print('ndim =', num_arr1.ndim) # 차원(dimension)\n",
        "print('size =', num_arr1.size) # ndarray의 크기(원소의 갯수)\n",
        "print('shape =', num_arr1.shape) # 각 차원에서의 원소의 갯수\n",
        "print('dtype =', num_arr1.dtype) # 원소의 데이터 타입"
      ],
      "metadata": {
        "colab": {
          "base_uri": "https://localhost:8080/"
        },
        "id": "UPSRDSiOzn6Q",
        "outputId": "327665c5-1eb1-4a32-cc79-06cd0e10d118"
      },
      "execution_count": 40,
      "outputs": [
        {
          "output_type": "stream",
          "name": "stdout",
          "text": [
            "[1 2 3]\n",
            "ndim = 1\n",
            "size = 3\n",
            "shape = (3,)\n",
            "dtype = int64\n"
          ]
        }
      ]
    },
    {
      "cell_type": "markdown",
      "source": [
        "* Python 숫자 타입\n",
        "    * 정수: int\n",
        "    * 실수: float\n",
        "* np의 숫자 타입\n",
        "    * 정수: int8, int16, int32, int64, ...\n",
        "    * 실수: float16, float32, float64, ..."
      ],
      "metadata": {
        "id": "xLVLliCJ2kgg"
      }
    },
    {
      "cell_type": "markdown",
      "source": [
        "## 2차원 ndarray"
      ],
      "metadata": {
        "id": "hEWDJELi3Ctn"
      }
    },
    {
      "cell_type": "code",
      "source": [
        "arr_2d = np.array([[1, 2, 3], [4, 5, 6]])\n",
        "print(arr_2d)"
      ],
      "metadata": {
        "colab": {
          "base_uri": "https://localhost:8080/"
        },
        "id": "yEfHOLVc0zWo",
        "outputId": "bb2bd0a6-0742-4532-ae13-58df7d1223b5"
      },
      "execution_count": 41,
      "outputs": [
        {
          "output_type": "stream",
          "name": "stdout",
          "text": [
            "[[1 2 3]\n",
            " [4 5 6]]\n"
          ]
        }
      ]
    },
    {
      "cell_type": "code",
      "source": [
        "print('ndim =', arr_2d.ndim)\n",
        "print('size =', arr_2d.size)\n",
        "print('shape =', arr_2d.shape)\n",
        "print('dtype =', arr_2d.dtype)"
      ],
      "metadata": {
        "colab": {
          "base_uri": "https://localhost:8080/"
        },
        "id": "BuG_doAx3W9k",
        "outputId": "764a5f81-6ab4-4a0b-dbe7-04fad21ccd2e"
      },
      "execution_count": 42,
      "outputs": [
        {
          "output_type": "stream",
          "name": "stdout",
          "text": [
            "ndim = 2\n",
            "size = 6\n",
            "shape = (2, 3)\n",
            "dtype = int64\n"
          ]
        }
      ]
    },
    {
      "cell_type": "code",
      "source": [
        ""
      ],
      "metadata": {
        "id": "EAbgF2To3r6o"
      },
      "execution_count": null,
      "outputs": []
    }
  ]
}