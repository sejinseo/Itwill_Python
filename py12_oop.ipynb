{
  "nbformat": 4,
  "nbformat_minor": 0,
  "metadata": {
    "colab": {
      "name": "py12_oop.ipynb",
      "provenance": [],
      "collapsed_sections": [],
      "authorship_tag": "ABX9TyOF9kogPlygOBI+aJqaDtbU",
      "include_colab_link": true
    },
    "kernelspec": {
      "name": "python3",
      "display_name": "Python 3"
    },
    "language_info": {
      "name": "python"
    }
  },
  "cells": [
    {
      "cell_type": "markdown",
      "metadata": {
        "id": "view-in-github",
        "colab_type": "text"
      },
      "source": [
        "<a href=\"https://colab.research.google.com/github/sejinseo/Python/blob/main/py12_oop.ipynb\" target=\"_parent\"><img src=\"https://colab.research.google.com/assets/colab-badge.svg\" alt=\"Open In Colab\"/></a>"
      ]
    },
    {
      "cell_type": "markdown",
      "source": [
        "# OOP(Object-Oriented Programming, 객체 지향 프로그래밍)의 배경"
      ],
      "metadata": {
        "id": "BhtHrSSKfs2U"
      }
    },
    {
      "cell_type": "markdown",
      "source": [
        "## list, dict 사용"
      ],
      "metadata": {
        "id": "CDv_l3Wbf9hx"
      }
    },
    {
      "cell_type": "code",
      "execution_count": null,
      "metadata": {
        "id": "-0tDjjr0fJtJ"
      },
      "outputs": [],
      "source": [
        "students = [\n",
        "            {'name': 'aa', 'korean': 90, 'english': 95, 'math': 80},\n",
        "            {'name': 'bb', 'korean': 70, 'english': 90, 'math': 80},\n",
        "            {'name': 'cc', 'korean': 95, 'english': 80, 'math': 85}\n",
        "]"
      ]
    },
    {
      "cell_type": "code",
      "source": [
        "# 각 학생의 3과목 총점과 평균\n",
        "for s in students:\n",
        "    total = s['korean'] + s['english'] + s['math']\n",
        "    mean = total / 3\n",
        "    print(f'이름: {s[\"name\"]}, 총점: {total}, 평균: {mean}')"
      ],
      "metadata": {
        "colab": {
          "base_uri": "https://localhost:8080/"
        },
        "id": "ugsOONhJhFNd",
        "outputId": "3c40bfb4-9b9f-41fe-f0b8-3ffff1863eb0"
      },
      "execution_count": null,
      "outputs": [
        {
          "output_type": "stream",
          "name": "stdout",
          "text": [
            "이름: aa, 총점: 265, 평균: 88.33333333333333\n",
            "이름: bb, 총점: 240, 평균: 80.0\n",
            "이름: cc, 총점: 260, 평균: 86.66666666666667\n"
          ]
        }
      ]
    },
    {
      "cell_type": "markdown",
      "source": [
        "## 함수형 프로그래밍(Functional Programming)"
      ],
      "metadata": {
        "id": "arDWnx41j0-j"
      }
    },
    {
      "cell_type": "code",
      "source": [
        "def create_student(name, korean, english, math):\n",
        "    student = {\n",
        "        'name': name,\n",
        "        'korean': korean,\n",
        "        'english': english,\n",
        "        'math': math\n",
        "    }\n",
        "\n",
        "    return student\n"
      ],
      "metadata": {
        "id": "LspHmh8chxnp"
      },
      "execution_count": null,
      "outputs": []
    },
    {
      "cell_type": "code",
      "source": [
        "students = [\n",
        "            create_student(name='aa', korean=100, english=100, math=100),\n",
        "            create_student(name='bb', korean=90, english=100, math=100),\n",
        "            create_student(name='cc', korean=80, english=100, math=100),\n",
        "            create_student(name='dd', korean=70, english=100, math=100),\n",
        "]"
      ],
      "metadata": {
        "id": "-lz3fFWaknLF"
      },
      "execution_count": null,
      "outputs": []
    },
    {
      "cell_type": "code",
      "source": [
        "def get_total(student):\n",
        "    return student['korean'] + student['english'] + student['math']"
      ],
      "metadata": {
        "id": "MGet46dOlJ6o"
      },
      "execution_count": null,
      "outputs": []
    },
    {
      "cell_type": "code",
      "source": [
        "def get_mean(student):\n",
        "    return get_total(student) / 3"
      ],
      "metadata": {
        "id": "_uMKBh5BltvP"
      },
      "execution_count": null,
      "outputs": []
    },
    {
      "cell_type": "code",
      "source": [
        "for s in students:\n",
        "    total = get_total(s)\n",
        "    mean = get_mean(s)\n",
        "    print(f'이름: {s[\"name\"]}, 총점: {total}, 평균: {mean}')"
      ],
      "metadata": {
        "colab": {
          "base_uri": "https://localhost:8080/"
        },
        "id": "3yg1O-vylzwe",
        "outputId": "23be0d6b-4a8e-45ec-8f61-e8298d1bface"
      },
      "execution_count": null,
      "outputs": [
        {
          "output_type": "stream",
          "name": "stdout",
          "text": [
            "이름: aa, 총점: 300, 평균: 100.0\n",
            "이름: bb, 총점: 290, 평균: 96.66666666666667\n",
            "이름: cc, 총점: 280, 평균: 93.33333333333333\n",
            "이름: dd, 총점: 270, 평균: 90.0\n"
          ]
        }
      ]
    },
    {
      "cell_type": "markdown",
      "source": [
        "## 객체 지향 프로그래밍(OOP)\n",
        "\n",
        "* 객체(object): 소프트웨어로 구현할 대상.\n",
        "* 클래스(class): 객체를 구현하기 위한 소스 코드.\n",
        "    * 속성(attribute, property): 객체가 가져야 하는 데이터. 변수들에 저장되는 값.\n",
        "    * 메서드(method): 객체가 가져야 하는 기능. 클래스 내부에서 정의하는 함수.\n",
        "* 인스턴스(instance): 클래스를 사용해서 메모리에 생성된 객체.\n",
        "* 인스턴스 생성(intantiate): 클래스의 객체를 메모리에 생성하는 것.\n",
        "* 생성자(construct): 인스턴스를 생성하기 위해서 호출하는 함수. 클래스 이름과 동일한 함수."
      ],
      "metadata": {
        "id": "9DDmSkeonS3C"
      }
    },
    {
      "cell_type": "code",
      "source": [
        "# 클래스 정의\n",
        "class Student:\n",
        "    # 생성자 함수: 생성자가 호출됐을 때 자동으로 호출되는 함수. 속성들을 선언하고 초기화.\n",
        "    def __init__(self, name, korean, english, math):\n",
        "        self.name = name\n",
        "        self.korean = korean\n",
        "        self.english = english\n",
        "        self.math = math\n",
        "\n",
        "    # 메서드\n",
        "    def get_total(self):\n",
        "        return self.korean + self.english + self.math\n",
        "\n",
        "    def get_mean(self):\n",
        "        return self.get_total() / 3\n",
        "\n",
        "    def print_info(self):\n",
        "        print(f'이름: {self.name}, 총점: {self.get_total()}, 평균: {self.get_mean()}')\n"
      ],
      "metadata": {
        "id": "OSe8ToBRmFHQ"
      },
      "execution_count": null,
      "outputs": []
    },
    {
      "cell_type": "code",
      "source": [
        "stu1 = Student(name='홍길동', korean=100, english=90, math=90)"
      ],
      "metadata": {
        "id": "zfKDJpFRvmPa"
      },
      "execution_count": null,
      "outputs": []
    },
    {
      "cell_type": "code",
      "source": [
        "stu1"
      ],
      "metadata": {
        "colab": {
          "base_uri": "https://localhost:8080/"
        },
        "id": "Sj0afVe2v_Mm",
        "outputId": "e280261c-07ab-4387-d91c-443bdd4f590b"
      },
      "execution_count": null,
      "outputs": [
        {
          "output_type": "execute_result",
          "data": {
            "text/plain": [
              "<__main__.Student at 0x7fe4fe363f10>"
            ]
          },
          "metadata": {},
          "execution_count": 22
        }
      ]
    },
    {
      "cell_type": "code",
      "source": [
        "stu1.get_total()"
      ],
      "metadata": {
        "colab": {
          "base_uri": "https://localhost:8080/"
        },
        "id": "3kaqIHq1wA0b",
        "outputId": "2749915e-0b1f-405c-abf0-bc2cce8f05a0"
      },
      "execution_count": null,
      "outputs": [
        {
          "output_type": "execute_result",
          "data": {
            "text/plain": [
              "280"
            ]
          },
          "metadata": {},
          "execution_count": 23
        }
      ]
    },
    {
      "cell_type": "code",
      "source": [
        "stu1.get_mean()"
      ],
      "metadata": {
        "colab": {
          "base_uri": "https://localhost:8080/"
        },
        "id": "v8dPaom6xiBY",
        "outputId": "97ab6954-f25d-4057-8c19-d01a277e4549"
      },
      "execution_count": null,
      "outputs": [
        {
          "output_type": "execute_result",
          "data": {
            "text/plain": [
              "93.33333333333333"
            ]
          },
          "metadata": {},
          "execution_count": 24
        }
      ]
    },
    {
      "cell_type": "code",
      "source": [
        "stu1.print_info()"
      ],
      "metadata": {
        "colab": {
          "base_uri": "https://localhost:8080/"
        },
        "id": "xEUkq3cqxSSC",
        "outputId": "a82b8bed-c2d9-4a0c-f26d-cf334ae08594"
      },
      "execution_count": null,
      "outputs": [
        {
          "output_type": "stream",
          "name": "stdout",
          "text": [
            "이름: 홍길동, 총점: 280, 평균: 93.33333333333333\n"
          ]
        }
      ]
    },
    {
      "cell_type": "code",
      "source": [
        "dir(stu1) # 객체가 가지고 있는 멤버들(속성과 메서드)의 리스트"
      ],
      "metadata": {
        "colab": {
          "base_uri": "https://localhost:8080/"
        },
        "id": "wCzYTEppxYb9",
        "outputId": "7b6f7d85-c13f-4cbc-fa3c-750abdda27d0"
      },
      "execution_count": null,
      "outputs": [
        {
          "output_type": "execute_result",
          "data": {
            "text/plain": [
              "['__class__',\n",
              " '__delattr__',\n",
              " '__dict__',\n",
              " '__dir__',\n",
              " '__doc__',\n",
              " '__eq__',\n",
              " '__format__',\n",
              " '__ge__',\n",
              " '__getattribute__',\n",
              " '__gt__',\n",
              " '__hash__',\n",
              " '__init__',\n",
              " '__init_subclass__',\n",
              " '__le__',\n",
              " '__lt__',\n",
              " '__module__',\n",
              " '__ne__',\n",
              " '__new__',\n",
              " '__reduce__',\n",
              " '__reduce_ex__',\n",
              " '__repr__',\n",
              " '__setattr__',\n",
              " '__sizeof__',\n",
              " '__str__',\n",
              " '__subclasshook__',\n",
              " '__weakref__',\n",
              " 'english',\n",
              " 'get_mean',\n",
              " 'get_total',\n",
              " 'korean',\n",
              " 'math',\n",
              " 'name',\n",
              " 'print_info']"
            ]
          },
          "metadata": {},
          "execution_count": 26
        }
      ]
    },
    {
      "cell_type": "markdown",
      "source": [
        "# class 작성 연습"
      ],
      "metadata": {
        "id": "Zl7sIMV8Ji2h"
      }
    },
    {
      "cell_type": "code",
      "source": [
        "import math # 수학 관련 함수들을 사용하기 위해서"
      ],
      "metadata": {
        "id": "2Rpl5mwAIy_d"
      },
      "execution_count": null,
      "outputs": []
    },
    {
      "cell_type": "code",
      "source": [
        "class Point:\n",
        "    \"\"\"\n",
        "    2차원 평면의 점의 좌표를 표현하는 클래스\n",
        "    \"\"\"\n",
        "    def __init__(self, x=0, y=0):\n",
        "        self.x = x\n",
        "        self.y = y\n",
        "    \n",
        "    def move(self, dx=0, dy=0):\n",
        "        \"\"\"\n",
        "        점의 좌표를 원래 위치에서 x축의 방향으로 dx만큼, y축의 방향으로 dy만큼 이동\n",
        "        \"\"\"\n",
        "        self.x += dx \n",
        "        self.y += dy\n",
        "\n",
        "    def distance(self, other):\n",
        "        \"\"\"\n",
        "        현재 위치와 다른 Point other 사이의 거리를 리턴\n",
        "        \"\"\"\n",
        "\n",
        "        return math.sqrt((self.x - other.x)**2 + (self.y - other.y)**2)"
      ],
      "metadata": {
        "id": "YDgBBZDKJr6D"
      },
      "execution_count": null,
      "outputs": []
    },
    {
      "cell_type": "code",
      "source": [
        "pt1 = Point() # 생성자 호출 -> Point 클래스의 인스턴스 생성"
      ],
      "metadata": {
        "id": "Mkx7M5SKLbfw"
      },
      "execution_count": null,
      "outputs": []
    },
    {
      "cell_type": "code",
      "source": [
        "print(pt1)"
      ],
      "metadata": {
        "colab": {
          "base_uri": "https://localhost:8080/"
        },
        "id": "nZc7DRh6L6ah",
        "outputId": "052977d6-64c8-4ed1-bb3d-97f5722d9b65"
      },
      "execution_count": null,
      "outputs": [
        {
          "output_type": "stream",
          "name": "stdout",
          "text": [
            "<__main__.Point object at 0x7fe4fe3b2d90>\n"
          ]
        }
      ]
    },
    {
      "cell_type": "code",
      "source": [
        "# 객체(인스턴스)의 속성들(멤버 변수들)\n",
        "print(pt1.x)\n",
        "print(pt1.y)"
      ],
      "metadata": {
        "colab": {
          "base_uri": "https://localhost:8080/"
        },
        "id": "PxlMyGJzMFVw",
        "outputId": "b7aeeb3d-1848-4d60-b2f2-7a5f9aa6f0ef"
      },
      "execution_count": null,
      "outputs": [
        {
          "output_type": "stream",
          "name": "stdout",
          "text": [
            "0\n",
            "0\n"
          ]
        }
      ]
    },
    {
      "cell_type": "code",
      "source": [
        "pt2 = Point(3, 4)\n",
        "print(pt2)\n",
        "print(pt2.x)\n",
        "print(pt2.y)"
      ],
      "metadata": {
        "colab": {
          "base_uri": "https://localhost:8080/"
        },
        "id": "sRWqPOjrMmxc",
        "outputId": "39508d9c-fcd6-42ab-d1ce-e41d0c2cd773"
      },
      "execution_count": null,
      "outputs": [
        {
          "output_type": "stream",
          "name": "stdout",
          "text": [
            "<__main__.Point object at 0x7fe4fe3217d0>\n",
            "3\n",
            "4\n"
          ]
        }
      ]
    },
    {
      "cell_type": "code",
      "source": [
        "pt3 = Point(1)\n",
        "print(pt3)\n",
        "print(pt3.x)\n",
        "print(pt3.y)"
      ],
      "metadata": {
        "colab": {
          "base_uri": "https://localhost:8080/"
        },
        "id": "4yCouG35Ote9",
        "outputId": "f3a50ceb-30b3-4b03-cce7-8d0e4e2c92b0"
      },
      "execution_count": null,
      "outputs": [
        {
          "output_type": "stream",
          "name": "stdout",
          "text": [
            "<__main__.Point object at 0x7fe4fe30e510>\n",
            "1\n",
            "0\n"
          ]
        }
      ]
    },
    {
      "cell_type": "code",
      "source": [
        "pt4 = Point(y=1)\n",
        "print(pt4)\n",
        "print(pt4.x, pt4.y)"
      ],
      "metadata": {
        "colab": {
          "base_uri": "https://localhost:8080/"
        },
        "id": "LHRIWO1dPneo",
        "outputId": "2a801f76-63da-4312-9a22-b7be2422f447"
      },
      "execution_count": null,
      "outputs": [
        {
          "output_type": "stream",
          "name": "stdout",
          "text": [
            "<__main__.Point object at 0x7fe4fe32d1d0>\n",
            "0 1\n"
          ]
        }
      ]
    },
    {
      "cell_type": "code",
      "source": [
        "# pt4를 x축의 방향으로 1만큼, y축의 방향으로 2만큼 이동\n",
        "pt4.move(1, 2)\n",
        "print(pt4.x, pt4.y)"
      ],
      "metadata": {
        "colab": {
          "base_uri": "https://localhost:8080/"
        },
        "id": "bCt_83m7P4_f",
        "outputId": "696d4329-30e5-40d6-893d-4142415f8974"
      },
      "execution_count": null,
      "outputs": [
        {
          "output_type": "stream",
          "name": "stdout",
          "text": [
            "1 3\n"
          ]
        }
      ]
    },
    {
      "cell_type": "code",
      "source": [
        "pt1.distance(pt2)"
      ],
      "metadata": {
        "colab": {
          "base_uri": "https://localhost:8080/"
        },
        "id": "AUCFbN9jQuEM",
        "outputId": "30cabe5c-8257-41ea-edee-20d5b2396095"
      },
      "execution_count": null,
      "outputs": [
        {
          "output_type": "execute_result",
          "data": {
            "text/plain": [
              "5.0"
            ]
          },
          "metadata": {},
          "execution_count": 75
        }
      ]
    },
    {
      "cell_type": "code",
      "source": [
        "class Rectangle:\n",
        "    \"\"\"\n",
        "    직사각형: 꼭지점의 x좌표, 꼭지점의 y좌표, 가로길이, 세로길이, 둘레 길이 계산 기능, 넓이 계산 기능\n",
        "    \"\"\"\n",
        "    def __init__(self, x=0, y=0, width=0, height=0):\n",
        "        self.x = x\n",
        "        self.y = y\n",
        "        self.width = width\n",
        "        self.height = height\n",
        "    \n",
        "    def perimeter(self):\n",
        "        return (self.width + self.height) * 2\n",
        "\n",
        "    def area(self):\n",
        "        return self.width * self.height"
      ],
      "metadata": {
        "id": "qCzW76uDRR3B"
      },
      "execution_count": null,
      "outputs": []
    },
    {
      "cell_type": "code",
      "source": [
        "# 꼭지점의 좌표가 원점(0, 0) 이고, 가로 길이는 2, 세로 길이는 3인 직사각형\n",
        "rect1 = Rectangle(width=2, height=3)"
      ],
      "metadata": {
        "id": "f2MBd6WzX3hY"
      },
      "execution_count": null,
      "outputs": []
    },
    {
      "cell_type": "code",
      "source": [
        "rect1.perimeter() # 2 * (2 + 3)"
      ],
      "metadata": {
        "colab": {
          "base_uri": "https://localhost:8080/"
        },
        "id": "AQ_tOuP5aTGY",
        "outputId": "a2a3c443-4d33-43c5-8549-8263ef642c5b"
      },
      "execution_count": null,
      "outputs": [
        {
          "output_type": "execute_result",
          "data": {
            "text/plain": [
              "10"
            ]
          },
          "metadata": {},
          "execution_count": 81
        }
      ]
    },
    {
      "cell_type": "code",
      "source": [
        "rect1.area() # 2 * 3"
      ],
      "metadata": {
        "colab": {
          "base_uri": "https://localhost:8080/"
        },
        "id": "mA-0Qt-Gan4T",
        "outputId": "2397b965-1d04-4359-d7e0-cc7866626a71"
      },
      "execution_count": null,
      "outputs": [
        {
          "output_type": "execute_result",
          "data": {
            "text/plain": [
              "6"
            ]
          },
          "metadata": {},
          "execution_count": 82
        }
      ]
    },
    {
      "cell_type": "code",
      "source": [
        "# 꼭지점의 좌표가 (1, 1)이고, 가로 길이는 4, 세로 길이는 3인 직사각형\n",
        "rect2 = Rectangle(1, 1, 4, 3)"
      ],
      "metadata": {
        "id": "TvpnqzkZbH5M"
      },
      "execution_count": null,
      "outputs": []
    },
    {
      "cell_type": "code",
      "source": [
        "rect2.perimeter()"
      ],
      "metadata": {
        "colab": {
          "base_uri": "https://localhost:8080/"
        },
        "id": "MqNg7tZobdIj",
        "outputId": "d423bd2e-1dbd-42c0-df3c-5c8b070920b5"
      },
      "execution_count": null,
      "outputs": [
        {
          "output_type": "execute_result",
          "data": {
            "text/plain": [
              "14"
            ]
          },
          "metadata": {},
          "execution_count": 84
        }
      ]
    },
    {
      "cell_type": "code",
      "source": [
        "rect2.area()"
      ],
      "metadata": {
        "colab": {
          "base_uri": "https://localhost:8080/"
        },
        "id": "Gz2gcaz5cASM",
        "outputId": "d20b2db0-8b01-4616-e74b-2b378979b2ca"
      },
      "execution_count": null,
      "outputs": [
        {
          "output_type": "execute_result",
          "data": {
            "text/plain": [
              "12"
            ]
          },
          "metadata": {},
          "execution_count": 85
        }
      ]
    },
    {
      "cell_type": "markdown",
      "source": [
        "# magic method\n",
        "\n",
        "모든 클래스가 같은 이름으로 가지고 있는 메서드. 특별한 경우에 자동으로 호출되는 메서드.\n",
        "\n",
        "* `__init__(self)`: 생성자를 호출하면 자동으로 호출되는 메서드.\n",
        "* `__str__(self)`: `print()` 함수에서 자동으로 호출되는 메서드.\n",
        "* `__repr__(self)`: 식(expression)을 자동으로 출력할 때 호출되는 메서드.\n",
        "    * 클래스에서 `__str__`과 `__repr__` 메서드가 다르게 구현되어 있으면, print() 함수의 출력과 식을 출력하는 내용이 다름.\n",
        "    * `print` 함수는 `__str__` 메서드가 구현되어 있으면 `__str__`를 호출하고, `__str__` 함수가 구현되어 있지 않으면 `__repr__` 함수를 호출함.\n",
        "\n",
        "* `__eq__(self, object)`: `==` 연산자가 사용됐을 때 자동으로 호출되는 메서드.\n",
        "* `__add__(self, object)`: `+` 연산자가 사용됐을 때 자동으로 호출되는 메서드.\n",
        "* `__mul__(self, object)`: `*` 연산자가 사용됐을 때 자동으로 호출되는 메서드."
      ],
      "metadata": {
        "id": "wIIK2I14cNxO"
      }
    },
    {
      "cell_type": "code",
      "source": [
        "class Test:\n",
        "    def __init__(self):\n",
        "        print('Test 객체 생성됨')\n",
        "\n",
        "    # def __str__(self):\n",
        "    #     return 'Test 클래스 객체'\n",
        "\n",
        "    def __repr__(self):\n",
        "        return 'Test 인스턴스'"
      ],
      "metadata": {
        "id": "-3y566p5cCqW"
      },
      "execution_count": null,
      "outputs": []
    },
    {
      "cell_type": "code",
      "source": [
        "test = Test() # Test 클래스 인스턴스 생성"
      ],
      "metadata": {
        "colab": {
          "base_uri": "https://localhost:8080/"
        },
        "id": "GSg-Fjepdo2w",
        "outputId": "104997b8-beb0-46aa-9a11-21f6e438aadb"
      },
      "execution_count": null,
      "outputs": [
        {
          "output_type": "stream",
          "name": "stdout",
          "text": [
            "Test 객체 생성됨\n"
          ]
        }
      ]
    },
    {
      "cell_type": "code",
      "source": [
        "print(test) # 문장(statment) - print 함수는 객체의 __str__() 메서드가 리턴하는 문자열을 출력\n",
        "test # 식(expression) - 식이 자동으로 출력될 때는 객체의 __repr__() 메서드가 리턴하는 문자열을 출력"
      ],
      "metadata": {
        "colab": {
          "base_uri": "https://localhost:8080/"
        },
        "id": "dmrF5JYrfqis",
        "outputId": "a55cbe7f-0fcc-437b-b983-f3fdb7615d5b"
      },
      "execution_count": null,
      "outputs": [
        {
          "output_type": "stream",
          "name": "stdout",
          "text": [
            "Test 인스턴스\n"
          ]
        },
        {
          "output_type": "execute_result",
          "data": {
            "text/plain": [
              "Test 인스턴스"
            ]
          },
          "metadata": {},
          "execution_count": 103
        }
      ]
    },
    {
      "cell_type": "code",
      "source": [
        "numbers1 = [1, 2, 3]\n",
        "numbers2 = [1, 2, 3]\n",
        "numbers1 == numbers2 # == 연산자가 __eq__() 메서드를 호출: numbers1.__eq__(numbers2)"
      ],
      "metadata": {
        "colab": {
          "base_uri": "https://localhost:8080/"
        },
        "id": "yJAGgsIMf759",
        "outputId": "8e3fa4b0-a96f-45cd-fb85-9801580aa4fe"
      },
      "execution_count": null,
      "outputs": [
        {
          "output_type": "execute_result",
          "data": {
            "text/plain": [
              "True"
            ]
          },
          "metadata": {},
          "execution_count": 105
        }
      ]
    },
    {
      "cell_type": "code",
      "source": [
        "id(numbers1) # 리스트 numbers1의 주소값"
      ],
      "metadata": {
        "colab": {
          "base_uri": "https://localhost:8080/"
        },
        "id": "xXmbuiAYoTX_",
        "outputId": "bfbd9848-9636-4723-c4ed-49cc4a5d39dd"
      },
      "execution_count": null,
      "outputs": [
        {
          "output_type": "execute_result",
          "data": {
            "text/plain": [
              "140621493994192"
            ]
          },
          "metadata": {},
          "execution_count": 106
        }
      ]
    },
    {
      "cell_type": "code",
      "source": [
        "id(numbers2) # 리스트 numbers2의 주소값"
      ],
      "metadata": {
        "colab": {
          "base_uri": "https://localhost:8080/"
        },
        "id": "fnmdUC9SoaaY",
        "outputId": "c72d5c59-5f15-4b5a-88be-979bbf8e5f79"
      },
      "execution_count": null,
      "outputs": [
        {
          "output_type": "execute_result",
          "data": {
            "text/plain": [
              "140621493552464"
            ]
          },
          "metadata": {},
          "execution_count": 107
        }
      ]
    },
    {
      "cell_type": "code",
      "source": [
        "class Test2:\n",
        "    def __init__(self, x):\n",
        "        self.x = x\n",
        "\n",
        "    def __eq__(self, other):\n",
        "        if isinstance(other, Test2):\n",
        "            if self.x == other.x:\n",
        "                return True\n",
        "        return False"
      ],
      "metadata": {
        "id": "WC47x4eCobpL"
      },
      "execution_count": null,
      "outputs": []
    },
    {
      "cell_type": "code",
      "source": [
        "t1 = Test2(1)\n",
        "t2 = Test2(1)"
      ],
      "metadata": {
        "id": "UVA7yqqtpU1T"
      },
      "execution_count": null,
      "outputs": []
    },
    {
      "cell_type": "code",
      "source": [
        "print(id(t1))\n",
        "print(id(t2))"
      ],
      "metadata": {
        "colab": {
          "base_uri": "https://localhost:8080/"
        },
        "id": "UoZA-nerpb04",
        "outputId": "5795a32b-eeda-44d3-ad5a-416c2077cde1"
      },
      "execution_count": null,
      "outputs": [
        {
          "output_type": "stream",
          "name": "stdout",
          "text": [
            "140621493721808\n",
            "140621493721744\n"
          ]
        }
      ]
    },
    {
      "cell_type": "code",
      "source": [
        "t1 == t2 # t1.__eq__(t2)의 결과"
      ],
      "metadata": {
        "colab": {
          "base_uri": "https://localhost:8080/"
        },
        "id": "OEV2GsTLpjaF",
        "outputId": "3706c24e-6112-4530-a284-df8e089c9147"
      },
      "execution_count": null,
      "outputs": [
        {
          "output_type": "execute_result",
          "data": {
            "text/plain": [
              "True"
            ]
          },
          "metadata": {},
          "execution_count": 116
        }
      ]
    },
    {
      "cell_type": "code",
      "source": [
        "numbers1 = [1, 2]\n",
        "numbers2 = [3, 4]\n",
        "numbers1 + numbers2 # numbers1.__add__(numbers2)"
      ],
      "metadata": {
        "colab": {
          "base_uri": "https://localhost:8080/"
        },
        "id": "HUv-jLNQprVn",
        "outputId": "d3e466fd-cc15-4f8a-f4dc-d9dda52c9ad7"
      },
      "execution_count": null,
      "outputs": [
        {
          "output_type": "execute_result",
          "data": {
            "text/plain": [
              "[1, 2, 3, 4]"
            ]
          },
          "metadata": {},
          "execution_count": 119
        }
      ]
    },
    {
      "cell_type": "code",
      "source": [
        "numbers1 * 3 # numbers1.__mul__(3)"
      ],
      "metadata": {
        "colab": {
          "base_uri": "https://localhost:8080/"
        },
        "id": "hmtNboLlq3ca",
        "outputId": "5b70b32c-63a7-4fe7-c696-aca0a341997c"
      },
      "execution_count": null,
      "outputs": [
        {
          "output_type": "execute_result",
          "data": {
            "text/plain": [
              "[1, 2, 1, 2, 1, 2]"
            ]
          },
          "metadata": {},
          "execution_count": 120
        }
      ]
    },
    {
      "cell_type": "markdown",
      "source": [
        "# class 작성 연습"
      ],
      "metadata": {
        "id": "NNl-nA9Fs8Tx"
      }
    },
    {
      "cell_type": "markdown",
      "source": [
        "## Ex 1. Score 클래스\n",
        "\n",
        "* 속성(attribute):\n",
        "    * 국어, 영어, 수학 점수\n",
        "    * 모든 과목의 기본 값은 0\n",
        "* 기능(method):\n",
        "    * `__repr__`: Score{국어=100, 영어=100, 수학=100} 문자열 포맷을 리턴.\n",
        "    * `calc_sum`: 세 과목 총점을 리턴\n",
        "    * `calc_mean`: 세 과목 평균을 리턴\n"
      ],
      "metadata": {
        "id": "Cg-yA1zxtBt5"
      }
    },
    {
      "cell_type": "code",
      "source": [
        "class Score:\n",
        "    def __init__(self, korean=0, english=0, math=0):\n",
        "        self.korean = korean\n",
        "        self.english = english\n",
        "        self.math = math\n",
        "\n",
        "    def __repr__(self):\n",
        "        return f'Score{{국어={self.korean}, 영어={self.english}, 수학= {self.math}}}'\n",
        "    def calc_sum(self):\n",
        "        return self.korean + self.english + self.math\n",
        "    def calc_mean(self):\n",
        "        return self.calc_sum() / 3"
      ],
      "metadata": {
        "id": "etLwthmasK2W"
      },
      "execution_count": null,
      "outputs": []
    },
    {
      "cell_type": "code",
      "source": [
        "s1 = Score(80, 80, 80)"
      ],
      "metadata": {
        "id": "BPrz_07VvdBK"
      },
      "execution_count": null,
      "outputs": []
    },
    {
      "cell_type": "code",
      "source": [
        "s1.calc_sum()"
      ],
      "metadata": {
        "colab": {
          "base_uri": "https://localhost:8080/"
        },
        "id": "eYe3nEjKvhvV",
        "outputId": "b12314bb-658b-40a3-9858-4f4a61457c79"
      },
      "execution_count": null,
      "outputs": [
        {
          "output_type": "execute_result",
          "data": {
            "text/plain": [
              "240"
            ]
          },
          "metadata": {},
          "execution_count": 158
        }
      ]
    },
    {
      "cell_type": "code",
      "source": [
        "s1.calc_mean()"
      ],
      "metadata": {
        "colab": {
          "base_uri": "https://localhost:8080/"
        },
        "id": "T78eGL_cvjoj",
        "outputId": "5175922d-be23-4669-b67c-4b2b1ed58757"
      },
      "execution_count": null,
      "outputs": [
        {
          "output_type": "execute_result",
          "data": {
            "text/plain": [
              "80.0"
            ]
          },
          "metadata": {},
          "execution_count": 159
        }
      ]
    },
    {
      "cell_type": "code",
      "source": [
        "s1"
      ],
      "metadata": {
        "colab": {
          "base_uri": "https://localhost:8080/"
        },
        "id": "HTK1fr5Zvl7I",
        "outputId": "fb0360bc-6809-4717-d1a5-a893dde2bfd3"
      },
      "execution_count": null,
      "outputs": [
        {
          "output_type": "execute_result",
          "data": {
            "text/plain": [
              "Score{국어=80, 영어=80, 수학= 80}"
            ]
          },
          "metadata": {},
          "execution_count": 160
        }
      ]
    },
    {
      "cell_type": "markdown",
      "source": [
        "# Ex 2. Student 클래스\n",
        "\n",
        "* 속성(attribute): \n",
        "    * 이름, Score 객체\n",
        "* 기능(method):\n",
        "    * `__repr__`: Student{이름: xxx, 점수: Score{국어=100, 영어=100, 수학=100}} 포맷의 문자열을 리턴."
      ],
      "metadata": {
        "id": "2WkdlX9stx7J"
      }
    },
    {
      "cell_type": "code",
      "source": [
        "class Student:\n",
        "    def __init__(self, name, korean=0, english=0, math=0):\n",
        "        self.name = name\n",
        "        self.score = Score(korean, english, math)\n",
        "    \n",
        "    def __repr__(self):\n",
        "        return f'Student{{이름: {self.name}, 점수: {self.score}}}'"
      ],
      "metadata": {
        "id": "N49zbxaJvwOh"
      },
      "execution_count": null,
      "outputs": []
    },
    {
      "cell_type": "code",
      "source": [
        "stu1 = Student(\"서세진\")\n",
        "stu1"
      ],
      "metadata": {
        "colab": {
          "base_uri": "https://localhost:8080/"
        },
        "id": "shP219_HxTus",
        "outputId": "fa9c4a94-88cb-44da-e7c9-b4ae0a8ff745"
      },
      "execution_count": null,
      "outputs": [
        {
          "output_type": "execute_result",
          "data": {
            "text/plain": [
              "Student{이름: 서세진, 점수: Score{국어=0, 영어=0, 수학= 0}}"
            ]
          },
          "metadata": {},
          "execution_count": 165
        }
      ]
    },
    {
      "cell_type": "code",
      "source": [
        "stu2 = Student(\"홍길동\", korean=100, english=90, math=50)\n",
        "stu2"
      ],
      "metadata": {
        "colab": {
          "base_uri": "https://localhost:8080/"
        },
        "id": "ZKpk4a7rxZfr",
        "outputId": "3ef97131-1380-477a-e1e0-75c8a9daaba9"
      },
      "execution_count": null,
      "outputs": [
        {
          "output_type": "execute_result",
          "data": {
            "text/plain": [
              "Student{이름: 홍길동, 점수: Score{국어=100, 영어=90, 수학= 50}}"
            ]
          },
          "metadata": {},
          "execution_count": 167
        }
      ]
    },
    {
      "cell_type": "code",
      "source": [
        "# stu2 객체의 점수 합계, 평균\n",
        "print('총점 =', stu2.score.calc_sum())\n",
        "print('평균 =', stu2.score.calc_mean())"
      ],
      "metadata": {
        "colab": {
          "base_uri": "https://localhost:8080/"
        },
        "id": "KN27UD0M2jrc",
        "outputId": "c72e4923-ffe4-4c21-ce84-2fcb55d679b2"
      },
      "execution_count": null,
      "outputs": [
        {
          "output_type": "stream",
          "name": "stdout",
          "text": [
            "총점 = 240\n",
            "평균 = 80.0\n"
          ]
        }
      ]
    },
    {
      "cell_type": "code",
      "source": [
        "class Student2:\n",
        "    def __init__(self, name, score):\n",
        "        self.name = name\n",
        "        self.score = score\n",
        "    def __repr__(self):\n",
        "        return f'Student{{이름: {self.name}, 점수: {self.score}}}'"
      ],
      "metadata": {
        "id": "7GXhjHEC3H0A"
      },
      "execution_count": null,
      "outputs": []
    },
    {
      "cell_type": "code",
      "source": [
        "stu3 = Student2('abc', Score())\n",
        "print(stu3)"
      ],
      "metadata": {
        "colab": {
          "base_uri": "https://localhost:8080/"
        },
        "id": "vxls4gkE4Nli",
        "outputId": "bb4e5189-0188-4d18-f847-5237e0cdce6e"
      },
      "execution_count": null,
      "outputs": [
        {
          "output_type": "stream",
          "name": "stdout",
          "text": [
            "Student{이름: abc, 점수: Score{국어=0, 영어=0, 수학= 0}}\n"
          ]
        }
      ]
    },
    {
      "cell_type": "code",
      "source": [
        "stu4 = Student2('def', Score(100, 50, 60))\n",
        "stu4"
      ],
      "metadata": {
        "colab": {
          "base_uri": "https://localhost:8080/"
        },
        "id": "hb4vyTOE4bEF",
        "outputId": "ec31e602-52f4-4a87-927e-770405635324"
      },
      "execution_count": null,
      "outputs": [
        {
          "output_type": "execute_result",
          "data": {
            "text/plain": [
              "Student{이름: def, 점수: Score{국어=100, 영어=50, 수학= 60}}"
            ]
          },
          "metadata": {},
          "execution_count": 177
        }
      ]
    },
    {
      "cell_type": "code",
      "source": [
        "print(stu4.score.calc_sum())\n",
        "print(stu4.score.calc_mean())"
      ],
      "metadata": {
        "colab": {
          "base_uri": "https://localhost:8080/"
        },
        "id": "SCs_0khr41vK",
        "outputId": "e7a39ee5-1f77-4e23-9c51-e879519984d4"
      },
      "execution_count": null,
      "outputs": [
        {
          "output_type": "stream",
          "name": "stdout",
          "text": [
            "210\n",
            "70.0\n"
          ]
        }
      ]
    },
    {
      "cell_type": "code",
      "source": [
        ""
      ],
      "metadata": {
        "id": "401L_cWO465S"
      },
      "execution_count": null,
      "outputs": []
    }
  ]
}