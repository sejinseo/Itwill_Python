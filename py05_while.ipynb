{
  "nbformat": 4,
  "nbformat_minor": 0,
  "metadata": {
    "colab": {
      "name": "py05_while.ipynb",
      "provenance": [],
      "collapsed_sections": [],
      "authorship_tag": "ABX9TyO5wMUq/0JL+Mmjznf2x5H2",
      "include_colab_link": true
    },
    "kernelspec": {
      "name": "python3",
      "display_name": "Python 3"
    },
    "language_info": {
      "name": "python"
    }
  },
  "cells": [
    {
      "cell_type": "markdown",
      "metadata": {
        "id": "view-in-github",
        "colab_type": "text"
      },
      "source": [
        "<a href=\"https://colab.research.google.com/github/sejinseo/Python/blob/main/py05_while.ipynb\" target=\"_parent\"><img src=\"https://colab.research.google.com/assets/colab-badge.svg\" alt=\"Open In Colab\"/></a>"
      ]
    },
    {
      "cell_type": "markdown",
      "source": [
        "# while 반복문"
      ],
      "metadata": {
        "id": "UkPvA0-I1X5l"
      }
    },
    {
      "cell_type": "markdown",
      "source": [
        "```\n",
        "[초기화 문장]\n",
        "while 조건식:\n",
        "  조건식을 만족하는 동안에 반복할 코드(문장들)\n",
        "  [조건을 변경할 수 있는 문장]\n",
        "```"
      ],
      "metadata": {
        "id": "qdSi4GUn1c5y"
      }
    },
    {
      "cell_type": "code",
      "execution_count": null,
      "metadata": {
        "colab": {
          "base_uri": "https://localhost:8080/"
        },
        "id": "eK2d_Jbu1Qkc",
        "outputId": "f343e06b-c775-42ab-d249-0dfb4b7b8655"
      },
      "outputs": [
        {
          "output_type": "stream",
          "name": "stdout",
          "text": [
            "1\n",
            "2\n",
            "3\n",
            "4\n",
            "5\n"
          ]
        }
      ],
      "source": [
        "for x in range(1, 6):\n",
        "  print(x)"
      ]
    },
    {
      "cell_type": "code",
      "source": [
        "x = 1\n",
        "while x < 6:\n",
        "  print(x)\n",
        "  # x = x + 1\n",
        "  x += 1 # 복합 할당 연산자(+=, -=, *=, /=, ...)"
      ],
      "metadata": {
        "colab": {
          "base_uri": "https://localhost:8080/"
        },
        "id": "DB8JPSlW2P4k",
        "outputId": "2973879e-1e96-472a-9765-adb409b64101"
      },
      "execution_count": null,
      "outputs": [
        {
          "output_type": "stream",
          "name": "stdout",
          "text": [
            "1\n",
            "2\n",
            "3\n",
            "4\n",
            "5\n"
          ]
        }
      ]
    },
    {
      "cell_type": "markdown",
      "source": [
        "* Ctrl(Cmd) + / : 주석 토글"
      ],
      "metadata": {
        "id": "nolPA6MC4wDb"
      }
    },
    {
      "cell_type": "markdown",
      "source": [
        "# 무한 반복문과 break"
      ],
      "metadata": {
        "id": "sfpXylsE792a"
      }
    },
    {
      "cell_type": "code",
      "source": [
        "while True: # 무한 반복문\n",
        "  name = input('이름을 입력하세요... 멈추고 싶으면 q를 입력하세요 >>> ')\n",
        "  if name == 'q':\n",
        "    break\n",
        "  print(f'안녕하세요, {name}!')"
      ],
      "metadata": {
        "colab": {
          "base_uri": "https://localhost:8080/"
        },
        "id": "crr_l3qA2eRM",
        "outputId": "3b67c4cd-a32a-49b9-aa4d-efbe941e21c7"
      },
      "execution_count": null,
      "outputs": [
        {
          "name": "stdout",
          "output_type": "stream",
          "text": [
            "이름을 입력하세요... 멈추고 싶으면 q를 입력하세요 >>> q\n"
          ]
        }
      ]
    },
    {
      "cell_type": "markdown",
      "source": [
        "# Exercises\n",
        "\n",
        "while 반복문 사용\n",
        "\n"
      ],
      "metadata": {
        "id": "7MD_8Xju9Sjq"
      }
    },
    {
      "cell_type": "markdown",
      "source": [
        "* 1 이상 10 미만의 홀수들을 출력"
      ],
      "metadata": {
        "id": "aIo9PSPD9XBi"
      }
    },
    {
      "cell_type": "code",
      "source": [
        "x = 1\n",
        "while x < 10:\n",
        "    print(x)\n",
        "    x += 2"
      ],
      "metadata": {
        "colab": {
          "base_uri": "https://localhost:8080/"
        },
        "id": "UtpJvxHz9bYx",
        "outputId": "865cec2f-f76d-43a4-d493-7385f5cb4587"
      },
      "execution_count": null,
      "outputs": [
        {
          "output_type": "stream",
          "name": "stdout",
          "text": [
            "1\n",
            "3\n",
            "5\n",
            "7\n",
            "9\n"
          ]
        }
      ]
    },
    {
      "cell_type": "markdown",
      "source": [
        "Python에서 True로 취급하는 것:\n",
        "\n",
        "* 0이 아닌 숫자들.\n",
        "* 1글자 이상의 문자열.\n",
        "* 1개 이상의 원소를 가지고 있는 list, tuple, dict, ..."
      ],
      "metadata": {
        "id": "tXujwCrAgjPM"
      }
    },
    {
      "cell_type": "markdown",
      "source": [
        "* 구구단(2단 ~ 9단) 출력\n",
        "\n",
        "```\n",
        "--- 2단 ---\n",
        "2 x 1 = 2\n",
        "....\n",
        "2 x 9 = 18\n",
        "\n",
        "--- 3단 ---\n",
        "3 x 1 = 3\n",
        "...\n",
        "3 x 9 = 27\n",
        "\n",
        "--- 4단 ---\n",
        "```"
      ],
      "metadata": {
        "id": "bneodOpz9cp6"
      }
    },
    {
      "cell_type": "code",
      "source": [
        "x = 2\n",
        "while x < 10:\n",
        "  print(f'--- {x}단 ---')\n",
        "  y = 1\n",
        "  while y < 10:\n",
        "    print(f'{x} x {y} = {x * y}')\n",
        "    y += 1\n",
        "  print()\n",
        "  x += 1\n"
      ],
      "metadata": {
        "colab": {
          "base_uri": "https://localhost:8080/"
        },
        "id": "Fly9LqnQ-EB4",
        "outputId": "0d94e68e-1673-4b05-d57d-6d2e61fce09b"
      },
      "execution_count": null,
      "outputs": [
        {
          "output_type": "stream",
          "name": "stdout",
          "text": [
            "--- 2단 ---\n",
            "2 x 1 = 2\n",
            "2 x 2 = 4\n",
            "2 x 3 = 6\n",
            "2 x 4 = 8\n",
            "2 x 5 = 10\n",
            "2 x 6 = 12\n",
            "2 x 7 = 14\n",
            "2 x 8 = 16\n",
            "2 x 9 = 18\n",
            "\n",
            "--- 3단 ---\n",
            "3 x 1 = 3\n",
            "3 x 2 = 6\n",
            "3 x 3 = 9\n",
            "3 x 4 = 12\n",
            "3 x 5 = 15\n",
            "3 x 6 = 18\n",
            "3 x 7 = 21\n",
            "3 x 8 = 24\n",
            "3 x 9 = 27\n",
            "\n",
            "--- 4단 ---\n",
            "4 x 1 = 4\n",
            "4 x 2 = 8\n",
            "4 x 3 = 12\n",
            "4 x 4 = 16\n",
            "4 x 5 = 20\n",
            "4 x 6 = 24\n",
            "4 x 7 = 28\n",
            "4 x 8 = 32\n",
            "4 x 9 = 36\n",
            "\n",
            "--- 5단 ---\n",
            "5 x 1 = 5\n",
            "5 x 2 = 10\n",
            "5 x 3 = 15\n",
            "5 x 4 = 20\n",
            "5 x 5 = 25\n",
            "5 x 6 = 30\n",
            "5 x 7 = 35\n",
            "5 x 8 = 40\n",
            "5 x 9 = 45\n",
            "\n",
            "--- 6단 ---\n",
            "6 x 1 = 6\n",
            "6 x 2 = 12\n",
            "6 x 3 = 18\n",
            "6 x 4 = 24\n",
            "6 x 5 = 30\n",
            "6 x 6 = 36\n",
            "6 x 7 = 42\n",
            "6 x 8 = 48\n",
            "6 x 9 = 54\n",
            "\n",
            "--- 7단 ---\n",
            "7 x 1 = 7\n",
            "7 x 2 = 14\n",
            "7 x 3 = 21\n",
            "7 x 4 = 28\n",
            "7 x 5 = 35\n",
            "7 x 6 = 42\n",
            "7 x 7 = 49\n",
            "7 x 8 = 56\n",
            "7 x 9 = 63\n",
            "\n",
            "--- 8단 ---\n",
            "8 x 1 = 8\n",
            "8 x 2 = 16\n",
            "8 x 3 = 24\n",
            "8 x 4 = 32\n",
            "8 x 5 = 40\n",
            "8 x 6 = 48\n",
            "8 x 7 = 56\n",
            "8 x 8 = 64\n",
            "8 x 9 = 72\n",
            "\n",
            "--- 9단 ---\n",
            "9 x 1 = 9\n",
            "9 x 2 = 18\n",
            "9 x 3 = 27\n",
            "9 x 4 = 36\n",
            "9 x 5 = 45\n",
            "9 x 6 = 54\n",
            "9 x 7 = 63\n",
            "9 x 8 = 72\n",
            "9 x 9 = 81\n",
            "\n"
          ]
        }
      ]
    },
    {
      "cell_type": "markdown",
      "source": [
        "* 구구단을 아래와 같이 출력\n",
        "\n",
        "```\n",
        "--- 2단 ---\n",
        "2 x 1 = 2\n",
        "2 x 2 = 4\n",
        "\n",
        "--- 3단 ---\n",
        "3 x 1 = 3\n",
        "3 x 2 = 6\n",
        "3 x 3 = 9\n",
        "\n",
        "...\n",
        "\n",
        "--- 9단 ---\n",
        "9 x 1 = 9\n",
        "...\n",
        "9 x 9 = 81\n",
        "```"
      ],
      "metadata": {
        "id": "3Yl2IYjj-EdK"
      }
    },
    {
      "cell_type": "code",
      "source": [
        "x = 2\n",
        "while x < 10:\n",
        "  print(f'--- {x}단 ---')\n",
        "\n",
        "  y = 1\n",
        "  while y < 10:\n",
        "    print(f'{x} x {y} = {x * y}')\n",
        "    if x == y:\n",
        "      break\n",
        "    y += 1\n",
        "  print()\n",
        "  x += 1\n"
      ],
      "metadata": {
        "colab": {
          "base_uri": "https://localhost:8080/"
        },
        "id": "amJkjmeOm2k7",
        "outputId": "c260a1f5-e218-45cd-ffdc-b78a7d72f5d4"
      },
      "execution_count": null,
      "outputs": [
        {
          "output_type": "stream",
          "name": "stdout",
          "text": [
            "--- 2단 ---\n",
            "2 x 1 = 2\n",
            "2 x 2 = 4\n",
            "\n",
            "--- 3단 ---\n",
            "3 x 1 = 3\n",
            "3 x 2 = 6\n",
            "3 x 3 = 9\n",
            "\n",
            "--- 4단 ---\n",
            "4 x 1 = 4\n",
            "4 x 2 = 8\n",
            "4 x 3 = 12\n",
            "4 x 4 = 16\n",
            "\n",
            "--- 5단 ---\n",
            "5 x 1 = 5\n",
            "5 x 2 = 10\n",
            "5 x 3 = 15\n",
            "5 x 4 = 20\n",
            "5 x 5 = 25\n",
            "\n",
            "--- 6단 ---\n",
            "6 x 1 = 6\n",
            "6 x 2 = 12\n",
            "6 x 3 = 18\n",
            "6 x 4 = 24\n",
            "6 x 5 = 30\n",
            "6 x 6 = 36\n",
            "\n",
            "--- 7단 ---\n",
            "7 x 1 = 7\n",
            "7 x 2 = 14\n",
            "7 x 3 = 21\n",
            "7 x 4 = 28\n",
            "7 x 5 = 35\n",
            "7 x 6 = 42\n",
            "7 x 7 = 49\n",
            "\n",
            "--- 8단 ---\n",
            "8 x 1 = 8\n",
            "8 x 2 = 16\n",
            "8 x 3 = 24\n",
            "8 x 4 = 32\n",
            "8 x 5 = 40\n",
            "8 x 6 = 48\n",
            "8 x 7 = 56\n",
            "8 x 8 = 64\n",
            "\n",
            "--- 9단 ---\n",
            "9 x 1 = 9\n",
            "9 x 2 = 18\n",
            "9 x 3 = 27\n",
            "9 x 4 = 36\n",
            "9 x 5 = 45\n",
            "9 x 6 = 54\n",
            "9 x 7 = 63\n",
            "9 x 8 = 72\n",
            "9 x 9 = 81\n",
            "\n"
          ]
        }
      ]
    },
    {
      "cell_type": "code",
      "source": [
        "x = 2\n",
        "while x < 10:\n",
        "  print(f'--- {x}단 ---')\n",
        "  y = 1\n",
        "  while y < x + 1:\n",
        "    print(f'{x} x {y} = {x * y}')\n",
        "    y += 1\n",
        "  print()\n",
        "  x += 1  "
      ],
      "metadata": {
        "colab": {
          "base_uri": "https://localhost:8080/"
        },
        "id": "VA6MIUQD-WVR",
        "outputId": "760928f5-18d5-4c7c-afd9-21960cedd76c"
      },
      "execution_count": null,
      "outputs": [
        {
          "output_type": "stream",
          "name": "stdout",
          "text": [
            "--- 2단 ---\n",
            "2 x 1 = 2\n",
            "2 x 2 = 4\n",
            "\n",
            "--- 3단 ---\n",
            "3 x 1 = 3\n",
            "3 x 2 = 6\n",
            "3 x 3 = 9\n",
            "\n",
            "--- 4단 ---\n",
            "4 x 1 = 4\n",
            "4 x 2 = 8\n",
            "4 x 3 = 12\n",
            "4 x 4 = 16\n",
            "\n",
            "--- 5단 ---\n",
            "5 x 1 = 5\n",
            "5 x 2 = 10\n",
            "5 x 3 = 15\n",
            "5 x 4 = 20\n",
            "5 x 5 = 25\n",
            "\n",
            "--- 6단 ---\n",
            "6 x 1 = 6\n",
            "6 x 2 = 12\n",
            "6 x 3 = 18\n",
            "6 x 4 = 24\n",
            "6 x 5 = 30\n",
            "6 x 6 = 36\n",
            "\n",
            "--- 7단 ---\n",
            "7 x 1 = 7\n",
            "7 x 2 = 14\n",
            "7 x 3 = 21\n",
            "7 x 4 = 28\n",
            "7 x 5 = 35\n",
            "7 x 6 = 42\n",
            "7 x 7 = 49\n",
            "\n",
            "--- 8단 ---\n",
            "8 x 1 = 8\n",
            "8 x 2 = 16\n",
            "8 x 3 = 24\n",
            "8 x 4 = 32\n",
            "8 x 5 = 40\n",
            "8 x 6 = 48\n",
            "8 x 7 = 56\n",
            "8 x 8 = 64\n",
            "\n",
            "--- 9단 ---\n",
            "9 x 1 = 9\n",
            "9 x 2 = 18\n",
            "9 x 3 = 27\n",
            "9 x 4 = 36\n",
            "9 x 5 = 45\n",
            "9 x 6 = 54\n",
            "9 x 7 = 63\n",
            "9 x 8 = 72\n",
            "9 x 9 = 81\n",
            "\n"
          ]
        }
      ]
    }
  ]
}