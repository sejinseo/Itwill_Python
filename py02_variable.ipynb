{
  "nbformat": 4,
  "nbformat_minor": 0,
  "metadata": {
    "colab": {
      "name": "py02_variable.ipynb",
      "provenance": [],
      "collapsed_sections": [],
      "authorship_tag": "ABX9TyPR1HNGtQuavgL0gwGoKdu0",
      "include_colab_link": true
    },
    "kernelspec": {
      "name": "python3",
      "display_name": "Python 3"
    },
    "language_info": {
      "name": "python"
    }
  },
  "cells": [
    {
      "cell_type": "markdown",
      "metadata": {
        "id": "view-in-github",
        "colab_type": "text"
      },
      "source": [
        "<a href=\"https://colab.research.google.com/github/sejinseo/Python/blob/main/py02_variable.ipynb\" target=\"_parent\"><img src=\"https://colab.research.google.com/assets/colab-badge.svg\" alt=\"Open In Colab\"/></a>"
      ]
    },
    {
      "cell_type": "markdown",
      "source": [
        "# Python Data Type(자료 타입)\n",
        "\n",
        "* 숫자 타입:\n",
        "  * int: 정수\n",
        "  * float: 실수\n",
        "* 문자열 타입: str\n",
        "* 논리 타입: bool (True/False)\n",
        "\n",
        "Python은 변수를 선언할 때 자료 타입을 명시하지 않음. 코드가 실행될 때 변수의 자료 타입이 결정."
      ],
      "metadata": {
        "id": "dHqfTG0VqUxg"
      }
    },
    {
      "cell_type": "code",
      "execution_count": null,
      "metadata": {
        "colab": {
          "base_uri": "https://localhost:8080/"
        },
        "id": "fa3S28KBp9gY",
        "outputId": "1e06bf52-d63c-4d9e-8cef-1115208bce3d"
      },
      "outputs": [
        {
          "output_type": "stream",
          "name": "stdout",
          "text": [
            "100\n",
            "<class 'int'>\n"
          ]
        }
      ],
      "source": [
        "# (주석, comment)\n",
        "# 변수 = 값\n",
        "n = 100\n",
        "print(n)\n",
        "print(type(n)) # type(value): arg의 자료 타입을 리턴하는 함수."
      ]
    },
    {
      "cell_type": "markdown",
      "source": [
        "식(expression): 값, 변수, 리턴 값이 있는 함수 호출, 연산.\n",
        "\n",
        "ipynb 코드 셀에서 가장 마지막 줄에 있는 문장이 식(expression)인 경우, 식을 평가한 결과를 출력창에 출력해 줌."
      ],
      "metadata": {
        "id": "vrHNqwBSsOBn"
      }
    },
    {
      "cell_type": "code",
      "source": [
        "print(n)\n",
        "n + 1"
      ],
      "metadata": {
        "colab": {
          "base_uri": "https://localhost:8080/"
        },
        "id": "QGOXiUFmrt1r",
        "outputId": "50d423c2-a14f-4967-b750-f988e3ea94d0"
      },
      "execution_count": null,
      "outputs": [
        {
          "output_type": "stream",
          "name": "stdout",
          "text": [
            "100\n"
          ]
        },
        {
          "output_type": "execute_result",
          "data": {
            "text/plain": [
              "101"
            ]
          },
          "metadata": {},
          "execution_count": 5
        }
      ]
    },
    {
      "cell_type": "code",
      "source": [
        "pi = 3.14\n",
        "print(pi)\n",
        "type(pi)"
      ],
      "metadata": {
        "colab": {
          "base_uri": "https://localhost:8080/"
        },
        "id": "PEYrBCQYr6-b",
        "outputId": "c32d0fb1-cd0c-49db-b5da-fdd76f9336e1"
      },
      "execution_count": null,
      "outputs": [
        {
          "output_type": "stream",
          "name": "stdout",
          "text": [
            "3.14\n"
          ]
        },
        {
          "output_type": "execute_result",
          "data": {
            "text/plain": [
              "float"
            ]
          },
          "metadata": {},
          "execution_count": 6
        }
      ]
    },
    {
      "cell_type": "markdown",
      "source": [
        "## 명시적 타입 변환\n",
        "\n",
        "* `int(값)`: 값을 정수 타입으로 변환하는 함수.\n",
        "* `float(값)`: 값을 실수 타입으로 변환하는 함수.\n",
        "* `str(값)`: 값을 문자열 타입으로 변환하는 함수.\n"
      ],
      "metadata": {
        "id": "_Yn0WnlstdmO"
      }
    },
    {
      "cell_type": "code",
      "source": [
        "# 콘솔 창에서 사용자 입력 받기\n",
        "n = input('정수를 입력>>> ')"
      ],
      "metadata": {
        "colab": {
          "base_uri": "https://localhost:8080/"
        },
        "id": "gNdxtW6utS0r",
        "outputId": "aac27355-3c25-463b-b0f2-5616ec22684c"
      },
      "execution_count": null,
      "outputs": [
        {
          "name": "stdout",
          "output_type": "stream",
          "text": [
            "정수를 입력>>> 123\n"
          ]
        }
      ]
    },
    {
      "cell_type": "code",
      "source": [
        "type(n) # > str(문자열)"
      ],
      "metadata": {
        "colab": {
          "base_uri": "https://localhost:8080/"
        },
        "id": "BcEC-Z7LudUS",
        "outputId": "cd123fae-5a8d-4344-e3f7-14158676b5ce"
      },
      "execution_count": null,
      "outputs": [
        {
          "output_type": "execute_result",
          "data": {
            "text/plain": [
              "str"
            ]
          },
          "metadata": {},
          "execution_count": 9
        }
      ]
    },
    {
      "cell_type": "code",
      "source": [
        "n = int(n) # 변수 n의 타입을 정수 타입으로 변환해서 저장"
      ],
      "metadata": {
        "id": "Uh2JI6UYufT_"
      },
      "execution_count": null,
      "outputs": []
    },
    {
      "cell_type": "code",
      "source": [
        "type(n)"
      ],
      "metadata": {
        "colab": {
          "base_uri": "https://localhost:8080/"
        },
        "id": "9bZXPF8_ut1r",
        "outputId": "e399db12-d4f8-43c3-a784-02c0e90ccfdf"
      },
      "execution_count": null,
      "outputs": [
        {
          "output_type": "execute_result",
          "data": {
            "text/plain": [
              "int"
            ]
          },
          "metadata": {},
          "execution_count": 11
        }
      ]
    },
    {
      "cell_type": "markdown",
      "source": [
        "# 산술 연산자\n",
        "\n",
        "* 산술 연산자: 숫자(int, float) 타입의 연산에 사용.\n",
        "* 산술 연산자 종류: `+`, `-`, `*`, `/`, `//`(몫), `%`(나머지), `**`(거듭 제곱)"
      ],
      "metadata": {
        "id": "7y0ZEkJsvGHW"
      }
    },
    {
      "cell_type": "code",
      "source": [
        "x = 10\n",
        "y = 3"
      ],
      "metadata": {
        "id": "ifv7V5rduvfd"
      },
      "execution_count": null,
      "outputs": []
    },
    {
      "cell_type": "code",
      "source": [
        "print(f'{x} / {y} = {x / y}')\n",
        "print(f'{x} // {y} = {x // y}')\n",
        "print(f'{x} % {y} = {x % y}')\n",
        "print(f'{x} ^2 = {x ** 2}')\n",
        "print(f'{x} ^-1 = {x ** -1} ')"
      ],
      "metadata": {
        "colab": {
          "base_uri": "https://localhost:8080/"
        },
        "id": "ybbW6q-4v0HF",
        "outputId": "b80439a1-8496-4150-fb6e-a46149b0d313"
      },
      "execution_count": null,
      "outputs": [
        {
          "output_type": "stream",
          "name": "stdout",
          "text": [
            "10 / 3 = 3.3333333333333335\n",
            "10 // 3 = 3\n",
            "10 % 3 = 1\n",
            "10 ^2 = 100\n",
            "10 ^-1 = 0.1 \n"
          ]
        }
      ]
    },
    {
      "cell_type": "markdown",
      "source": [
        "## 문자열(str) 타입에서 사용할 수 있는 연산자\n",
        "\n",
        "* `+`: concatenate. 문자열 이어 붙이기.\n",
        "* `*`: replicate. 문자열 복제."
      ],
      "metadata": {
        "id": "I-akoDCTxC32"
      }
    },
    {
      "cell_type": "code",
      "source": [
        "'Hello' + 'Python'"
      ],
      "metadata": {
        "colab": {
          "base_uri": "https://localhost:8080/",
          "height": 38
        },
        "id": "uj3M-ajcwjsw",
        "outputId": "e21d7be8-afbe-40be-9ba4-7f552b8734ac"
      },
      "execution_count": null,
      "outputs": [
        {
          "output_type": "execute_result",
          "data": {
            "application/vnd.google.colaboratory.intrinsic+json": {
              "type": "string"
            },
            "text/plain": [
              "'HelloPython'"
            ]
          },
          "metadata": {},
          "execution_count": 15
        }
      ]
    },
    {
      "cell_type": "code",
      "source": [
        "'Hello' * 3"
      ],
      "metadata": {
        "colab": {
          "base_uri": "https://localhost:8080/",
          "height": 38
        },
        "id": "vQlFHNIMxirj",
        "outputId": "f9be6070-de04-4ee3-a0bf-c7c82e145e7c"
      },
      "execution_count": null,
      "outputs": [
        {
          "output_type": "execute_result",
          "data": {
            "application/vnd.google.colaboratory.intrinsic+json": {
              "type": "string"
            },
            "text/plain": [
              "'HelloHelloHello'"
            ]
          },
          "metadata": {},
          "execution_count": 16
        }
      ]
    },
    {
      "cell_type": "markdown",
      "source": [
        "# 비교 연산자와 논리 연산자\n",
        "\n",
        "* 비교 연산자: `==`, `!=`, `>`, `<`, `>=`, `<=`\n",
        "* 논리 연산자: `and`, `or`, `not`"
      ],
      "metadata": {
        "id": "Il2MhtTGErHI"
      }
    },
    {
      "cell_type": "code",
      "source": [
        "x = 100\n",
        "(x > 50) and (x < 150)"
      ],
      "metadata": {
        "id": "zTtey_iLxoRd",
        "colab": {
          "base_uri": "https://localhost:8080/"
        },
        "outputId": "17a968f2-3f38-4cc5-df99-78fc1ada4267"
      },
      "execution_count": null,
      "outputs": [
        {
          "output_type": "execute_result",
          "data": {
            "text/plain": [
              "True"
            ]
          },
          "metadata": {},
          "execution_count": 17
        }
      ]
    },
    {
      "cell_type": "code",
      "source": [
        "50 < x < 150 # x > 50 and x < 150 와 같은 코드"
      ],
      "metadata": {
        "colab": {
          "base_uri": "https://localhost:8080/"
        },
        "id": "6l3XN9BbFIkb",
        "outputId": "68705160-e37d-4b51-c2ca-1e55ca94d9b2"
      },
      "execution_count": null,
      "outputs": [
        {
          "output_type": "execute_result",
          "data": {
            "text/plain": [
              "True"
            ]
          },
          "metadata": {},
          "execution_count": 18
        }
      ]
    },
    {
      "cell_type": "code",
      "source": [
        ""
      ],
      "metadata": {
        "id": "GSRaW0kdFz0T"
      },
      "execution_count": null,
      "outputs": []
    }
  ]
}