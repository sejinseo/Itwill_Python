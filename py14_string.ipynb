{
  "nbformat": 4,
  "nbformat_minor": 0,
  "metadata": {
    "colab": {
      "name": "py14_string.ipynb",
      "provenance": [],
      "collapsed_sections": [],
      "authorship_tag": "ABX9TyNeV5SRkPIu/eMjfw496/dW",
      "include_colab_link": true
    },
    "kernelspec": {
      "name": "python3",
      "display_name": "Python 3"
    },
    "language_info": {
      "name": "python"
    }
  },
  "cells": [
    {
      "cell_type": "markdown",
      "metadata": {
        "id": "view-in-github",
        "colab_type": "text"
      },
      "source": [
        "<a href=\"https://colab.research.google.com/github/sejinseo/Python/blob/main/py14_string.ipynb\" target=\"_parent\"><img src=\"https://colab.research.google.com/assets/colab-badge.svg\" alt=\"Open In Colab\"/></a>"
      ]
    },
    {
      "cell_type": "markdown",
      "source": [
        "# str 클래스의 메서드\n",
        "\n",
        "* str 클래스의 메서드들은 원본 문자열을 변경하지 않음!\n",
        "* 원본 문자열을 변환한 새로운 문자열을 반환함."
      ],
      "metadata": {
        "id": "L03O27jBP5Wb"
      }
    },
    {
      "cell_type": "code",
      "execution_count": null,
      "metadata": {
        "id": "aTkTWNEiPwIZ"
      },
      "outputs": [],
      "source": [
        "s = 'heLLo, pyTHon! 안녕하세요. 12345' # str 클래스의 인스턴스 생성"
      ]
    },
    {
      "cell_type": "code",
      "source": [
        "s"
      ],
      "metadata": {
        "colab": {
          "base_uri": "https://localhost:8080/",
          "height": 38
        },
        "id": "iPqSVy5QQXLA",
        "outputId": "fb228e77-c490-4f93-f6b3-2ea873f407bc"
      },
      "execution_count": null,
      "outputs": [
        {
          "output_type": "execute_result",
          "data": {
            "application/vnd.google.colaboratory.intrinsic+json": {
              "type": "string"
            },
            "text/plain": [
              "'heLLo, pyTHon! 안녕하세요. 12345'"
            ]
          },
          "metadata": {},
          "execution_count": 2
        }
      ]
    },
    {
      "cell_type": "code",
      "source": [
        "s.lower() # 소문자로 변환된 \"새로운\" 문자열을 리턴."
      ],
      "metadata": {
        "colab": {
          "base_uri": "https://localhost:8080/",
          "height": 38
        },
        "id": "3mXBfGH4Qj3o",
        "outputId": "2a28efd5-c6f0-4a66-85bd-04e105cbfbce"
      },
      "execution_count": null,
      "outputs": [
        {
          "output_type": "execute_result",
          "data": {
            "application/vnd.google.colaboratory.intrinsic+json": {
              "type": "string"
            },
            "text/plain": [
              "'hello, python! 안녕하세요. 12345'"
            ]
          },
          "metadata": {},
          "execution_count": 4
        }
      ]
    },
    {
      "cell_type": "code",
      "source": [
        "s # 원본 문자열 s는 변경되지 않음!"
      ],
      "metadata": {
        "colab": {
          "base_uri": "https://localhost:8080/",
          "height": 38
        },
        "id": "R14RfV2KQ1oW",
        "outputId": "08761d91-b69f-4240-8c7a-4489a4226993"
      },
      "execution_count": null,
      "outputs": [
        {
          "output_type": "execute_result",
          "data": {
            "application/vnd.google.colaboratory.intrinsic+json": {
              "type": "string"
            },
            "text/plain": [
              "'heLLo, pyTHon! 안녕하세요. 12345'"
            ]
          },
          "metadata": {},
          "execution_count": 6
        }
      ]
    },
    {
      "cell_type": "code",
      "source": [
        "s.upper() # 대문자로 변환된 문자열을 리턴."
      ],
      "metadata": {
        "colab": {
          "base_uri": "https://localhost:8080/",
          "height": 38
        },
        "id": "W33sIpvMQ4cI",
        "outputId": "1257ba49-f671-4095-f02c-e7498c9ace32"
      },
      "execution_count": null,
      "outputs": [
        {
          "output_type": "execute_result",
          "data": {
            "application/vnd.google.colaboratory.intrinsic+json": {
              "type": "string"
            },
            "text/plain": [
              "'HELLO, PYTHON! 안녕하세요. 12345'"
            ]
          },
          "metadata": {},
          "execution_count": 7
        }
      ]
    },
    {
      "cell_type": "code",
      "source": [
        "s.capitalize() # 문자열의 첫 글자만 대문자, 나머지는 소문자로 변환한 문자열을 리턴."
      ],
      "metadata": {
        "colab": {
          "base_uri": "https://localhost:8080/",
          "height": 38
        },
        "id": "ES7b1zwxReTa",
        "outputId": "ba436323-1765-423e-9547-8efd6a9b6d11"
      },
      "execution_count": null,
      "outputs": [
        {
          "output_type": "execute_result",
          "data": {
            "application/vnd.google.colaboratory.intrinsic+json": {
              "type": "string"
            },
            "text/plain": [
              "'Hello, python! 안녕하세요. 12345'"
            ]
          },
          "metadata": {},
          "execution_count": 9
        }
      ]
    },
    {
      "cell_type": "code",
      "source": [
        "s.count('L') # 문자열에서 substring이 등장하는 횟수를 리턴."
      ],
      "metadata": {
        "colab": {
          "base_uri": "https://localhost:8080/"
        },
        "id": "FROxltOiR-uI",
        "outputId": "e5d02d48-8da2-4ff9-fe09-332f120b241d"
      },
      "execution_count": null,
      "outputs": [
        {
          "output_type": "execute_result",
          "data": {
            "text/plain": [
              "2"
            ]
          },
          "metadata": {},
          "execution_count": 14
        }
      ]
    },
    {
      "cell_type": "code",
      "source": [
        "url = 'http://www.python.org/'\n",
        "url.startswith('http')"
      ],
      "metadata": {
        "colab": {
          "base_uri": "https://localhost:8080/"
        },
        "id": "if1GRAb8Sfj-",
        "outputId": "3ee2a595-7b51-42a1-8695-01c944ac39b8"
      },
      "execution_count": null,
      "outputs": [
        {
          "output_type": "execute_result",
          "data": {
            "text/plain": [
              "True"
            ]
          },
          "metadata": {},
          "execution_count": 15
        }
      ]
    },
    {
      "cell_type": "code",
      "source": [
        "url.startswith('ftp')"
      ],
      "metadata": {
        "colab": {
          "base_uri": "https://localhost:8080/"
        },
        "id": "msLofMFfVd5T",
        "outputId": "31717a17-6e92-4fb2-8a9e-7677231c1a29"
      },
      "execution_count": null,
      "outputs": [
        {
          "output_type": "execute_result",
          "data": {
            "text/plain": [
              "False"
            ]
          },
          "metadata": {},
          "execution_count": 16
        }
      ]
    },
    {
      "cell_type": "code",
      "source": [
        "tel = '010-1234-5678'\n",
        "tel.endswith('5678')"
      ],
      "metadata": {
        "colab": {
          "base_uri": "https://localhost:8080/"
        },
        "id": "1a8os8h2VhHt",
        "outputId": "272b9bb3-4add-4348-f426-37583f266f90"
      },
      "execution_count": null,
      "outputs": [
        {
          "output_type": "execute_result",
          "data": {
            "text/plain": [
              "True"
            ]
          },
          "metadata": {},
          "execution_count": 17
        }
      ]
    },
    {
      "cell_type": "code",
      "source": [
        "# substring이 string에 포함되어 있는지를 검사: substring in string\n",
        "'1234' in tel"
      ],
      "metadata": {
        "colab": {
          "base_uri": "https://localhost:8080/"
        },
        "id": "epC_KmxIV5XZ",
        "outputId": "a3d2f2f1-7b84-4f6f-d6d9-926b141eb470"
      },
      "execution_count": null,
      "outputs": [
        {
          "output_type": "execute_result",
          "data": {
            "text/plain": [
              "True"
            ]
          },
          "metadata": {},
          "execution_count": 18
        }
      ]
    },
    {
      "cell_type": "code",
      "source": [
        "'0000' in tel"
      ],
      "metadata": {
        "colab": {
          "base_uri": "https://localhost:8080/"
        },
        "id": "Vn2GviLwWZq1",
        "outputId": "f9a11f69-6c9c-4c68-d9c2-aee2266855f6"
      },
      "execution_count": null,
      "outputs": [
        {
          "output_type": "execute_result",
          "data": {
            "text/plain": [
              "False"
            ]
          },
          "metadata": {},
          "execution_count": 19
        }
      ]
    },
    {
      "cell_type": "code",
      "source": [
        "email = 'abc.def@gmail.com'\n",
        "email.find('@') # argument로 전달한 문자열이 처음 등장 하는 인덱스 리턴. 만약 문자열이 없으면 -1을 리턴."
      ],
      "metadata": {
        "colab": {
          "base_uri": "https://localhost:8080/"
        },
        "id": "uT1chqvIWePq",
        "outputId": "6f876be6-96ff-4370-a77e-e440657db46a"
      },
      "execution_count": null,
      "outputs": [
        {
          "output_type": "execute_result",
          "data": {
            "text/plain": [
              "7"
            ]
          },
          "metadata": {},
          "execution_count": 22
        }
      ]
    },
    {
      "cell_type": "code",
      "source": [
        "idx = email.find('@')\n",
        "print(email[:idx]) # 문자열 slicing\n",
        "print(email[idx + 1:])"
      ],
      "metadata": {
        "colab": {
          "base_uri": "https://localhost:8080/"
        },
        "id": "ht780OJOXMsq",
        "outputId": "4069a075-3864-4b54-c7f5-600a06627719"
      },
      "execution_count": null,
      "outputs": [
        {
          "output_type": "stream",
          "name": "stdout",
          "text": [
            "abc.def\n",
            "gmail.com\n"
          ]
        }
      ]
    },
    {
      "cell_type": "code",
      "source": [
        "sentence = 'Textual data in Python is handled with str objects, or strings.'"
      ],
      "metadata": {
        "id": "9tmtXg4KX-LE"
      },
      "execution_count": null,
      "outputs": []
    },
    {
      "cell_type": "code",
      "source": [
        "sentence.split() #> 공백(space, tab, enter)을 기준으로 나뉜 문자열들의 list"
      ],
      "metadata": {
        "colab": {
          "base_uri": "https://localhost:8080/"
        },
        "id": "PbGoWTAdYvEp",
        "outputId": "76cd5f94-2710-4d53-dea9-9b9b4021be9b"
      },
      "execution_count": null,
      "outputs": [
        {
          "output_type": "execute_result",
          "data": {
            "text/plain": [
              "['Textual',\n",
              " 'data',\n",
              " 'in',\n",
              " 'Python',\n",
              " 'is',\n",
              " 'handled',\n",
              " 'with',\n",
              " 'str',\n",
              " 'objects,',\n",
              " 'or',\n",
              " 'strings.']"
            ]
          },
          "metadata": {},
          "execution_count": 27
        }
      ]
    },
    {
      "cell_type": "code",
      "source": [
        "date = '2022-03-11'\n",
        "date.split(sep='-')"
      ],
      "metadata": {
        "colab": {
          "base_uri": "https://localhost:8080/"
        },
        "id": "ImqugxfGZL25",
        "outputId": "3f590a04-8ab2-4f40-f5e0-94b1b81e8932"
      },
      "execution_count": null,
      "outputs": [
        {
          "output_type": "execute_result",
          "data": {
            "text/plain": [
              "['2022', '03', '11']"
            ]
          },
          "metadata": {},
          "execution_count": 29
        }
      ]
    },
    {
      "cell_type": "code",
      "source": [
        "time = '14:19:30'\n",
        "time.split(sep=':')"
      ],
      "metadata": {
        "colab": {
          "base_uri": "https://localhost:8080/"
        },
        "id": "79vJOQhPaZfC",
        "outputId": "b64a6ee9-0361-444f-c29a-a5f67df494e3"
      },
      "execution_count": null,
      "outputs": [
        {
          "output_type": "execute_result",
          "data": {
            "text/plain": [
              "['14', '19', '30']"
            ]
          },
          "metadata": {},
          "execution_count": 32
        }
      ]
    },
    {
      "cell_type": "code",
      "source": [
        "# CSV: Comma-Separated Values\n",
        "csv = '100, Scott, 200, scott@itwill.co.kr, 1234-5678, IT'\n",
        "csv.split(sep=',')"
      ],
      "metadata": {
        "colab": {
          "base_uri": "https://localhost:8080/"
        },
        "id": "rQFC0-UIaut2",
        "outputId": "b5a6081a-880d-4ec5-fd07-782fee5ba2c7"
      },
      "execution_count": null,
      "outputs": [
        {
          "output_type": "execute_result",
          "data": {
            "text/plain": [
              "['100', ' Scott', ' 200', ' scott@itwill.co.kr', ' 1234-5678', ' IT']"
            ]
          },
          "metadata": {},
          "execution_count": 33
        }
      ]
    },
    {
      "cell_type": "code",
      "source": [
        "'/'.join(['2022', '03', '11'])"
      ],
      "metadata": {
        "colab": {
          "base_uri": "https://localhost:8080/",
          "height": 38
        },
        "id": "lO5gboMVbzgl",
        "outputId": "baaf9dba-a45f-4687-861d-25148b87a190"
      },
      "execution_count": null,
      "outputs": [
        {
          "output_type": "execute_result",
          "data": {
            "application/vnd.google.colaboratory.intrinsic+json": {
              "type": "string"
            },
            "text/plain": [
              "'2022/03/11'"
            ]
          },
          "metadata": {},
          "execution_count": 34
        }
      ]
    },
    {
      "cell_type": "code",
      "source": [
        "':'.join(['14','45','30'])"
      ],
      "metadata": {
        "colab": {
          "base_uri": "https://localhost:8080/",
          "height": 38
        },
        "id": "XUdMxDoOgXa0",
        "outputId": "fd023116-1615-4253-f881-1c21bc0c3990"
      },
      "execution_count": null,
      "outputs": [
        {
          "output_type": "execute_result",
          "data": {
            "application/vnd.google.colaboratory.intrinsic+json": {
              "type": "string"
            },
            "text/plain": [
              "'14:45:30'"
            ]
          },
          "metadata": {},
          "execution_count": 35
        }
      ]
    },
    {
      "cell_type": "code",
      "source": [
        "' '.join(['홍길동', 'abc', '123-456'])"
      ],
      "metadata": {
        "colab": {
          "base_uri": "https://localhost:8080/",
          "height": 38
        },
        "id": "ysy0AtaDgwip",
        "outputId": "f942ff6c-d163-4eb8-82e0-a1d059a21b06"
      },
      "execution_count": null,
      "outputs": [
        {
          "output_type": "execute_result",
          "data": {
            "application/vnd.google.colaboratory.intrinsic+json": {
              "type": "string"
            },
            "text/plain": [
              "'홍길동 abc 123-456'"
            ]
          },
          "metadata": {},
          "execution_count": 36
        }
      ]
    },
    {
      "cell_type": "code",
      "source": [
        "s = '             Hello, Python!       안녕하세요...    '\n",
        "print(s)\n",
        "print(s.lstrip()) # 문자열의 왼쪽(시작부분)에 있는 모든 공백들을 제거\n",
        "print(s.rstrip()) # 문자열의 오른쪽(끝나는 부분)에 있는 모든 공백들을 제거\n",
        "print(s.strip()) # 문자열의 시작과 끝 부분에 있는 모든 공백들을 제거"
      ],
      "metadata": {
        "colab": {
          "base_uri": "https://localhost:8080/"
        },
        "id": "4V5gRJE1g9Yg",
        "outputId": "a040a8ed-10f8-4477-a4a8-85b8063361f0"
      },
      "execution_count": null,
      "outputs": [
        {
          "output_type": "stream",
          "name": "stdout",
          "text": [
            "             Hello, Python!       안녕하세요...    \n",
            "Hello, Python!       안녕하세요...    \n",
            "             Hello, Python!       안녕하세요...\n",
            "Hello, Python!       안녕하세요...\n"
          ]
        }
      ]
    },
    {
      "cell_type": "code",
      "source": [
        "s = '<<<Hello, Python>>>'\n",
        "s.lstrip('<').rstrip('>')\n"
      ],
      "metadata": {
        "colab": {
          "base_uri": "https://localhost:8080/",
          "height": 38
        },
        "id": "Hr4g0YXPhYdz",
        "outputId": "50e1ea2b-1685-4287-f5c4-5c0127e97d0b"
      },
      "execution_count": null,
      "outputs": [
        {
          "output_type": "execute_result",
          "data": {
            "application/vnd.google.colaboratory.intrinsic+json": {
              "type": "string"
            },
            "text/plain": [
              "'Hello, Python'"
            ]
          },
          "metadata": {},
          "execution_count": 42
        }
      ]
    },
    {
      "cell_type": "code",
      "source": [
        "s = 'hello, 안녕, python, 100'\n",
        "s.replace(',', '::') # 문자열 s에서 ','를 '::'로 대체"
      ],
      "metadata": {
        "colab": {
          "base_uri": "https://localhost:8080/",
          "height": 38
        },
        "id": "cSuD61bei4Ps",
        "outputId": "cdb21d6b-8f36-4c86-c5b9-c88abe3be7b2"
      },
      "execution_count": null,
      "outputs": [
        {
          "output_type": "execute_result",
          "data": {
            "application/vnd.google.colaboratory.intrinsic+json": {
              "type": "string"
            },
            "text/plain": [
              "'hello: 안녕: python: 100'"
            ]
          },
          "metadata": {},
          "execution_count": 43
        }
      ]
    },
    {
      "cell_type": "code",
      "source": [
        "sentence = 'Textual data in Python is handled with str objects, or strings.'\n",
        "# 구두점(, .)들은 제거하고 순수하게 단어들로 이루어진 리스트를 만들어 보세요.\n",
        "sentence.replace(',', '').replace('.', '').split()\n"
      ],
      "metadata": {
        "colab": {
          "base_uri": "https://localhost:8080/"
        },
        "id": "5uoq0fiSjo-9",
        "outputId": "c50eb0b6-6e83-4c5f-fd49-e85d7e6a97d8"
      },
      "execution_count": null,
      "outputs": [
        {
          "output_type": "execute_result",
          "data": {
            "text/plain": [
              "['Textual',\n",
              " 'data',\n",
              " 'in',\n",
              " 'Python',\n",
              " 'is',\n",
              " 'handled',\n",
              " 'with',\n",
              " 'str',\n",
              " 'objects',\n",
              " 'or',\n",
              " 'strings']"
            ]
          },
          "metadata": {},
          "execution_count": 52
        }
      ]
    },
    {
      "cell_type": "code",
      "source": [
        ""
      ],
      "metadata": {
        "id": "PWHsNEEgkMKv"
      },
      "execution_count": null,
      "outputs": []
    }
  ]
}