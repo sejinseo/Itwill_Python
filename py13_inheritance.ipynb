{
  "nbformat": 4,
  "nbformat_minor": 0,
  "metadata": {
    "colab": {
      "name": "py13_inheritance.ipynb",
      "provenance": [],
      "collapsed_sections": [],
      "authorship_tag": "ABX9TyO79D2UheI2mi7wUT7F2J1/",
      "include_colab_link": true
    },
    "kernelspec": {
      "name": "python3",
      "display_name": "Python 3"
    },
    "language_info": {
      "name": "python"
    }
  },
  "cells": [
    {
      "cell_type": "markdown",
      "metadata": {
        "id": "view-in-github",
        "colab_type": "text"
      },
      "source": [
        "<a href=\"https://colab.research.google.com/github/sejinseo/Python/blob/main/py13_inheritance.ipynb\" target=\"_parent\"><img src=\"https://colab.research.google.com/assets/colab-badge.svg\" alt=\"Open In Colab\"/></a>"
      ]
    },
    {
      "cell_type": "markdown",
      "source": [
        "# 상속(Inheritance)\n",
        "\n",
        "* super class(상위 클래스), parent class(부모 클래스), base class(기본 클래스)\n",
        "* sub class(하위 클래스), child class(자식 클래스), derived class(유도 클래스)\n",
        "* 상속: 상위 클래스의 속성들(attributes)과 기능(method)들을 하위 클래스에서 재사용하는 것.\n",
        "* IS-A 관계가 성립하는 객체들을 상속을 사용해서 구현함.\n",
        "    * 학생은 사람이다.(Student IS A Person.)\n",
        "        * Person: super class\n",
        "        * Student: sub class\n",
        "* HAS-S 관계가 성립하는 객체들은 일반적으로 상속이 아니라, attribute(속성)으로 클래스를 구현함.\n",
        "    * 학생은 시험 성적을 가지고 있다.(Student HAS A Score.)\n",
        "        * Student 클래스의 속성 중 하나로 Score 클래스의 객체를 사용."
      ],
      "metadata": {
        "id": "eN52qTxPee_3"
      }
    },
    {
      "cell_type": "code",
      "execution_count": null,
      "metadata": {
        "id": "8AMvQcmIeUUI"
      },
      "outputs": [],
      "source": [
        "class Person:\n",
        "    def __init__(self, name):\n",
        "        self.name = name\n",
        "\n",
        "    def say_hello(self):\n",
        "        print(f'안녕하세요, 저는 {self.name}입니다.')"
      ]
    },
    {
      "cell_type": "code",
      "source": [
        "oh_ssam = Person('오쌤')"
      ],
      "metadata": {
        "id": "t63xAZB4hxQJ"
      },
      "execution_count": null,
      "outputs": []
    },
    {
      "cell_type": "code",
      "source": [
        "oh_ssam.say_hello()"
      ],
      "metadata": {
        "colab": {
          "base_uri": "https://localhost:8080/"
        },
        "id": "lD19xSO8iRF0",
        "outputId": "a4480615-4fc7-4a19-b90d-352b9964df8c"
      },
      "execution_count": null,
      "outputs": [
        {
          "output_type": "stream",
          "name": "stdout",
          "text": [
            "안녕하세요, 저는 오쌤입니다.\n"
          ]
        }
      ]
    },
    {
      "cell_type": "markdown",
      "source": [
        "Super Class를 상속받는 Sub class를 정의하는 방법:\n",
        "\n",
        "```\n",
        "class Sub class(Super class):\n",
        "    코드 작성\n",
        "```"
      ],
      "metadata": {
        "id": "BzOwBqFbi2wm"
      }
    },
    {
      "cell_type": "code",
      "source": [
        "# Student IS A Person.\n",
        "class Student(Person):\n",
        "    pass"
      ],
      "metadata": {
        "id": "cnx7nGcziTox"
      },
      "execution_count": null,
      "outputs": []
    },
    {
      "cell_type": "code",
      "source": [
        "stu = Student('세진')\n",
        "stu.say_hello()"
      ],
      "metadata": {
        "colab": {
          "base_uri": "https://localhost:8080/"
        },
        "id": "mACen6U2jxlh",
        "outputId": "7d651c1e-e858-4fd2-8dad-e5fd92bc7774"
      },
      "execution_count": null,
      "outputs": [
        {
          "output_type": "stream",
          "name": "stdout",
          "text": [
            "안녕하세요, 저는 세진입니다.\n"
          ]
        }
      ]
    },
    {
      "cell_type": "markdown",
      "source": [
        "# Method Override\n",
        "\n",
        "* 상위 클래스의 메서드를 하위 클래스에서 재정의하는 것.\n",
        "    * Python은 메서드의 이름만 같으면 (파라미터 개수와 상관없이) 메서드가 재정의됨. - override\n",
        "    * __(주의)__: Java에서는 메서드의 이름과 파라미터 (타입, 개수, 순서)가 동일한 경우 override. 메서드의 이름이 같고 파라미터가 다른 경우는 overloading(같은 이름의 메서드가 2개 이상 존재)\n",
        "* 하위 클래스에서 override가 된 상위 클래스의 메서드를 명시적으로 호출하기 위해서는 `super().method_name(arg)`와 같은 방식으로 사용함."
      ],
      "metadata": {
        "id": "2iHzVPukpEuk"
      }
    },
    {
      "cell_type": "code",
      "source": [
        "# BusinessPerson IS A Person.\n",
        "class BusinessPerson(Person):\n",
        "    # 부모 클래스 Person의 __init__ 메서드를 override\n",
        "    def __init__(self, name, company=None):\n",
        "        # 부모 클래스 Person의 __init__ 메서드를 호출\n",
        "        super().__init__(name)\n",
        "        self.company = company # 자식 클래스만 가지고 있는 속성.\n",
        "\n",
        "    # 부모 클래스 Person의 say_hello 메서드를 override\n",
        "    def say_hello(self):\n",
        "        # 부모 클래스 Person의 say_hello 메서드를 명시적으로 호출 - 부모의 기능을 그대로 사용.\n",
        "        super().say_hello()\n",
        "        # 부모의 기능을 확장 - 추가 기능.\n",
        "        print(f'저는 {self.company} 사원 입니다.')"
      ],
      "metadata": {
        "id": "IdjinPs1j2vU"
      },
      "execution_count": null,
      "outputs": []
    },
    {
      "cell_type": "code",
      "source": [
        "gildong = BusinessPerson(name='세진', company='itwill')"
      ],
      "metadata": {
        "id": "aVkSRMDgtc2N"
      },
      "execution_count": null,
      "outputs": []
    },
    {
      "cell_type": "code",
      "source": [
        "gildong.say_hello()"
      ],
      "metadata": {
        "colab": {
          "base_uri": "https://localhost:8080/"
        },
        "id": "RavRPPWOtqhu",
        "outputId": "4231e9ba-bb6c-4f30-97da-af8b388083b1"
      },
      "execution_count": null,
      "outputs": [
        {
          "output_type": "stream",
          "name": "stdout",
          "text": [
            "안녕하세요, 저는 세진입니다.\n",
            "저는 itwill 사원 입니다.\n"
          ]
        }
      ]
    },
    {
      "cell_type": "markdown",
      "source": [
        "# `isinstance(object, class)` 함수\n",
        "\n",
        "객체(obj)가 클래스(class)의 인스턴스이면 True, 그렇지 않으면 False를 리턴."
      ],
      "metadata": {
        "id": "lucsv7pR1sgg"
      }
    },
    {
      "cell_type": "code",
      "source": [
        "isinstance(gildong, BusinessPerson)"
      ],
      "metadata": {
        "colab": {
          "base_uri": "https://localhost:8080/"
        },
        "id": "IwbO-JeTtv-S",
        "outputId": "cad9584f-0a6d-4f71-9ffc-9fe73e30a8c2"
      },
      "execution_count": null,
      "outputs": [
        {
          "output_type": "execute_result",
          "data": {
            "text/plain": [
              "True"
            ]
          },
          "metadata": {},
          "execution_count": 14
        }
      ]
    },
    {
      "cell_type": "code",
      "source": [
        "# 회사원은 사람이다.\n",
        "isinstance(gildong, Person) # gildong은 Person 클래스의 인스턴스이다."
      ],
      "metadata": {
        "colab": {
          "base_uri": "https://localhost:8080/"
        },
        "id": "-oqOMtZY2U53",
        "outputId": "baddaade-566e-4428-d1da-ae474480190b"
      },
      "execution_count": null,
      "outputs": [
        {
          "output_type": "execute_result",
          "data": {
            "text/plain": [
              "True"
            ]
          },
          "metadata": {},
          "execution_count": 16
        }
      ]
    },
    {
      "cell_type": "code",
      "source": [
        "p = Person('무명')\n",
        "isinstance(p, Person) # p는 Person의 인스턴스이다."
      ],
      "metadata": {
        "colab": {
          "base_uri": "https://localhost:8080/"
        },
        "id": "Dn4pQjND2c_n",
        "outputId": "5fcc345b-ef06-497b-b58a-6afb8828718b"
      },
      "execution_count": null,
      "outputs": [
        {
          "output_type": "execute_result",
          "data": {
            "text/plain": [
              "True"
            ]
          },
          "metadata": {},
          "execution_count": 18
        }
      ]
    },
    {
      "cell_type": "code",
      "source": [
        "# 사람은 회사원이다.(x)\n",
        "isinstance(p, BusinessPerson) # p는 BusinessPerson 클래스의 인스턴스이다.(X)"
      ],
      "metadata": {
        "colab": {
          "base_uri": "https://localhost:8080/"
        },
        "id": "jbt7D_1o27mK",
        "outputId": "28ba2eb7-bbe7-47ac-a8fe-1a60a20f5ede"
      },
      "execution_count": null,
      "outputs": [
        {
          "output_type": "execute_result",
          "data": {
            "text/plain": [
              "False"
            ]
          },
          "metadata": {},
          "execution_count": 19
        }
      ]
    },
    {
      "cell_type": "markdown",
      "source": [
        "## `isinstance` 함수 활용"
      ],
      "metadata": {
        "id": "tN3eSwZK3irh"
      }
    },
    {
      "cell_type": "code",
      "source": [
        "class Animal:\n",
        "    def move(self):\n",
        "        pass\n",
        "\n",
        "# 강아지는 동물이다. (IS-A)\n",
        "class Dog(Animal):\n",
        "    # override\n",
        "    def move(self):\n",
        "        print('강아지는 총총총...')\n",
        "\n",
        "# 새는 동물이다. (IS-A)\n",
        "class Bird(Animal):\n",
        "    # override\n",
        "    def move(self):\n",
        "        print('새는 훨훨~~')\n",
        "\n",
        "class Tree:\n",
        "    pass"
      ],
      "metadata": {
        "id": "qI3mH39b3CYI"
      },
      "execution_count": null,
      "outputs": []
    },
    {
      "cell_type": "code",
      "source": [
        "# Python의 리스트(list)는 다른 타입의 값들을 저장할 수 있음.\n",
        "array = [Dog(), Bird(), Tree()]\n",
        "for x in array:\n",
        "    # move() 메서드를 가지고 있으면\n",
        "    if isinstance(x, Animal):\n",
        "        x.move()"
      ],
      "metadata": {
        "colab": {
          "base_uri": "https://localhost:8080/"
        },
        "id": "luR5IfV65Lep",
        "outputId": "d807b4e6-1fd6-48cb-c392-e83c6a79a4da"
      },
      "execution_count": null,
      "outputs": [
        {
          "output_type": "stream",
          "name": "stdout",
          "text": [
            "강아지는 총총총...\n",
            "새는 훨훨~~\n"
          ]
        }
      ]
    },
    {
      "cell_type": "code",
      "source": [
        ""
      ],
      "metadata": {
        "id": "6m1O7_ng53Rr"
      },
      "execution_count": null,
      "outputs": []
    }
  ]
}