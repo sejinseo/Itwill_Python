{
  "nbformat": 4,
  "nbformat_minor": 0,
  "metadata": {
    "colab": {
      "name": "ml01_numpy 복습.ipynb",
      "provenance": [],
      "collapsed_sections": [],
      "authorship_tag": "ABX9TyPna1E/TQWxU6NgybZ5aJyr",
      "include_colab_link": true
    },
    "kernelspec": {
      "name": "python3",
      "display_name": "Python 3"
    },
    "language_info": {
      "name": "python"
    }
  },
  "cells": [
    {
      "cell_type": "markdown",
      "metadata": {
        "id": "view-in-github",
        "colab_type": "text"
      },
      "source": [
        "<a href=\"https://colab.research.google.com/github/sejinseo/Python/blob/main/ml01_numpy_%EB%B3%B5%EC%8A%B5.ipynb\" target=\"_parent\"><img src=\"https://colab.research.google.com/assets/colab-badge.svg\" alt=\"Open In Colab\"/></a>"
      ]
    },
    {
      "cell_type": "markdown",
      "source": [
        "필요한 라이브러리 모듈 임포트"
      ],
      "metadata": {
        "id": "Qdz4AFtwIJqa"
      }
    },
    {
      "cell_type": "code",
      "execution_count": 1,
      "metadata": {
        "id": "ssQ6tdF3H-CI"
      },
      "outputs": [],
      "source": [
        "import numpy as np\n",
        "import pandas as pd\n",
        "import seaborn as sns\n",
        "import matplotlib.pyplot as plt"
      ]
    },
    {
      "cell_type": "markdown",
      "source": [
        "# np.ndarray 클래스 속성들(properties)"
      ],
      "metadata": {
        "id": "p70rzaP_IT_a"
      }
    },
    {
      "cell_type": "code",
      "source": [
        "# 모든 원소가 1.0으로 이루어진 (3, 4) 모양의 2차원 배열 생성\n",
        "array = np.ones((3, 4))"
      ],
      "metadata": {
        "id": "cBGxQRUTITBB"
      },
      "execution_count": 2,
      "outputs": []
    },
    {
      "cell_type": "code",
      "source": [
        "print(array)"
      ],
      "metadata": {
        "colab": {
          "base_uri": "https://localhost:8080/"
        },
        "id": "1PFtKFLCIh2X",
        "outputId": "80cd53c0-67fb-4ce7-869e-69b0ed0598d2"
      },
      "execution_count": 3,
      "outputs": [
        {
          "output_type": "stream",
          "name": "stdout",
          "text": [
            "[[1. 1. 1. 1.]\n",
            " [1. 1. 1. 1.]\n",
            " [1. 1. 1. 1.]]\n"
          ]
        }
      ]
    },
    {
      "cell_type": "code",
      "source": [
        "type(array)"
      ],
      "metadata": {
        "colab": {
          "base_uri": "https://localhost:8080/"
        },
        "id": "fFBeK0PgIixj",
        "outputId": "d999a678-3f63-4656-c85f-7e48db3f47e6"
      },
      "execution_count": 4,
      "outputs": [
        {
          "output_type": "execute_result",
          "data": {
            "text/plain": [
              "numpy.ndarray"
            ]
          },
          "metadata": {},
          "execution_count": 4
        }
      ]
    },
    {
      "cell_type": "code",
      "source": [
        "array.dtype # 배열의 원소의 데이터 타입"
      ],
      "metadata": {
        "colab": {
          "base_uri": "https://localhost:8080/"
        },
        "id": "7uPStkiwImYZ",
        "outputId": "3a074e36-6bb0-488d-adee-f0b37c43d1e2"
      },
      "execution_count": 6,
      "outputs": [
        {
          "output_type": "execute_result",
          "data": {
            "text/plain": [
              "dtype('float64')"
            ]
          },
          "metadata": {},
          "execution_count": 6
        }
      ]
    },
    {
      "cell_type": "code",
      "source": [
        "array.shape # 배열의 각 축(axis)을 따라서 있는 원소들의 개수로 만들어진 tuple"
      ],
      "metadata": {
        "colab": {
          "base_uri": "https://localhost:8080/"
        },
        "id": "Gr6YRtozIskL",
        "outputId": "b9c188fd-bf45-420c-cda0-c42a704a189d"
      },
      "execution_count": 8,
      "outputs": [
        {
          "output_type": "execute_result",
          "data": {
            "text/plain": [
              "(3, 4)"
            ]
          },
          "metadata": {},
          "execution_count": 8
        }
      ]
    },
    {
      "cell_type": "code",
      "source": [
        "array.size # 배열의 모든 원소들의 개수"
      ],
      "metadata": {
        "colab": {
          "base_uri": "https://localhost:8080/"
        },
        "id": "aElOd4qJI0WT",
        "outputId": "5599831c-9ffb-4bb9-80aa-104fd5c2f094"
      },
      "execution_count": 10,
      "outputs": [
        {
          "output_type": "execute_result",
          "data": {
            "text/plain": [
              "12"
            ]
          },
          "metadata": {},
          "execution_count": 10
        }
      ]
    },
    {
      "cell_type": "code",
      "source": [
        "array.ndim # 배열의 차원의 개수(number of dimension). 배열의 축(axis)의 개수."
      ],
      "metadata": {
        "colab": {
          "base_uri": "https://localhost:8080/"
        },
        "id": "UdBBMnXHI4eW",
        "outputId": "099cd3f7-4f05-4433-f2f1-3373b0d29390"
      },
      "execution_count": 13,
      "outputs": [
        {
          "output_type": "execute_result",
          "data": {
            "text/plain": [
              "2"
            ]
          },
          "metadata": {},
          "execution_count": 13
        }
      ]
    },
    {
      "cell_type": "code",
      "source": [
        "# [1, 6) 범위의 정수들로 이루어진 1차원 배열\n",
        "array = np.arange(1, 6)\n",
        "print(array)"
      ],
      "metadata": {
        "colab": {
          "base_uri": "https://localhost:8080/"
        },
        "id": "cwsby5adJA4k",
        "outputId": "f8da9a82-ba97-41d9-d403-4e345cbef2fa"
      },
      "execution_count": 14,
      "outputs": [
        {
          "output_type": "stream",
          "name": "stdout",
          "text": [
            "[1 2 3 4 5]\n"
          ]
        }
      ]
    },
    {
      "cell_type": "code",
      "source": [
        "print(array.dtype)\n",
        "print(array.shape)\n",
        "print(array.size)\n",
        "print(array.ndim)"
      ],
      "metadata": {
        "colab": {
          "base_uri": "https://localhost:8080/"
        },
        "id": "XcjfX4iuJP6l",
        "outputId": "2c855125-eebf-4e75-8a1d-907aa4408202"
      },
      "execution_count": 15,
      "outputs": [
        {
          "output_type": "stream",
          "name": "stdout",
          "text": [
            "int64\n",
            "(5,)\n",
            "5\n",
            "1\n"
          ]
        }
      ]
    },
    {
      "cell_type": "code",
      "source": [
        "# [1, 25) 범위의 정수들로 이루어진 (2, 3, 4) shape의 3차원 배열\n",
        "array = np.arange(1, 25).reshape((2, 3, 4))\n",
        "print(array)"
      ],
      "metadata": {
        "colab": {
          "base_uri": "https://localhost:8080/"
        },
        "id": "sSrzD6iPJY-3",
        "outputId": "00646acf-7a6e-41d2-f08c-c599ab0f5243"
      },
      "execution_count": 17,
      "outputs": [
        {
          "output_type": "stream",
          "name": "stdout",
          "text": [
            "[[[ 1  2  3  4]\n",
            "  [ 5  6  7  8]\n",
            "  [ 9 10 11 12]]\n",
            "\n",
            " [[13 14 15 16]\n",
            "  [17 18 19 20]\n",
            "  [21 22 23 24]]]\n"
          ]
        }
      ]
    },
    {
      "cell_type": "code",
      "source": [
        "print('dtype:', array.dtype)\n",
        "print('shape:', array.shape)\n",
        "print('size:', array.size)\n",
        "print('ndim:', array.ndim)"
      ],
      "metadata": {
        "colab": {
          "base_uri": "https://localhost:8080/"
        },
        "id": "K0GcOkUyJtpI",
        "outputId": "6eb6c345-1d5f-492b-b6c1-0ccd2b97c581"
      },
      "execution_count": 18,
      "outputs": [
        {
          "output_type": "stream",
          "name": "stdout",
          "text": [
            "dtype: int64\n",
            "shape: (2, 3, 4)\n",
            "size: 24\n",
            "ndim: 3\n"
          ]
        }
      ]
    },
    {
      "cell_type": "markdown",
      "source": [
        "np.ndarray의 indexing\n",
        "\n",
        "* Python list 인덱스 사용 방법: `list[i][j][k]...`\n",
        "* numpy ndarray 인덱스 사용 방법: \n",
        "    * `array[i][j][k]....`\n",
        "    * `array[i, j, k]...`"
      ],
      "metadata": {
        "id": "jdfMopJCKNuy"
      }
    },
    {
      "cell_type": "code",
      "source": [
        "print(array)"
      ],
      "metadata": {
        "colab": {
          "base_uri": "https://localhost:8080/"
        },
        "id": "At4rlpc3Klj_",
        "outputId": "13ad00da-4b67-47c6-d8bd-3246748e5343"
      },
      "execution_count": 19,
      "outputs": [
        {
          "output_type": "stream",
          "name": "stdout",
          "text": [
            "[[[ 1  2  3  4]\n",
            "  [ 5  6  7  8]\n",
            "  [ 9 10 11 12]]\n",
            "\n",
            " [[13 14 15 16]\n",
            "  [17 18 19 20]\n",
            "  [21 22 23 24]]]\n"
          ]
        }
      ]
    },
    {
      "cell_type": "code",
      "source": [
        "print(array[0])"
      ],
      "metadata": {
        "colab": {
          "base_uri": "https://localhost:8080/"
        },
        "id": "ZH5jUDjLKoc2",
        "outputId": "332fda7f-b675-4a20-8c64-492d3630a1dc"
      },
      "execution_count": 20,
      "outputs": [
        {
          "output_type": "stream",
          "name": "stdout",
          "text": [
            "[[ 1  2  3  4]\n",
            " [ 5  6  7  8]\n",
            " [ 9 10 11 12]]\n"
          ]
        }
      ]
    },
    {
      "cell_type": "code",
      "source": [
        "print(array[0][1])"
      ],
      "metadata": {
        "colab": {
          "base_uri": "https://localhost:8080/"
        },
        "id": "p27oGpXZKrSa",
        "outputId": "9e7f0981-f6d9-4802-e877-6fa8e662105c"
      },
      "execution_count": 21,
      "outputs": [
        {
          "output_type": "stream",
          "name": "stdout",
          "text": [
            "[5 6 7 8]\n"
          ]
        }
      ]
    },
    {
      "cell_type": "code",
      "source": [
        "print(array[0, 1])"
      ],
      "metadata": {
        "colab": {
          "base_uri": "https://localhost:8080/"
        },
        "id": "H8pn1S-_Kwoa",
        "outputId": "c9edce63-9dfc-4830-a7df-aef9b9c9f81d"
      },
      "execution_count": 22,
      "outputs": [
        {
          "output_type": "stream",
          "name": "stdout",
          "text": [
            "[5 6 7 8]\n"
          ]
        }
      ]
    },
    {
      "cell_type": "code",
      "source": [
        "print(array[0][1][2])"
      ],
      "metadata": {
        "colab": {
          "base_uri": "https://localhost:8080/"
        },
        "id": "hxRx7tLHKzK1",
        "outputId": "0b298ee5-1fa4-4565-b831-2e4490e70611"
      },
      "execution_count": 23,
      "outputs": [
        {
          "output_type": "stream",
          "name": "stdout",
          "text": [
            "7\n"
          ]
        }
      ]
    },
    {
      "cell_type": "code",
      "source": [
        "print(array[0, 1, 2])"
      ],
      "metadata": {
        "colab": {
          "base_uri": "https://localhost:8080/"
        },
        "id": "VM4HN3bDK3yo",
        "outputId": "749f2be1-612d-438d-9137-0c285a4d3940"
      },
      "execution_count": 24,
      "outputs": [
        {
          "output_type": "stream",
          "name": "stdout",
          "text": [
            "7\n"
          ]
        }
      ]
    },
    {
      "cell_type": "markdown",
      "source": [
        "# np.ndarray slicing"
      ],
      "metadata": {
        "id": "PxT9bZAHK8sy"
      }
    },
    {
      "cell_type": "markdown",
      "source": [
        "## 1차원 배열 slicing"
      ],
      "metadata": {
        "id": "8SQSygc9LFtZ"
      }
    },
    {
      "cell_type": "code",
      "source": [
        "np.random.seed(1)\n",
        "array = np.random.rand(10)\n",
        "print(array)"
      ],
      "metadata": {
        "colab": {
          "base_uri": "https://localhost:8080/"
        },
        "id": "zYeyQlAAK6Ac",
        "outputId": "d756dbe2-c8a5-45cc-d819-6a0419ca107a"
      },
      "execution_count": 26,
      "outputs": [
        {
          "output_type": "stream",
          "name": "stdout",
          "text": [
            "[4.17022005e-01 7.20324493e-01 1.14374817e-04 3.02332573e-01\n",
            " 1.46755891e-01 9.23385948e-02 1.86260211e-01 3.45560727e-01\n",
            " 3.96767474e-01 5.38816734e-01]\n"
          ]
        }
      ]
    },
    {
      "cell_type": "code",
      "source": [
        "# [1:5) 범위의 원소들로 이루어진 ndarray\n",
        "print(array[1:5])"
      ],
      "metadata": {
        "colab": {
          "base_uri": "https://localhost:8080/"
        },
        "id": "ivLEdyY5LKB-",
        "outputId": "b37f4785-aab0-42f5-9a7f-a925cd9c6ff9"
      },
      "execution_count": 27,
      "outputs": [
        {
          "output_type": "stream",
          "name": "stdout",
          "text": [
            "[7.20324493e-01 1.14374817e-04 3.02332573e-01 1.46755891e-01]\n"
          ]
        }
      ]
    },
    {
      "cell_type": "code",
      "source": [
        "# 배열에서 첫 3개의 원소로 이루어진 ndarray\n",
        "print(array[:3])"
      ],
      "metadata": {
        "colab": {
          "base_uri": "https://localhost:8080/"
        },
        "id": "JUhhiy5nLZuf",
        "outputId": "e3e93637-4b32-4c3c-aec3-0dddc1c1f400"
      },
      "execution_count": 28,
      "outputs": [
        {
          "output_type": "stream",
          "name": "stdout",
          "text": [
            "[4.17022005e-01 7.20324493e-01 1.14374817e-04]\n"
          ]
        }
      ]
    },
    {
      "cell_type": "code",
      "source": [
        "# 배열에서 마지막 3개의 원소로 이루어진 ndarray\n",
        "print(array[-3:])"
      ],
      "metadata": {
        "colab": {
          "base_uri": "https://localhost:8080/"
        },
        "id": "Bpi_L5s5LjA5",
        "outputId": "e91fcc4f-1576-4232-f304-fbe9a8d17cfd"
      },
      "execution_count": 29,
      "outputs": [
        {
          "output_type": "stream",
          "name": "stdout",
          "text": [
            "[0.34556073 0.39676747 0.53881673]\n"
          ]
        }
      ]
    },
    {
      "cell_type": "code",
      "source": [
        "print(array[:]) # slicing에서 start와 end index 모두를 생략하면 처음부터 끝까지 선택"
      ],
      "metadata": {
        "colab": {
          "base_uri": "https://localhost:8080/"
        },
        "id": "lvKjoIORLo1B",
        "outputId": "3fecef15-7105-4901-bd17-78eb548f2aaa"
      },
      "execution_count": 30,
      "outputs": [
        {
          "output_type": "stream",
          "name": "stdout",
          "text": [
            "[4.17022005e-01 7.20324493e-01 1.14374817e-04 3.02332573e-01\n",
            " 1.46755891e-01 9.23385948e-02 1.86260211e-01 3.45560727e-01\n",
            " 3.96767474e-01 5.38816734e-01]\n"
          ]
        }
      ]
    },
    {
      "cell_type": "markdown",
      "source": [
        "# 2차원 배열 slicing"
      ],
      "metadata": {
        "id": "yxY-HvKaLwcS"
      }
    },
    {
      "cell_type": "code",
      "source": [
        "array = np.arange(1, 21).reshape((4, 5))\n",
        "print(array)"
      ],
      "metadata": {
        "colab": {
          "base_uri": "https://localhost:8080/"
        },
        "id": "iPq0MkpULzBl",
        "outputId": "2b167e85-418e-4607-e60a-c3d731e86160"
      },
      "execution_count": 31,
      "outputs": [
        {
          "output_type": "stream",
          "name": "stdout",
          "text": [
            "[[ 1  2  3  4  5]\n",
            " [ 6  7  8  9 10]\n",
            " [11 12 13 14 15]\n",
            " [16 17 18 19 20]]\n"
          ]
        }
      ]
    },
    {
      "cell_type": "code",
      "source": [
        "# 행은 [1, 3), 열은 [1, 4) 범위로 slicing\n",
        "print(array[1:3, 1:4])"
      ],
      "metadata": {
        "colab": {
          "base_uri": "https://localhost:8080/"
        },
        "id": "Cw0ZneMSL8To",
        "outputId": "676d18b9-2c38-47c5-dae1-643f577db5ea"
      },
      "execution_count": 32,
      "outputs": [
        {
          "output_type": "stream",
          "name": "stdout",
          "text": [
            "[[ 7  8  9]\n",
            " [12 13 14]]\n"
          ]
        }
      ]
    },
    {
      "cell_type": "code",
      "source": [
        "# 첫 2개 열을 선택. 행은 모두 선택, 열은 [0, 2) 범위로 slicing\n",
        "print(array[:, :2])"
      ],
      "metadata": {
        "colab": {
          "base_uri": "https://localhost:8080/"
        },
        "id": "zUeKHcNGMIWf",
        "outputId": "c878e102-ab63-457b-c64e-fc8d62c65168"
      },
      "execution_count": 33,
      "outputs": [
        {
          "output_type": "stream",
          "name": "stdout",
          "text": [
            "[[ 1  2]\n",
            " [ 6  7]\n",
            " [11 12]\n",
            " [16 17]]\n"
          ]
        }
      ]
    },
    {
      "cell_type": "code",
      "source": [
        "# 첫 2개 행을 선택. 행은 [0, 2) 범위로 slicing, 열은 모두 선택.\n",
        "print(array[:2, :])"
      ],
      "metadata": {
        "colab": {
          "base_uri": "https://localhost:8080/"
        },
        "id": "2PTAVTPlMTyJ",
        "outputId": "d5b624d7-1fb0-49ec-cf61-30e729bcb704"
      },
      "execution_count": 34,
      "outputs": [
        {
          "output_type": "stream",
          "name": "stdout",
          "text": [
            "[[ 1  2  3  4  5]\n",
            " [ 6  7  8  9 10]]\n"
          ]
        }
      ]
    },
    {
      "cell_type": "markdown",
      "source": [
        "# 3차원 배열 slicing"
      ],
      "metadata": {
        "id": "a3fKM4BvMjj5"
      }
    },
    {
      "cell_type": "code",
      "source": [
        "array = np.arange(1, 61).reshape((3, 4, 5))\n",
        "print(array)"
      ],
      "metadata": {
        "colab": {
          "base_uri": "https://localhost:8080/"
        },
        "id": "cJhlzSF_Mhda",
        "outputId": "ea5bea15-dbc1-4df1-c66b-0d73861f2bae"
      },
      "execution_count": 36,
      "outputs": [
        {
          "output_type": "stream",
          "name": "stdout",
          "text": [
            "[[[ 1  2  3  4  5]\n",
            "  [ 6  7  8  9 10]\n",
            "  [11 12 13 14 15]\n",
            "  [16 17 18 19 20]]\n",
            "\n",
            " [[21 22 23 24 25]\n",
            "  [26 27 28 29 30]\n",
            "  [31 32 33 34 35]\n",
            "  [36 37 38 39 40]]\n",
            "\n",
            " [[41 42 43 44 45]\n",
            "  [46 47 48 49 50]\n",
            "  [51 52 53 54 55]\n",
            "  [56 57 58 59 60]]]\n"
          ]
        }
      ]
    },
    {
      "cell_type": "code",
      "source": [
        "print(array[:2, :, :])"
      ],
      "metadata": {
        "colab": {
          "base_uri": "https://localhost:8080/"
        },
        "id": "bzwjB_tvMtL8",
        "outputId": "86e816ae-69ad-4a77-80ee-c82cb9b6a0ca"
      },
      "execution_count": 37,
      "outputs": [
        {
          "output_type": "stream",
          "name": "stdout",
          "text": [
            "[[[ 1  2  3  4  5]\n",
            "  [ 6  7  8  9 10]\n",
            "  [11 12 13 14 15]\n",
            "  [16 17 18 19 20]]\n",
            "\n",
            " [[21 22 23 24 25]\n",
            "  [26 27 28 29 30]\n",
            "  [31 32 33 34 35]\n",
            "  [36 37 38 39 40]]]\n"
          ]
        }
      ]
    },
    {
      "cell_type": "markdown",
      "source": [
        "slicing vs indexing"
      ],
      "metadata": {
        "id": "ej0nTtCKM9S5"
      }
    },
    {
      "cell_type": "code",
      "source": [
        "print(array[:1,:,:]) #> slicing의 결과: 3-d 배열"
      ],
      "metadata": {
        "colab": {
          "base_uri": "https://localhost:8080/"
        },
        "id": "cUBPU3J5M5ck",
        "outputId": "2a26eb37-a76d-49b8-ec5a-e752fdab06d0"
      },
      "execution_count": 38,
      "outputs": [
        {
          "output_type": "stream",
          "name": "stdout",
          "text": [
            "[[[ 1  2  3  4  5]\n",
            "  [ 6  7  8  9 10]\n",
            "  [11 12 13 14 15]\n",
            "  [16 17 18 19 20]]]\n"
          ]
        }
      ]
    },
    {
      "cell_type": "code",
      "source": [
        "print(array[0]) #> indexing의 결과: 2-d 배열"
      ],
      "metadata": {
        "colab": {
          "base_uri": "https://localhost:8080/"
        },
        "id": "ukSAi0uxNE0n",
        "outputId": "7e781b16-9537-4cb0-82b4-552a5b8a9a6d"
      },
      "execution_count": 44,
      "outputs": [
        {
          "output_type": "stream",
          "name": "stdout",
          "text": [
            "[[ 1  2  3  4  5]\n",
            " [ 6  7  8  9 10]\n",
            " [11 12 13 14 15]\n",
            " [16 17 18 19 20]]\n"
          ]
        }
      ]
    },
    {
      "cell_type": "code",
      "source": [
        "print(array[:, :, :2]) #> (3, 4, 2) shape의 3-d 배열"
      ],
      "metadata": {
        "colab": {
          "base_uri": "https://localhost:8080/"
        },
        "id": "UEzmFGGQNLsF",
        "outputId": "721d3519-ed71-4aac-da8e-2a54644d87b3"
      },
      "execution_count": 45,
      "outputs": [
        {
          "output_type": "stream",
          "name": "stdout",
          "text": [
            "[[[ 1  2]\n",
            "  [ 6  7]\n",
            "  [11 12]\n",
            "  [16 17]]\n",
            "\n",
            " [[21 22]\n",
            "  [26 27]\n",
            "  [31 32]\n",
            "  [36 37]]\n",
            "\n",
            " [[41 42]\n",
            "  [46 47]\n",
            "  [51 52]\n",
            "  [56 57]]]\n"
          ]
        }
      ]
    },
    {
      "cell_type": "markdown",
      "source": [
        "# np.ndarray 모양(shape) 변형\n",
        "\n",
        "* np.ndarray.reshape(shape)"
      ],
      "metadata": {
        "id": "AMy53HItNof4"
      }
    },
    {
      "cell_type": "code",
      "source": [
        "arr_1d = np.arange(1, 13)\n",
        "print(arr_1d) #> 1-d 배열"
      ],
      "metadata": {
        "colab": {
          "base_uri": "https://localhost:8080/"
        },
        "id": "D4QQojRZNgT3",
        "outputId": "d6d5b812-405b-4be3-a6ef-6de9fa984b8e"
      },
      "execution_count": 47,
      "outputs": [
        {
          "output_type": "stream",
          "name": "stdout",
          "text": [
            "[ 1  2  3  4  5  6  7  8  9 10 11 12]\n"
          ]
        }
      ]
    },
    {
      "cell_type": "code",
      "source": [
        "# 1차원 배열을 (3, 4) shape을 갖는 2-d 배열로 변형\n",
        "arr_2d = arr_1d.reshape((3, 4))\n",
        "print(arr_2d)"
      ],
      "metadata": {
        "colab": {
          "base_uri": "https://localhost:8080/"
        },
        "id": "JoxyF2FyN0ai",
        "outputId": "fdacd8a4-0706-4b83-8c6d-886436e1033b"
      },
      "execution_count": 48,
      "outputs": [
        {
          "output_type": "stream",
          "name": "stdout",
          "text": [
            "[[ 1  2  3  4]\n",
            " [ 5  6  7  8]\n",
            " [ 9 10 11 12]]\n"
          ]
        }
      ]
    },
    {
      "cell_type": "code",
      "source": [
        "# 1-d 배열을 2-d 배열로 변환할 때 행의 개수만 결정되면 열의 개수는 자동으로 결정됨.\n",
        "print(arr_1d.reshape((3, -1))) # 자동으로 계산이 되는 1개 차원의 원소 개수는 -1로 대체할 수 있음."
      ],
      "metadata": {
        "colab": {
          "base_uri": "https://localhost:8080/"
        },
        "id": "wml9V7F_OAWI",
        "outputId": "c09f48af-e1e8-4531-85b9-4d1982d21340"
      },
      "execution_count": 49,
      "outputs": [
        {
          "output_type": "stream",
          "name": "stdout",
          "text": [
            "[[ 1  2  3  4]\n",
            " [ 5  6  7  8]\n",
            " [ 9 10 11 12]]\n"
          ]
        }
      ]
    },
    {
      "cell_type": "code",
      "source": [
        "# 1-d 배열을 2-d 배열로 변환할 때 열의 개수만 결정되면 행의 개수는 자동으로 결정됨\n",
        "print(arr_1d.reshape((-1, 4)))"
      ],
      "metadata": {
        "colab": {
          "base_uri": "https://localhost:8080/"
        },
        "id": "byRIy371OOd2",
        "outputId": "042a81b8-9ff2-407c-ea04-ff3fcee946e9"
      },
      "execution_count": 50,
      "outputs": [
        {
          "output_type": "stream",
          "name": "stdout",
          "text": [
            "[[ 1  2  3  4]\n",
            " [ 5  6  7  8]\n",
            " [ 9 10 11 12]]\n"
          ]
        }
      ]
    },
    {
      "cell_type": "code",
      "source": [
        "# 2-d ndarray -> 1-d ndarray\n",
        "print(arr_2d.reshape((3*4))) # shape을 정수 1개인 tuple로 전달."
      ],
      "metadata": {
        "colab": {
          "base_uri": "https://localhost:8080/"
        },
        "id": "W6nEdB25OYsE",
        "outputId": "84328bbb-35d6-4819-f7aa-0c934012f553"
      },
      "execution_count": 53,
      "outputs": [
        {
          "output_type": "stream",
          "name": "stdout",
          "text": [
            "[ 1  2  3  4  5  6  7  8  9 10 11 12]\n"
          ]
        }
      ]
    },
    {
      "cell_type": "code",
      "source": [
        "result = arr_2d.reshape(3*4) # shape를 정수로 전달\n",
        "print(result)"
      ],
      "metadata": {
        "colab": {
          "base_uri": "https://localhost:8080/"
        },
        "id": "VZtgSFpsOu4s",
        "outputId": "ccd8421a-a0e2-43c1-8c1c-3e7991d31eec"
      },
      "execution_count": 56,
      "outputs": [
        {
          "output_type": "stream",
          "name": "stdout",
          "text": [
            "[ 1  2  3  4  5  6  7  8  9 10 11 12]\n"
          ]
        }
      ]
    },
    {
      "cell_type": "code",
      "source": [
        "result = arr_2d.reshape(-1) # (n, m) shape의 2d 배열은 n*m개 원소를 갖는 1차원 배열이 될 수 밖에 없음.\n",
        "print(result)"
      ],
      "metadata": {
        "colab": {
          "base_uri": "https://localhost:8080/"
        },
        "id": "TL7jTNJPO1hN",
        "outputId": "561e2990-7500-4a13-8f0c-115f2767ab31"
      },
      "execution_count": 58,
      "outputs": [
        {
          "output_type": "stream",
          "name": "stdout",
          "text": [
            "[ 1  2  3  4  5  6  7  8  9 10 11 12]\n"
          ]
        }
      ]
    },
    {
      "cell_type": "markdown",
      "source": [
        "# 2차원 이상의 배열을 1차원 배열로 변환\n",
        "\n",
        "* np.ndarray.ravel(): 1차원 배열로 변환된 view를 리턴.\n",
        "* np.ndarray.flatten: 1차원 배열로 변환된 새로운 배열을 리턴."
      ],
      "metadata": {
        "id": "bnwVnI-qPCRJ"
      }
    },
    {
      "cell_type": "code",
      "source": [
        "print(arr_2d)"
      ],
      "metadata": {
        "colab": {
          "base_uri": "https://localhost:8080/"
        },
        "id": "ZqEOYbrnO5Hj",
        "outputId": "9291cbf7-b17f-466e-bceb-025613cfe7ee"
      },
      "execution_count": 59,
      "outputs": [
        {
          "output_type": "stream",
          "name": "stdout",
          "text": [
            "[[ 1  2  3  4]\n",
            " [ 5  6  7  8]\n",
            " [ 9 10 11 12]]\n"
          ]
        }
      ]
    },
    {
      "cell_type": "code",
      "source": [
        "ravel = arr_2d.ravel()\n",
        "print(ravel)"
      ],
      "metadata": {
        "colab": {
          "base_uri": "https://localhost:8080/"
        },
        "id": "byxQBPx8PVZT",
        "outputId": "c8397fde-f92f-4b98-f273-9f958b0e3ae4"
      },
      "execution_count": 60,
      "outputs": [
        {
          "output_type": "stream",
          "name": "stdout",
          "text": [
            "[ 1  2  3  4  5  6  7  8  9 10 11 12]\n"
          ]
        }
      ]
    },
    {
      "cell_type": "code",
      "source": [
        "flatten = arr_2d.flatten()\n",
        "print(flatten)"
      ],
      "metadata": {
        "colab": {
          "base_uri": "https://localhost:8080/"
        },
        "id": "wdKNUIk4PeWY",
        "outputId": "35016680-494a-4f2f-ad8f-6081e333829c"
      },
      "execution_count": 61,
      "outputs": [
        {
          "output_type": "stream",
          "name": "stdout",
          "text": [
            "[ 1  2  3  4  5  6  7  8  9 10 11 12]\n"
          ]
        }
      ]
    },
    {
      "cell_type": "code",
      "source": [
        "# flatten() 메서드의 리턴 값은 원본 배열과 별개의 1차원 배열!\n",
        "flatten[0] = 100 # 1차원 배열의 인덱스 0번 위치의 값을 변겅.\n",
        "print(flatten)\n",
        "print(arr_2d)"
      ],
      "metadata": {
        "colab": {
          "base_uri": "https://localhost:8080/"
        },
        "id": "lPWbLr2lPpqA",
        "outputId": "11df0a9c-572f-4a23-a1ed-a1f6f11144ab"
      },
      "execution_count": 63,
      "outputs": [
        {
          "output_type": "stream",
          "name": "stdout",
          "text": [
            "[100   2   3   4   5   6   7   8   9  10  11  12]\n",
            "[[ 1  2  3  4]\n",
            " [ 5  6  7  8]\n",
            " [ 9 10 11 12]]\n"
          ]
        }
      ]
    },
    {
      "cell_type": "code",
      "source": [
        "# ravel() 메서드의 리턴값은 원본 배열의 모양(shape)을 변경한 view일 뿐!\n",
        "ravel[0] = 100 # view의 원소 값을 변경.\n",
        "print(ravel)\n",
        "print(arr_2d) #> 원본 배열의 원소 값이 변경."
      ],
      "metadata": {
        "colab": {
          "base_uri": "https://localhost:8080/"
        },
        "id": "obyTtvouPttJ",
        "outputId": "1d10f57e-c177-4ed0-fea6-eb460eba9b2e"
      },
      "execution_count": 64,
      "outputs": [
        {
          "output_type": "stream",
          "name": "stdout",
          "text": [
            "[100   2   3   4   5   6   7   8   9  10  11  12]\n",
            "[[100   2   3   4]\n",
            " [  5   6   7   8]\n",
            " [  9  10  11  12]]\n"
          ]
        }
      ]
    },
    {
      "cell_type": "markdown",
      "source": [
        "# np.newaxis 속성을 사용한 차원 늘리기"
      ],
      "metadata": {
        "id": "G7jCHBe3UtcH"
      }
    },
    {
      "cell_type": "code",
      "source": [
        "array = np.arange(1, 6)\n",
        "print(array) # (5,) shape의 1차원 배열"
      ],
      "metadata": {
        "colab": {
          "base_uri": "https://localhost:8080/"
        },
        "id": "eGN93xq_P9o1",
        "outputId": "e44856d5-69dd-4246-cdbd-f1f8bad9b456"
      },
      "execution_count": 66,
      "outputs": [
        {
          "output_type": "stream",
          "name": "stdout",
          "text": [
            "[1 2 3 4 5]\n"
          ]
        }
      ]
    },
    {
      "cell_type": "code",
      "source": [
        "result = array.reshape((5, 1))\n",
        "print(result) #> (5, 1) shape의 2차원 배열"
      ],
      "metadata": {
        "colab": {
          "base_uri": "https://localhost:8080/"
        },
        "id": "Iy0xGOFzU3Yc",
        "outputId": "4d3fb493-c849-4c18-a072-3b08305c4c3c"
      },
      "execution_count": 67,
      "outputs": [
        {
          "output_type": "stream",
          "name": "stdout",
          "text": [
            "[[1]\n",
            " [2]\n",
            " [3]\n",
            " [4]\n",
            " [5]]\n"
          ]
        }
      ]
    },
    {
      "cell_type": "code",
      "source": [
        "result = array[:, np.newaxis]\n",
        "print(result)"
      ],
      "metadata": {
        "colab": {
          "base_uri": "https://localhost:8080/"
        },
        "id": "hysF6YopVB44",
        "outputId": "72ed1fa3-6e7a-4e10-e14a-e52c627152a2"
      },
      "execution_count": 68,
      "outputs": [
        {
          "output_type": "stream",
          "name": "stdout",
          "text": [
            "[[1]\n",
            " [2]\n",
            " [3]\n",
            " [4]\n",
            " [5]]\n"
          ]
        }
      ]
    },
    {
      "cell_type": "code",
      "source": [
        "result = array.reshape(1, 5)\n",
        "print(result)"
      ],
      "metadata": {
        "colab": {
          "base_uri": "https://localhost:8080/"
        },
        "id": "P3kmNFA5VJa0",
        "outputId": "20676276-c734-4211-9bde-bc8e518a4c85"
      },
      "execution_count": 69,
      "outputs": [
        {
          "output_type": "stream",
          "name": "stdout",
          "text": [
            "[[1 2 3 4 5]]\n"
          ]
        }
      ]
    },
    {
      "cell_type": "code",
      "source": [
        "result = array[np.newaxis, :]\n",
        "print(result)"
      ],
      "metadata": {
        "colab": {
          "base_uri": "https://localhost:8080/"
        },
        "id": "43OdCKkwVW8f",
        "outputId": "2dd35b58-be03-45f9-f35a-8de66ad8e94f"
      },
      "execution_count": 70,
      "outputs": [
        {
          "output_type": "stream",
          "name": "stdout",
          "text": [
            "[[1 2 3 4 5]]\n"
          ]
        }
      ]
    },
    {
      "cell_type": "markdown",
      "source": [
        "# concatenate\n",
        "\n",
        "* np.concatenate([array1, array2, ...], axis=0): 행(axis=0) 또는 열(axis=1) 방향으로 배열 이어 붙이기\n",
        "* np.r_([array1, array2]): 행(row) 이어 붙이기\n",
        "* np.c_([array1, array2]): 열(column)이어 붙이기"
      ],
      "metadata": {
        "id": "pjfzzOIKVqwH"
      }
    },
    {
      "cell_type": "code",
      "source": [
        "a1 = np.arange(1, 7).reshape((2, 3))\n",
        "print(a1)"
      ],
      "metadata": {
        "colab": {
          "base_uri": "https://localhost:8080/"
        },
        "id": "N8XRqkfrVi0R",
        "outputId": "70079755-8a3a-4392-b004-9d3c23c41390"
      },
      "execution_count": 71,
      "outputs": [
        {
          "output_type": "stream",
          "name": "stdout",
          "text": [
            "[[1 2 3]\n",
            " [4 5 6]]\n"
          ]
        }
      ]
    },
    {
      "cell_type": "code",
      "source": [
        "a2 = np.array([[7, 8, 9]])\n",
        "print(a2)"
      ],
      "metadata": {
        "colab": {
          "base_uri": "https://localhost:8080/"
        },
        "id": "mXxkpqi7WMSz",
        "outputId": "a9f57bd3-c82f-45ad-9885-42bfbfe4209d"
      },
      "execution_count": 73,
      "outputs": [
        {
          "output_type": "stream",
          "name": "stdout",
          "text": [
            "[[7 8 9]]\n"
          ]
        }
      ]
    },
    {
      "cell_type": "code",
      "source": [
        "np.concatenate([a1, a2]) # axis=0은 생략 가능. default argument."
      ],
      "metadata": {
        "colab": {
          "base_uri": "https://localhost:8080/"
        },
        "id": "fJeZBThcWRN_",
        "outputId": "1927f6ca-fdf6-4172-e28a-baef6dcd2b06"
      },
      "execution_count": 75,
      "outputs": [
        {
          "output_type": "execute_result",
          "data": {
            "text/plain": [
              "array([[1, 2, 3],\n",
              "       [4, 5, 6],\n",
              "       [7, 8, 9]])"
            ]
          },
          "metadata": {},
          "execution_count": 75
        }
      ]
    },
    {
      "cell_type": "code",
      "source": [
        "np.r_[a1, a2]"
      ],
      "metadata": {
        "colab": {
          "base_uri": "https://localhost:8080/"
        },
        "id": "chulY4_iWiMx",
        "outputId": "36686c34-6da3-45c4-9fe1-4a05bab8058c"
      },
      "execution_count": 78,
      "outputs": [
        {
          "output_type": "execute_result",
          "data": {
            "text/plain": [
              "array([[1, 2, 3],\n",
              "       [4, 5, 6],\n",
              "       [7, 8, 9]])"
            ]
          },
          "metadata": {},
          "execution_count": 78
        }
      ]
    },
    {
      "cell_type": "code",
      "source": [
        "a3 = np.array([[10], [11]])\n",
        "print(a3)"
      ],
      "metadata": {
        "colab": {
          "base_uri": "https://localhost:8080/"
        },
        "id": "8pajJDODWsLt",
        "outputId": "cbe5307d-763c-40c2-8cb1-825c1608a10d"
      },
      "execution_count": 79,
      "outputs": [
        {
          "output_type": "stream",
          "name": "stdout",
          "text": [
            "[[10]\n",
            " [11]]\n"
          ]
        }
      ]
    },
    {
      "cell_type": "code",
      "source": [
        "np.concatenate([a1, a3], axis=1)"
      ],
      "metadata": {
        "colab": {
          "base_uri": "https://localhost:8080/"
        },
        "id": "K_1HOCEJWzbT",
        "outputId": "c9b01ec7-fa27-4e7d-827d-97475e8efaa2"
      },
      "execution_count": 81,
      "outputs": [
        {
          "output_type": "execute_result",
          "data": {
            "text/plain": [
              "array([[ 1,  2,  3, 10],\n",
              "       [ 4,  5,  6, 11]])"
            ]
          },
          "metadata": {},
          "execution_count": 81
        }
      ]
    },
    {
      "cell_type": "code",
      "source": [
        "np.c_[a1, a3]"
      ],
      "metadata": {
        "colab": {
          "base_uri": "https://localhost:8080/"
        },
        "id": "Hp1DF90pW8l3",
        "outputId": "4fd7c0e7-c88a-423d-8d07-4780c6ed090e"
      },
      "execution_count": 82,
      "outputs": [
        {
          "output_type": "execute_result",
          "data": {
            "text/plain": [
              "array([[ 1,  2,  3, 10],\n",
              "       [ 4,  5,  6, 11]])"
            ]
          },
          "metadata": {},
          "execution_count": 82
        }
      ]
    },
    {
      "cell_type": "markdown",
      "source": [
        "# Broadcasting\n",
        "\n",
        "np.ndarray 객체의 산술 연산(+, -, *, /, //, %, 수학 함수들...)은 같은 위치(인덱스)의 원소들끼리(element-wise) 계산됨.\n",
        "\n",
        "broadcast란 서로 모양(shape)이 다른 배열들 사이에서 산술연산이 가능하도록 shape을 맞춰서 연산을 하는 방법임."
      ],
      "metadata": {
        "id": "4zoFBAe6XQMp"
      }
    },
    {
      "cell_type": "code",
      "source": [
        "a = np.array([1, 2, 3]) # (3,) shape의 1차원 배열\n",
        "b = np.array([4, 5, 6, 7]) # (4,) shape의 1차원 배열\n",
        "\n",
        "# a + b #> ValueError 발생 - 배열 a와 b는 같은 shape으로 맞춰서 + 연산을 수행할 수 없기 때문에"
      ],
      "metadata": {
        "id": "YqOQG_-tXltS"
      },
      "execution_count": 84,
      "outputs": []
    },
    {
      "cell_type": "markdown",
      "source": [
        "# ndarray와 scalar(숫자 한개)의 broadcast"
      ],
      "metadata": {
        "id": "BOke0EcBX5Sf"
      }
    },
    {
      "cell_type": "code",
      "source": [
        "a"
      ],
      "metadata": {
        "colab": {
          "base_uri": "https://localhost:8080/"
        },
        "id": "E7zH62yHX9-6",
        "outputId": "7cc5f354-6ca4-4bf5-eea7-71f204fa54dc"
      },
      "execution_count": 85,
      "outputs": [
        {
          "output_type": "execute_result",
          "data": {
            "text/plain": [
              "array([1, 2, 3])"
            ]
          },
          "metadata": {},
          "execution_count": 85
        }
      ]
    },
    {
      "cell_type": "code",
      "source": [
        "a + 10"
      ],
      "metadata": {
        "colab": {
          "base_uri": "https://localhost:8080/"
        },
        "id": "am9X2N-JX-Sj",
        "outputId": "c638b2c0-0920-45aa-8889-728706de3d33"
      },
      "execution_count": 86,
      "outputs": [
        {
          "output_type": "execute_result",
          "data": {
            "text/plain": [
              "array([11, 12, 13])"
            ]
          },
          "metadata": {},
          "execution_count": 86
        }
      ]
    },
    {
      "cell_type": "code",
      "source": [
        "a2 = np.array([[1, 2, 3],\n",
        "               [4, 5, 6]])\n",
        "print(a2)"
      ],
      "metadata": {
        "colab": {
          "base_uri": "https://localhost:8080/"
        },
        "id": "Au5ychs9YBkV",
        "outputId": "483243fc-103f-497f-8a55-a834505a3726"
      },
      "execution_count": 88,
      "outputs": [
        {
          "output_type": "stream",
          "name": "stdout",
          "text": [
            "[[1 2 3]\n",
            " [4 5 6]]\n"
          ]
        }
      ]
    },
    {
      "cell_type": "code",
      "source": [
        "a2 / 2"
      ],
      "metadata": {
        "colab": {
          "base_uri": "https://localhost:8080/"
        },
        "id": "_KuF5GJjYJ2j",
        "outputId": "807e2686-d691-4296-a446-66f7b6d3d660"
      },
      "execution_count": 89,
      "outputs": [
        {
          "output_type": "execute_result",
          "data": {
            "text/plain": [
              "array([[0.5, 1. , 1.5],\n",
              "       [2. , 2.5, 3. ]])"
            ]
          },
          "metadata": {},
          "execution_count": 89
        }
      ]
    },
    {
      "cell_type": "markdown",
      "source": [
        "# 2차원 배열과 1차원 배열 또는 2차원 배열과 2차원 배열에서의 broadcast"
      ],
      "metadata": {
        "id": "92ys2CRzYP-H"
      }
    },
    {
      "cell_type": "code",
      "source": [
        "a = np.arange(1, 7).reshape((2, 3))\n",
        "print(a)"
      ],
      "metadata": {
        "colab": {
          "base_uri": "https://localhost:8080/"
        },
        "id": "jRo3umT9YNQb",
        "outputId": "eb10c58f-0563-4611-dfbc-7e16b8363316"
      },
      "execution_count": 90,
      "outputs": [
        {
          "output_type": "stream",
          "name": "stdout",
          "text": [
            "[[1 2 3]\n",
            " [4 5 6]]\n"
          ]
        }
      ]
    },
    {
      "cell_type": "code",
      "source": [
        "b = np.arange(10, 40, 10)\n",
        "print(b)"
      ],
      "metadata": {
        "colab": {
          "base_uri": "https://localhost:8080/"
        },
        "id": "dvViRX6_Yaa2",
        "outputId": "fcd5fa38-c31f-490c-93a4-6198dd2300e4"
      },
      "execution_count": 91,
      "outputs": [
        {
          "output_type": "stream",
          "name": "stdout",
          "text": [
            "[10 20 30]\n"
          ]
        }
      ]
    },
    {
      "cell_type": "code",
      "source": [
        "# 배열 b를 (3,) 1D array --> (1, 3) 2D array 변형 --> (2, 3) 2D array로 broadcast\n",
        "print(a + b)"
      ],
      "metadata": {
        "colab": {
          "base_uri": "https://localhost:8080/"
        },
        "id": "EKrnPA3pYhOA",
        "outputId": "f40e839a-f738-4c91-9ca5-fd698c3146f0"
      },
      "execution_count": 92,
      "outputs": [
        {
          "output_type": "stream",
          "name": "stdout",
          "text": [
            "[[11 22 33]\n",
            " [14 25 36]]\n"
          ]
        }
      ]
    },
    {
      "cell_type": "code",
      "source": [
        "c = np.array([10, 20])\n",
        "print(c)"
      ],
      "metadata": {
        "colab": {
          "base_uri": "https://localhost:8080/"
        },
        "id": "fMbokoqcYrlF",
        "outputId": "36a422e2-4e15-408e-c652-ac6fcd16d7b4"
      },
      "execution_count": 93,
      "outputs": [
        {
          "output_type": "stream",
          "name": "stdout",
          "text": [
            "[10 20]\n"
          ]
        }
      ]
    },
    {
      "cell_type": "code",
      "source": [
        "# print(a + c) #> ValueError 발생 - broadcast를 해서 모양을 같게 맞출 수 없음."
      ],
      "metadata": {
        "id": "8DuBXcQgY1E1"
      },
      "execution_count": 94,
      "outputs": []
    },
    {
      "cell_type": "code",
      "source": [
        "d = c[:, np.newaxis] # (2,) (2, 1) 2D array 모양 변경\n",
        "print(d)"
      ],
      "metadata": {
        "colab": {
          "base_uri": "https://localhost:8080/"
        },
        "id": "DMiWHEa_Y-UK",
        "outputId": "ce7b10e5-3c80-49ce-95cd-412b5f57fb7b"
      },
      "execution_count": 97,
      "outputs": [
        {
          "output_type": "stream",
          "name": "stdout",
          "text": [
            "[[10]\n",
            " [20]]\n"
          ]
        }
      ]
    },
    {
      "cell_type": "code",
      "source": [
        "print(a + d)"
      ],
      "metadata": {
        "colab": {
          "base_uri": "https://localhost:8080/"
        },
        "id": "dNwq9sIeZJ4e",
        "outputId": "bb4b416b-d734-4386-cdbf-a4cdc7c3ab3d"
      },
      "execution_count": 98,
      "outputs": [
        {
          "output_type": "stream",
          "name": "stdout",
          "text": [
            "[[11 12 13]\n",
            " [24 25 26]]\n"
          ]
        }
      ]
    },
    {
      "cell_type": "markdown",
      "source": [
        "# Broadcast 활용"
      ],
      "metadata": {
        "id": "MTlW23f0Zajf"
      }
    },
    {
      "cell_type": "code",
      "source": [
        "x = np.arange(-3, 3, 0.001)\n",
        "print(x)"
      ],
      "metadata": {
        "colab": {
          "base_uri": "https://localhost:8080/"
        },
        "id": "oFVJaj2vZUSx",
        "outputId": "7ad2606d-7aa0-4d0b-9ede-8224d067e93d"
      },
      "execution_count": 100,
      "outputs": [
        {
          "output_type": "stream",
          "name": "stdout",
          "text": [
            "[-3.    -2.999 -2.998 ...  2.997  2.998  2.999]\n"
          ]
        }
      ]
    },
    {
      "cell_type": "code",
      "source": [
        "y = x ** 2\n",
        "print(y)"
      ],
      "metadata": {
        "colab": {
          "base_uri": "https://localhost:8080/"
        },
        "id": "BQSehRMWZjlv",
        "outputId": "ec2926ea-a786-49cf-d469-5ef18a971ca2"
      },
      "execution_count": 101,
      "outputs": [
        {
          "output_type": "stream",
          "name": "stdout",
          "text": [
            "[9.       8.994001 8.988004 ... 8.982009 8.988004 8.994001]\n"
          ]
        }
      ]
    },
    {
      "cell_type": "code",
      "source": [
        "plt.plot(x, y)\n",
        "plt.grid()\n",
        "plt.show()"
      ],
      "metadata": {
        "colab": {
          "base_uri": "https://localhost:8080/",
          "height": 265
        },
        "id": "yv9AVsmCZqE8",
        "outputId": "0765770e-334e-45ff-ff4e-de661b444a61"
      },
      "execution_count": 102,
      "outputs": [
        {
          "output_type": "display_data",
          "data": {
            "text/plain": [
              "<Figure size 432x288 with 1 Axes>"
            ],
            "image/png": "[encoded data removed]"
          },
          "metadata": {
            "needs_background": "light"
          }
        }
      ]
    },
    {
      "cell_type": "code",
      "source": [
        "x = np.arange(-5, 5, 0.001)\n",
        "y = np.exp(x)\n",
        "\n",
        "plt.plot(x, y)\n",
        "plt.grid()\n",
        "plt.show()"
      ],
      "metadata": {
        "colab": {
          "base_uri": "https://localhost:8080/",
          "height": 265
        },
        "id": "cQoW2UeEZw4-",
        "outputId": "8fc13491-418b-49a5-8e1b-0ca8ad6f1aa8"
      },
      "execution_count": 103,
      "outputs": [
        {
          "output_type": "display_data",
          "data": {
            "text/plain": [
              "<Figure size 432x288 with 1 Axes>"
            ],
            "image/png": "[encoded data removed]"
          },
          "metadata": {
            "needs_background": "light"
          }
        }
      ]
    },
    {
      "cell_type": "code",
      "source": [
        "x = np.arange(-5, 5, 0.001)\n",
        "y = np.exp(-x)\n",
        "\n",
        "plt.plot(x, y)\n",
        "plt.grid()\n",
        "plt.show()"
      ],
      "metadata": {
        "colab": {
          "base_uri": "https://localhost:8080/",
          "height": 265
        },
        "id": "wg4KJJDXZ7my",
        "outputId": "6522ee03-5be9-48f5-9313-c712032f2fff"
      },
      "execution_count": 104,
      "outputs": [
        {
          "output_type": "display_data",
          "data": {
            "text/plain": [
              "<Figure size 432x288 with 1 Axes>"
            ],
            "image/png": "[encoded data removed]"
          },
          "metadata": {
            "needs_background": "light"
          }
        }
      ]
    },
    {
      "cell_type": "code",
      "source": [
        "x = np.arange(-5, 5, 0.001)\n",
        "y= 1 / (1 + np.exp(-x))\n",
        "\n",
        "plt.plot(x, y)\n",
        "plt.grid()\n",
        "plt.show()"
      ],
      "metadata": {
        "colab": {
          "base_uri": "https://localhost:8080/",
          "height": 265
        },
        "id": "bIsNYh27Z-72",
        "outputId": "b0b92b92-15a8-4b0e-a8de-dcbb6e801c97"
      },
      "execution_count": 105,
      "outputs": [
        {
          "output_type": "display_data",
          "data": {
            "text/plain": [
              "<Figure size 432x288 with 1 Axes>"
            ],
            "image/png": "[encoded data removed]"
          },
          "metadata": {
            "needs_background": "light"
          }
        }
      ]
    },
    {
      "cell_type": "markdown",
      "source": [
        "# 표준화(standardization)\n",
        "\n",
        "평균이 0이 되고, 표준편차가 1이 되도록 변수들의 스케일을 변환하는 것."
      ],
      "metadata": {
        "id": "6kdu8GauaMA4"
      }
    },
    {
      "cell_type": "code",
      "source": [
        "x = np.arange(1, 6) # (5,) shape의 1차원 배열\n",
        "print(x)"
      ],
      "metadata": {
        "colab": {
          "base_uri": "https://localhost:8080/"
        },
        "id": "txcxDEgfaJjZ",
        "outputId": "cfea076e-dc9b-4d0d-8f56-3c7e5bc8e467"
      },
      "execution_count": 106,
      "outputs": [
        {
          "output_type": "stream",
          "name": "stdout",
          "text": [
            "[1 2 3 4 5]\n"
          ]
        }
      ]
    },
    {
      "cell_type": "code",
      "source": [
        "np.mean(x) # 평균"
      ],
      "metadata": {
        "colab": {
          "base_uri": "https://localhost:8080/"
        },
        "id": "lNwomLdKaVWk",
        "outputId": "93f2f2fd-95b0-4ee7-de76-ce7c16b9adfb"
      },
      "execution_count": 107,
      "outputs": [
        {
          "output_type": "execute_result",
          "data": {
            "text/plain": [
              "3.0"
            ]
          },
          "metadata": {},
          "execution_count": 107
        }
      ]
    },
    {
      "cell_type": "code",
      "source": [
        "np.std(x) # 표준편차"
      ],
      "metadata": {
        "colab": {
          "base_uri": "https://localhost:8080/"
        },
        "id": "1hlYgu3qaXeF",
        "outputId": "4ca85254-b3e2-4a02-bb4b-db287b6bbdd8"
      },
      "execution_count": 108,
      "outputs": [
        {
          "output_type": "execute_result",
          "data": {
            "text/plain": [
              "1.4142135623730951"
            ]
          },
          "metadata": {},
          "execution_count": 108
        }
      ]
    },
    {
      "cell_type": "code",
      "source": [
        "x_std = (x - np.mean(x)) / np.std(x)\n",
        "print(x_std)"
      ],
      "metadata": {
        "colab": {
          "base_uri": "https://localhost:8080/"
        },
        "id": "xsPZm0l1aY5C",
        "outputId": "95c59f21-51ad-44f0-f8c3-32703c9c040f"
      },
      "execution_count": 109,
      "outputs": [
        {
          "output_type": "stream",
          "name": "stdout",
          "text": [
            "[-1.41421356 -0.70710678  0.          0.70710678  1.41421356]\n"
          ]
        }
      ]
    },
    {
      "cell_type": "code",
      "source": [
        "print(np.mean(x_std))"
      ],
      "metadata": {
        "colab": {
          "base_uri": "https://localhost:8080/"
        },
        "id": "Rg14Q7p0ak5S",
        "outputId": "3107ea94-d663-4a34-b693-6afdd0645a1b"
      },
      "execution_count": 110,
      "outputs": [
        {
          "output_type": "stream",
          "name": "stdout",
          "text": [
            "0.0\n"
          ]
        }
      ]
    },
    {
      "cell_type": "code",
      "source": [
        "print(np.std(x_std))"
      ],
      "metadata": {
        "colab": {
          "base_uri": "https://localhost:8080/"
        },
        "id": "6MAgNqHXa0uk",
        "outputId": "6f849cda-e4e6-449f-8abe-0ec7ab2836cd"
      },
      "execution_count": 111,
      "outputs": [
        {
          "output_type": "stream",
          "name": "stdout",
          "text": [
            "0.9999999999999999\n"
          ]
        }
      ]
    },
    {
      "cell_type": "markdown",
      "source": [
        "2차원 배열에서의 표준화"
      ],
      "metadata": {
        "id": "3x6fUu7VbIsP"
      }
    },
    {
      "cell_type": "code",
      "source": [
        "x = np.arange(1, 7).reshape((3, -1))\n",
        "print(x)"
      ],
      "metadata": {
        "colab": {
          "base_uri": "https://localhost:8080/"
        },
        "id": "hB4PQz6-a4TZ",
        "outputId": "05960bb6-a235-463f-d992-7b4754aadba6"
      },
      "execution_count": 112,
      "outputs": [
        {
          "output_type": "stream",
          "name": "stdout",
          "text": [
            "[[1 2]\n",
            " [3 4]\n",
            " [5 6]]\n"
          ]
        }
      ]
    },
    {
      "cell_type": "code",
      "source": [
        "print(np.mean(x))\n",
        "print(np.mean(x, axis=0))\n",
        "print(np.mean(x, axis=0, keepdims=True))\n",
        "print(np.mean(x, axis=1))\n",
        "print(np.mean(x, axis=1, keepdims=True))"
      ],
      "metadata": {
        "colab": {
          "base_uri": "https://localhost:8080/"
        },
        "id": "Au_lzNAdbQE8",
        "outputId": "6b1b7991-3b3a-41f7-8408-89eeb32664b0"
      },
      "execution_count": 118,
      "outputs": [
        {
          "output_type": "stream",
          "name": "stdout",
          "text": [
            "3.5\n",
            "[3. 4.]\n",
            "[[3. 4.]]\n",
            "[1.5 3.5 5.5]\n",
            "[[1.5]\n",
            " [3.5]\n",
            " [5.5]]\n"
          ]
        }
      ]
    },
    {
      "cell_type": "code",
      "source": [
        "x_std = (x - np.mean(x, axis=0, keepdims=True)) / np.std(x, axis=0, keepdims=True)\n",
        "print(x_std)"
      ],
      "metadata": {
        "colab": {
          "base_uri": "https://localhost:8080/"
        },
        "id": "fQWSEp9Nbucl",
        "outputId": "48b71cfd-d868-4d0a-f46e-cb4ae0c25fc5"
      },
      "execution_count": 119,
      "outputs": [
        {
          "output_type": "stream",
          "name": "stdout",
          "text": [
            "[[-1.22474487 -1.22474487]\n",
            " [ 0.          0.        ]\n",
            " [ 1.22474487  1.22474487]]\n"
          ]
        }
      ]
    }
  ]
}